{
 "cells": [
  {
   "cell_type": "markdown",
   "metadata": {
    "colab_type": "text",
    "id": "WvMflodMjQKe"
   },
   "source": [
    "***\n",
    "# <font color=green size=10>CURSO DE ESTATÍSTICA - PARTE 2</font>\n",
    "***"
   ]
  },
  {
   "cell_type": "markdown",
   "metadata": {
    "colab_type": "text",
    "id": "cVgsZ_E3jQKg"
   },
   "source": [
    "# <font color=green>1 CONHECENDO OS DADOS</font>\n",
    "***"
   ]
  },
  {
   "cell_type": "markdown",
   "metadata": {
    "colab_type": "text",
    "id": "TDjqYYNojQKh"
   },
   "source": [
    "## <font color=green>1.1 Dataset do projeto</font>\n",
    "***"
   ]
  },
  {
   "cell_type": "markdown",
   "metadata": {
    "colab_type": "text",
    "id": "iN1gIbaKjQKh"
   },
   "source": [
    "### Pesquisa Nacional por Amostra de Domicílios - 2015\n",
    "\n",
    "A **Pesquisa Nacional por Amostra de Domicílios - PNAD** investiga anualmente, de forma permanente, características gerais da população, de educação, trabalho, rendimento e habitação e outras, com periodicidade variável, de acordo com as necessidades de informação para o país, como as características sobre migração, fecundidade, nupcialidade, saúde, segurança alimentar, entre outros temas. O levantamento dessas estatísticas constitui, ao longo dos 49 anos de realização da pesquisa, um importante instrumento para formulação, validação e avaliação de políticas orientadas para o desenvolvimento socioeconômico e a melhoria das condições de vida no Brasil."
   ]
  },
  {
   "cell_type": "markdown",
   "metadata": {
    "colab_type": "text",
    "id": "U6V7br1RjQKi"
   },
   "source": [
    "### Fonte dos Dados\n",
    "\n",
    "https://ww2.ibge.gov.br/home/estatistica/populacao/trabalhoerendimento/pnad2015/microdados.shtm"
   ]
  },
  {
   "cell_type": "markdown",
   "metadata": {
    "colab_type": "text",
    "id": "r0Fe_qnzjQKj"
   },
   "source": [
    "### Variáveis utilizadas\n",
    "\n",
    "> ### Renda\n",
    "> ***\n",
    "\n",
    "Rendimento mensal do trabalho principal para pessoas de 10 anos ou mais de idade.\n",
    "\n",
    "> ### Idade\n",
    "> ***\n",
    "\n",
    "Idade do morador na data de referência em anos.\n",
    "\n",
    "> ### Altura (elaboração própria)\n",
    "> ***\n",
    "\n",
    "Altura do morador em metros.\n",
    "\n",
    "> ### UF\n",
    "> ***\n",
    "\n",
    "|Código|Descrição|\n",
    "|---|---|\n",
    "|11|Rondônia|\n",
    "|12|Acre|\n",
    "|13|Amazonas|\n",
    "|14|Roraima|\n",
    "|15|Pará|\n",
    "|16|Amapá|\n",
    "|17|Tocantins|\n",
    "|21|Maranhão|\n",
    "|22|Piauí|\n",
    "|23|Ceará|\n",
    "|24|Rio Grande do Norte|\n",
    "|25|Paraíba|\n",
    "|26|Pernambuco|\n",
    "|27|Alagoas|\n",
    "|28|Sergipe|\n",
    "|29|Bahia|\n",
    "|31|Minas Gerais|\n",
    "|32|Espírito Santo|\n",
    "|33|Rio de Janeiro|\n",
    "|35|São Paulo|\n",
    "|41|Paraná|\n",
    "|42|Santa Catarina|\n",
    "|43|Rio Grande do Sul|\n",
    "|50|Mato Grosso do Sul|\n",
    "|51|Mato Grosso|\n",
    "|52|Goiás|\n",
    "|53|Distrito Federal|\n",
    "\n",
    "> ### Sexo\t\n",
    "> ***\n",
    "\n",
    "|Código|Descrição|\n",
    "|---|---|\n",
    "|0|Masculino|\n",
    "|1|Feminino|\n",
    "\n",
    "> ### Anos de Estudo\n",
    "> ***\n",
    "\n",
    "|Código|Descrição|\n",
    "|---|---|\n",
    "|1|Sem instrução e menos de 1 ano|\n",
    "|2|1 ano|\n",
    "|3|2 anos|\n",
    "|4|3 anos|\n",
    "|5|4 anos|\n",
    "|6|5 anos|\n",
    "|7|6 anos|\n",
    "|8|7 anos|\n",
    "|9|8 anos|\n",
    "|10|9 anos|\n",
    "|11|10 anos|\n",
    "|12|11 anos|\n",
    "|13|12 anos|\n",
    "|14|13 anos|\n",
    "|15|14 anos|\n",
    "|16|15 anos ou mais|\n",
    "|17|Não determinados| \n",
    "||Não aplicável|\n",
    "\n",
    "> ### Cor\n",
    "> ***\n",
    "\n",
    "|Código|Descrição|\n",
    "|---|---|\n",
    "|0|Indígena|\n",
    "|2|Branca|\n",
    "|4|Preta|\n",
    "|6|Amarela|\n",
    "|8|Parda|\n",
    "|9|Sem declaração|"
   ]
  },
  {
   "cell_type": "markdown",
   "metadata": {
    "colab_type": "text",
    "id": "OK1IQH5cX7Gb"
   },
   "source": [
    "#### <font color='red'>Observação</font>\n",
    "***\n",
    "> Os seguintes tratamentos foram realizados nos dados originais:\n",
    "> 1. Foram eliminados os registros onde a **Renda** era inválida (999 999 999 999);\n",
    "> 2. Foram eliminados os registros onde a **Renda** era missing;\n",
    "> 3. Foram considerados somente os registros das **Pessoas de Referência** de cada domicílio (responsável pelo domicílio)."
   ]
  },
  {
   "cell_type": "markdown",
   "metadata": {
    "colab_type": "text",
    "id": "8Rw70V6ojQKk"
   },
   "source": [
    "### Importando pandas e lendo o dataset do projeto\n",
    "\n",
    "https://pandas.pydata.org/"
   ]
  },
  {
   "cell_type": "code",
   "execution_count": 2,
   "metadata": {
    "colab": {},
    "colab_type": "code",
    "id": "8QgOpE-wjQKl"
   },
   "outputs": [],
   "source": [
    "import pandas as pd"
   ]
  },
  {
   "cell_type": "code",
   "execution_count": 3,
   "metadata": {
    "colab": {},
    "colab_type": "code",
    "id": "ufRZ7TLwjQKo"
   },
   "outputs": [],
   "source": [
    "dados = pd.read_csv('dados.csv')"
   ]
  },
  {
   "cell_type": "code",
   "execution_count": 4,
   "metadata": {
    "colab": {
     "base_uri": "https://localhost:8080/",
     "height": 204
    },
    "colab_type": "code",
    "id": "GsC_WhLFjQKq",
    "outputId": "36b6565f-bb67-47b7-ea64-8d2695c60e6b",
    "scrolled": true
   },
   "outputs": [
    {
     "data": {
      "text/html": [
       "<div>\n",
       "<style scoped>\n",
       "    .dataframe tbody tr th:only-of-type {\n",
       "        vertical-align: middle;\n",
       "    }\n",
       "\n",
       "    .dataframe tbody tr th {\n",
       "        vertical-align: top;\n",
       "    }\n",
       "\n",
       "    .dataframe thead th {\n",
       "        text-align: right;\n",
       "    }\n",
       "</style>\n",
       "<table border=\"1\" class=\"dataframe\">\n",
       "  <thead>\n",
       "    <tr style=\"text-align: right;\">\n",
       "      <th></th>\n",
       "      <th>UF</th>\n",
       "      <th>Sexo</th>\n",
       "      <th>Idade</th>\n",
       "      <th>Cor</th>\n",
       "      <th>Anos de Estudo</th>\n",
       "      <th>Renda</th>\n",
       "      <th>Altura</th>\n",
       "    </tr>\n",
       "  </thead>\n",
       "  <tbody>\n",
       "    <tr>\n",
       "      <th>0</th>\n",
       "      <td>11</td>\n",
       "      <td>0</td>\n",
       "      <td>23</td>\n",
       "      <td>8</td>\n",
       "      <td>12</td>\n",
       "      <td>800</td>\n",
       "      <td>1.603808</td>\n",
       "    </tr>\n",
       "    <tr>\n",
       "      <th>1</th>\n",
       "      <td>11</td>\n",
       "      <td>1</td>\n",
       "      <td>23</td>\n",
       "      <td>2</td>\n",
       "      <td>12</td>\n",
       "      <td>1150</td>\n",
       "      <td>1.739790</td>\n",
       "    </tr>\n",
       "    <tr>\n",
       "      <th>2</th>\n",
       "      <td>11</td>\n",
       "      <td>1</td>\n",
       "      <td>35</td>\n",
       "      <td>8</td>\n",
       "      <td>15</td>\n",
       "      <td>880</td>\n",
       "      <td>1.760444</td>\n",
       "    </tr>\n",
       "    <tr>\n",
       "      <th>3</th>\n",
       "      <td>11</td>\n",
       "      <td>0</td>\n",
       "      <td>46</td>\n",
       "      <td>2</td>\n",
       "      <td>6</td>\n",
       "      <td>3500</td>\n",
       "      <td>1.783158</td>\n",
       "    </tr>\n",
       "    <tr>\n",
       "      <th>4</th>\n",
       "      <td>11</td>\n",
       "      <td>1</td>\n",
       "      <td>47</td>\n",
       "      <td>8</td>\n",
       "      <td>9</td>\n",
       "      <td>150</td>\n",
       "      <td>1.690631</td>\n",
       "    </tr>\n",
       "    <tr>\n",
       "      <th>5</th>\n",
       "      <td>11</td>\n",
       "      <td>1</td>\n",
       "      <td>34</td>\n",
       "      <td>8</td>\n",
       "      <td>12</td>\n",
       "      <td>790</td>\n",
       "      <td>1.637906</td>\n",
       "    </tr>\n",
       "    <tr>\n",
       "      <th>6</th>\n",
       "      <td>11</td>\n",
       "      <td>0</td>\n",
       "      <td>57</td>\n",
       "      <td>8</td>\n",
       "      <td>12</td>\n",
       "      <td>3150</td>\n",
       "      <td>1.570078</td>\n",
       "    </tr>\n",
       "    <tr>\n",
       "      <th>7</th>\n",
       "      <td>11</td>\n",
       "      <td>1</td>\n",
       "      <td>60</td>\n",
       "      <td>8</td>\n",
       "      <td>12</td>\n",
       "      <td>1700</td>\n",
       "      <td>1.608495</td>\n",
       "    </tr>\n",
       "    <tr>\n",
       "      <th>8</th>\n",
       "      <td>11</td>\n",
       "      <td>1</td>\n",
       "      <td>50</td>\n",
       "      <td>4</td>\n",
       "      <td>14</td>\n",
       "      <td>1800</td>\n",
       "      <td>1.780329</td>\n",
       "    </tr>\n",
       "    <tr>\n",
       "      <th>9</th>\n",
       "      <td>11</td>\n",
       "      <td>0</td>\n",
       "      <td>26</td>\n",
       "      <td>8</td>\n",
       "      <td>12</td>\n",
       "      <td>1150</td>\n",
       "      <td>1.793203</td>\n",
       "    </tr>\n",
       "  </tbody>\n",
       "</table>\n",
       "</div>"
      ],
      "text/plain": [
       "   UF  Sexo  Idade  Cor  Anos de Estudo  Renda    Altura\n",
       "0  11     0     23    8              12    800  1.603808\n",
       "1  11     1     23    2              12   1150  1.739790\n",
       "2  11     1     35    8              15    880  1.760444\n",
       "3  11     0     46    2               6   3500  1.783158\n",
       "4  11     1     47    8               9    150  1.690631\n",
       "5  11     1     34    8              12    790  1.637906\n",
       "6  11     0     57    8              12   3150  1.570078\n",
       "7  11     1     60    8              12   1700  1.608495\n",
       "8  11     1     50    4              14   1800  1.780329\n",
       "9  11     0     26    8              12   1150  1.793203"
      ]
     },
     "execution_count": 4,
     "metadata": {},
     "output_type": "execute_result"
    }
   ],
   "source": [
    "dados.head(10)"
   ]
  },
  {
   "cell_type": "markdown",
   "metadata": {
    "colab_type": "text",
    "id": "-z3bLQIUG3Hv"
   },
   "source": [
    "---\n",
    "---"
   ]
  },
  {
   "cell_type": "markdown",
   "metadata": {
    "colab_type": "text",
    "id": "tL9xVLwTX07g"
   },
   "source": [
    "# <font color=green>2 DISTRIBUIÇÕES DE PROBABILIDADE</font>\n",
    "***"
   ]
  },
  {
   "cell_type": "markdown",
   "metadata": {
    "colab_type": "text",
    "id": "3nlvC-5qG3Bj"
   },
   "source": [
    "## <font color=red>Problema</font>\n",
    "***"
   ]
  },
  {
   "cell_type": "markdown",
   "metadata": {
    "colab_type": "text",
    "id": "8CclIz9oG3Bk"
   },
   "source": [
    "Em um concurso para preencher uma vaga de cientista de dados temos um total de **10 questões** de múltipla escolha com **3 alternativas possíveis** em cada questão. **Cada questão tem o mesmo valor.** Suponha que um candidato resolva se aventurar sem ter estudado absolutamente nada. Ele resolve fazer a prova de olhos vendados e chutar todas as resposta. Assumindo que a prova **vale 10 pontos e a nota de corte seja 5**, obtenha a probabilidade deste candidato **acertar 5 questões** e também a probabilidade deste candidato **passar para a próxima etapa do processo seletivo**."
   ]
  },
  {
   "cell_type": "markdown",
   "metadata": {
    "colab_type": "text",
    "id": "KJxd2KFSYLML"
   },
   "source": [
    "## <font color=green>2.1 Distribuição Binomial</font>\n",
    "***"
   ]
  },
  {
   "cell_type": "markdown",
   "metadata": {
    "colab_type": "text",
    "id": "mcbl3KbnG3Bq"
   },
   "source": [
    "Um evento **binomial** é caracterizado pela possibilidade de ocorrência de apenas duas categorias. Estas categorias somadas representam todo o espaço amostral, sendo também mutuamente excludentes, ou seja, a ocorrência de uma implica na não ocorrência da outra.\n",
    "\n",
    "Em análises estatísticas o uso mais comum da distribuição binomial é na solução de problemas que envolvem situações de **sucesso** e **fracasso**."
   ]
  },
  {
   "cell_type": "markdown",
   "metadata": {
    "colab_type": "text",
    "id": "iLoYAuJ9G3Bs"
   },
   "source": [
    "# $$P(k)=\\binom{n}{k} p^k q^{n-k}$$\n",
    "\n",
    "Onde:\n",
    "\n",
    "$p$ = probabilidade de sucesso\n",
    "\n",
    "$q = (1 - p)$ = probabilidade de fracasso\n",
    "\n",
    "$n$ = número de eventos estudados\n",
    "\n",
    "$k$ = número de eventos desejados que tenham sucesso"
   ]
  },
  {
   "cell_type": "markdown",
   "metadata": {
    "colab_type": "text",
    "id": "PxEgWbFdG3Bt"
   },
   "source": [
    "### Experimento Binomial"
   ]
  },
  {
   "cell_type": "markdown",
   "metadata": {
    "colab_type": "text",
    "id": "eqQK3Ny-G3Bv"
   },
   "source": [
    "1. Realização de $n$ ensaios idênticos.\n",
    "\n",
    "2. Os ensaios são independentes.\n",
    "\n",
    "3. Somente dois resultados são possíveis, exemplo: Verdadeiro ou falso; Cara ou coroa; Sucesso ou fracasso.\n",
    "\n",
    "4. A probabilidade de sucesso é representada por $p$ e a de fracasso por $1-p=q$. Estas probabilidades não se modificam de ensaio para ensaio."
   ]
  },
  {
   "cell_type": "markdown",
   "metadata": {
    "colab_type": "text",
    "id": "mT77udQ0G3Bx"
   },
   "source": [
    "### Média da distribuição binomial"
   ]
  },
  {
   "cell_type": "markdown",
   "metadata": {
    "colab_type": "text",
    "id": "EGiuemgqG3By"
   },
   "source": [
    "O valor esperado ou a média da distribuição binomial é igual ao número de experimentos realizados multiplicado pela chance de ocorrência do evento.\n",
    "\n",
    "# $$\\mu = n \\times p$$"
   ]
  },
  {
   "cell_type": "markdown",
   "metadata": {
    "colab_type": "text",
    "id": "1fDLi96OG3Bz"
   },
   "source": [
    "### Desvio padrão da distribuição binomial"
   ]
  },
  {
   "cell_type": "markdown",
   "metadata": {
    "colab_type": "text",
    "id": "EZojizotG3B1"
   },
   "source": [
    "O desvio padrão é o produto entre o número de experimentos, a probabilidade de sucesso e a probabilidade de fracasso.\n",
    "\n",
    "# $$\\sigma = \\sqrt{n \\times p \\times q}$$"
   ]
  },
  {
   "cell_type": "markdown",
   "metadata": {
    "colab_type": "text",
    "id": "udqnjFnsG3B2"
   },
   "source": [
    "### Importando bibliotecas\n",
    "https://docs.scipy.org/doc/scipy/reference/generated/scipy.special.comb.html"
   ]
  },
  {
   "cell_type": "code",
   "execution_count": 5,
   "metadata": {
    "colab": {},
    "colab_type": "code",
    "id": "-U2sGssNG3B4"
   },
   "outputs": [],
   "source": [
    "from scipy.special import comb"
   ]
  },
  {
   "cell_type": "markdown",
   "metadata": {
    "colab_type": "text",
    "id": "MxxuJNSwG3B7"
   },
   "source": [
    "### Combinações\n",
    "\n",
    "Número de combinações de $n$ objetos, tomados $k$ a cada vez, é:\n",
    "\n",
    "# $$C_{k}^{n} = \\binom{n}{k} = \\frac{n!}{k!(n - k)!}$$\n",
    "\n",
    "Onde\n",
    "\n",
    "## $$n! = n\\times(n-1)\\times(n-2)\\times...\\times(2)\\times(1)$$\n",
    "## $$k! = k\\times(k-1)\\times(k-2)\\times...\\times(2)\\times(1)$$\n",
    "\n",
    "Por definição\n",
    "\n",
    "## $$0! = 1$$"
   ]
  },
  {
   "cell_type": "markdown",
   "metadata": {
    "colab_type": "text",
    "id": "Udz87Pq3G3B8"
   },
   "source": [
    "## <font color='blue'>Exemplo: Mega Sena</font>"
   ]
  },
  {
   "cell_type": "markdown",
   "metadata": {
    "colab_type": "text",
    "id": "h1Mo9AxyG3B8"
   },
   "source": [
    "Em um volante de loteria da Mega Sena temos um total de **60 números** para escolher onde a aposta mínima é de **seis números**. Você que é curiosa(o) resolve calcular a probabilidade de se acertar na Mega Sena com apenas **um jogo**. Para isso precisamos saber quantas **combinações de seis números podem ser formadas com os 60 números disponíveis**.\n",
    "\n",
    "### $$C_{6}^{60} = \\binom{60}{6} = \\frac{60!}{6!(60 - 6)!}$$"
   ]
  },
  {
   "cell_type": "code",
   "execution_count": 6,
   "metadata": {
    "colab": {
     "base_uri": "https://localhost:8080/",
     "height": 34
    },
    "colab_type": "code",
    "id": "c2t7yHl7G3B9",
    "outputId": "6d1e9337-9d68-4866-9e48-3dbb3f81d07d"
   },
   "outputs": [
    {
     "data": {
      "text/plain": [
       "50063860.0"
      ]
     },
     "execution_count": 6,
     "metadata": {},
     "output_type": "execute_result"
    }
   ],
   "source": [
    "combinacoes = comb(60, 6)\n",
    "combinacoes"
   ]
  },
  {
   "cell_type": "code",
   "execution_count": 7,
   "metadata": {
    "colab": {
     "base_uri": "https://localhost:8080/",
     "height": 34
    },
    "colab_type": "code",
    "id": "LpioeTSXG3CB",
    "outputId": "d1e0ab82-be84-423c-e206-a9f8e1437df4"
   },
   "outputs": [
    {
     "name": "stdout",
     "output_type": "stream",
     "text": [
      "0.000000019974489\n"
     ]
    }
   ],
   "source": [
    "probabilidade = 1 / combinacoes\n",
    "print('%0.15f' % probabilidade)"
   ]
  },
  {
   "cell_type": "markdown",
   "metadata": {
    "colab_type": "text",
    "id": "t1rA1yJpG3CF"
   },
   "source": [
    "## <font color='blue'>Exemplo: Concurso para cientista de dados</font>"
   ]
  },
  {
   "cell_type": "markdown",
   "metadata": {
    "colab_type": "text",
    "id": "K0DPDD37G3CG"
   },
   "source": [
    "Em um concurso para preencher uma vaga de cientista de dados temos um total de **10 questões** de múltipla escolha com **3 alternativas possíveis** em cada questão. **Cada questão tem o mesmo valor.** Suponha que um candidato resolva se aventurar sem ter estudado absolutamente nada. Ele resolve fazer a prova de olhos vendados e chutar todas as resposta. Assumindo que a prova **vale 10 pontos e a nota de corte seja 5**, obtenha a probabilidade deste candidato **acertar 5 questões** e também a probabilidade deste candidato **passar para a próxima etapa do processo seletivo**."
   ]
  },
  {
   "cell_type": "markdown",
   "metadata": {
    "colab_type": "text",
    "id": "sf-NMPfxG3CH"
   },
   "source": [
    "### Qual o número de ensaios ($n$)?"
   ]
  },
  {
   "cell_type": "code",
   "execution_count": 8,
   "metadata": {
    "colab": {
     "base_uri": "https://localhost:8080/",
     "height": 34
    },
    "colab_type": "code",
    "id": "WmnjMTnYG3CH",
    "outputId": "859f37e5-992a-4ccf-fbfb-4e2cf52c4373"
   },
   "outputs": [
    {
     "data": {
      "text/plain": [
       "10"
      ]
     },
     "execution_count": 8,
     "metadata": {},
     "output_type": "execute_result"
    }
   ],
   "source": [
    "n = 10\n",
    "n"
   ]
  },
  {
   "cell_type": "markdown",
   "metadata": {
    "colab_type": "text",
    "id": "1USf9Ro8G3CK"
   },
   "source": [
    "### Os ensaios são independentes?"
   ]
  },
  {
   "cell_type": "markdown",
   "metadata": {
    "colab_type": "text",
    "id": "82xf2XIkG3CM"
   },
   "source": [
    "Sim. A opção escolhida em uma questão não influencia em nada a opção escolhida em outra questão."
   ]
  },
  {
   "cell_type": "markdown",
   "metadata": {
    "colab_type": "text",
    "id": "7jN0H5e7G3CN"
   },
   "source": [
    "### Somente dois resultados são possíveis em cada ensaio?"
   ]
  },
  {
   "cell_type": "markdown",
   "metadata": {
    "colab_type": "text",
    "id": "gGxcY7K8G3CO"
   },
   "source": [
    "Sim. O candidato tem duas possibilidades, ACERTA ou ERRAR uma questão. "
   ]
  },
  {
   "cell_type": "markdown",
   "metadata": {
    "colab_type": "text",
    "id": "MZw2LDQjG3CR"
   },
   "source": [
    "### Qual a probabilidade de sucesso ($p$)?"
   ]
  },
  {
   "cell_type": "code",
   "execution_count": 9,
   "metadata": {
    "colab": {
     "base_uri": "https://localhost:8080/",
     "height": 34
    },
    "colab_type": "code",
    "id": "AazGDtt0G3CS",
    "outputId": "ccb9e561-0413-43c8-c462-ebea4b6c1097"
   },
   "outputs": [
    {
     "data": {
      "text/plain": [
       "0.3333333333333333"
      ]
     },
     "execution_count": 9,
     "metadata": {},
     "output_type": "execute_result"
    }
   ],
   "source": [
    "numero_de_alternativas_por_questao = 3\n",
    "p = 1 / numero_de_alternativas_por_questao\n",
    "p"
   ]
  },
  {
   "cell_type": "markdown",
   "metadata": {
    "colab_type": "text",
    "id": "KPCw41OlG3CX"
   },
   "source": [
    "### Qual a probabilidade de fracasso ($q$)?"
   ]
  },
  {
   "cell_type": "code",
   "execution_count": 10,
   "metadata": {
    "colab": {
     "base_uri": "https://localhost:8080/",
     "height": 34
    },
    "colab_type": "code",
    "id": "FRhmjCnpG3CZ",
    "outputId": "f521f041-ecf4-4c4c-b696-da7b949d657a"
   },
   "outputs": [
    {
     "data": {
      "text/plain": [
       "0.6666666666666667"
      ]
     },
     "execution_count": 10,
     "metadata": {},
     "output_type": "execute_result"
    }
   ],
   "source": [
    "q = 1 - p\n",
    "q"
   ]
  },
  {
   "cell_type": "markdown",
   "metadata": {
    "colab_type": "text",
    "id": "W2htpmzaG3Ce"
   },
   "source": [
    "### Qual o total de eventos que se deseja obter sucesso ($k$)?"
   ]
  },
  {
   "cell_type": "code",
   "execution_count": 11,
   "metadata": {
    "colab": {
     "base_uri": "https://localhost:8080/",
     "height": 34
    },
    "colab_type": "code",
    "id": "MmHpiIIuG3Cj",
    "outputId": "6975cb4f-5cd3-4234-f7b0-b5d01ceb0430"
   },
   "outputs": [
    {
     "data": {
      "text/plain": [
       "5"
      ]
     },
     "execution_count": 11,
     "metadata": {},
     "output_type": "execute_result"
    }
   ],
   "source": [
    "k = 5\n",
    "k"
   ]
  },
  {
   "cell_type": "markdown",
   "metadata": {
    "colab_type": "text",
    "id": "r8TZ6DSuG3Cm"
   },
   "source": [
    "### Solução 1"
   ]
  },
  {
   "cell_type": "code",
   "execution_count": 12,
   "metadata": {
    "colab": {
     "base_uri": "https://localhost:8080/",
     "height": 34
    },
    "colab_type": "code",
    "id": "tZBbMIzKG3Cn",
    "outputId": "cb9ddc72-bd3a-40e6-f432-ad02048a3047"
   },
   "outputs": [
    {
     "name": "stdout",
     "output_type": "stream",
     "text": [
      "0.13656455\n"
     ]
    }
   ],
   "source": [
    "probabilidade = (comb(n, k)) * (p ** k) * (q ** (n - k))\n",
    "print('%0.8f' % probabilidade)"
   ]
  },
  {
   "cell_type": "markdown",
   "metadata": {
    "colab_type": "text",
    "id": "rDwUvW5UG3Cq"
   },
   "source": [
    "### Importando bibliotecas\n",
    "https://docs.scipy.org/doc/scipy/reference/generated/scipy.stats.binom.html"
   ]
  },
  {
   "cell_type": "code",
   "execution_count": 13,
   "metadata": {
    "colab": {},
    "colab_type": "code",
    "id": "rhlsI3iLG3Cr"
   },
   "outputs": [],
   "source": [
    "from scipy.stats import binom"
   ]
  },
  {
   "cell_type": "markdown",
   "metadata": {
    "colab_type": "text",
    "id": "hvj2sYaSG3Ct"
   },
   "source": [
    "### Solução 2"
   ]
  },
  {
   "cell_type": "code",
   "execution_count": 14,
   "metadata": {
    "colab": {
     "base_uri": "https://localhost:8080/",
     "height": 34
    },
    "colab_type": "code",
    "id": "OjS1xsz5G3Cu",
    "outputId": "e5406623-9e3e-4d41-d1de-c774dc96bc17"
   },
   "outputs": [
    {
     "name": "stdout",
     "output_type": "stream",
     "text": [
      "0.13656455\n"
     ]
    }
   ],
   "source": [
    "probabilidade = binom.pmf(k, n, p)\n",
    "print('%0.8f' % probabilidade)"
   ]
  },
  {
   "cell_type": "markdown",
   "metadata": {},
   "source": [
    "### Obter a probabilidade do candidato passar"
   ]
  },
  {
   "cell_type": "markdown",
   "metadata": {},
   "source": [
    "### $$P(acertar \\geq 5) = P(5) + P(6) + P(7) + P(8) + P(9) + P10)$$"
   ]
  },
  {
   "cell_type": "code",
   "execution_count": 15,
   "metadata": {},
   "outputs": [
    {
     "data": {
      "text/plain": [
       "0.21312808006909492"
      ]
     },
     "execution_count": 15,
     "metadata": {},
     "output_type": "execute_result"
    }
   ],
   "source": [
    "binom.pmf(5, n, p) + binom.pmf(6, n, p) + binom.pmf(7, n, p) + binom.pmf(8, n, p) + binom.pmf(9, n, p) + binom.pmf(10, n, p)"
   ]
  },
  {
   "cell_type": "code",
   "execution_count": 16,
   "metadata": {},
   "outputs": [
    {
     "data": {
      "text/plain": [
       "0.21312808006909492"
      ]
     },
     "execution_count": 16,
     "metadata": {},
     "output_type": "execute_result"
    }
   ],
   "source": [
    "binom.pmf([5, 6, 7, 8, 9, 10], n, p).sum()"
   ]
  },
  {
   "cell_type": "code",
   "execution_count": 17,
   "metadata": {},
   "outputs": [
    {
     "data": {
      "text/plain": [
       "0.21312808006909523"
      ]
     },
     "execution_count": 17,
     "metadata": {},
     "output_type": "execute_result"
    }
   ],
   "source": [
    "1 - binom.cdf(4, n, p)"
   ]
  },
  {
   "cell_type": "code",
   "execution_count": 18,
   "metadata": {},
   "outputs": [
    {
     "data": {
      "text/plain": [
       "0.21312808006909525"
      ]
     },
     "execution_count": 18,
     "metadata": {},
     "output_type": "execute_result"
    }
   ],
   "source": [
    "binom.sf(4, n, p)"
   ]
  },
  {
   "cell_type": "code",
   "execution_count": 19,
   "metadata": {},
   "outputs": [
    {
     "data": {
      "text/plain": [
       "0.375"
      ]
     },
     "execution_count": 19,
     "metadata": {},
     "output_type": "execute_result"
    }
   ],
   "source": [
    "#Moeda Cara ou Coroa\n",
    "#from scipy.stats import binom\n",
    "\n",
    "p2 = 1 / 2  # Probabilidade de sair COROA\n",
    "n2 = 4      # Total de lançamentos\n",
    "k2 = 2      # Total de sucessos (faces COROA voltada para cima)\n",
    "\n",
    "binom.pmf(k2, n2, p2)"
   ]
  },
  {
   "cell_type": "markdown",
   "metadata": {
    "colab_type": "text",
    "id": "7hAZ4XkMG3Cx"
   },
   "source": [
    "## <font color='blue'>Exemplo: Gincana</font>"
   ]
  },
  {
   "cell_type": "markdown",
   "metadata": {
    "colab_type": "text",
    "id": "l42alRhOG3Cy"
   },
   "source": [
    "Uma cidade do interior realiza todos os anos uma gincana para arrecadar fundos para o hospital da cidade. Na última gincana se sabe que a **proporção de participantes do sexo feminino foi de 60%**. **O total de equipes, com 12 integrantes, inscritas na gincana deste ano é de 30**. Com as informações acima responda: Quantas equipes deverão ser formadas por **8 mulheres**?"
   ]
  },
  {
   "cell_type": "markdown",
   "metadata": {
    "colab_type": "text",
    "id": "dqBGf6d7G3C0"
   },
   "source": [
    "### Solução"
   ]
  },
  {
   "cell_type": "code",
   "execution_count": 20,
   "metadata": {
    "colab": {
     "base_uri": "https://localhost:8080/",
     "height": 34
    },
    "colab_type": "code",
    "id": "Xw9b6ch3G3C1",
    "outputId": "b4bb8b11-5113-4cc9-bac1-59e9acaf67e6"
   },
   "outputs": [
    {
     "data": {
      "text/plain": [
       "0.6"
      ]
     },
     "execution_count": 20,
     "metadata": {},
     "output_type": "execute_result"
    }
   ],
   "source": [
    "p = 0.6\n",
    "p"
   ]
  },
  {
   "cell_type": "code",
   "execution_count": 21,
   "metadata": {
    "colab": {
     "base_uri": "https://localhost:8080/",
     "height": 34
    },
    "colab_type": "code",
    "id": "R3-RaxP5G3C3",
    "outputId": "180b09ba-666e-47c9-b476-224c71fdd5c0"
   },
   "outputs": [
    {
     "data": {
      "text/plain": [
       "12"
      ]
     },
     "execution_count": 21,
     "metadata": {},
     "output_type": "execute_result"
    }
   ],
   "source": [
    "n = 12\n",
    "n"
   ]
  },
  {
   "cell_type": "code",
   "execution_count": 22,
   "metadata": {
    "colab": {
     "base_uri": "https://localhost:8080/",
     "height": 34
    },
    "colab_type": "code",
    "id": "otBHHyD0G3C6",
    "outputId": "c3bdd1ab-763a-43db-ec2e-fb890aa78e3f"
   },
   "outputs": [
    {
     "data": {
      "text/plain": [
       "8"
      ]
     },
     "execution_count": 22,
     "metadata": {},
     "output_type": "execute_result"
    }
   ],
   "source": [
    "k = 8\n",
    "k"
   ]
  },
  {
   "cell_type": "code",
   "execution_count": 23,
   "metadata": {
    "colab": {
     "base_uri": "https://localhost:8080/",
     "height": 34
    },
    "colab_type": "code",
    "id": "ZAoBvbQqG3C9",
    "outputId": "62d68ce0-f87f-4879-cc48-4358a7f23a68"
   },
   "outputs": [
    {
     "name": "stdout",
     "output_type": "stream",
     "text": [
      "0.21284094\n"
     ]
    }
   ],
   "source": [
    "probabilidade = binom.pmf(k, n, p)\n",
    "print('%0.8f' % probabilidade)"
   ]
  },
  {
   "cell_type": "code",
   "execution_count": 24,
   "metadata": {
    "colab": {
     "base_uri": "https://localhost:8080/",
     "height": 34
    },
    "colab_type": "code",
    "id": "Tg53uGL4G3DA",
    "outputId": "cf68634d-68fd-41c5-a9a1-98c5ead8b548"
   },
   "outputs": [
    {
     "data": {
      "text/plain": [
       "6.3852281856"
      ]
     },
     "execution_count": 24,
     "metadata": {},
     "output_type": "execute_result"
    }
   ],
   "source": [
    "equipes = 30 * probabilidade\n",
    "equipes"
   ]
  },
  {
   "cell_type": "code",
   "execution_count": 25,
   "metadata": {},
   "outputs": [
    {
     "name": "stdout",
     "output_type": "stream",
     "text": [
      "0.21284094\n"
     ]
    }
   ],
   "source": [
    "p3 = 0.22\n",
    "n3 = 3\n",
    "k3 = 2\n",
    "probabilidade2 = binom.pmf(k3, n3, p3)\n",
    "print('%0.8f' % probabilidade)"
   ]
  },
  {
   "cell_type": "code",
   "execution_count": 26,
   "metadata": {},
   "outputs": [
    {
     "data": {
      "text/plain": [
       "5.662799999999996"
      ]
     },
     "execution_count": 26,
     "metadata": {},
     "output_type": "execute_result"
    }
   ],
   "source": [
    "equipes2 = 50 * probabilidade2\n",
    "equipes2"
   ]
  },
  {
   "cell_type": "markdown",
   "metadata": {
    "colab_type": "text",
    "id": "49TiCQRvG3DC"
   },
   "source": [
    "---\n",
    "---"
   ]
  },
  {
   "cell_type": "markdown",
   "metadata": {
    "colab_type": "text",
    "id": "X6bYonAZG3DE"
   },
   "source": [
    "## <font color=red>Problema</font>\n",
    "***"
   ]
  },
  {
   "cell_type": "markdown",
   "metadata": {
    "colab_type": "text",
    "id": "Ccx-Bc9oG3DH"
   },
   "source": [
    "Um restaurante recebe em média **20 pedidos por hora**. Qual a chance de que, em determinada hora escolhida ao acaso, o restaurante receba **15 pedidos**?"
   ]
  },
  {
   "cell_type": "markdown",
   "metadata": {
    "colab_type": "text",
    "id": "k-uV7bgsmand"
   },
   "source": [
    "## <font color=green>2.2 Distribuição Poisson</font>\n",
    "***"
   ]
  },
  {
   "cell_type": "markdown",
   "metadata": {
    "colab_type": "text",
    "id": "H0jPtJICG3DM"
   },
   "source": [
    "É empregada para descrever o número de ocorrências em um intervalo de tempo ou espaço específico. Os eventos são caracterizados pela possibilidade de contagem dos sucessos, mas a não possibilidade de contagem dos fracassos.\n",
    "\n",
    "Como exemplos de processos onde podemos aplicar a distribuição de Poisson temos a determinação do número de clientes que entram em uma loja em determinada hora, o número de carros que chegam em um drive-thru de uma lanchonete na hora do almoço, a determinação do número de acidentes registrados em um trecho de estrada etc."
   ]
  },
  {
   "cell_type": "markdown",
   "metadata": {
    "colab_type": "text",
    "id": "O_XqwANJG3DN"
   },
   "source": [
    "# $$P(k) = \\frac{e^{-\\mu}(\\mu)^k}{k!}$$\n",
    "\n",
    "Onde:\n",
    "\n",
    "$e$ = constante cujo valor aproximado é 2,718281828459045\n",
    "\n",
    "$\\mu$ = representa o número médio de ocorrências em um determinado intervalo de tempo ou espaço\n",
    "\n",
    "$k$ = número de sucessos no intervalo desejado"
   ]
  },
  {
   "cell_type": "markdown",
   "metadata": {
    "colab_type": "text",
    "id": "FqquU8wOG3DO"
   },
   "source": [
    "### Experimento Poisson"
   ]
  },
  {
   "cell_type": "markdown",
   "metadata": {
    "colab_type": "text",
    "id": "ir2odEW3G3DO"
   },
   "source": [
    "1. A probabilidade de uma ocorrência é a mesma em todo o intervalo observado.\n",
    "\n",
    "2. O número de ocorrências em determinado intervalo é independente do número de ocorrências em outros intervalos.\n",
    "\n",
    "3. A probabilidade de uma ocorrência é a mesma em intervalos de igual comprimento."
   ]
  },
  {
   "cell_type": "markdown",
   "metadata": {
    "colab_type": "text",
    "id": "2INlWMa0G3DP"
   },
   "source": [
    "### Média da distribuição Poisson"
   ]
  },
  {
   "cell_type": "markdown",
   "metadata": {
    "colab_type": "text",
    "id": "xywTsniCG3DP"
   },
   "source": [
    "# $$\\mu$$"
   ]
  },
  {
   "cell_type": "markdown",
   "metadata": {
    "colab_type": "text",
    "id": "7-Lh-LpfG3DQ"
   },
   "source": [
    "### Desvio padrão da distribuição Poisson"
   ]
  },
  {
   "cell_type": "markdown",
   "metadata": {
    "colab_type": "text",
    "id": "61uStWUsG3DQ"
   },
   "source": [
    "# $$\\sigma = \\sqrt{\\mu}$$"
   ]
  },
  {
   "cell_type": "markdown",
   "metadata": {
    "colab_type": "text",
    "id": "vniBmzIMG3DR"
   },
   "source": [
    "### Importando bibliotecas\n",
    "\n",
    "http://www.numpy.org/"
   ]
  },
  {
   "cell_type": "code",
   "execution_count": 27,
   "metadata": {
    "colab": {},
    "colab_type": "code",
    "id": "w23fjVT-G3DS"
   },
   "outputs": [],
   "source": [
    "import numpy as np"
   ]
  },
  {
   "cell_type": "code",
   "execution_count": 28,
   "metadata": {
    "colab": {
     "base_uri": "https://localhost:8080/",
     "height": 34
    },
    "colab_type": "code",
    "id": "rdNqMuFNG3DU",
    "outputId": "fad8f9cf-efe3-44e4-8bd3-7495c4161845"
   },
   "outputs": [
    {
     "data": {
      "text/plain": [
       "2.718281828459045"
      ]
     },
     "execution_count": 28,
     "metadata": {},
     "output_type": "execute_result"
    }
   ],
   "source": [
    "np.e"
   ]
  },
  {
   "cell_type": "markdown",
   "metadata": {
    "colab_type": "text",
    "id": "RKQWuVgMG3DW"
   },
   "source": [
    "## <font color='blue'>Exemplo: Delivery</font>"
   ]
  },
  {
   "cell_type": "markdown",
   "metadata": {
    "colab_type": "text",
    "id": "ZKc__49bG3DX"
   },
   "source": [
    "Um restaurante recebe em média **20 pedidos por hora**. Qual a chance de que, em determinada hora escolhida ao acaso, o restaurante receba **15 pedidos**?"
   ]
  },
  {
   "cell_type": "markdown",
   "metadata": {
    "colab_type": "text",
    "id": "W-MJ4XBkG3DX"
   },
   "source": [
    "### Qual o número médio de ocorrências por hora ($\\mu$)?"
   ]
  },
  {
   "cell_type": "code",
   "execution_count": 29,
   "metadata": {
    "colab": {
     "base_uri": "https://localhost:8080/",
     "height": 34
    },
    "colab_type": "code",
    "id": "2fVfJxdSG3DY",
    "outputId": "5f93f4cb-eef7-459d-836c-eb825cf3f1d5"
   },
   "outputs": [
    {
     "data": {
      "text/plain": [
       "20"
      ]
     },
     "execution_count": 29,
     "metadata": {},
     "output_type": "execute_result"
    }
   ],
   "source": [
    "media = 20\n",
    "media"
   ]
  },
  {
   "cell_type": "markdown",
   "metadata": {
    "colab_type": "text",
    "id": "3SagRtPvG3Da"
   },
   "source": [
    "### Qual o número de ocorrências que queremos obter no período ($k$)?"
   ]
  },
  {
   "cell_type": "code",
   "execution_count": 30,
   "metadata": {
    "colab": {
     "base_uri": "https://localhost:8080/",
     "height": 34
    },
    "colab_type": "code",
    "id": "yXB3QhWyG3Da",
    "outputId": "70e860fe-353f-43ba-98e9-0976282de023"
   },
   "outputs": [
    {
     "data": {
      "text/plain": [
       "15"
      ]
     },
     "execution_count": 30,
     "metadata": {},
     "output_type": "execute_result"
    }
   ],
   "source": [
    "k = 15\n",
    "k"
   ]
  },
  {
   "cell_type": "markdown",
   "metadata": {
    "colab_type": "text",
    "id": "3wFh3lFCG3De"
   },
   "source": [
    "### Solução 1"
   ]
  },
  {
   "cell_type": "code",
   "execution_count": 31,
   "metadata": {
    "colab": {
     "base_uri": "https://localhost:8080/",
     "height": 34
    },
    "colab_type": "code",
    "id": "IEGO31WCG3Df",
    "outputId": "3ededd4d-1b97-428a-ad3f-1b8facfc3e38"
   },
   "outputs": [
    {
     "name": "stdout",
     "output_type": "stream",
     "text": [
      "0.05164885\n"
     ]
    }
   ],
   "source": [
    "probabilidade = ((np.e ** (-media)) * (media ** k)) / (np.math.factorial(k))\n",
    "print('%0.8f' % probabilidade)"
   ]
  },
  {
   "cell_type": "markdown",
   "metadata": {
    "colab_type": "text",
    "id": "GoIBvH62G3Di"
   },
   "source": [
    "### Importando bibliotecas"
   ]
  },
  {
   "cell_type": "markdown",
   "metadata": {
    "colab_type": "text",
    "id": "iFSF_9Y4G3Dj"
   },
   "source": [
    "https://docs.scipy.org/doc/scipy/reference/generated/scipy.stats.poisson.html"
   ]
  },
  {
   "cell_type": "markdown",
   "metadata": {
    "colab_type": "text",
    "id": "yAyXh0euG3Dk"
   },
   "source": [
    "### Solução 2"
   ]
  },
  {
   "cell_type": "code",
   "execution_count": 32,
   "metadata": {
    "colab": {
     "base_uri": "https://localhost:8080/",
     "height": 34
    },
    "colab_type": "code",
    "id": "sNw4oCAyG3Dk",
    "outputId": "21ded08e-1fc3-4315-c608-9c016af07e86"
   },
   "outputs": [
    {
     "name": "stdout",
     "output_type": "stream",
     "text": [
      "0.05164885\n"
     ]
    }
   ],
   "source": [
    "from scipy.stats import poisson\n",
    "\n",
    "probabilidade = poisson.pmf(k, media)\n",
    "print('%0.8f' % probabilidade)"
   ]
  },
  {
   "cell_type": "code",
   "execution_count": 33,
   "metadata": {},
   "outputs": [
    {
     "name": "stdout",
     "output_type": "stream",
     "text": [
      "0.04458765\n"
     ]
    }
   ],
   "source": [
    "media2 = 20\n",
    "k2 = 25\n",
    "probabilidade2 = poisson.pmf(k2, media2)\n",
    "print('%0.8f' % probabilidade2)"
   ]
  },
  {
   "cell_type": "markdown",
   "metadata": {
    "colab_type": "text",
    "id": "g3ng8tQFG3Do"
   },
   "source": [
    "---\n",
    "---"
   ]
  },
  {
   "cell_type": "markdown",
   "metadata": {
    "colab_type": "text",
    "id": "tVPUT9kEG3Dp"
   },
   "source": [
    "## <font color=red>Problema</font>\n",
    "***"
   ]
  },
  {
   "cell_type": "markdown",
   "metadata": {
    "colab_type": "text",
    "id": "j7zVDN0kG3Dq"
   },
   "source": [
    "Em um estudo sobre as alturas dos moradores de uma cidade verificou-se que o conjunto de dados segue uma **distribuição aproximadamente normal**, com **média 1,70** e **desvio padrão de 0,1**. Com estas informações obtenha o seguinte conjunto de probabilidades:\n",
    "\n",
    "> **A.** probabilidade de uma pessoa, selecionada ao acaso, ter menos de 1,80 metros.\n",
    "\n",
    "> **B.** probabilidade de uma pessoa, selecionada ao acaso, ter entre 1,60 metros e 1,80 metros.    \n",
    "\n",
    "> **C.** probabilidade de uma pessoa, selecionada ao acaso, ter mais de 1,90 metros."
   ]
  },
  {
   "cell_type": "markdown",
   "metadata": {
    "colab_type": "text",
    "id": "AowcVaKqpvf2"
   },
   "source": [
    "## <font color=green>2.3 Distribuição Normal</font>\n",
    "***"
   ]
  },
  {
   "cell_type": "markdown",
   "metadata": {
    "colab_type": "text",
    "id": "YOBD21hGG3Dw"
   },
   "source": [
    "A distribuição normal é uma das mais utilizadas em estatística. É uma distribuição contínua, onde a distribuição de frequências de uma variável quantitativa apresenta a forma de sino e é simétrica em relação a sua média."
   ]
  },
  {
   "cell_type": "markdown",
   "metadata": {
    "colab_type": "text",
    "id": "kbPy2ORqqKJA"
   },
   "source": [
    "![Normal](https://caelum-online-public.s3.amazonaws.com/1178-estatistica-parte2/01/img001.png)"
   ]
  },
  {
   "cell_type": "markdown",
   "metadata": {
    "colab_type": "text",
    "id": "J3eKESHTG3Dx"
   },
   "source": [
    "### Características importantes"
   ]
  },
  {
   "cell_type": "markdown",
   "metadata": {
    "colab_type": "text",
    "id": "z8GxAzWZG3Dx"
   },
   "source": [
    "1. É simétrica em torno da média;\n",
    "\n",
    "2. A área sob a curva corresponde à proporção 1 ou 100%;\n",
    "\n",
    "3. As medidas de tendência central (média, mediana e moda) apresentam o mesmo valor;\n",
    "\n",
    "4. Os extremos da curva tendem ao infinito em ambas as direções e, teoricamente, jamais tocam o eixo $x$;\n",
    "\n",
    "5. O desvio padrão define o achatamento e largura da distribuição. Curvas mais largas e mais achatadas apresentam valores maiores de desvio padrão;\n",
    "\n",
    "6. A distribuição é definida por sua média e desvio padrão;\n",
    "\n",
    "7. A probabilidade sempre será igual à área sob a curva, delimitada pelos limites inferior e superior."
   ]
  },
  {
   "cell_type": "markdown",
   "metadata": {
    "colab_type": "text",
    "id": "hoWLlOiwG3Dy"
   },
   "source": [
    "# $$f(x) = \\frac{1}{\\sqrt{2\\pi\\sigma}}e^{-\\frac{1}{2}\\left(\\frac{x-\\mu}{\\sigma}\\right)^2}$$\n",
    "\n",
    "Onde:\n",
    "\n",
    "$x$ = variável normal\n",
    "\n",
    "$\\sigma$ = desvio padrão\n",
    "\n",
    "$\\mu$ = média"
   ]
  },
  {
   "cell_type": "markdown",
   "metadata": {
    "colab_type": "text",
    "id": "8n03Z0VlG3Dz"
   },
   "source": [
    "A probabilidade é obtida a partir da área sob a curva, delimitada pelos limites inferior e superior especificados. Um exemplo pode ser visto na figura abaixo."
   ]
  },
  {
   "cell_type": "markdown",
   "metadata": {
    "colab_type": "text",
    "id": "X1UgmFoxG3Dz"
   },
   "source": [
    "![alt text](https://caelum-online-public.s3.amazonaws.com/1178-estatistica-parte2/01/img002.png)\n"
   ]
  },
  {
   "cell_type": "markdown",
   "metadata": {
    "colab_type": "text",
    "id": "rtKiApHLG3D0"
   },
   "source": [
    "Para obter a área acima basta calcular a integral da função para os intervalos determinados. Conforme equação abaixo:"
   ]
  },
  {
   "cell_type": "markdown",
   "metadata": {
    "colab_type": "text",
    "id": "0r_9CbSOG3D0"
   },
   "source": [
    "# $$P(L_i<x<L_s) = \\int_{L_i}^{L_s}\\frac{1}{\\sqrt{2\\pi\\sigma}}e^{-\\frac{1}{2}\\left(\\frac{x-\\mu}{\\sigma}\\right)^2}$$\n",
    "\n",
    "Onde:\n",
    "\n",
    "$x$ = variável normal\n",
    "\n",
    "$\\sigma$ = desvio padrão\n",
    "\n",
    "$\\mu$ = média\n",
    "\n",
    "$L_i$ = limite inferior\n",
    "\n",
    "$L_s$ = limite superior"
   ]
  },
  {
   "cell_type": "markdown",
   "metadata": {
    "colab_type": "text",
    "id": "qP-Ye-leG3D1"
   },
   "source": [
    "### Tabelas padronizadas"
   ]
  },
  {
   "cell_type": "markdown",
   "metadata": {
    "colab_type": "text",
    "id": "Z1VnLK11G3D1"
   },
   "source": [
    "As tabelas padronizadas foram criadas para facilitar a obtenção dos valores das áreas sob a curva normal e eliminar a necessidade de solucionar integrais definidas.\n",
    "\n",
    "Para consultarmos os valores em uma tabela padronizada basta transformarmos nossa variável em uma variável padronizada $Z$.\n",
    "\n",
    "Esta variável $Z$ representa o afastamento em desvios padrões de um valor da variável original em relação à média."
   ]
  },
  {
   "cell_type": "markdown",
   "metadata": {
    "colab_type": "text",
    "id": "HJcdgdsgG3D2"
   },
   "source": [
    "# $$Z = \\frac{x-\\mu}{\\sigma}$$\n",
    "\n",
    "Onde:\n",
    "\n",
    "$x$ = variável normal com média $\\mu$ e desvio padrão $\\sigma$\n",
    "\n",
    "$\\sigma$ = desvio padrão\n",
    "\n",
    "$\\mu$ = média"
   ]
  },
  {
   "cell_type": "markdown",
   "metadata": {
    "colab_type": "text",
    "id": "hUrVKJH3G3D2"
   },
   "source": [
    "### Construindo tabela normal padronizada\n",
    "https://docs.scipy.org/doc/scipy/reference/generated/scipy.stats.norm.html"
   ]
  },
  {
   "cell_type": "code",
   "execution_count": 34,
   "metadata": {
    "colab": {
     "base_uri": "https://localhost:8080/",
     "height": 1289
    },
    "colab_type": "code",
    "id": "7SudUNlcG3D4",
    "outputId": "963d1484-7b91-4af0-905f-4cbb49a73277"
   },
   "outputs": [
    {
     "data": {
      "text/html": [
       "<div>\n",
       "<style scoped>\n",
       "    .dataframe tbody tr th:only-of-type {\n",
       "        vertical-align: middle;\n",
       "    }\n",
       "\n",
       "    .dataframe tbody tr th {\n",
       "        vertical-align: top;\n",
       "    }\n",
       "\n",
       "    .dataframe thead th {\n",
       "        text-align: right;\n",
       "    }\n",
       "</style>\n",
       "<table border=\"1\" class=\"dataframe\">\n",
       "  <thead>\n",
       "    <tr style=\"text-align: right;\">\n",
       "      <th>Z</th>\n",
       "      <th>0.00</th>\n",
       "      <th>0.01</th>\n",
       "      <th>0.02</th>\n",
       "      <th>0.03</th>\n",
       "      <th>0.04</th>\n",
       "      <th>0.05</th>\n",
       "      <th>0.06</th>\n",
       "      <th>0.07</th>\n",
       "      <th>0.08</th>\n",
       "      <th>0.09</th>\n",
       "    </tr>\n",
       "  </thead>\n",
       "  <tbody>\n",
       "    <tr>\n",
       "      <th>0.00</th>\n",
       "      <td>0.5000</td>\n",
       "      <td>0.5040</td>\n",
       "      <td>0.5080</td>\n",
       "      <td>0.5120</td>\n",
       "      <td>0.5160</td>\n",
       "      <td>0.5199</td>\n",
       "      <td>0.5239</td>\n",
       "      <td>0.5279</td>\n",
       "      <td>0.5319</td>\n",
       "      <td>0.5359</td>\n",
       "    </tr>\n",
       "    <tr>\n",
       "      <th>0.10</th>\n",
       "      <td>0.5398</td>\n",
       "      <td>0.5438</td>\n",
       "      <td>0.5478</td>\n",
       "      <td>0.5517</td>\n",
       "      <td>0.5557</td>\n",
       "      <td>0.5596</td>\n",
       "      <td>0.5636</td>\n",
       "      <td>0.5675</td>\n",
       "      <td>0.5714</td>\n",
       "      <td>0.5753</td>\n",
       "    </tr>\n",
       "    <tr>\n",
       "      <th>0.20</th>\n",
       "      <td>0.5793</td>\n",
       "      <td>0.5832</td>\n",
       "      <td>0.5871</td>\n",
       "      <td>0.5910</td>\n",
       "      <td>0.5948</td>\n",
       "      <td>0.5987</td>\n",
       "      <td>0.6026</td>\n",
       "      <td>0.6064</td>\n",
       "      <td>0.6103</td>\n",
       "      <td>0.6141</td>\n",
       "    </tr>\n",
       "    <tr>\n",
       "      <th>0.30</th>\n",
       "      <td>0.6179</td>\n",
       "      <td>0.6217</td>\n",
       "      <td>0.6255</td>\n",
       "      <td>0.6293</td>\n",
       "      <td>0.6331</td>\n",
       "      <td>0.6368</td>\n",
       "      <td>0.6406</td>\n",
       "      <td>0.6443</td>\n",
       "      <td>0.6480</td>\n",
       "      <td>0.6517</td>\n",
       "    </tr>\n",
       "    <tr>\n",
       "      <th>0.40</th>\n",
       "      <td>0.6554</td>\n",
       "      <td>0.6591</td>\n",
       "      <td>0.6628</td>\n",
       "      <td>0.6664</td>\n",
       "      <td>0.6700</td>\n",
       "      <td>0.6736</td>\n",
       "      <td>0.6772</td>\n",
       "      <td>0.6808</td>\n",
       "      <td>0.6844</td>\n",
       "      <td>0.6879</td>\n",
       "    </tr>\n",
       "    <tr>\n",
       "      <th>0.50</th>\n",
       "      <td>0.6915</td>\n",
       "      <td>0.6950</td>\n",
       "      <td>0.6985</td>\n",
       "      <td>0.7019</td>\n",
       "      <td>0.7054</td>\n",
       "      <td>0.7088</td>\n",
       "      <td>0.7123</td>\n",
       "      <td>0.7157</td>\n",
       "      <td>0.7190</td>\n",
       "      <td>0.7224</td>\n",
       "    </tr>\n",
       "    <tr>\n",
       "      <th>0.60</th>\n",
       "      <td>0.7257</td>\n",
       "      <td>0.7291</td>\n",
       "      <td>0.7324</td>\n",
       "      <td>0.7357</td>\n",
       "      <td>0.7389</td>\n",
       "      <td>0.7422</td>\n",
       "      <td>0.7454</td>\n",
       "      <td>0.7486</td>\n",
       "      <td>0.7517</td>\n",
       "      <td>0.7549</td>\n",
       "    </tr>\n",
       "    <tr>\n",
       "      <th>0.70</th>\n",
       "      <td>0.7580</td>\n",
       "      <td>0.7611</td>\n",
       "      <td>0.7642</td>\n",
       "      <td>0.7673</td>\n",
       "      <td>0.7704</td>\n",
       "      <td>0.7734</td>\n",
       "      <td>0.7764</td>\n",
       "      <td>0.7794</td>\n",
       "      <td>0.7823</td>\n",
       "      <td>0.7852</td>\n",
       "    </tr>\n",
       "    <tr>\n",
       "      <th>0.80</th>\n",
       "      <td>0.7881</td>\n",
       "      <td>0.7910</td>\n",
       "      <td>0.7939</td>\n",
       "      <td>0.7967</td>\n",
       "      <td>0.7995</td>\n",
       "      <td>0.8023</td>\n",
       "      <td>0.8051</td>\n",
       "      <td>0.8078</td>\n",
       "      <td>0.8106</td>\n",
       "      <td>0.8133</td>\n",
       "    </tr>\n",
       "    <tr>\n",
       "      <th>0.90</th>\n",
       "      <td>0.8159</td>\n",
       "      <td>0.8186</td>\n",
       "      <td>0.8212</td>\n",
       "      <td>0.8238</td>\n",
       "      <td>0.8264</td>\n",
       "      <td>0.8289</td>\n",
       "      <td>0.8315</td>\n",
       "      <td>0.8340</td>\n",
       "      <td>0.8365</td>\n",
       "      <td>0.8389</td>\n",
       "    </tr>\n",
       "    <tr>\n",
       "      <th>1.00</th>\n",
       "      <td>0.8413</td>\n",
       "      <td>0.8438</td>\n",
       "      <td>0.8461</td>\n",
       "      <td>0.8485</td>\n",
       "      <td>0.8508</td>\n",
       "      <td>0.8531</td>\n",
       "      <td>0.8554</td>\n",
       "      <td>0.8577</td>\n",
       "      <td>0.8599</td>\n",
       "      <td>0.8621</td>\n",
       "    </tr>\n",
       "    <tr>\n",
       "      <th>1.10</th>\n",
       "      <td>0.8643</td>\n",
       "      <td>0.8665</td>\n",
       "      <td>0.8686</td>\n",
       "      <td>0.8708</td>\n",
       "      <td>0.8729</td>\n",
       "      <td>0.8749</td>\n",
       "      <td>0.8770</td>\n",
       "      <td>0.8790</td>\n",
       "      <td>0.8810</td>\n",
       "      <td>0.8830</td>\n",
       "    </tr>\n",
       "    <tr>\n",
       "      <th>1.20</th>\n",
       "      <td>0.8849</td>\n",
       "      <td>0.8869</td>\n",
       "      <td>0.8888</td>\n",
       "      <td>0.8907</td>\n",
       "      <td>0.8925</td>\n",
       "      <td>0.8944</td>\n",
       "      <td>0.8962</td>\n",
       "      <td>0.8980</td>\n",
       "      <td>0.8997</td>\n",
       "      <td>0.9015</td>\n",
       "    </tr>\n",
       "    <tr>\n",
       "      <th>1.30</th>\n",
       "      <td>0.9032</td>\n",
       "      <td>0.9049</td>\n",
       "      <td>0.9066</td>\n",
       "      <td>0.9082</td>\n",
       "      <td>0.9099</td>\n",
       "      <td>0.9115</td>\n",
       "      <td>0.9131</td>\n",
       "      <td>0.9147</td>\n",
       "      <td>0.9162</td>\n",
       "      <td>0.9177</td>\n",
       "    </tr>\n",
       "    <tr>\n",
       "      <th>1.40</th>\n",
       "      <td>0.9192</td>\n",
       "      <td>0.9207</td>\n",
       "      <td>0.9222</td>\n",
       "      <td>0.9236</td>\n",
       "      <td>0.9251</td>\n",
       "      <td>0.9265</td>\n",
       "      <td>0.9279</td>\n",
       "      <td>0.9292</td>\n",
       "      <td>0.9306</td>\n",
       "      <td>0.9319</td>\n",
       "    </tr>\n",
       "    <tr>\n",
       "      <th>1.50</th>\n",
       "      <td>0.9332</td>\n",
       "      <td>0.9345</td>\n",
       "      <td>0.9357</td>\n",
       "      <td>0.9370</td>\n",
       "      <td>0.9382</td>\n",
       "      <td>0.9394</td>\n",
       "      <td>0.9406</td>\n",
       "      <td>0.9418</td>\n",
       "      <td>0.9429</td>\n",
       "      <td>0.9441</td>\n",
       "    </tr>\n",
       "    <tr>\n",
       "      <th>1.60</th>\n",
       "      <td>0.9452</td>\n",
       "      <td>0.9463</td>\n",
       "      <td>0.9474</td>\n",
       "      <td>0.9484</td>\n",
       "      <td>0.9495</td>\n",
       "      <td>0.9505</td>\n",
       "      <td>0.9515</td>\n",
       "      <td>0.9525</td>\n",
       "      <td>0.9535</td>\n",
       "      <td>0.9545</td>\n",
       "    </tr>\n",
       "    <tr>\n",
       "      <th>1.70</th>\n",
       "      <td>0.9554</td>\n",
       "      <td>0.9564</td>\n",
       "      <td>0.9573</td>\n",
       "      <td>0.9582</td>\n",
       "      <td>0.9591</td>\n",
       "      <td>0.9599</td>\n",
       "      <td>0.9608</td>\n",
       "      <td>0.9616</td>\n",
       "      <td>0.9625</td>\n",
       "      <td>0.9633</td>\n",
       "    </tr>\n",
       "    <tr>\n",
       "      <th>1.80</th>\n",
       "      <td>0.9641</td>\n",
       "      <td>0.9649</td>\n",
       "      <td>0.9656</td>\n",
       "      <td>0.9664</td>\n",
       "      <td>0.9671</td>\n",
       "      <td>0.9678</td>\n",
       "      <td>0.9686</td>\n",
       "      <td>0.9693</td>\n",
       "      <td>0.9699</td>\n",
       "      <td>0.9706</td>\n",
       "    </tr>\n",
       "    <tr>\n",
       "      <th>1.90</th>\n",
       "      <td>0.9713</td>\n",
       "      <td>0.9719</td>\n",
       "      <td>0.9726</td>\n",
       "      <td>0.9732</td>\n",
       "      <td>0.9738</td>\n",
       "      <td>0.9744</td>\n",
       "      <td>0.9750</td>\n",
       "      <td>0.9756</td>\n",
       "      <td>0.9761</td>\n",
       "      <td>0.9767</td>\n",
       "    </tr>\n",
       "    <tr>\n",
       "      <th>2.00</th>\n",
       "      <td>0.9772</td>\n",
       "      <td>0.9778</td>\n",
       "      <td>0.9783</td>\n",
       "      <td>0.9788</td>\n",
       "      <td>0.9793</td>\n",
       "      <td>0.9798</td>\n",
       "      <td>0.9803</td>\n",
       "      <td>0.9808</td>\n",
       "      <td>0.9812</td>\n",
       "      <td>0.9817</td>\n",
       "    </tr>\n",
       "    <tr>\n",
       "      <th>2.10</th>\n",
       "      <td>0.9821</td>\n",
       "      <td>0.9826</td>\n",
       "      <td>0.9830</td>\n",
       "      <td>0.9834</td>\n",
       "      <td>0.9838</td>\n",
       "      <td>0.9842</td>\n",
       "      <td>0.9846</td>\n",
       "      <td>0.9850</td>\n",
       "      <td>0.9854</td>\n",
       "      <td>0.9857</td>\n",
       "    </tr>\n",
       "    <tr>\n",
       "      <th>2.20</th>\n",
       "      <td>0.9861</td>\n",
       "      <td>0.9864</td>\n",
       "      <td>0.9868</td>\n",
       "      <td>0.9871</td>\n",
       "      <td>0.9875</td>\n",
       "      <td>0.9878</td>\n",
       "      <td>0.9881</td>\n",
       "      <td>0.9884</td>\n",
       "      <td>0.9887</td>\n",
       "      <td>0.9890</td>\n",
       "    </tr>\n",
       "    <tr>\n",
       "      <th>2.30</th>\n",
       "      <td>0.9893</td>\n",
       "      <td>0.9896</td>\n",
       "      <td>0.9898</td>\n",
       "      <td>0.9901</td>\n",
       "      <td>0.9904</td>\n",
       "      <td>0.9906</td>\n",
       "      <td>0.9909</td>\n",
       "      <td>0.9911</td>\n",
       "      <td>0.9913</td>\n",
       "      <td>0.9916</td>\n",
       "    </tr>\n",
       "    <tr>\n",
       "      <th>2.40</th>\n",
       "      <td>0.9918</td>\n",
       "      <td>0.9920</td>\n",
       "      <td>0.9922</td>\n",
       "      <td>0.9925</td>\n",
       "      <td>0.9927</td>\n",
       "      <td>0.9929</td>\n",
       "      <td>0.9931</td>\n",
       "      <td>0.9932</td>\n",
       "      <td>0.9934</td>\n",
       "      <td>0.9936</td>\n",
       "    </tr>\n",
       "    <tr>\n",
       "      <th>2.50</th>\n",
       "      <td>0.9938</td>\n",
       "      <td>0.9940</td>\n",
       "      <td>0.9941</td>\n",
       "      <td>0.9943</td>\n",
       "      <td>0.9945</td>\n",
       "      <td>0.9946</td>\n",
       "      <td>0.9948</td>\n",
       "      <td>0.9949</td>\n",
       "      <td>0.9951</td>\n",
       "      <td>0.9952</td>\n",
       "    </tr>\n",
       "    <tr>\n",
       "      <th>2.60</th>\n",
       "      <td>0.9953</td>\n",
       "      <td>0.9955</td>\n",
       "      <td>0.9956</td>\n",
       "      <td>0.9957</td>\n",
       "      <td>0.9959</td>\n",
       "      <td>0.9960</td>\n",
       "      <td>0.9961</td>\n",
       "      <td>0.9962</td>\n",
       "      <td>0.9963</td>\n",
       "      <td>0.9964</td>\n",
       "    </tr>\n",
       "    <tr>\n",
       "      <th>2.70</th>\n",
       "      <td>0.9965</td>\n",
       "      <td>0.9966</td>\n",
       "      <td>0.9967</td>\n",
       "      <td>0.9968</td>\n",
       "      <td>0.9969</td>\n",
       "      <td>0.9970</td>\n",
       "      <td>0.9971</td>\n",
       "      <td>0.9972</td>\n",
       "      <td>0.9973</td>\n",
       "      <td>0.9974</td>\n",
       "    </tr>\n",
       "    <tr>\n",
       "      <th>2.80</th>\n",
       "      <td>0.9974</td>\n",
       "      <td>0.9975</td>\n",
       "      <td>0.9976</td>\n",
       "      <td>0.9977</td>\n",
       "      <td>0.9977</td>\n",
       "      <td>0.9978</td>\n",
       "      <td>0.9979</td>\n",
       "      <td>0.9979</td>\n",
       "      <td>0.9980</td>\n",
       "      <td>0.9981</td>\n",
       "    </tr>\n",
       "    <tr>\n",
       "      <th>2.90</th>\n",
       "      <td>0.9981</td>\n",
       "      <td>0.9982</td>\n",
       "      <td>0.9982</td>\n",
       "      <td>0.9983</td>\n",
       "      <td>0.9984</td>\n",
       "      <td>0.9984</td>\n",
       "      <td>0.9985</td>\n",
       "      <td>0.9985</td>\n",
       "      <td>0.9986</td>\n",
       "      <td>0.9986</td>\n",
       "    </tr>\n",
       "    <tr>\n",
       "      <th>3.00</th>\n",
       "      <td>0.9987</td>\n",
       "      <td>0.9987</td>\n",
       "      <td>0.9987</td>\n",
       "      <td>0.9988</td>\n",
       "      <td>0.9988</td>\n",
       "      <td>0.9989</td>\n",
       "      <td>0.9989</td>\n",
       "      <td>0.9989</td>\n",
       "      <td>0.9990</td>\n",
       "      <td>0.9990</td>\n",
       "    </tr>\n",
       "    <tr>\n",
       "      <th>3.10</th>\n",
       "      <td>0.9990</td>\n",
       "      <td>0.9991</td>\n",
       "      <td>0.9991</td>\n",
       "      <td>0.9991</td>\n",
       "      <td>0.9992</td>\n",
       "      <td>0.9992</td>\n",
       "      <td>0.9992</td>\n",
       "      <td>0.9992</td>\n",
       "      <td>0.9993</td>\n",
       "      <td>0.9993</td>\n",
       "    </tr>\n",
       "    <tr>\n",
       "      <th>3.20</th>\n",
       "      <td>0.9993</td>\n",
       "      <td>0.9993</td>\n",
       "      <td>0.9994</td>\n",
       "      <td>0.9994</td>\n",
       "      <td>0.9994</td>\n",
       "      <td>0.9994</td>\n",
       "      <td>0.9994</td>\n",
       "      <td>0.9995</td>\n",
       "      <td>0.9995</td>\n",
       "      <td>0.9995</td>\n",
       "    </tr>\n",
       "    <tr>\n",
       "      <th>3.30</th>\n",
       "      <td>0.9995</td>\n",
       "      <td>0.9995</td>\n",
       "      <td>0.9995</td>\n",
       "      <td>0.9996</td>\n",
       "      <td>0.9996</td>\n",
       "      <td>0.9996</td>\n",
       "      <td>0.9996</td>\n",
       "      <td>0.9996</td>\n",
       "      <td>0.9996</td>\n",
       "      <td>0.9997</td>\n",
       "    </tr>\n",
       "    <tr>\n",
       "      <th>3.40</th>\n",
       "      <td>0.9997</td>\n",
       "      <td>0.9997</td>\n",
       "      <td>0.9997</td>\n",
       "      <td>0.9997</td>\n",
       "      <td>0.9997</td>\n",
       "      <td>0.9997</td>\n",
       "      <td>0.9997</td>\n",
       "      <td>0.9997</td>\n",
       "      <td>0.9997</td>\n",
       "      <td>0.9998</td>\n",
       "    </tr>\n",
       "    <tr>\n",
       "      <th>3.50</th>\n",
       "      <td>0.9998</td>\n",
       "      <td>0.9998</td>\n",
       "      <td>0.9998</td>\n",
       "      <td>0.9998</td>\n",
       "      <td>0.9998</td>\n",
       "      <td>0.9998</td>\n",
       "      <td>0.9998</td>\n",
       "      <td>0.9998</td>\n",
       "      <td>0.9998</td>\n",
       "      <td>0.9998</td>\n",
       "    </tr>\n",
       "    <tr>\n",
       "      <th>3.60</th>\n",
       "      <td>0.9998</td>\n",
       "      <td>0.9998</td>\n",
       "      <td>0.9999</td>\n",
       "      <td>0.9999</td>\n",
       "      <td>0.9999</td>\n",
       "      <td>0.9999</td>\n",
       "      <td>0.9999</td>\n",
       "      <td>0.9999</td>\n",
       "      <td>0.9999</td>\n",
       "      <td>0.9999</td>\n",
       "    </tr>\n",
       "    <tr>\n",
       "      <th>3.70</th>\n",
       "      <td>0.9999</td>\n",
       "      <td>0.9999</td>\n",
       "      <td>0.9999</td>\n",
       "      <td>0.9999</td>\n",
       "      <td>0.9999</td>\n",
       "      <td>0.9999</td>\n",
       "      <td>0.9999</td>\n",
       "      <td>0.9999</td>\n",
       "      <td>0.9999</td>\n",
       "      <td>0.9999</td>\n",
       "    </tr>\n",
       "    <tr>\n",
       "      <th>3.80</th>\n",
       "      <td>0.9999</td>\n",
       "      <td>0.9999</td>\n",
       "      <td>0.9999</td>\n",
       "      <td>0.9999</td>\n",
       "      <td>0.9999</td>\n",
       "      <td>0.9999</td>\n",
       "      <td>0.9999</td>\n",
       "      <td>0.9999</td>\n",
       "      <td>0.9999</td>\n",
       "      <td>0.9999</td>\n",
       "    </tr>\n",
       "    <tr>\n",
       "      <th>3.90</th>\n",
       "      <td>1.0000</td>\n",
       "      <td>1.0000</td>\n",
       "      <td>1.0000</td>\n",
       "      <td>1.0000</td>\n",
       "      <td>1.0000</td>\n",
       "      <td>1.0000</td>\n",
       "      <td>1.0000</td>\n",
       "      <td>1.0000</td>\n",
       "      <td>1.0000</td>\n",
       "      <td>1.0000</td>\n",
       "    </tr>\n",
       "  </tbody>\n",
       "</table>\n",
       "</div>"
      ],
      "text/plain": [
       "Z       0.00    0.01    0.02    0.03    0.04    0.05    0.06    0.07    0.08  \\\n",
       "0.00  0.5000  0.5040  0.5080  0.5120  0.5160  0.5199  0.5239  0.5279  0.5319   \n",
       "0.10  0.5398  0.5438  0.5478  0.5517  0.5557  0.5596  0.5636  0.5675  0.5714   \n",
       "0.20  0.5793  0.5832  0.5871  0.5910  0.5948  0.5987  0.6026  0.6064  0.6103   \n",
       "0.30  0.6179  0.6217  0.6255  0.6293  0.6331  0.6368  0.6406  0.6443  0.6480   \n",
       "0.40  0.6554  0.6591  0.6628  0.6664  0.6700  0.6736  0.6772  0.6808  0.6844   \n",
       "0.50  0.6915  0.6950  0.6985  0.7019  0.7054  0.7088  0.7123  0.7157  0.7190   \n",
       "0.60  0.7257  0.7291  0.7324  0.7357  0.7389  0.7422  0.7454  0.7486  0.7517   \n",
       "0.70  0.7580  0.7611  0.7642  0.7673  0.7704  0.7734  0.7764  0.7794  0.7823   \n",
       "0.80  0.7881  0.7910  0.7939  0.7967  0.7995  0.8023  0.8051  0.8078  0.8106   \n",
       "0.90  0.8159  0.8186  0.8212  0.8238  0.8264  0.8289  0.8315  0.8340  0.8365   \n",
       "1.00  0.8413  0.8438  0.8461  0.8485  0.8508  0.8531  0.8554  0.8577  0.8599   \n",
       "1.10  0.8643  0.8665  0.8686  0.8708  0.8729  0.8749  0.8770  0.8790  0.8810   \n",
       "1.20  0.8849  0.8869  0.8888  0.8907  0.8925  0.8944  0.8962  0.8980  0.8997   \n",
       "1.30  0.9032  0.9049  0.9066  0.9082  0.9099  0.9115  0.9131  0.9147  0.9162   \n",
       "1.40  0.9192  0.9207  0.9222  0.9236  0.9251  0.9265  0.9279  0.9292  0.9306   \n",
       "1.50  0.9332  0.9345  0.9357  0.9370  0.9382  0.9394  0.9406  0.9418  0.9429   \n",
       "1.60  0.9452  0.9463  0.9474  0.9484  0.9495  0.9505  0.9515  0.9525  0.9535   \n",
       "1.70  0.9554  0.9564  0.9573  0.9582  0.9591  0.9599  0.9608  0.9616  0.9625   \n",
       "1.80  0.9641  0.9649  0.9656  0.9664  0.9671  0.9678  0.9686  0.9693  0.9699   \n",
       "1.90  0.9713  0.9719  0.9726  0.9732  0.9738  0.9744  0.9750  0.9756  0.9761   \n",
       "2.00  0.9772  0.9778  0.9783  0.9788  0.9793  0.9798  0.9803  0.9808  0.9812   \n",
       "2.10  0.9821  0.9826  0.9830  0.9834  0.9838  0.9842  0.9846  0.9850  0.9854   \n",
       "2.20  0.9861  0.9864  0.9868  0.9871  0.9875  0.9878  0.9881  0.9884  0.9887   \n",
       "2.30  0.9893  0.9896  0.9898  0.9901  0.9904  0.9906  0.9909  0.9911  0.9913   \n",
       "2.40  0.9918  0.9920  0.9922  0.9925  0.9927  0.9929  0.9931  0.9932  0.9934   \n",
       "2.50  0.9938  0.9940  0.9941  0.9943  0.9945  0.9946  0.9948  0.9949  0.9951   \n",
       "2.60  0.9953  0.9955  0.9956  0.9957  0.9959  0.9960  0.9961  0.9962  0.9963   \n",
       "2.70  0.9965  0.9966  0.9967  0.9968  0.9969  0.9970  0.9971  0.9972  0.9973   \n",
       "2.80  0.9974  0.9975  0.9976  0.9977  0.9977  0.9978  0.9979  0.9979  0.9980   \n",
       "2.90  0.9981  0.9982  0.9982  0.9983  0.9984  0.9984  0.9985  0.9985  0.9986   \n",
       "3.00  0.9987  0.9987  0.9987  0.9988  0.9988  0.9989  0.9989  0.9989  0.9990   \n",
       "3.10  0.9990  0.9991  0.9991  0.9991  0.9992  0.9992  0.9992  0.9992  0.9993   \n",
       "3.20  0.9993  0.9993  0.9994  0.9994  0.9994  0.9994  0.9994  0.9995  0.9995   \n",
       "3.30  0.9995  0.9995  0.9995  0.9996  0.9996  0.9996  0.9996  0.9996  0.9996   \n",
       "3.40  0.9997  0.9997  0.9997  0.9997  0.9997  0.9997  0.9997  0.9997  0.9997   \n",
       "3.50  0.9998  0.9998  0.9998  0.9998  0.9998  0.9998  0.9998  0.9998  0.9998   \n",
       "3.60  0.9998  0.9998  0.9999  0.9999  0.9999  0.9999  0.9999  0.9999  0.9999   \n",
       "3.70  0.9999  0.9999  0.9999  0.9999  0.9999  0.9999  0.9999  0.9999  0.9999   \n",
       "3.80  0.9999  0.9999  0.9999  0.9999  0.9999  0.9999  0.9999  0.9999  0.9999   \n",
       "3.90  1.0000  1.0000  1.0000  1.0000  1.0000  1.0000  1.0000  1.0000  1.0000   \n",
       "\n",
       "Z       0.09  \n",
       "0.00  0.5359  \n",
       "0.10  0.5753  \n",
       "0.20  0.6141  \n",
       "0.30  0.6517  \n",
       "0.40  0.6879  \n",
       "0.50  0.7224  \n",
       "0.60  0.7549  \n",
       "0.70  0.7852  \n",
       "0.80  0.8133  \n",
       "0.90  0.8389  \n",
       "1.00  0.8621  \n",
       "1.10  0.8830  \n",
       "1.20  0.9015  \n",
       "1.30  0.9177  \n",
       "1.40  0.9319  \n",
       "1.50  0.9441  \n",
       "1.60  0.9545  \n",
       "1.70  0.9633  \n",
       "1.80  0.9706  \n",
       "1.90  0.9767  \n",
       "2.00  0.9817  \n",
       "2.10  0.9857  \n",
       "2.20  0.9890  \n",
       "2.30  0.9916  \n",
       "2.40  0.9936  \n",
       "2.50  0.9952  \n",
       "2.60  0.9964  \n",
       "2.70  0.9974  \n",
       "2.80  0.9981  \n",
       "2.90  0.9986  \n",
       "3.00  0.9990  \n",
       "3.10  0.9993  \n",
       "3.20  0.9995  \n",
       "3.30  0.9997  \n",
       "3.40  0.9998  \n",
       "3.50  0.9998  \n",
       "3.60  0.9999  \n",
       "3.70  0.9999  \n",
       "3.80  0.9999  \n",
       "3.90  1.0000  "
      ]
     },
     "execution_count": 34,
     "metadata": {},
     "output_type": "execute_result"
    }
   ],
   "source": [
    "import pandas as pd\n",
    "import numpy as np\n",
    "from scipy.stats import norm\n",
    "\n",
    "tabela_normal_padronizada = pd.DataFrame(\n",
    "    [], \n",
    "    index=[\"{0:0.2f}\".format(i / 100) for i in range(0, 400, 10)],\n",
    "    columns = [\"{0:0.2f}\".format(i / 100) for i in range(0, 10)])\n",
    "\n",
    "for index in tabela_normal_padronizada.index:\n",
    "    for column in tabela_normal_padronizada.columns:\n",
    "        Z = np.round(float(index) + float(column), 2)\n",
    "        tabela_normal_padronizada.loc[index, column] = \"{0:0.4f}\".format(norm.cdf(Z))\n",
    "\n",
    "tabela_normal_padronizada.rename_axis('Z', axis = 'columns', inplace = True)\n",
    "\n",
    "tabela_normal_padronizada"
   ]
  },
  {
   "cell_type": "markdown",
   "metadata": {
    "colab_type": "text",
    "id": "XHYeMaN3G3D9"
   },
   "source": [
    "<img src='https://caelum-online-public.s3.amazonaws.com/1178-estatistica-parte2/01/img003.png' width='250px'>\n",
    "\n",
    "A tabela acima fornece a área sob a curva entre $-\\infty$ e $Z$ desvios padrão acima da média. Lembrando que por se tratar de valores padronizados temos $\\mu = 0$."
   ]
  },
  {
   "cell_type": "markdown",
   "metadata": {
    "colab_type": "text",
    "id": "Bs-KyZAJG3D-"
   },
   "source": [
    "## <font color='blue'>Exemplo: Qual sua altura?</font>"
   ]
  },
  {
   "cell_type": "markdown",
   "metadata": {
    "colab_type": "text",
    "id": "8PFIjXejG3EA"
   },
   "source": [
    "Em um estudo sobre as alturas dos moradores de uma cidade verificou-se que o conjunto de dados segue uma **distribuição aproximadamente normal**, com **média 1,70** e **desvio padrão de 0,1**. Com estas informações obtenha o seguinte conjunto de probabilidades:\n",
    "\n",
    "> **A.** probabilidade de uma pessoa, selecionada ao acaso, ter menos de 1,80 metros.\n",
    "\n",
    "> **B.** probabilidade de uma pessoa, selecionada ao acaso, ter entre 1,60 metros e 1,80 metros.    \n",
    "\n",
    "> **C.** probabilidade de uma pessoa, selecionada ao acaso, ter mais de 1,90 metros."
   ]
  },
  {
   "cell_type": "markdown",
   "metadata": {
    "colab_type": "text",
    "id": "aHpZLwt1G3EC"
   },
   "source": [
    "### Problema A - Identificação da área sob a curva"
   ]
  },
  {
   "cell_type": "markdown",
   "metadata": {
    "colab_type": "text",
    "id": "V1eC7tydG3EF"
   },
   "source": [
    "<img style='float: left' src='https://caelum-online-public.s3.amazonaws.com/1178-estatistica-parte2/01/img004.png' width='350px'>"
   ]
  },
  {
   "cell_type": "markdown",
   "metadata": {
    "colab_type": "text",
    "id": "X61wEuRrG3EI"
   },
   "source": [
    "### Obter a variável padronizada $Z$"
   ]
  },
  {
   "cell_type": "code",
   "execution_count": 35,
   "metadata": {
    "colab": {
     "base_uri": "https://localhost:8080/",
     "height": 34
    },
    "colab_type": "code",
    "id": "gNSNIMvZG3EK",
    "outputId": "2d4048a7-4c0a-4f51-c964-2f063cbdf092"
   },
   "outputs": [
    {
     "data": {
      "text/plain": [
       "1.7"
      ]
     },
     "execution_count": 35,
     "metadata": {},
     "output_type": "execute_result"
    }
   ],
   "source": [
    "media = 1.7\n",
    "media"
   ]
  },
  {
   "cell_type": "code",
   "execution_count": 36,
   "metadata": {
    "colab": {
     "base_uri": "https://localhost:8080/",
     "height": 34
    },
    "colab_type": "code",
    "id": "E_f2lycRG3ES",
    "outputId": "7bb0daf7-7f86-4bdd-f195-429e7b68d239"
   },
   "outputs": [
    {
     "data": {
      "text/plain": [
       "0.1"
      ]
     },
     "execution_count": 36,
     "metadata": {},
     "output_type": "execute_result"
    }
   ],
   "source": [
    "desvio_padrao = 0.1\n",
    "desvio_padrao"
   ]
  },
  {
   "cell_type": "code",
   "execution_count": 37,
   "metadata": {
    "colab": {
     "base_uri": "https://localhost:8080/",
     "height": 34
    },
    "colab_type": "code",
    "id": "xnsCkUb6G3EX",
    "outputId": "b3f57dbb-4c23-4b9f-e89d-d8c35383a2d2"
   },
   "outputs": [
    {
     "data": {
      "text/plain": [
       "1.0000000000000009"
      ]
     },
     "execution_count": 37,
     "metadata": {},
     "output_type": "execute_result"
    }
   ],
   "source": [
    "Z = (1.8 - media) / desvio_padrao\n",
    "Z"
   ]
  },
  {
   "cell_type": "markdown",
   "metadata": {
    "colab_type": "text",
    "id": "oj9sgHbkG3Eb"
   },
   "source": [
    "### Solução 1 - Utilizando tabela"
   ]
  },
  {
   "cell_type": "code",
   "execution_count": 38,
   "metadata": {
    "colab": {
     "base_uri": "https://localhost:8080/",
     "height": 34
    },
    "colab_type": "code",
    "id": "ReDTH3WgG3Ec",
    "outputId": "ec542c14-9cd4-405d-a899-dfa92493aa84"
   },
   "outputs": [
    {
     "data": {
      "text/plain": [
       "0.8413"
      ]
     },
     "execution_count": 38,
     "metadata": {},
     "output_type": "execute_result"
    }
   ],
   "source": [
    "probabilidade = 0.8413\n",
    "probabilidade"
   ]
  },
  {
   "cell_type": "markdown",
   "metadata": {
    "colab_type": "text",
    "id": "4ud0OnQOG3Eh"
   },
   "source": [
    "### Solução 2 - Utilizando Scipy"
   ]
  },
  {
   "cell_type": "code",
   "execution_count": 39,
   "metadata": {
    "colab": {
     "base_uri": "https://localhost:8080/",
     "height": 34
    },
    "colab_type": "code",
    "id": "sx7riZVlG3Ei",
    "outputId": "c321c9f8-a1a8-44f8-977b-492d2ec65152"
   },
   "outputs": [
    {
     "data": {
      "text/plain": [
       "0.8413447460685431"
      ]
     },
     "execution_count": 39,
     "metadata": {},
     "output_type": "execute_result"
    }
   ],
   "source": [
    "from scipy.stats import norm\n",
    "norm.cdf(Z)"
   ]
  },
  {
   "cell_type": "code",
   "execution_count": 40,
   "metadata": {},
   "outputs": [
    {
     "data": {
      "text/plain": [
       "0.9986501019683699"
      ]
     },
     "execution_count": 40,
     "metadata": {},
     "output_type": "execute_result"
    }
   ],
   "source": [
    "media2 = 70\n",
    "desvio_padrao2 = 5\n",
    "Z2 = (85 - media2) / desvio_padrao2\n",
    "\n",
    "norm.cdf(Z2)"
   ]
  },
  {
   "cell_type": "markdown",
   "metadata": {
    "colab_type": "text",
    "id": "ZsnMjGzJG3Ep"
   },
   "source": [
    "### Problema B - Identificação da área sob a curva"
   ]
  },
  {
   "cell_type": "markdown",
   "metadata": {
    "colab_type": "text",
    "id": "LN2HY-UCG3Ep"
   },
   "source": [
    "<img style='float: left' src='https://caelum-online-public.s3.amazonaws.com/1178-estatistica-parte2/01/img005.png' width='350px'>"
   ]
  },
  {
   "cell_type": "markdown",
   "metadata": {
    "colab_type": "text",
    "id": "FS6WNg88G3Eq"
   },
   "source": [
    "### Obter a variável padronizada $Z$"
   ]
  },
  {
   "cell_type": "code",
   "execution_count": 41,
   "metadata": {
    "colab": {
     "base_uri": "https://localhost:8080/",
     "height": 34
    },
    "colab_type": "code",
    "id": "mxPsPIOYG3Er",
    "outputId": "d86de31f-1ca0-443c-8ed6-81edfe5d36f4"
   },
   "outputs": [
    {
     "data": {
      "text/plain": [
       "-1.0"
      ]
     },
     "execution_count": 41,
     "metadata": {},
     "output_type": "execute_result"
    }
   ],
   "source": [
    "Z_inferior = (1.6 - media) / desvio_padrao\n",
    "round(Z_inferior, 2)"
   ]
  },
  {
   "cell_type": "code",
   "execution_count": 42,
   "metadata": {
    "colab": {
     "base_uri": "https://localhost:8080/",
     "height": 34
    },
    "colab_type": "code",
    "id": "s0Vf0GXHG3Et",
    "outputId": "5237e5e2-547b-4cbf-a5da-52bd4933f6a1"
   },
   "outputs": [
    {
     "data": {
      "text/plain": [
       "1.0"
      ]
     },
     "execution_count": 42,
     "metadata": {},
     "output_type": "execute_result"
    }
   ],
   "source": [
    "Z_superior = (1.8 - media) / desvio_padrao\n",
    "round(Z_superior, 2)"
   ]
  },
  {
   "cell_type": "markdown",
   "metadata": {
    "colab_type": "text",
    "id": "MseXjmZ7G3E0"
   },
   "source": [
    "### Solução 1 - Utilizando tabela"
   ]
  },
  {
   "cell_type": "code",
   "execution_count": 43,
   "metadata": {
    "colab": {
     "base_uri": "https://localhost:8080/",
     "height": 34
    },
    "colab_type": "code",
    "id": "swZ6SVQGG3E0",
    "outputId": "53e30c74-5ec5-4737-f928-600388bfe570"
   },
   "outputs": [
    {
     "data": {
      "text/plain": [
       "0.6826000000000001"
      ]
     },
     "execution_count": 43,
     "metadata": {},
     "output_type": "execute_result"
    }
   ],
   "source": [
    "probabilidade = (0.8413 - 0.5) * 2\n",
    "probabilidade"
   ]
  },
  {
   "cell_type": "code",
   "execution_count": null,
   "metadata": {
    "colab": {
     "base_uri": "https://localhost:8080/",
     "height": 34
    },
    "colab_type": "code",
    "id": "oNfZZRBdGy2G",
    "outputId": "408ee333-2e8e-4058-fe74-a75b715eedf8"
   },
   "outputs": [],
   "source": []
  },
  {
   "cell_type": "markdown",
   "metadata": {
    "colab_type": "text",
    "id": "y5e4zAifG3E2"
   },
   "source": [
    "### Solução 2 - Utilizando Scipy"
   ]
  },
  {
   "cell_type": "code",
   "execution_count": 44,
   "metadata": {
    "colab": {
     "base_uri": "https://localhost:8080/",
     "height": 34
    },
    "colab_type": "code",
    "id": "hcps6lkNG3E3",
    "outputId": "c8de38f1-8411-408c-862c-7aa6e099e43f"
   },
   "outputs": [
    {
     "data": {
      "text/plain": [
       "0.8413447460685431"
      ]
     },
     "execution_count": 44,
     "metadata": {},
     "output_type": "execute_result"
    }
   ],
   "source": [
    "probabilidade = norm.cdf(Z_superior)\n",
    "probabilidade\n",
    "#Retiraremos a área que vai desde menos infinito até `1.6` para obtermos apenas a área que nos interessa, \n",
    "#ou seja, A da chance de obtermos alguém entre 1,60 e 1,80 metros de altura."
   ]
  },
  {
   "cell_type": "code",
   "execution_count": 45,
   "metadata": {
    "colab": {
     "base_uri": "https://localhost:8080/",
     "height": 34
    },
    "colab_type": "code",
    "id": "MjEfhnQEG3E5",
    "outputId": "4a6241c6-1b04-4c5f-b62d-9e98f412f3ad"
   },
   "outputs": [
    {
     "data": {
      "text/plain": [
       "0.6826894921370863"
      ]
     },
     "execution_count": 45,
     "metadata": {},
     "output_type": "execute_result"
    }
   ],
   "source": [
    "probabilidade = norm.cdf(Z_superior) - (1- norm.cdf(Z_superior))\n",
    "probabilidade"
   ]
  },
  {
   "cell_type": "code",
   "execution_count": 46,
   "metadata": {},
   "outputs": [
    {
     "data": {
      "text/plain": [
       "0.6826894921370857"
      ]
     },
     "execution_count": 46,
     "metadata": {},
     "output_type": "execute_result"
    }
   ],
   "source": [
    "probabilidade = norm.cdf(Z_superior) - norm.cdf(Z_inferior)\n",
    "probabilidade"
   ]
  },
  {
   "cell_type": "markdown",
   "metadata": {
    "colab_type": "text",
    "id": "05sqVgdaG3E-"
   },
   "source": [
    "### Problema C - Identificação da área sob a curva"
   ]
  },
  {
   "cell_type": "markdown",
   "metadata": {
    "colab_type": "text",
    "id": "EPKhGTEkG3E_"
   },
   "source": [
    "<img style='float: left' src='https://caelum-online-public.s3.amazonaws.com/1178-estatistica-parte2/01/img006.png' width='350px'>"
   ]
  },
  {
   "cell_type": "markdown",
   "metadata": {
    "colab_type": "text",
    "id": "BA6jYbsSG3E_"
   },
   "source": [
    "### Obter a variável padronizada $Z$"
   ]
  },
  {
   "cell_type": "code",
   "execution_count": 47,
   "metadata": {
    "colab": {
     "base_uri": "https://localhost:8080/",
     "height": 34
    },
    "colab_type": "code",
    "id": "3OVj60MzG3E_",
    "outputId": "71f57b74-bc13-4493-f8ba-6f05a2a07041"
   },
   "outputs": [
    {
     "data": {
      "text/plain": [
       "1.9999999999999996"
      ]
     },
     "execution_count": 47,
     "metadata": {},
     "output_type": "execute_result"
    }
   ],
   "source": [
    "Z = (1.9 - media) / desvio_padrao\n",
    "Z"
   ]
  },
  {
   "cell_type": "markdown",
   "metadata": {
    "colab_type": "text",
    "id": "hCiiWAm_G3FC"
   },
   "source": [
    "### Solução 1 - Utilizando tabela"
   ]
  },
  {
   "cell_type": "code",
   "execution_count": 48,
   "metadata": {
    "colab": {
     "base_uri": "https://localhost:8080/",
     "height": 34
    },
    "colab_type": "code",
    "id": "mSNfoO6VG3FC",
    "outputId": "da00edc8-cd0e-42ae-a27f-02082230f9e6"
   },
   "outputs": [
    {
     "data": {
      "text/plain": [
       "0.022800000000000042"
      ]
     },
     "execution_count": 48,
     "metadata": {},
     "output_type": "execute_result"
    }
   ],
   "source": [
    "probabilidade = 1 - 0.9772\n",
    "probabilidade"
   ]
  },
  {
   "cell_type": "markdown",
   "metadata": {
    "colab_type": "text",
    "id": "QCyoVXOdG3FF"
   },
   "source": [
    "### Solução 2 - Utilizando Scipy"
   ]
  },
  {
   "cell_type": "code",
   "execution_count": 49,
   "metadata": {
    "colab": {
     "base_uri": "https://localhost:8080/",
     "height": 34
    },
    "colab_type": "code",
    "id": "caIE-t83G3FF",
    "outputId": "224b72ff-7edd-4b66-a24e-a1f89e4685c9"
   },
   "outputs": [
    {
     "data": {
      "text/plain": [
       "0.02275013194817921"
      ]
     },
     "execution_count": 49,
     "metadata": {},
     "output_type": "execute_result"
    }
   ],
   "source": [
    "probabilidade = 1 - norm.cdf(Z)\n",
    "probabilidade"
   ]
  },
  {
   "cell_type": "code",
   "execution_count": 50,
   "metadata": {
    "colab": {
     "base_uri": "https://localhost:8080/",
     "height": 34
    },
    "colab_type": "code",
    "id": "wKjqQGgMG3FI",
    "outputId": "7ef30837-195e-4f5b-9bef-68fceaff2397"
   },
   "outputs": [
    {
     "data": {
      "text/plain": [
       "0.022750131948179216"
      ]
     },
     "execution_count": 50,
     "metadata": {},
     "output_type": "execute_result"
    }
   ],
   "source": [
    "probabilidade = norm.cdf(-Z)\n",
    "probabilidade"
   ]
  },
  {
   "cell_type": "code",
   "execution_count": 51,
   "metadata": {},
   "outputs": [
    {
     "name": "stdout",
     "output_type": "stream",
     "text": [
      "83.15%\n",
      "0.38%\n",
      "25.25%\n"
     ]
    }
   ],
   "source": [
    "media = 720\n",
    "desvio_padrao = 30\n",
    "\n",
    "# Item A\n",
    "Z_inferior = (650 - media) / desvio_padrao\n",
    "Z_superior = (750 - media) / desvio_padrao\n",
    "\n",
    "probabilidade = norm.cdf(Z_superior) - norm.cdf(Z_inferior)\n",
    "print(\"{0:.2%}\".format(probabilidade))\n",
    "\n",
    "# Item B\n",
    "Z = (800 - media) / desvio_padrao\n",
    "\n",
    "probabilidade = 1 - norm.cdf(Z)\n",
    "print(\"{0:.2%}\".format(probabilidade))\n",
    "\n",
    "# Item C\n",
    "Z = (700 - media) / desvio_padrao\n",
    "\n",
    "probabilidade = norm.cdf(Z)\n",
    "print(\"{0:.2%}\".format(probabilidade))"
   ]
  },
  {
   "cell_type": "code",
   "execution_count": 52,
   "metadata": {},
   "outputs": [
    {
     "name": "stdout",
     "output_type": "stream",
     "text": [
      "0.9750\n",
      "0.0158\n",
      "0.2177\n",
      "0.2776\n"
     ]
    }
   ],
   "source": [
    "# Item A\n",
    "probabilidade = norm.cdf(1.96)\n",
    "print(\"{0:0.4f}\".format(probabilidade))\n",
    "\n",
    "# Item B\n",
    "probabilidade = 1 - norm.cdf(2.15)\n",
    "# ou -> probabilidade = norm.sf(2.15)\n",
    "print(\"{0:0.4f}\".format(probabilidade))\n",
    "\n",
    "# Item C\n",
    "probabilidade = norm.cdf(-0.78)\n",
    "print(\"{0:0.4f}\".format(probabilidade))\n",
    "\n",
    "# Item D\n",
    "probabilidade = 1 - norm.cdf(0.59)\n",
    "# ou -> probabilidade = norm.sf(0.59)\n",
    "print(\"{0:0.4f}\".format(probabilidade))"
   ]
  },
  {
   "cell_type": "markdown",
   "metadata": {
    "colab_type": "text",
    "id": "GmmzChE2t4wW"
   },
   "source": [
    "# <font color=green>3 AMOSTRAGEM</font>\n",
    "***"
   ]
  },
  {
   "cell_type": "markdown",
   "metadata": {
    "colab_type": "text",
    "id": "g8PbtmQZt4Wv"
   },
   "source": [
    "## <font color=green>3.1 População e Amostra</font>\n",
    "***"
   ]
  },
  {
   "cell_type": "markdown",
   "metadata": {
    "colab_type": "text",
    "id": "sedD5gB9G3FV"
   },
   "source": [
    "### População\n",
    "Conjunto de todos os elementos de interesse em um estudo. Diversos elementos podem compor uma população, por exemplo: pessoas, idades, alturas, carros etc.\n",
    "\n",
    "Com relação ao tamanho, as populações podem ser limitadas (populações finitas) ou ilimitadas (populações infinitas)."
   ]
  },
  {
   "cell_type": "markdown",
   "metadata": {
    "colab_type": "text",
    "id": "XBFhAWNcG3FW"
   },
   "source": [
    "### Populações finitas\n",
    "\n",
    "Permitem a contagem de seus elementos. Como exemplos temos o número de funcionário de uma empresa, a quantidade de alunos em uma escola etc."
   ]
  },
  {
   "cell_type": "markdown",
   "metadata": {
    "colab_type": "text",
    "id": "YT8V2GB1G3FW"
   },
   "source": [
    "### Populações infinitas\n",
    "\n",
    "Não é possível contar seus elementos. Como exemplos temos a quantidade de porções que se pode extrair da água do mar para uma análise, temperatura medida em cada ponto de um território etc.\n",
    "\n",
    "<font color=red>Quando os elementos de uma população puderem ser contados, porém apresentando uma quantidade muito grande, assume-se a população como infinita.</font>."
   ]
  },
  {
   "cell_type": "markdown",
   "metadata": {
    "colab_type": "text",
    "id": "a-WtAXv1G3FX"
   },
   "source": [
    "### Amostra\n",
    "Subconjunto representativo da população."
   ]
  },
  {
   "cell_type": "markdown",
   "metadata": {
    "colab_type": "text",
    "id": "QWnDYpPSG3FX"
   },
   "source": [
    "Os atributos numéricos de uma população como sua média, variância e desvio padrão, são conhecidos como **parâmetros**. O principal foco da inferência estatística é justamente gerar estimativas e testar hipóteses sobre os parâmetros populacionais utilizando as informações de amostras."
   ]
  },
  {
   "cell_type": "markdown",
   "metadata": {
    "colab_type": "text",
    "id": "dDz6vFbDG3FZ"
   },
   "source": [
    "## <font color=green>3.2 Quando utilizar uma amostra?</font>\n",
    "***"
   ]
  },
  {
   "cell_type": "markdown",
   "metadata": {
    "colab_type": "text",
    "id": "5X1YwCGlG3Fe"
   },
   "source": [
    "### Populações infinitas\n",
    "\n",
    "O estudo não chegaria nunca ao fim. Não é possível investigar todos os elementos da população."
   ]
  },
  {
   "cell_type": "markdown",
   "metadata": {
    "colab_type": "text",
    "id": "jHLtG8HSG3Ff"
   },
   "source": [
    "### Testes destrutivos\n",
    "\n",
    "Estudos onde os elementos avaliados são totalmente consumidos ou destruídos. Exemplo: testes de vida útil, testes de segurança contra colisões em automóveis."
   ]
  },
  {
   "cell_type": "markdown",
   "metadata": {
    "colab_type": "text",
    "id": "lxYxepmdG3Ff"
   },
   "source": [
    "### Resultados rápidos\n",
    "\n",
    "Pesquisas que precisam de mais agilidade na divulgação. Exemplo: pesquisas de opinião, pesquisas que envolvam problemas de saúde pública."
   ]
  },
  {
   "cell_type": "markdown",
   "metadata": {
    "colab_type": "text",
    "id": "PeUCGL5nG3Fj"
   },
   "source": [
    "### Custos elevados\n",
    "\n",
    "Quando a população é finita mas muito numerosa, o custo de um censo pode tornar o processo inviável."
   ]
  },
  {
   "cell_type": "markdown",
   "metadata": {
    "colab_type": "text",
    "id": "1sbJeMpSG3Fj"
   },
   "source": [
    "## <font color=green>3.3 Amostragem Aleatória Simples</font>\n",
    "***"
   ]
  },
  {
   "cell_type": "markdown",
   "metadata": {
    "colab_type": "text",
    "id": "Kiq9cYMYG3Fp"
   },
   "source": [
    "É uma das principais maneiras de se extrair uma amostra de uma população. A exigência fundamental deste tipo de abordagem é que cada elemeto da população tenha as mesmas chances de ser selecionado para fazer parte da amostra."
   ]
  },
  {
   "cell_type": "code",
   "execution_count": 53,
   "metadata": {
    "colab": {
     "base_uri": "https://localhost:8080/",
     "height": 34
    },
    "colab_type": "code",
    "id": "NtQ8HOYdG3Fq",
    "outputId": "d746a965-c212-4b99-ac1f-a7741b13544f"
   },
   "outputs": [
    {
     "data": {
      "text/plain": [
       "76840"
      ]
     },
     "execution_count": 53,
     "metadata": {},
     "output_type": "execute_result"
    }
   ],
   "source": [
    "dados.shape[0]"
   ]
  },
  {
   "cell_type": "code",
   "execution_count": 54,
   "metadata": {
    "colab": {
     "base_uri": "https://localhost:8080/",
     "height": 34
    },
    "colab_type": "code",
    "id": "DsXJHWhMG3Fs",
    "outputId": "b5e5d083-2d89-4f31-e8dd-5ae48375a81c"
   },
   "outputs": [
    {
     "data": {
      "text/plain": [
       "2000.3831988547631"
      ]
     },
     "execution_count": 54,
     "metadata": {},
     "output_type": "execute_result"
    }
   ],
   "source": [
    "dados.Renda.mean()"
   ]
  },
  {
   "cell_type": "code",
   "execution_count": 56,
   "metadata": {
    "colab": {},
    "colab_type": "code",
    "id": "k7yJucVMG3Fw"
   },
   "outputs": [
    {
     "data": {
      "text/plain": [
       "100"
      ]
     },
     "execution_count": 56,
     "metadata": {},
     "output_type": "execute_result"
    }
   ],
   "source": [
    "amostra = dados.sample(n = 100, random_state = 101)\n",
    "amostra.shape[0]"
   ]
  },
  {
   "cell_type": "code",
   "execution_count": 57,
   "metadata": {
    "colab": {
     "base_uri": "https://localhost:8080/",
     "height": 34
    },
    "colab_type": "code",
    "id": "wUyXS65sG3F2",
    "outputId": "d3440aaa-c46f-4d44-8d29-5ab5a3c914a1"
   },
   "outputs": [
    {
     "data": {
      "text/plain": [
       "2150.85"
      ]
     },
     "execution_count": 57,
     "metadata": {},
     "output_type": "execute_result"
    }
   ],
   "source": [
    "amostra.Renda.mean()"
   ]
  },
  {
   "cell_type": "code",
   "execution_count": 58,
   "metadata": {
    "colab": {
     "base_uri": "https://localhost:8080/",
     "height": 34
    },
    "colab_type": "code",
    "id": "y0J4UtOwG3F5",
    "outputId": "f2d60d13-3544-4787-a3b4-876b02666da1"
   },
   "outputs": [
    {
     "data": {
      "text/plain": [
       "Sexo\n",
       "0    0.692998\n",
       "1    0.307002\n",
       "Name: proportion, dtype: float64"
      ]
     },
     "execution_count": 58,
     "metadata": {},
     "output_type": "execute_result"
    }
   ],
   "source": [
    "dados.Sexo.value_counts(normalize = True)"
   ]
  },
  {
   "cell_type": "code",
   "execution_count": 59,
   "metadata": {
    "colab": {
     "base_uri": "https://localhost:8080/",
     "height": 68
    },
    "colab_type": "code",
    "id": "WGZT_wnjSgPy",
    "outputId": "f905ff8a-84f8-45d5-d232-927630754b70"
   },
   "outputs": [
    {
     "data": {
      "text/plain": [
       "Sexo\n",
       "0    0.69\n",
       "1    0.31\n",
       "Name: proportion, dtype: float64"
      ]
     },
     "execution_count": 59,
     "metadata": {},
     "output_type": "execute_result"
    }
   ],
   "source": [
    "amostra.Sexo.value_counts(normalize = True)"
   ]
  },
  {
   "cell_type": "code",
   "execution_count": null,
   "metadata": {
    "colab": {
     "base_uri": "https://localhost:8080/",
     "height": 68
    },
    "colab_type": "code",
    "id": "1la3Y_reSgEM",
    "outputId": "4611d1f3-3903-454b-e136-fb21c708be03"
   },
   "outputs": [],
   "source": []
  },
  {
   "cell_type": "markdown",
   "metadata": {
    "colab_type": "text",
    "id": "stcKhnJBG3F7"
   },
   "source": [
    "## <font color=green>3.4 Amostragem Estratificada</font>\n",
    "***"
   ]
  },
  {
   "cell_type": "markdown",
   "metadata": {
    "colab_type": "text",
    "id": "W1uEZMRIG3GA"
   },
   "source": [
    "É uma melhoria do processo de amostragem aleatória simples. Neste método é proposta a divisão da população em subgrupos de elementos com características similares, ou seja, grupos mais homogêneos. Com estes subgrupos separados, aplica-se a técnica de amostragem aleatória simples dentro de cada subgrupo individualmente."
   ]
  },
  {
   "cell_type": "markdown",
   "metadata": {
    "colab_type": "text",
    "id": "xRjUHDAbG3GB"
   },
   "source": [
    "## <font color=green>3.5 Amostragem por Conglomerados</font>\n",
    "***"
   ]
  },
  {
   "cell_type": "markdown",
   "metadata": {
    "colab_type": "text",
    "id": "sW9IuaL9G3GH"
   },
   "source": [
    "Também visa melhorar o critério de amostragem aleatória simples. Na amostragem por conglomerados são também criados subgrupos, porém não serão homogêneas como na amostragem estratificada. Na amostragem por conglomerados os subgrupos serão heterogêneos, onde, em seguida, serão aplicadas a amostragem aleatória simples ou estratificada.\n",
    "\n",
    "Um exemplo bastante comum de aplicação deste tipo de técnica é na divisão da população em grupos territoriais, onde os elementos investigados terão características bastante variadas."
   ]
  },
  {
   "cell_type": "markdown",
   "metadata": {
    "colab_type": "text",
    "id": "2LNJT4FEuzO4"
   },
   "source": [
    "# <font color=green>4 ESTIMAÇÃO</font>\n",
    "***"
   ]
  },
  {
   "cell_type": "markdown",
   "metadata": {
    "colab_type": "text",
    "id": "z69W2sVGmybS"
   },
   "source": [
    "## <font color='red'>Problema </font>"
   ]
  },
  {
   "cell_type": "markdown",
   "metadata": {
    "colab_type": "text",
    "id": "ytP6VpismwDY"
   },
   "source": [
    "Suponha que os pesos dos sacos de arroz de uma indústria alimentícia se distribuem aproximadamente como uma normal de **desvio padrão populacional igual a 150 g**. Selecionada uma **amostra aleatório de 20 sacos** de um lote específico, obteve-se um **peso médio de 5.050 g**. Construa um **intervalo de confiança para a média populacional** assumindo um **nível de significância de 5%**."
   ]
  },
  {
   "cell_type": "markdown",
   "metadata": {
    "colab_type": "text",
    "id": "PCqEvJMOwvUf"
   },
   "source": [
    "---"
   ]
  },
  {
   "cell_type": "markdown",
   "metadata": {
    "colab_type": "text",
    "id": "HU578SXBG3GN"
   },
   "source": [
    "É a forma de se fazer suposições generalizadas sobre os parâmetros de uma população tendo como base as informações de uma amostra.\n",
    "\n",
    "- **Parâmetros** são os atributos numéricos de uma população, tal como a média, desvio padrão etc.\n",
    "\n",
    "- **Estimativa** é o valor obtido para determinado parâmetro a partir dos dados de uma amostra da população."
   ]
  },
  {
   "cell_type": "markdown",
   "metadata": {
    "colab_type": "text",
    "id": "klWVkoUDG3GR"
   },
   "source": [
    "## <font color=green>4.1 Teorema do limite central</font>\n",
    "***"
   ]
  },
  {
   "cell_type": "markdown",
   "metadata": {
    "colab_type": "text",
    "id": "QpgTvbISG3GU"
   },
   "source": [
    "> O **Teorema do Limite Central** afirma que, com o aumento do tamanho da amostra, a distribuição das médias amostrais se aproxima de uma distribuição normal com média igual à média da população e desvio padrão igual ao desvio padrão da variável original dividido pela raiz quadrada do tamanho da amostra. Este fato é assegurado para $n$ maior ou igual a 30."
   ]
  },
  {
   "cell_type": "markdown",
   "metadata": {
    "colab_type": "text",
    "id": "ZIAr6is3wEMp"
   },
   "source": [
    "# $$\\sigma_\\bar{x} = \\frac{\\sigma}{\\sqrt{n}}$$\n",
    "\n",
    "O desvio padrão das médias amostrais é conhecido como **erro padrão da média**"
   ]
  },
  {
   "cell_type": "markdown",
   "metadata": {
    "colab_type": "text",
    "id": "eFtSo6H0iz7z"
   },
   "source": [
    "### Entendendo o Teorema do Limite Central"
   ]
  },
  {
   "cell_type": "code",
   "execution_count": 60,
   "metadata": {
    "colab": {},
    "colab_type": "code",
    "id": "S3q73XpnizTi"
   },
   "outputs": [],
   "source": [
    "n = 2000\n",
    "total_de_amostras = 1500"
   ]
  },
  {
   "cell_type": "code",
   "execution_count": 61,
   "metadata": {
    "colab": {
     "base_uri": "https://localhost:8080/",
     "height": 32
    },
    "colab_type": "code",
    "id": "uXZvARZ0izQp",
    "outputId": "84cfa6fa-e581-4cb6-bb4c-b622db1e85cd"
   },
   "outputs": [
    {
     "data": {
      "text/html": [
       "<div>\n",
       "<style scoped>\n",
       "    .dataframe tbody tr th:only-of-type {\n",
       "        vertical-align: middle;\n",
       "    }\n",
       "\n",
       "    .dataframe tbody tr th {\n",
       "        vertical-align: top;\n",
       "    }\n",
       "\n",
       "    .dataframe thead th {\n",
       "        text-align: right;\n",
       "    }\n",
       "</style>\n",
       "<table border=\"1\" class=\"dataframe\">\n",
       "  <thead>\n",
       "    <tr style=\"text-align: right;\">\n",
       "      <th></th>\n",
       "    </tr>\n",
       "  </thead>\n",
       "  <tbody>\n",
       "  </tbody>\n",
       "</table>\n",
       "</div>"
      ],
      "text/plain": [
       "Empty DataFrame\n",
       "Columns: []\n",
       "Index: []"
      ]
     },
     "execution_count": 61,
     "metadata": {},
     "output_type": "execute_result"
    }
   ],
   "source": [
    "amostras = pd.DataFrame()\n",
    "amostras"
   ]
  },
  {
   "cell_type": "code",
   "execution_count": 62,
   "metadata": {
    "colab": {
     "base_uri": "https://localhost:8080/",
     "height": 1989
    },
    "colab_type": "code",
    "id": "tXa7XKhKTyMu",
    "outputId": "2fe05b86-ecc8-48af-be13-17e8c7c235ce",
    "scrolled": true
   },
   "outputs": [
    {
     "name": "stderr",
     "output_type": "stream",
     "text": [
      "C:\\Users\\Tiago\\AppData\\Local\\Temp\\ipykernel_18996\\3166345054.py:4: PerformanceWarning: DataFrame is highly fragmented.  This is usually the result of calling `frame.insert` many times, which has poor performance.  Consider joining all columns at once using pd.concat(axis=1) instead. To get a de-fragmented frame, use `newframe = frame.copy()`\n",
      "  amostras['Amostra_' + str(i)] = _\n",
      "C:\\Users\\Tiago\\AppData\\Local\\Temp\\ipykernel_18996\\3166345054.py:4: PerformanceWarning: DataFrame is highly fragmented.  This is usually the result of calling `frame.insert` many times, which has poor performance.  Consider joining all columns at once using pd.concat(axis=1) instead. To get a de-fragmented frame, use `newframe = frame.copy()`\n",
      "  amostras['Amostra_' + str(i)] = _\n",
      "C:\\Users\\Tiago\\AppData\\Local\\Temp\\ipykernel_18996\\3166345054.py:4: PerformanceWarning: DataFrame is highly fragmented.  This is usually the result of calling `frame.insert` many times, which has poor performance.  Consider joining all columns at once using pd.concat(axis=1) instead. To get a de-fragmented frame, use `newframe = frame.copy()`\n",
      "  amostras['Amostra_' + str(i)] = _\n",
      "C:\\Users\\Tiago\\AppData\\Local\\Temp\\ipykernel_18996\\3166345054.py:4: PerformanceWarning: DataFrame is highly fragmented.  This is usually the result of calling `frame.insert` many times, which has poor performance.  Consider joining all columns at once using pd.concat(axis=1) instead. To get a de-fragmented frame, use `newframe = frame.copy()`\n",
      "  amostras['Amostra_' + str(i)] = _\n",
      "C:\\Users\\Tiago\\AppData\\Local\\Temp\\ipykernel_18996\\3166345054.py:4: PerformanceWarning: DataFrame is highly fragmented.  This is usually the result of calling `frame.insert` many times, which has poor performance.  Consider joining all columns at once using pd.concat(axis=1) instead. To get a de-fragmented frame, use `newframe = frame.copy()`\n",
      "  amostras['Amostra_' + str(i)] = _\n",
      "C:\\Users\\Tiago\\AppData\\Local\\Temp\\ipykernel_18996\\3166345054.py:4: PerformanceWarning: DataFrame is highly fragmented.  This is usually the result of calling `frame.insert` many times, which has poor performance.  Consider joining all columns at once using pd.concat(axis=1) instead. To get a de-fragmented frame, use `newframe = frame.copy()`\n",
      "  amostras['Amostra_' + str(i)] = _\n",
      "C:\\Users\\Tiago\\AppData\\Local\\Temp\\ipykernel_18996\\3166345054.py:4: PerformanceWarning: DataFrame is highly fragmented.  This is usually the result of calling `frame.insert` many times, which has poor performance.  Consider joining all columns at once using pd.concat(axis=1) instead. To get a de-fragmented frame, use `newframe = frame.copy()`\n",
      "  amostras['Amostra_' + str(i)] = _\n",
      "C:\\Users\\Tiago\\AppData\\Local\\Temp\\ipykernel_18996\\3166345054.py:4: PerformanceWarning: DataFrame is highly fragmented.  This is usually the result of calling `frame.insert` many times, which has poor performance.  Consider joining all columns at once using pd.concat(axis=1) instead. To get a de-fragmented frame, use `newframe = frame.copy()`\n",
      "  amostras['Amostra_' + str(i)] = _\n",
      "C:\\Users\\Tiago\\AppData\\Local\\Temp\\ipykernel_18996\\3166345054.py:4: PerformanceWarning: DataFrame is highly fragmented.  This is usually the result of calling `frame.insert` many times, which has poor performance.  Consider joining all columns at once using pd.concat(axis=1) instead. To get a de-fragmented frame, use `newframe = frame.copy()`\n",
      "  amostras['Amostra_' + str(i)] = _\n",
      "C:\\Users\\Tiago\\AppData\\Local\\Temp\\ipykernel_18996\\3166345054.py:4: PerformanceWarning: DataFrame is highly fragmented.  This is usually the result of calling `frame.insert` many times, which has poor performance.  Consider joining all columns at once using pd.concat(axis=1) instead. To get a de-fragmented frame, use `newframe = frame.copy()`\n",
      "  amostras['Amostra_' + str(i)] = _\n",
      "C:\\Users\\Tiago\\AppData\\Local\\Temp\\ipykernel_18996\\3166345054.py:4: PerformanceWarning: DataFrame is highly fragmented.  This is usually the result of calling `frame.insert` many times, which has poor performance.  Consider joining all columns at once using pd.concat(axis=1) instead. To get a de-fragmented frame, use `newframe = frame.copy()`\n",
      "  amostras['Amostra_' + str(i)] = _\n",
      "C:\\Users\\Tiago\\AppData\\Local\\Temp\\ipykernel_18996\\3166345054.py:4: PerformanceWarning: DataFrame is highly fragmented.  This is usually the result of calling `frame.insert` many times, which has poor performance.  Consider joining all columns at once using pd.concat(axis=1) instead. To get a de-fragmented frame, use `newframe = frame.copy()`\n",
      "  amostras['Amostra_' + str(i)] = _\n",
      "C:\\Users\\Tiago\\AppData\\Local\\Temp\\ipykernel_18996\\3166345054.py:4: PerformanceWarning: DataFrame is highly fragmented.  This is usually the result of calling `frame.insert` many times, which has poor performance.  Consider joining all columns at once using pd.concat(axis=1) instead. To get a de-fragmented frame, use `newframe = frame.copy()`\n",
      "  amostras['Amostra_' + str(i)] = _\n",
      "C:\\Users\\Tiago\\AppData\\Local\\Temp\\ipykernel_18996\\3166345054.py:4: PerformanceWarning: DataFrame is highly fragmented.  This is usually the result of calling `frame.insert` many times, which has poor performance.  Consider joining all columns at once using pd.concat(axis=1) instead. To get a de-fragmented frame, use `newframe = frame.copy()`\n",
      "  amostras['Amostra_' + str(i)] = _\n",
      "C:\\Users\\Tiago\\AppData\\Local\\Temp\\ipykernel_18996\\3166345054.py:4: PerformanceWarning: DataFrame is highly fragmented.  This is usually the result of calling `frame.insert` many times, which has poor performance.  Consider joining all columns at once using pd.concat(axis=1) instead. To get a de-fragmented frame, use `newframe = frame.copy()`\n",
      "  amostras['Amostra_' + str(i)] = _\n",
      "C:\\Users\\Tiago\\AppData\\Local\\Temp\\ipykernel_18996\\3166345054.py:4: PerformanceWarning: DataFrame is highly fragmented.  This is usually the result of calling `frame.insert` many times, which has poor performance.  Consider joining all columns at once using pd.concat(axis=1) instead. To get a de-fragmented frame, use `newframe = frame.copy()`\n",
      "  amostras['Amostra_' + str(i)] = _\n",
      "C:\\Users\\Tiago\\AppData\\Local\\Temp\\ipykernel_18996\\3166345054.py:4: PerformanceWarning: DataFrame is highly fragmented.  This is usually the result of calling `frame.insert` many times, which has poor performance.  Consider joining all columns at once using pd.concat(axis=1) instead. To get a de-fragmented frame, use `newframe = frame.copy()`\n",
      "  amostras['Amostra_' + str(i)] = _\n",
      "C:\\Users\\Tiago\\AppData\\Local\\Temp\\ipykernel_18996\\3166345054.py:4: PerformanceWarning: DataFrame is highly fragmented.  This is usually the result of calling `frame.insert` many times, which has poor performance.  Consider joining all columns at once using pd.concat(axis=1) instead. To get a de-fragmented frame, use `newframe = frame.copy()`\n",
      "  amostras['Amostra_' + str(i)] = _\n",
      "C:\\Users\\Tiago\\AppData\\Local\\Temp\\ipykernel_18996\\3166345054.py:4: PerformanceWarning: DataFrame is highly fragmented.  This is usually the result of calling `frame.insert` many times, which has poor performance.  Consider joining all columns at once using pd.concat(axis=1) instead. To get a de-fragmented frame, use `newframe = frame.copy()`\n",
      "  amostras['Amostra_' + str(i)] = _\n",
      "C:\\Users\\Tiago\\AppData\\Local\\Temp\\ipykernel_18996\\3166345054.py:4: PerformanceWarning: DataFrame is highly fragmented.  This is usually the result of calling `frame.insert` many times, which has poor performance.  Consider joining all columns at once using pd.concat(axis=1) instead. To get a de-fragmented frame, use `newframe = frame.copy()`\n",
      "  amostras['Amostra_' + str(i)] = _\n",
      "C:\\Users\\Tiago\\AppData\\Local\\Temp\\ipykernel_18996\\3166345054.py:4: PerformanceWarning: DataFrame is highly fragmented.  This is usually the result of calling `frame.insert` many times, which has poor performance.  Consider joining all columns at once using pd.concat(axis=1) instead. To get a de-fragmented frame, use `newframe = frame.copy()`\n",
      "  amostras['Amostra_' + str(i)] = _\n",
      "C:\\Users\\Tiago\\AppData\\Local\\Temp\\ipykernel_18996\\3166345054.py:4: PerformanceWarning: DataFrame is highly fragmented.  This is usually the result of calling `frame.insert` many times, which has poor performance.  Consider joining all columns at once using pd.concat(axis=1) instead. To get a de-fragmented frame, use `newframe = frame.copy()`\n",
      "  amostras['Amostra_' + str(i)] = _\n",
      "C:\\Users\\Tiago\\AppData\\Local\\Temp\\ipykernel_18996\\3166345054.py:4: PerformanceWarning: DataFrame is highly fragmented.  This is usually the result of calling `frame.insert` many times, which has poor performance.  Consider joining all columns at once using pd.concat(axis=1) instead. To get a de-fragmented frame, use `newframe = frame.copy()`\n",
      "  amostras['Amostra_' + str(i)] = _\n",
      "C:\\Users\\Tiago\\AppData\\Local\\Temp\\ipykernel_18996\\3166345054.py:4: PerformanceWarning: DataFrame is highly fragmented.  This is usually the result of calling `frame.insert` many times, which has poor performance.  Consider joining all columns at once using pd.concat(axis=1) instead. To get a de-fragmented frame, use `newframe = frame.copy()`\n",
      "  amostras['Amostra_' + str(i)] = _\n",
      "C:\\Users\\Tiago\\AppData\\Local\\Temp\\ipykernel_18996\\3166345054.py:4: PerformanceWarning: DataFrame is highly fragmented.  This is usually the result of calling `frame.insert` many times, which has poor performance.  Consider joining all columns at once using pd.concat(axis=1) instead. To get a de-fragmented frame, use `newframe = frame.copy()`\n",
      "  amostras['Amostra_' + str(i)] = _\n",
      "C:\\Users\\Tiago\\AppData\\Local\\Temp\\ipykernel_18996\\3166345054.py:4: PerformanceWarning: DataFrame is highly fragmented.  This is usually the result of calling `frame.insert` many times, which has poor performance.  Consider joining all columns at once using pd.concat(axis=1) instead. To get a de-fragmented frame, use `newframe = frame.copy()`\n",
      "  amostras['Amostra_' + str(i)] = _\n",
      "C:\\Users\\Tiago\\AppData\\Local\\Temp\\ipykernel_18996\\3166345054.py:4: PerformanceWarning: DataFrame is highly fragmented.  This is usually the result of calling `frame.insert` many times, which has poor performance.  Consider joining all columns at once using pd.concat(axis=1) instead. To get a de-fragmented frame, use `newframe = frame.copy()`\n",
      "  amostras['Amostra_' + str(i)] = _\n",
      "C:\\Users\\Tiago\\AppData\\Local\\Temp\\ipykernel_18996\\3166345054.py:4: PerformanceWarning: DataFrame is highly fragmented.  This is usually the result of calling `frame.insert` many times, which has poor performance.  Consider joining all columns at once using pd.concat(axis=1) instead. To get a de-fragmented frame, use `newframe = frame.copy()`\n",
      "  amostras['Amostra_' + str(i)] = _\n",
      "C:\\Users\\Tiago\\AppData\\Local\\Temp\\ipykernel_18996\\3166345054.py:4: PerformanceWarning: DataFrame is highly fragmented.  This is usually the result of calling `frame.insert` many times, which has poor performance.  Consider joining all columns at once using pd.concat(axis=1) instead. To get a de-fragmented frame, use `newframe = frame.copy()`\n",
      "  amostras['Amostra_' + str(i)] = _\n",
      "C:\\Users\\Tiago\\AppData\\Local\\Temp\\ipykernel_18996\\3166345054.py:4: PerformanceWarning: DataFrame is highly fragmented.  This is usually the result of calling `frame.insert` many times, which has poor performance.  Consider joining all columns at once using pd.concat(axis=1) instead. To get a de-fragmented frame, use `newframe = frame.copy()`\n",
      "  amostras['Amostra_' + str(i)] = _\n",
      "C:\\Users\\Tiago\\AppData\\Local\\Temp\\ipykernel_18996\\3166345054.py:4: PerformanceWarning: DataFrame is highly fragmented.  This is usually the result of calling `frame.insert` many times, which has poor performance.  Consider joining all columns at once using pd.concat(axis=1) instead. To get a de-fragmented frame, use `newframe = frame.copy()`\n",
      "  amostras['Amostra_' + str(i)] = _\n",
      "C:\\Users\\Tiago\\AppData\\Local\\Temp\\ipykernel_18996\\3166345054.py:4: PerformanceWarning: DataFrame is highly fragmented.  This is usually the result of calling `frame.insert` many times, which has poor performance.  Consider joining all columns at once using pd.concat(axis=1) instead. To get a de-fragmented frame, use `newframe = frame.copy()`\n",
      "  amostras['Amostra_' + str(i)] = _\n",
      "C:\\Users\\Tiago\\AppData\\Local\\Temp\\ipykernel_18996\\3166345054.py:4: PerformanceWarning: DataFrame is highly fragmented.  This is usually the result of calling `frame.insert` many times, which has poor performance.  Consider joining all columns at once using pd.concat(axis=1) instead. To get a de-fragmented frame, use `newframe = frame.copy()`\n",
      "  amostras['Amostra_' + str(i)] = _\n",
      "C:\\Users\\Tiago\\AppData\\Local\\Temp\\ipykernel_18996\\3166345054.py:4: PerformanceWarning: DataFrame is highly fragmented.  This is usually the result of calling `frame.insert` many times, which has poor performance.  Consider joining all columns at once using pd.concat(axis=1) instead. To get a de-fragmented frame, use `newframe = frame.copy()`\n",
      "  amostras['Amostra_' + str(i)] = _\n",
      "C:\\Users\\Tiago\\AppData\\Local\\Temp\\ipykernel_18996\\3166345054.py:4: PerformanceWarning: DataFrame is highly fragmented.  This is usually the result of calling `frame.insert` many times, which has poor performance.  Consider joining all columns at once using pd.concat(axis=1) instead. To get a de-fragmented frame, use `newframe = frame.copy()`\n",
      "  amostras['Amostra_' + str(i)] = _\n",
      "C:\\Users\\Tiago\\AppData\\Local\\Temp\\ipykernel_18996\\3166345054.py:4: PerformanceWarning: DataFrame is highly fragmented.  This is usually the result of calling `frame.insert` many times, which has poor performance.  Consider joining all columns at once using pd.concat(axis=1) instead. To get a de-fragmented frame, use `newframe = frame.copy()`\n",
      "  amostras['Amostra_' + str(i)] = _\n",
      "C:\\Users\\Tiago\\AppData\\Local\\Temp\\ipykernel_18996\\3166345054.py:4: PerformanceWarning: DataFrame is highly fragmented.  This is usually the result of calling `frame.insert` many times, which has poor performance.  Consider joining all columns at once using pd.concat(axis=1) instead. To get a de-fragmented frame, use `newframe = frame.copy()`\n",
      "  amostras['Amostra_' + str(i)] = _\n",
      "C:\\Users\\Tiago\\AppData\\Local\\Temp\\ipykernel_18996\\3166345054.py:4: PerformanceWarning: DataFrame is highly fragmented.  This is usually the result of calling `frame.insert` many times, which has poor performance.  Consider joining all columns at once using pd.concat(axis=1) instead. To get a de-fragmented frame, use `newframe = frame.copy()`\n",
      "  amostras['Amostra_' + str(i)] = _\n",
      "C:\\Users\\Tiago\\AppData\\Local\\Temp\\ipykernel_18996\\3166345054.py:4: PerformanceWarning: DataFrame is highly fragmented.  This is usually the result of calling `frame.insert` many times, which has poor performance.  Consider joining all columns at once using pd.concat(axis=1) instead. To get a de-fragmented frame, use `newframe = frame.copy()`\n",
      "  amostras['Amostra_' + str(i)] = _\n",
      "C:\\Users\\Tiago\\AppData\\Local\\Temp\\ipykernel_18996\\3166345054.py:4: PerformanceWarning: DataFrame is highly fragmented.  This is usually the result of calling `frame.insert` many times, which has poor performance.  Consider joining all columns at once using pd.concat(axis=1) instead. To get a de-fragmented frame, use `newframe = frame.copy()`\n",
      "  amostras['Amostra_' + str(i)] = _\n",
      "C:\\Users\\Tiago\\AppData\\Local\\Temp\\ipykernel_18996\\3166345054.py:4: PerformanceWarning: DataFrame is highly fragmented.  This is usually the result of calling `frame.insert` many times, which has poor performance.  Consider joining all columns at once using pd.concat(axis=1) instead. To get a de-fragmented frame, use `newframe = frame.copy()`\n",
      "  amostras['Amostra_' + str(i)] = _\n",
      "C:\\Users\\Tiago\\AppData\\Local\\Temp\\ipykernel_18996\\3166345054.py:4: PerformanceWarning: DataFrame is highly fragmented.  This is usually the result of calling `frame.insert` many times, which has poor performance.  Consider joining all columns at once using pd.concat(axis=1) instead. To get a de-fragmented frame, use `newframe = frame.copy()`\n",
      "  amostras['Amostra_' + str(i)] = _\n",
      "C:\\Users\\Tiago\\AppData\\Local\\Temp\\ipykernel_18996\\3166345054.py:4: PerformanceWarning: DataFrame is highly fragmented.  This is usually the result of calling `frame.insert` many times, which has poor performance.  Consider joining all columns at once using pd.concat(axis=1) instead. To get a de-fragmented frame, use `newframe = frame.copy()`\n",
      "  amostras['Amostra_' + str(i)] = _\n",
      "C:\\Users\\Tiago\\AppData\\Local\\Temp\\ipykernel_18996\\3166345054.py:4: PerformanceWarning: DataFrame is highly fragmented.  This is usually the result of calling `frame.insert` many times, which has poor performance.  Consider joining all columns at once using pd.concat(axis=1) instead. To get a de-fragmented frame, use `newframe = frame.copy()`\n",
      "  amostras['Amostra_' + str(i)] = _\n",
      "C:\\Users\\Tiago\\AppData\\Local\\Temp\\ipykernel_18996\\3166345054.py:4: PerformanceWarning: DataFrame is highly fragmented.  This is usually the result of calling `frame.insert` many times, which has poor performance.  Consider joining all columns at once using pd.concat(axis=1) instead. To get a de-fragmented frame, use `newframe = frame.copy()`\n",
      "  amostras['Amostra_' + str(i)] = _\n",
      "C:\\Users\\Tiago\\AppData\\Local\\Temp\\ipykernel_18996\\3166345054.py:4: PerformanceWarning: DataFrame is highly fragmented.  This is usually the result of calling `frame.insert` many times, which has poor performance.  Consider joining all columns at once using pd.concat(axis=1) instead. To get a de-fragmented frame, use `newframe = frame.copy()`\n",
      "  amostras['Amostra_' + str(i)] = _\n",
      "C:\\Users\\Tiago\\AppData\\Local\\Temp\\ipykernel_18996\\3166345054.py:4: PerformanceWarning: DataFrame is highly fragmented.  This is usually the result of calling `frame.insert` many times, which has poor performance.  Consider joining all columns at once using pd.concat(axis=1) instead. To get a de-fragmented frame, use `newframe = frame.copy()`\n",
      "  amostras['Amostra_' + str(i)] = _\n",
      "C:\\Users\\Tiago\\AppData\\Local\\Temp\\ipykernel_18996\\3166345054.py:4: PerformanceWarning: DataFrame is highly fragmented.  This is usually the result of calling `frame.insert` many times, which has poor performance.  Consider joining all columns at once using pd.concat(axis=1) instead. To get a de-fragmented frame, use `newframe = frame.copy()`\n",
      "  amostras['Amostra_' + str(i)] = _\n",
      "C:\\Users\\Tiago\\AppData\\Local\\Temp\\ipykernel_18996\\3166345054.py:4: PerformanceWarning: DataFrame is highly fragmented.  This is usually the result of calling `frame.insert` many times, which has poor performance.  Consider joining all columns at once using pd.concat(axis=1) instead. To get a de-fragmented frame, use `newframe = frame.copy()`\n",
      "  amostras['Amostra_' + str(i)] = _\n",
      "C:\\Users\\Tiago\\AppData\\Local\\Temp\\ipykernel_18996\\3166345054.py:4: PerformanceWarning: DataFrame is highly fragmented.  This is usually the result of calling `frame.insert` many times, which has poor performance.  Consider joining all columns at once using pd.concat(axis=1) instead. To get a de-fragmented frame, use `newframe = frame.copy()`\n",
      "  amostras['Amostra_' + str(i)] = _\n",
      "C:\\Users\\Tiago\\AppData\\Local\\Temp\\ipykernel_18996\\3166345054.py:4: PerformanceWarning: DataFrame is highly fragmented.  This is usually the result of calling `frame.insert` many times, which has poor performance.  Consider joining all columns at once using pd.concat(axis=1) instead. To get a de-fragmented frame, use `newframe = frame.copy()`\n",
      "  amostras['Amostra_' + str(i)] = _\n",
      "C:\\Users\\Tiago\\AppData\\Local\\Temp\\ipykernel_18996\\3166345054.py:4: PerformanceWarning: DataFrame is highly fragmented.  This is usually the result of calling `frame.insert` many times, which has poor performance.  Consider joining all columns at once using pd.concat(axis=1) instead. To get a de-fragmented frame, use `newframe = frame.copy()`\n",
      "  amostras['Amostra_' + str(i)] = _\n",
      "C:\\Users\\Tiago\\AppData\\Local\\Temp\\ipykernel_18996\\3166345054.py:4: PerformanceWarning: DataFrame is highly fragmented.  This is usually the result of calling `frame.insert` many times, which has poor performance.  Consider joining all columns at once using pd.concat(axis=1) instead. To get a de-fragmented frame, use `newframe = frame.copy()`\n",
      "  amostras['Amostra_' + str(i)] = _\n",
      "C:\\Users\\Tiago\\AppData\\Local\\Temp\\ipykernel_18996\\3166345054.py:4: PerformanceWarning: DataFrame is highly fragmented.  This is usually the result of calling `frame.insert` many times, which has poor performance.  Consider joining all columns at once using pd.concat(axis=1) instead. To get a de-fragmented frame, use `newframe = frame.copy()`\n",
      "  amostras['Amostra_' + str(i)] = _\n",
      "C:\\Users\\Tiago\\AppData\\Local\\Temp\\ipykernel_18996\\3166345054.py:4: PerformanceWarning: DataFrame is highly fragmented.  This is usually the result of calling `frame.insert` many times, which has poor performance.  Consider joining all columns at once using pd.concat(axis=1) instead. To get a de-fragmented frame, use `newframe = frame.copy()`\n",
      "  amostras['Amostra_' + str(i)] = _\n",
      "C:\\Users\\Tiago\\AppData\\Local\\Temp\\ipykernel_18996\\3166345054.py:4: PerformanceWarning: DataFrame is highly fragmented.  This is usually the result of calling `frame.insert` many times, which has poor performance.  Consider joining all columns at once using pd.concat(axis=1) instead. To get a de-fragmented frame, use `newframe = frame.copy()`\n",
      "  amostras['Amostra_' + str(i)] = _\n",
      "C:\\Users\\Tiago\\AppData\\Local\\Temp\\ipykernel_18996\\3166345054.py:4: PerformanceWarning: DataFrame is highly fragmented.  This is usually the result of calling `frame.insert` many times, which has poor performance.  Consider joining all columns at once using pd.concat(axis=1) instead. To get a de-fragmented frame, use `newframe = frame.copy()`\n",
      "  amostras['Amostra_' + str(i)] = _\n",
      "C:\\Users\\Tiago\\AppData\\Local\\Temp\\ipykernel_18996\\3166345054.py:4: PerformanceWarning: DataFrame is highly fragmented.  This is usually the result of calling `frame.insert` many times, which has poor performance.  Consider joining all columns at once using pd.concat(axis=1) instead. To get a de-fragmented frame, use `newframe = frame.copy()`\n",
      "  amostras['Amostra_' + str(i)] = _\n",
      "C:\\Users\\Tiago\\AppData\\Local\\Temp\\ipykernel_18996\\3166345054.py:4: PerformanceWarning: DataFrame is highly fragmented.  This is usually the result of calling `frame.insert` many times, which has poor performance.  Consider joining all columns at once using pd.concat(axis=1) instead. To get a de-fragmented frame, use `newframe = frame.copy()`\n",
      "  amostras['Amostra_' + str(i)] = _\n",
      "C:\\Users\\Tiago\\AppData\\Local\\Temp\\ipykernel_18996\\3166345054.py:4: PerformanceWarning: DataFrame is highly fragmented.  This is usually the result of calling `frame.insert` many times, which has poor performance.  Consider joining all columns at once using pd.concat(axis=1) instead. To get a de-fragmented frame, use `newframe = frame.copy()`\n",
      "  amostras['Amostra_' + str(i)] = _\n",
      "C:\\Users\\Tiago\\AppData\\Local\\Temp\\ipykernel_18996\\3166345054.py:4: PerformanceWarning: DataFrame is highly fragmented.  This is usually the result of calling `frame.insert` many times, which has poor performance.  Consider joining all columns at once using pd.concat(axis=1) instead. To get a de-fragmented frame, use `newframe = frame.copy()`\n",
      "  amostras['Amostra_' + str(i)] = _\n",
      "C:\\Users\\Tiago\\AppData\\Local\\Temp\\ipykernel_18996\\3166345054.py:4: PerformanceWarning: DataFrame is highly fragmented.  This is usually the result of calling `frame.insert` many times, which has poor performance.  Consider joining all columns at once using pd.concat(axis=1) instead. To get a de-fragmented frame, use `newframe = frame.copy()`\n",
      "  amostras['Amostra_' + str(i)] = _\n",
      "C:\\Users\\Tiago\\AppData\\Local\\Temp\\ipykernel_18996\\3166345054.py:4: PerformanceWarning: DataFrame is highly fragmented.  This is usually the result of calling `frame.insert` many times, which has poor performance.  Consider joining all columns at once using pd.concat(axis=1) instead. To get a de-fragmented frame, use `newframe = frame.copy()`\n",
      "  amostras['Amostra_' + str(i)] = _\n",
      "C:\\Users\\Tiago\\AppData\\Local\\Temp\\ipykernel_18996\\3166345054.py:4: PerformanceWarning: DataFrame is highly fragmented.  This is usually the result of calling `frame.insert` many times, which has poor performance.  Consider joining all columns at once using pd.concat(axis=1) instead. To get a de-fragmented frame, use `newframe = frame.copy()`\n",
      "  amostras['Amostra_' + str(i)] = _\n",
      "C:\\Users\\Tiago\\AppData\\Local\\Temp\\ipykernel_18996\\3166345054.py:4: PerformanceWarning: DataFrame is highly fragmented.  This is usually the result of calling `frame.insert` many times, which has poor performance.  Consider joining all columns at once using pd.concat(axis=1) instead. To get a de-fragmented frame, use `newframe = frame.copy()`\n",
      "  amostras['Amostra_' + str(i)] = _\n",
      "C:\\Users\\Tiago\\AppData\\Local\\Temp\\ipykernel_18996\\3166345054.py:4: PerformanceWarning: DataFrame is highly fragmented.  This is usually the result of calling `frame.insert` many times, which has poor performance.  Consider joining all columns at once using pd.concat(axis=1) instead. To get a de-fragmented frame, use `newframe = frame.copy()`\n",
      "  amostras['Amostra_' + str(i)] = _\n",
      "C:\\Users\\Tiago\\AppData\\Local\\Temp\\ipykernel_18996\\3166345054.py:4: PerformanceWarning: DataFrame is highly fragmented.  This is usually the result of calling `frame.insert` many times, which has poor performance.  Consider joining all columns at once using pd.concat(axis=1) instead. To get a de-fragmented frame, use `newframe = frame.copy()`\n",
      "  amostras['Amostra_' + str(i)] = _\n",
      "C:\\Users\\Tiago\\AppData\\Local\\Temp\\ipykernel_18996\\3166345054.py:4: PerformanceWarning: DataFrame is highly fragmented.  This is usually the result of calling `frame.insert` many times, which has poor performance.  Consider joining all columns at once using pd.concat(axis=1) instead. To get a de-fragmented frame, use `newframe = frame.copy()`\n",
      "  amostras['Amostra_' + str(i)] = _\n",
      "C:\\Users\\Tiago\\AppData\\Local\\Temp\\ipykernel_18996\\3166345054.py:4: PerformanceWarning: DataFrame is highly fragmented.  This is usually the result of calling `frame.insert` many times, which has poor performance.  Consider joining all columns at once using pd.concat(axis=1) instead. To get a de-fragmented frame, use `newframe = frame.copy()`\n",
      "  amostras['Amostra_' + str(i)] = _\n",
      "C:\\Users\\Tiago\\AppData\\Local\\Temp\\ipykernel_18996\\3166345054.py:4: PerformanceWarning: DataFrame is highly fragmented.  This is usually the result of calling `frame.insert` many times, which has poor performance.  Consider joining all columns at once using pd.concat(axis=1) instead. To get a de-fragmented frame, use `newframe = frame.copy()`\n",
      "  amostras['Amostra_' + str(i)] = _\n",
      "C:\\Users\\Tiago\\AppData\\Local\\Temp\\ipykernel_18996\\3166345054.py:4: PerformanceWarning: DataFrame is highly fragmented.  This is usually the result of calling `frame.insert` many times, which has poor performance.  Consider joining all columns at once using pd.concat(axis=1) instead. To get a de-fragmented frame, use `newframe = frame.copy()`\n",
      "  amostras['Amostra_' + str(i)] = _\n",
      "C:\\Users\\Tiago\\AppData\\Local\\Temp\\ipykernel_18996\\3166345054.py:4: PerformanceWarning: DataFrame is highly fragmented.  This is usually the result of calling `frame.insert` many times, which has poor performance.  Consider joining all columns at once using pd.concat(axis=1) instead. To get a de-fragmented frame, use `newframe = frame.copy()`\n",
      "  amostras['Amostra_' + str(i)] = _\n",
      "C:\\Users\\Tiago\\AppData\\Local\\Temp\\ipykernel_18996\\3166345054.py:4: PerformanceWarning: DataFrame is highly fragmented.  This is usually the result of calling `frame.insert` many times, which has poor performance.  Consider joining all columns at once using pd.concat(axis=1) instead. To get a de-fragmented frame, use `newframe = frame.copy()`\n",
      "  amostras['Amostra_' + str(i)] = _\n",
      "C:\\Users\\Tiago\\AppData\\Local\\Temp\\ipykernel_18996\\3166345054.py:4: PerformanceWarning: DataFrame is highly fragmented.  This is usually the result of calling `frame.insert` many times, which has poor performance.  Consider joining all columns at once using pd.concat(axis=1) instead. To get a de-fragmented frame, use `newframe = frame.copy()`\n",
      "  amostras['Amostra_' + str(i)] = _\n",
      "C:\\Users\\Tiago\\AppData\\Local\\Temp\\ipykernel_18996\\3166345054.py:4: PerformanceWarning: DataFrame is highly fragmented.  This is usually the result of calling `frame.insert` many times, which has poor performance.  Consider joining all columns at once using pd.concat(axis=1) instead. To get a de-fragmented frame, use `newframe = frame.copy()`\n",
      "  amostras['Amostra_' + str(i)] = _\n",
      "C:\\Users\\Tiago\\AppData\\Local\\Temp\\ipykernel_18996\\3166345054.py:4: PerformanceWarning: DataFrame is highly fragmented.  This is usually the result of calling `frame.insert` many times, which has poor performance.  Consider joining all columns at once using pd.concat(axis=1) instead. To get a de-fragmented frame, use `newframe = frame.copy()`\n",
      "  amostras['Amostra_' + str(i)] = _\n",
      "C:\\Users\\Tiago\\AppData\\Local\\Temp\\ipykernel_18996\\3166345054.py:4: PerformanceWarning: DataFrame is highly fragmented.  This is usually the result of calling `frame.insert` many times, which has poor performance.  Consider joining all columns at once using pd.concat(axis=1) instead. To get a de-fragmented frame, use `newframe = frame.copy()`\n",
      "  amostras['Amostra_' + str(i)] = _\n",
      "C:\\Users\\Tiago\\AppData\\Local\\Temp\\ipykernel_18996\\3166345054.py:4: PerformanceWarning: DataFrame is highly fragmented.  This is usually the result of calling `frame.insert` many times, which has poor performance.  Consider joining all columns at once using pd.concat(axis=1) instead. To get a de-fragmented frame, use `newframe = frame.copy()`\n",
      "  amostras['Amostra_' + str(i)] = _\n",
      "C:\\Users\\Tiago\\AppData\\Local\\Temp\\ipykernel_18996\\3166345054.py:4: PerformanceWarning: DataFrame is highly fragmented.  This is usually the result of calling `frame.insert` many times, which has poor performance.  Consider joining all columns at once using pd.concat(axis=1) instead. To get a de-fragmented frame, use `newframe = frame.copy()`\n",
      "  amostras['Amostra_' + str(i)] = _\n",
      "C:\\Users\\Tiago\\AppData\\Local\\Temp\\ipykernel_18996\\3166345054.py:4: PerformanceWarning: DataFrame is highly fragmented.  This is usually the result of calling `frame.insert` many times, which has poor performance.  Consider joining all columns at once using pd.concat(axis=1) instead. To get a de-fragmented frame, use `newframe = frame.copy()`\n",
      "  amostras['Amostra_' + str(i)] = _\n",
      "C:\\Users\\Tiago\\AppData\\Local\\Temp\\ipykernel_18996\\3166345054.py:4: PerformanceWarning: DataFrame is highly fragmented.  This is usually the result of calling `frame.insert` many times, which has poor performance.  Consider joining all columns at once using pd.concat(axis=1) instead. To get a de-fragmented frame, use `newframe = frame.copy()`\n",
      "  amostras['Amostra_' + str(i)] = _\n",
      "C:\\Users\\Tiago\\AppData\\Local\\Temp\\ipykernel_18996\\3166345054.py:4: PerformanceWarning: DataFrame is highly fragmented.  This is usually the result of calling `frame.insert` many times, which has poor performance.  Consider joining all columns at once using pd.concat(axis=1) instead. To get a de-fragmented frame, use `newframe = frame.copy()`\n",
      "  amostras['Amostra_' + str(i)] = _\n",
      "C:\\Users\\Tiago\\AppData\\Local\\Temp\\ipykernel_18996\\3166345054.py:4: PerformanceWarning: DataFrame is highly fragmented.  This is usually the result of calling `frame.insert` many times, which has poor performance.  Consider joining all columns at once using pd.concat(axis=1) instead. To get a de-fragmented frame, use `newframe = frame.copy()`\n",
      "  amostras['Amostra_' + str(i)] = _\n",
      "C:\\Users\\Tiago\\AppData\\Local\\Temp\\ipykernel_18996\\3166345054.py:4: PerformanceWarning: DataFrame is highly fragmented.  This is usually the result of calling `frame.insert` many times, which has poor performance.  Consider joining all columns at once using pd.concat(axis=1) instead. To get a de-fragmented frame, use `newframe = frame.copy()`\n",
      "  amostras['Amostra_' + str(i)] = _\n",
      "C:\\Users\\Tiago\\AppData\\Local\\Temp\\ipykernel_18996\\3166345054.py:4: PerformanceWarning: DataFrame is highly fragmented.  This is usually the result of calling `frame.insert` many times, which has poor performance.  Consider joining all columns at once using pd.concat(axis=1) instead. To get a de-fragmented frame, use `newframe = frame.copy()`\n",
      "  amostras['Amostra_' + str(i)] = _\n",
      "C:\\Users\\Tiago\\AppData\\Local\\Temp\\ipykernel_18996\\3166345054.py:4: PerformanceWarning: DataFrame is highly fragmented.  This is usually the result of calling `frame.insert` many times, which has poor performance.  Consider joining all columns at once using pd.concat(axis=1) instead. To get a de-fragmented frame, use `newframe = frame.copy()`\n",
      "  amostras['Amostra_' + str(i)] = _\n",
      "C:\\Users\\Tiago\\AppData\\Local\\Temp\\ipykernel_18996\\3166345054.py:4: PerformanceWarning: DataFrame is highly fragmented.  This is usually the result of calling `frame.insert` many times, which has poor performance.  Consider joining all columns at once using pd.concat(axis=1) instead. To get a de-fragmented frame, use `newframe = frame.copy()`\n",
      "  amostras['Amostra_' + str(i)] = _\n",
      "C:\\Users\\Tiago\\AppData\\Local\\Temp\\ipykernel_18996\\3166345054.py:4: PerformanceWarning: DataFrame is highly fragmented.  This is usually the result of calling `frame.insert` many times, which has poor performance.  Consider joining all columns at once using pd.concat(axis=1) instead. To get a de-fragmented frame, use `newframe = frame.copy()`\n",
      "  amostras['Amostra_' + str(i)] = _\n",
      "C:\\Users\\Tiago\\AppData\\Local\\Temp\\ipykernel_18996\\3166345054.py:4: PerformanceWarning: DataFrame is highly fragmented.  This is usually the result of calling `frame.insert` many times, which has poor performance.  Consider joining all columns at once using pd.concat(axis=1) instead. To get a de-fragmented frame, use `newframe = frame.copy()`\n",
      "  amostras['Amostra_' + str(i)] = _\n",
      "C:\\Users\\Tiago\\AppData\\Local\\Temp\\ipykernel_18996\\3166345054.py:4: PerformanceWarning: DataFrame is highly fragmented.  This is usually the result of calling `frame.insert` many times, which has poor performance.  Consider joining all columns at once using pd.concat(axis=1) instead. To get a de-fragmented frame, use `newframe = frame.copy()`\n",
      "  amostras['Amostra_' + str(i)] = _\n",
      "C:\\Users\\Tiago\\AppData\\Local\\Temp\\ipykernel_18996\\3166345054.py:4: PerformanceWarning: DataFrame is highly fragmented.  This is usually the result of calling `frame.insert` many times, which has poor performance.  Consider joining all columns at once using pd.concat(axis=1) instead. To get a de-fragmented frame, use `newframe = frame.copy()`\n",
      "  amostras['Amostra_' + str(i)] = _\n",
      "C:\\Users\\Tiago\\AppData\\Local\\Temp\\ipykernel_18996\\3166345054.py:4: PerformanceWarning: DataFrame is highly fragmented.  This is usually the result of calling `frame.insert` many times, which has poor performance.  Consider joining all columns at once using pd.concat(axis=1) instead. To get a de-fragmented frame, use `newframe = frame.copy()`\n",
      "  amostras['Amostra_' + str(i)] = _\n",
      "C:\\Users\\Tiago\\AppData\\Local\\Temp\\ipykernel_18996\\3166345054.py:4: PerformanceWarning: DataFrame is highly fragmented.  This is usually the result of calling `frame.insert` many times, which has poor performance.  Consider joining all columns at once using pd.concat(axis=1) instead. To get a de-fragmented frame, use `newframe = frame.copy()`\n",
      "  amostras['Amostra_' + str(i)] = _\n",
      "C:\\Users\\Tiago\\AppData\\Local\\Temp\\ipykernel_18996\\3166345054.py:4: PerformanceWarning: DataFrame is highly fragmented.  This is usually the result of calling `frame.insert` many times, which has poor performance.  Consider joining all columns at once using pd.concat(axis=1) instead. To get a de-fragmented frame, use `newframe = frame.copy()`\n",
      "  amostras['Amostra_' + str(i)] = _\n",
      "C:\\Users\\Tiago\\AppData\\Local\\Temp\\ipykernel_18996\\3166345054.py:4: PerformanceWarning: DataFrame is highly fragmented.  This is usually the result of calling `frame.insert` many times, which has poor performance.  Consider joining all columns at once using pd.concat(axis=1) instead. To get a de-fragmented frame, use `newframe = frame.copy()`\n",
      "  amostras['Amostra_' + str(i)] = _\n",
      "C:\\Users\\Tiago\\AppData\\Local\\Temp\\ipykernel_18996\\3166345054.py:4: PerformanceWarning: DataFrame is highly fragmented.  This is usually the result of calling `frame.insert` many times, which has poor performance.  Consider joining all columns at once using pd.concat(axis=1) instead. To get a de-fragmented frame, use `newframe = frame.copy()`\n",
      "  amostras['Amostra_' + str(i)] = _\n",
      "C:\\Users\\Tiago\\AppData\\Local\\Temp\\ipykernel_18996\\3166345054.py:4: PerformanceWarning: DataFrame is highly fragmented.  This is usually the result of calling `frame.insert` many times, which has poor performance.  Consider joining all columns at once using pd.concat(axis=1) instead. To get a de-fragmented frame, use `newframe = frame.copy()`\n",
      "  amostras['Amostra_' + str(i)] = _\n",
      "C:\\Users\\Tiago\\AppData\\Local\\Temp\\ipykernel_18996\\3166345054.py:4: PerformanceWarning: DataFrame is highly fragmented.  This is usually the result of calling `frame.insert` many times, which has poor performance.  Consider joining all columns at once using pd.concat(axis=1) instead. To get a de-fragmented frame, use `newframe = frame.copy()`\n",
      "  amostras['Amostra_' + str(i)] = _\n",
      "C:\\Users\\Tiago\\AppData\\Local\\Temp\\ipykernel_18996\\3166345054.py:4: PerformanceWarning: DataFrame is highly fragmented.  This is usually the result of calling `frame.insert` many times, which has poor performance.  Consider joining all columns at once using pd.concat(axis=1) instead. To get a de-fragmented frame, use `newframe = frame.copy()`\n",
      "  amostras['Amostra_' + str(i)] = _\n",
      "C:\\Users\\Tiago\\AppData\\Local\\Temp\\ipykernel_18996\\3166345054.py:4: PerformanceWarning: DataFrame is highly fragmented.  This is usually the result of calling `frame.insert` many times, which has poor performance.  Consider joining all columns at once using pd.concat(axis=1) instead. To get a de-fragmented frame, use `newframe = frame.copy()`\n",
      "  amostras['Amostra_' + str(i)] = _\n",
      "C:\\Users\\Tiago\\AppData\\Local\\Temp\\ipykernel_18996\\3166345054.py:4: PerformanceWarning: DataFrame is highly fragmented.  This is usually the result of calling `frame.insert` many times, which has poor performance.  Consider joining all columns at once using pd.concat(axis=1) instead. To get a de-fragmented frame, use `newframe = frame.copy()`\n",
      "  amostras['Amostra_' + str(i)] = _\n",
      "C:\\Users\\Tiago\\AppData\\Local\\Temp\\ipykernel_18996\\3166345054.py:4: PerformanceWarning: DataFrame is highly fragmented.  This is usually the result of calling `frame.insert` many times, which has poor performance.  Consider joining all columns at once using pd.concat(axis=1) instead. To get a de-fragmented frame, use `newframe = frame.copy()`\n",
      "  amostras['Amostra_' + str(i)] = _\n",
      "C:\\Users\\Tiago\\AppData\\Local\\Temp\\ipykernel_18996\\3166345054.py:4: PerformanceWarning: DataFrame is highly fragmented.  This is usually the result of calling `frame.insert` many times, which has poor performance.  Consider joining all columns at once using pd.concat(axis=1) instead. To get a de-fragmented frame, use `newframe = frame.copy()`\n",
      "  amostras['Amostra_' + str(i)] = _\n",
      "C:\\Users\\Tiago\\AppData\\Local\\Temp\\ipykernel_18996\\3166345054.py:4: PerformanceWarning: DataFrame is highly fragmented.  This is usually the result of calling `frame.insert` many times, which has poor performance.  Consider joining all columns at once using pd.concat(axis=1) instead. To get a de-fragmented frame, use `newframe = frame.copy()`\n",
      "  amostras['Amostra_' + str(i)] = _\n",
      "C:\\Users\\Tiago\\AppData\\Local\\Temp\\ipykernel_18996\\3166345054.py:4: PerformanceWarning: DataFrame is highly fragmented.  This is usually the result of calling `frame.insert` many times, which has poor performance.  Consider joining all columns at once using pd.concat(axis=1) instead. To get a de-fragmented frame, use `newframe = frame.copy()`\n",
      "  amostras['Amostra_' + str(i)] = _\n",
      "C:\\Users\\Tiago\\AppData\\Local\\Temp\\ipykernel_18996\\3166345054.py:4: PerformanceWarning: DataFrame is highly fragmented.  This is usually the result of calling `frame.insert` many times, which has poor performance.  Consider joining all columns at once using pd.concat(axis=1) instead. To get a de-fragmented frame, use `newframe = frame.copy()`\n",
      "  amostras['Amostra_' + str(i)] = _\n",
      "C:\\Users\\Tiago\\AppData\\Local\\Temp\\ipykernel_18996\\3166345054.py:4: PerformanceWarning: DataFrame is highly fragmented.  This is usually the result of calling `frame.insert` many times, which has poor performance.  Consider joining all columns at once using pd.concat(axis=1) instead. To get a de-fragmented frame, use `newframe = frame.copy()`\n",
      "  amostras['Amostra_' + str(i)] = _\n",
      "C:\\Users\\Tiago\\AppData\\Local\\Temp\\ipykernel_18996\\3166345054.py:4: PerformanceWarning: DataFrame is highly fragmented.  This is usually the result of calling `frame.insert` many times, which has poor performance.  Consider joining all columns at once using pd.concat(axis=1) instead. To get a de-fragmented frame, use `newframe = frame.copy()`\n",
      "  amostras['Amostra_' + str(i)] = _\n",
      "C:\\Users\\Tiago\\AppData\\Local\\Temp\\ipykernel_18996\\3166345054.py:4: PerformanceWarning: DataFrame is highly fragmented.  This is usually the result of calling `frame.insert` many times, which has poor performance.  Consider joining all columns at once using pd.concat(axis=1) instead. To get a de-fragmented frame, use `newframe = frame.copy()`\n",
      "  amostras['Amostra_' + str(i)] = _\n",
      "C:\\Users\\Tiago\\AppData\\Local\\Temp\\ipykernel_18996\\3166345054.py:4: PerformanceWarning: DataFrame is highly fragmented.  This is usually the result of calling `frame.insert` many times, which has poor performance.  Consider joining all columns at once using pd.concat(axis=1) instead. To get a de-fragmented frame, use `newframe = frame.copy()`\n",
      "  amostras['Amostra_' + str(i)] = _\n",
      "C:\\Users\\Tiago\\AppData\\Local\\Temp\\ipykernel_18996\\3166345054.py:4: PerformanceWarning: DataFrame is highly fragmented.  This is usually the result of calling `frame.insert` many times, which has poor performance.  Consider joining all columns at once using pd.concat(axis=1) instead. To get a de-fragmented frame, use `newframe = frame.copy()`\n",
      "  amostras['Amostra_' + str(i)] = _\n",
      "C:\\Users\\Tiago\\AppData\\Local\\Temp\\ipykernel_18996\\3166345054.py:4: PerformanceWarning: DataFrame is highly fragmented.  This is usually the result of calling `frame.insert` many times, which has poor performance.  Consider joining all columns at once using pd.concat(axis=1) instead. To get a de-fragmented frame, use `newframe = frame.copy()`\n",
      "  amostras['Amostra_' + str(i)] = _\n",
      "C:\\Users\\Tiago\\AppData\\Local\\Temp\\ipykernel_18996\\3166345054.py:4: PerformanceWarning: DataFrame is highly fragmented.  This is usually the result of calling `frame.insert` many times, which has poor performance.  Consider joining all columns at once using pd.concat(axis=1) instead. To get a de-fragmented frame, use `newframe = frame.copy()`\n",
      "  amostras['Amostra_' + str(i)] = _\n",
      "C:\\Users\\Tiago\\AppData\\Local\\Temp\\ipykernel_18996\\3166345054.py:4: PerformanceWarning: DataFrame is highly fragmented.  This is usually the result of calling `frame.insert` many times, which has poor performance.  Consider joining all columns at once using pd.concat(axis=1) instead. To get a de-fragmented frame, use `newframe = frame.copy()`\n",
      "  amostras['Amostra_' + str(i)] = _\n",
      "C:\\Users\\Tiago\\AppData\\Local\\Temp\\ipykernel_18996\\3166345054.py:4: PerformanceWarning: DataFrame is highly fragmented.  This is usually the result of calling `frame.insert` many times, which has poor performance.  Consider joining all columns at once using pd.concat(axis=1) instead. To get a de-fragmented frame, use `newframe = frame.copy()`\n",
      "  amostras['Amostra_' + str(i)] = _\n",
      "C:\\Users\\Tiago\\AppData\\Local\\Temp\\ipykernel_18996\\3166345054.py:4: PerformanceWarning: DataFrame is highly fragmented.  This is usually the result of calling `frame.insert` many times, which has poor performance.  Consider joining all columns at once using pd.concat(axis=1) instead. To get a de-fragmented frame, use `newframe = frame.copy()`\n",
      "  amostras['Amostra_' + str(i)] = _\n",
      "C:\\Users\\Tiago\\AppData\\Local\\Temp\\ipykernel_18996\\3166345054.py:4: PerformanceWarning: DataFrame is highly fragmented.  This is usually the result of calling `frame.insert` many times, which has poor performance.  Consider joining all columns at once using pd.concat(axis=1) instead. To get a de-fragmented frame, use `newframe = frame.copy()`\n",
      "  amostras['Amostra_' + str(i)] = _\n",
      "C:\\Users\\Tiago\\AppData\\Local\\Temp\\ipykernel_18996\\3166345054.py:4: PerformanceWarning: DataFrame is highly fragmented.  This is usually the result of calling `frame.insert` many times, which has poor performance.  Consider joining all columns at once using pd.concat(axis=1) instead. To get a de-fragmented frame, use `newframe = frame.copy()`\n",
      "  amostras['Amostra_' + str(i)] = _\n",
      "C:\\Users\\Tiago\\AppData\\Local\\Temp\\ipykernel_18996\\3166345054.py:4: PerformanceWarning: DataFrame is highly fragmented.  This is usually the result of calling `frame.insert` many times, which has poor performance.  Consider joining all columns at once using pd.concat(axis=1) instead. To get a de-fragmented frame, use `newframe = frame.copy()`\n",
      "  amostras['Amostra_' + str(i)] = _\n",
      "C:\\Users\\Tiago\\AppData\\Local\\Temp\\ipykernel_18996\\3166345054.py:4: PerformanceWarning: DataFrame is highly fragmented.  This is usually the result of calling `frame.insert` many times, which has poor performance.  Consider joining all columns at once using pd.concat(axis=1) instead. To get a de-fragmented frame, use `newframe = frame.copy()`\n",
      "  amostras['Amostra_' + str(i)] = _\n",
      "C:\\Users\\Tiago\\AppData\\Local\\Temp\\ipykernel_18996\\3166345054.py:4: PerformanceWarning: DataFrame is highly fragmented.  This is usually the result of calling `frame.insert` many times, which has poor performance.  Consider joining all columns at once using pd.concat(axis=1) instead. To get a de-fragmented frame, use `newframe = frame.copy()`\n",
      "  amostras['Amostra_' + str(i)] = _\n",
      "C:\\Users\\Tiago\\AppData\\Local\\Temp\\ipykernel_18996\\3166345054.py:4: PerformanceWarning: DataFrame is highly fragmented.  This is usually the result of calling `frame.insert` many times, which has poor performance.  Consider joining all columns at once using pd.concat(axis=1) instead. To get a de-fragmented frame, use `newframe = frame.copy()`\n",
      "  amostras['Amostra_' + str(i)] = _\n",
      "C:\\Users\\Tiago\\AppData\\Local\\Temp\\ipykernel_18996\\3166345054.py:4: PerformanceWarning: DataFrame is highly fragmented.  This is usually the result of calling `frame.insert` many times, which has poor performance.  Consider joining all columns at once using pd.concat(axis=1) instead. To get a de-fragmented frame, use `newframe = frame.copy()`\n",
      "  amostras['Amostra_' + str(i)] = _\n",
      "C:\\Users\\Tiago\\AppData\\Local\\Temp\\ipykernel_18996\\3166345054.py:4: PerformanceWarning: DataFrame is highly fragmented.  This is usually the result of calling `frame.insert` many times, which has poor performance.  Consider joining all columns at once using pd.concat(axis=1) instead. To get a de-fragmented frame, use `newframe = frame.copy()`\n",
      "  amostras['Amostra_' + str(i)] = _\n",
      "C:\\Users\\Tiago\\AppData\\Local\\Temp\\ipykernel_18996\\3166345054.py:4: PerformanceWarning: DataFrame is highly fragmented.  This is usually the result of calling `frame.insert` many times, which has poor performance.  Consider joining all columns at once using pd.concat(axis=1) instead. To get a de-fragmented frame, use `newframe = frame.copy()`\n",
      "  amostras['Amostra_' + str(i)] = _\n",
      "C:\\Users\\Tiago\\AppData\\Local\\Temp\\ipykernel_18996\\3166345054.py:4: PerformanceWarning: DataFrame is highly fragmented.  This is usually the result of calling `frame.insert` many times, which has poor performance.  Consider joining all columns at once using pd.concat(axis=1) instead. To get a de-fragmented frame, use `newframe = frame.copy()`\n",
      "  amostras['Amostra_' + str(i)] = _\n",
      "C:\\Users\\Tiago\\AppData\\Local\\Temp\\ipykernel_18996\\3166345054.py:4: PerformanceWarning: DataFrame is highly fragmented.  This is usually the result of calling `frame.insert` many times, which has poor performance.  Consider joining all columns at once using pd.concat(axis=1) instead. To get a de-fragmented frame, use `newframe = frame.copy()`\n",
      "  amostras['Amostra_' + str(i)] = _\n",
      "C:\\Users\\Tiago\\AppData\\Local\\Temp\\ipykernel_18996\\3166345054.py:4: PerformanceWarning: DataFrame is highly fragmented.  This is usually the result of calling `frame.insert` many times, which has poor performance.  Consider joining all columns at once using pd.concat(axis=1) instead. To get a de-fragmented frame, use `newframe = frame.copy()`\n",
      "  amostras['Amostra_' + str(i)] = _\n",
      "C:\\Users\\Tiago\\AppData\\Local\\Temp\\ipykernel_18996\\3166345054.py:4: PerformanceWarning: DataFrame is highly fragmented.  This is usually the result of calling `frame.insert` many times, which has poor performance.  Consider joining all columns at once using pd.concat(axis=1) instead. To get a de-fragmented frame, use `newframe = frame.copy()`\n",
      "  amostras['Amostra_' + str(i)] = _\n",
      "C:\\Users\\Tiago\\AppData\\Local\\Temp\\ipykernel_18996\\3166345054.py:4: PerformanceWarning: DataFrame is highly fragmented.  This is usually the result of calling `frame.insert` many times, which has poor performance.  Consider joining all columns at once using pd.concat(axis=1) instead. To get a de-fragmented frame, use `newframe = frame.copy()`\n",
      "  amostras['Amostra_' + str(i)] = _\n",
      "C:\\Users\\Tiago\\AppData\\Local\\Temp\\ipykernel_18996\\3166345054.py:4: PerformanceWarning: DataFrame is highly fragmented.  This is usually the result of calling `frame.insert` many times, which has poor performance.  Consider joining all columns at once using pd.concat(axis=1) instead. To get a de-fragmented frame, use `newframe = frame.copy()`\n",
      "  amostras['Amostra_' + str(i)] = _\n",
      "C:\\Users\\Tiago\\AppData\\Local\\Temp\\ipykernel_18996\\3166345054.py:4: PerformanceWarning: DataFrame is highly fragmented.  This is usually the result of calling `frame.insert` many times, which has poor performance.  Consider joining all columns at once using pd.concat(axis=1) instead. To get a de-fragmented frame, use `newframe = frame.copy()`\n",
      "  amostras['Amostra_' + str(i)] = _\n",
      "C:\\Users\\Tiago\\AppData\\Local\\Temp\\ipykernel_18996\\3166345054.py:4: PerformanceWarning: DataFrame is highly fragmented.  This is usually the result of calling `frame.insert` many times, which has poor performance.  Consider joining all columns at once using pd.concat(axis=1) instead. To get a de-fragmented frame, use `newframe = frame.copy()`\n",
      "  amostras['Amostra_' + str(i)] = _\n",
      "C:\\Users\\Tiago\\AppData\\Local\\Temp\\ipykernel_18996\\3166345054.py:4: PerformanceWarning: DataFrame is highly fragmented.  This is usually the result of calling `frame.insert` many times, which has poor performance.  Consider joining all columns at once using pd.concat(axis=1) instead. To get a de-fragmented frame, use `newframe = frame.copy()`\n",
      "  amostras['Amostra_' + str(i)] = _\n",
      "C:\\Users\\Tiago\\AppData\\Local\\Temp\\ipykernel_18996\\3166345054.py:4: PerformanceWarning: DataFrame is highly fragmented.  This is usually the result of calling `frame.insert` many times, which has poor performance.  Consider joining all columns at once using pd.concat(axis=1) instead. To get a de-fragmented frame, use `newframe = frame.copy()`\n",
      "  amostras['Amostra_' + str(i)] = _\n",
      "C:\\Users\\Tiago\\AppData\\Local\\Temp\\ipykernel_18996\\3166345054.py:4: PerformanceWarning: DataFrame is highly fragmented.  This is usually the result of calling `frame.insert` many times, which has poor performance.  Consider joining all columns at once using pd.concat(axis=1) instead. To get a de-fragmented frame, use `newframe = frame.copy()`\n",
      "  amostras['Amostra_' + str(i)] = _\n",
      "C:\\Users\\Tiago\\AppData\\Local\\Temp\\ipykernel_18996\\3166345054.py:4: PerformanceWarning: DataFrame is highly fragmented.  This is usually the result of calling `frame.insert` many times, which has poor performance.  Consider joining all columns at once using pd.concat(axis=1) instead. To get a de-fragmented frame, use `newframe = frame.copy()`\n",
      "  amostras['Amostra_' + str(i)] = _\n",
      "C:\\Users\\Tiago\\AppData\\Local\\Temp\\ipykernel_18996\\3166345054.py:4: PerformanceWarning: DataFrame is highly fragmented.  This is usually the result of calling `frame.insert` many times, which has poor performance.  Consider joining all columns at once using pd.concat(axis=1) instead. To get a de-fragmented frame, use `newframe = frame.copy()`\n",
      "  amostras['Amostra_' + str(i)] = _\n",
      "C:\\Users\\Tiago\\AppData\\Local\\Temp\\ipykernel_18996\\3166345054.py:4: PerformanceWarning: DataFrame is highly fragmented.  This is usually the result of calling `frame.insert` many times, which has poor performance.  Consider joining all columns at once using pd.concat(axis=1) instead. To get a de-fragmented frame, use `newframe = frame.copy()`\n",
      "  amostras['Amostra_' + str(i)] = _\n",
      "C:\\Users\\Tiago\\AppData\\Local\\Temp\\ipykernel_18996\\3166345054.py:4: PerformanceWarning: DataFrame is highly fragmented.  This is usually the result of calling `frame.insert` many times, which has poor performance.  Consider joining all columns at once using pd.concat(axis=1) instead. To get a de-fragmented frame, use `newframe = frame.copy()`\n",
      "  amostras['Amostra_' + str(i)] = _\n",
      "C:\\Users\\Tiago\\AppData\\Local\\Temp\\ipykernel_18996\\3166345054.py:4: PerformanceWarning: DataFrame is highly fragmented.  This is usually the result of calling `frame.insert` many times, which has poor performance.  Consider joining all columns at once using pd.concat(axis=1) instead. To get a de-fragmented frame, use `newframe = frame.copy()`\n",
      "  amostras['Amostra_' + str(i)] = _\n",
      "C:\\Users\\Tiago\\AppData\\Local\\Temp\\ipykernel_18996\\3166345054.py:4: PerformanceWarning: DataFrame is highly fragmented.  This is usually the result of calling `frame.insert` many times, which has poor performance.  Consider joining all columns at once using pd.concat(axis=1) instead. To get a de-fragmented frame, use `newframe = frame.copy()`\n",
      "  amostras['Amostra_' + str(i)] = _\n",
      "C:\\Users\\Tiago\\AppData\\Local\\Temp\\ipykernel_18996\\3166345054.py:4: PerformanceWarning: DataFrame is highly fragmented.  This is usually the result of calling `frame.insert` many times, which has poor performance.  Consider joining all columns at once using pd.concat(axis=1) instead. To get a de-fragmented frame, use `newframe = frame.copy()`\n",
      "  amostras['Amostra_' + str(i)] = _\n",
      "C:\\Users\\Tiago\\AppData\\Local\\Temp\\ipykernel_18996\\3166345054.py:4: PerformanceWarning: DataFrame is highly fragmented.  This is usually the result of calling `frame.insert` many times, which has poor performance.  Consider joining all columns at once using pd.concat(axis=1) instead. To get a de-fragmented frame, use `newframe = frame.copy()`\n",
      "  amostras['Amostra_' + str(i)] = _\n",
      "C:\\Users\\Tiago\\AppData\\Local\\Temp\\ipykernel_18996\\3166345054.py:4: PerformanceWarning: DataFrame is highly fragmented.  This is usually the result of calling `frame.insert` many times, which has poor performance.  Consider joining all columns at once using pd.concat(axis=1) instead. To get a de-fragmented frame, use `newframe = frame.copy()`\n",
      "  amostras['Amostra_' + str(i)] = _\n",
      "C:\\Users\\Tiago\\AppData\\Local\\Temp\\ipykernel_18996\\3166345054.py:4: PerformanceWarning: DataFrame is highly fragmented.  This is usually the result of calling `frame.insert` many times, which has poor performance.  Consider joining all columns at once using pd.concat(axis=1) instead. To get a de-fragmented frame, use `newframe = frame.copy()`\n",
      "  amostras['Amostra_' + str(i)] = _\n",
      "C:\\Users\\Tiago\\AppData\\Local\\Temp\\ipykernel_18996\\3166345054.py:4: PerformanceWarning: DataFrame is highly fragmented.  This is usually the result of calling `frame.insert` many times, which has poor performance.  Consider joining all columns at once using pd.concat(axis=1) instead. To get a de-fragmented frame, use `newframe = frame.copy()`\n",
      "  amostras['Amostra_' + str(i)] = _\n",
      "C:\\Users\\Tiago\\AppData\\Local\\Temp\\ipykernel_18996\\3166345054.py:4: PerformanceWarning: DataFrame is highly fragmented.  This is usually the result of calling `frame.insert` many times, which has poor performance.  Consider joining all columns at once using pd.concat(axis=1) instead. To get a de-fragmented frame, use `newframe = frame.copy()`\n",
      "  amostras['Amostra_' + str(i)] = _\n",
      "C:\\Users\\Tiago\\AppData\\Local\\Temp\\ipykernel_18996\\3166345054.py:4: PerformanceWarning: DataFrame is highly fragmented.  This is usually the result of calling `frame.insert` many times, which has poor performance.  Consider joining all columns at once using pd.concat(axis=1) instead. To get a de-fragmented frame, use `newframe = frame.copy()`\n",
      "  amostras['Amostra_' + str(i)] = _\n",
      "C:\\Users\\Tiago\\AppData\\Local\\Temp\\ipykernel_18996\\3166345054.py:4: PerformanceWarning: DataFrame is highly fragmented.  This is usually the result of calling `frame.insert` many times, which has poor performance.  Consider joining all columns at once using pd.concat(axis=1) instead. To get a de-fragmented frame, use `newframe = frame.copy()`\n",
      "  amostras['Amostra_' + str(i)] = _\n",
      "C:\\Users\\Tiago\\AppData\\Local\\Temp\\ipykernel_18996\\3166345054.py:4: PerformanceWarning: DataFrame is highly fragmented.  This is usually the result of calling `frame.insert` many times, which has poor performance.  Consider joining all columns at once using pd.concat(axis=1) instead. To get a de-fragmented frame, use `newframe = frame.copy()`\n",
      "  amostras['Amostra_' + str(i)] = _\n",
      "C:\\Users\\Tiago\\AppData\\Local\\Temp\\ipykernel_18996\\3166345054.py:4: PerformanceWarning: DataFrame is highly fragmented.  This is usually the result of calling `frame.insert` many times, which has poor performance.  Consider joining all columns at once using pd.concat(axis=1) instead. To get a de-fragmented frame, use `newframe = frame.copy()`\n",
      "  amostras['Amostra_' + str(i)] = _\n",
      "C:\\Users\\Tiago\\AppData\\Local\\Temp\\ipykernel_18996\\3166345054.py:4: PerformanceWarning: DataFrame is highly fragmented.  This is usually the result of calling `frame.insert` many times, which has poor performance.  Consider joining all columns at once using pd.concat(axis=1) instead. To get a de-fragmented frame, use `newframe = frame.copy()`\n",
      "  amostras['Amostra_' + str(i)] = _\n",
      "C:\\Users\\Tiago\\AppData\\Local\\Temp\\ipykernel_18996\\3166345054.py:4: PerformanceWarning: DataFrame is highly fragmented.  This is usually the result of calling `frame.insert` many times, which has poor performance.  Consider joining all columns at once using pd.concat(axis=1) instead. To get a de-fragmented frame, use `newframe = frame.copy()`\n",
      "  amostras['Amostra_' + str(i)] = _\n",
      "C:\\Users\\Tiago\\AppData\\Local\\Temp\\ipykernel_18996\\3166345054.py:4: PerformanceWarning: DataFrame is highly fragmented.  This is usually the result of calling `frame.insert` many times, which has poor performance.  Consider joining all columns at once using pd.concat(axis=1) instead. To get a de-fragmented frame, use `newframe = frame.copy()`\n",
      "  amostras['Amostra_' + str(i)] = _\n",
      "C:\\Users\\Tiago\\AppData\\Local\\Temp\\ipykernel_18996\\3166345054.py:4: PerformanceWarning: DataFrame is highly fragmented.  This is usually the result of calling `frame.insert` many times, which has poor performance.  Consider joining all columns at once using pd.concat(axis=1) instead. To get a de-fragmented frame, use `newframe = frame.copy()`\n",
      "  amostras['Amostra_' + str(i)] = _\n",
      "C:\\Users\\Tiago\\AppData\\Local\\Temp\\ipykernel_18996\\3166345054.py:4: PerformanceWarning: DataFrame is highly fragmented.  This is usually the result of calling `frame.insert` many times, which has poor performance.  Consider joining all columns at once using pd.concat(axis=1) instead. To get a de-fragmented frame, use `newframe = frame.copy()`\n",
      "  amostras['Amostra_' + str(i)] = _\n",
      "C:\\Users\\Tiago\\AppData\\Local\\Temp\\ipykernel_18996\\3166345054.py:4: PerformanceWarning: DataFrame is highly fragmented.  This is usually the result of calling `frame.insert` many times, which has poor performance.  Consider joining all columns at once using pd.concat(axis=1) instead. To get a de-fragmented frame, use `newframe = frame.copy()`\n",
      "  amostras['Amostra_' + str(i)] = _\n",
      "C:\\Users\\Tiago\\AppData\\Local\\Temp\\ipykernel_18996\\3166345054.py:4: PerformanceWarning: DataFrame is highly fragmented.  This is usually the result of calling `frame.insert` many times, which has poor performance.  Consider joining all columns at once using pd.concat(axis=1) instead. To get a de-fragmented frame, use `newframe = frame.copy()`\n",
      "  amostras['Amostra_' + str(i)] = _\n",
      "C:\\Users\\Tiago\\AppData\\Local\\Temp\\ipykernel_18996\\3166345054.py:4: PerformanceWarning: DataFrame is highly fragmented.  This is usually the result of calling `frame.insert` many times, which has poor performance.  Consider joining all columns at once using pd.concat(axis=1) instead. To get a de-fragmented frame, use `newframe = frame.copy()`\n",
      "  amostras['Amostra_' + str(i)] = _\n",
      "C:\\Users\\Tiago\\AppData\\Local\\Temp\\ipykernel_18996\\3166345054.py:4: PerformanceWarning: DataFrame is highly fragmented.  This is usually the result of calling `frame.insert` many times, which has poor performance.  Consider joining all columns at once using pd.concat(axis=1) instead. To get a de-fragmented frame, use `newframe = frame.copy()`\n",
      "  amostras['Amostra_' + str(i)] = _\n",
      "C:\\Users\\Tiago\\AppData\\Local\\Temp\\ipykernel_18996\\3166345054.py:4: PerformanceWarning: DataFrame is highly fragmented.  This is usually the result of calling `frame.insert` many times, which has poor performance.  Consider joining all columns at once using pd.concat(axis=1) instead. To get a de-fragmented frame, use `newframe = frame.copy()`\n",
      "  amostras['Amostra_' + str(i)] = _\n",
      "C:\\Users\\Tiago\\AppData\\Local\\Temp\\ipykernel_18996\\3166345054.py:4: PerformanceWarning: DataFrame is highly fragmented.  This is usually the result of calling `frame.insert` many times, which has poor performance.  Consider joining all columns at once using pd.concat(axis=1) instead. To get a de-fragmented frame, use `newframe = frame.copy()`\n",
      "  amostras['Amostra_' + str(i)] = _\n",
      "C:\\Users\\Tiago\\AppData\\Local\\Temp\\ipykernel_18996\\3166345054.py:4: PerformanceWarning: DataFrame is highly fragmented.  This is usually the result of calling `frame.insert` many times, which has poor performance.  Consider joining all columns at once using pd.concat(axis=1) instead. To get a de-fragmented frame, use `newframe = frame.copy()`\n",
      "  amostras['Amostra_' + str(i)] = _\n",
      "C:\\Users\\Tiago\\AppData\\Local\\Temp\\ipykernel_18996\\3166345054.py:4: PerformanceWarning: DataFrame is highly fragmented.  This is usually the result of calling `frame.insert` many times, which has poor performance.  Consider joining all columns at once using pd.concat(axis=1) instead. To get a de-fragmented frame, use `newframe = frame.copy()`\n",
      "  amostras['Amostra_' + str(i)] = _\n",
      "C:\\Users\\Tiago\\AppData\\Local\\Temp\\ipykernel_18996\\3166345054.py:4: PerformanceWarning: DataFrame is highly fragmented.  This is usually the result of calling `frame.insert` many times, which has poor performance.  Consider joining all columns at once using pd.concat(axis=1) instead. To get a de-fragmented frame, use `newframe = frame.copy()`\n",
      "  amostras['Amostra_' + str(i)] = _\n",
      "C:\\Users\\Tiago\\AppData\\Local\\Temp\\ipykernel_18996\\3166345054.py:4: PerformanceWarning: DataFrame is highly fragmented.  This is usually the result of calling `frame.insert` many times, which has poor performance.  Consider joining all columns at once using pd.concat(axis=1) instead. To get a de-fragmented frame, use `newframe = frame.copy()`\n",
      "  amostras['Amostra_' + str(i)] = _\n",
      "C:\\Users\\Tiago\\AppData\\Local\\Temp\\ipykernel_18996\\3166345054.py:4: PerformanceWarning: DataFrame is highly fragmented.  This is usually the result of calling `frame.insert` many times, which has poor performance.  Consider joining all columns at once using pd.concat(axis=1) instead. To get a de-fragmented frame, use `newframe = frame.copy()`\n",
      "  amostras['Amostra_' + str(i)] = _\n",
      "C:\\Users\\Tiago\\AppData\\Local\\Temp\\ipykernel_18996\\3166345054.py:4: PerformanceWarning: DataFrame is highly fragmented.  This is usually the result of calling `frame.insert` many times, which has poor performance.  Consider joining all columns at once using pd.concat(axis=1) instead. To get a de-fragmented frame, use `newframe = frame.copy()`\n",
      "  amostras['Amostra_' + str(i)] = _\n",
      "C:\\Users\\Tiago\\AppData\\Local\\Temp\\ipykernel_18996\\3166345054.py:4: PerformanceWarning: DataFrame is highly fragmented.  This is usually the result of calling `frame.insert` many times, which has poor performance.  Consider joining all columns at once using pd.concat(axis=1) instead. To get a de-fragmented frame, use `newframe = frame.copy()`\n",
      "  amostras['Amostra_' + str(i)] = _\n",
      "C:\\Users\\Tiago\\AppData\\Local\\Temp\\ipykernel_18996\\3166345054.py:4: PerformanceWarning: DataFrame is highly fragmented.  This is usually the result of calling `frame.insert` many times, which has poor performance.  Consider joining all columns at once using pd.concat(axis=1) instead. To get a de-fragmented frame, use `newframe = frame.copy()`\n",
      "  amostras['Amostra_' + str(i)] = _\n",
      "C:\\Users\\Tiago\\AppData\\Local\\Temp\\ipykernel_18996\\3166345054.py:4: PerformanceWarning: DataFrame is highly fragmented.  This is usually the result of calling `frame.insert` many times, which has poor performance.  Consider joining all columns at once using pd.concat(axis=1) instead. To get a de-fragmented frame, use `newframe = frame.copy()`\n",
      "  amostras['Amostra_' + str(i)] = _\n",
      "C:\\Users\\Tiago\\AppData\\Local\\Temp\\ipykernel_18996\\3166345054.py:4: PerformanceWarning: DataFrame is highly fragmented.  This is usually the result of calling `frame.insert` many times, which has poor performance.  Consider joining all columns at once using pd.concat(axis=1) instead. To get a de-fragmented frame, use `newframe = frame.copy()`\n",
      "  amostras['Amostra_' + str(i)] = _\n",
      "C:\\Users\\Tiago\\AppData\\Local\\Temp\\ipykernel_18996\\3166345054.py:4: PerformanceWarning: DataFrame is highly fragmented.  This is usually the result of calling `frame.insert` many times, which has poor performance.  Consider joining all columns at once using pd.concat(axis=1) instead. To get a de-fragmented frame, use `newframe = frame.copy()`\n",
      "  amostras['Amostra_' + str(i)] = _\n",
      "C:\\Users\\Tiago\\AppData\\Local\\Temp\\ipykernel_18996\\3166345054.py:4: PerformanceWarning: DataFrame is highly fragmented.  This is usually the result of calling `frame.insert` many times, which has poor performance.  Consider joining all columns at once using pd.concat(axis=1) instead. To get a de-fragmented frame, use `newframe = frame.copy()`\n",
      "  amostras['Amostra_' + str(i)] = _\n",
      "C:\\Users\\Tiago\\AppData\\Local\\Temp\\ipykernel_18996\\3166345054.py:4: PerformanceWarning: DataFrame is highly fragmented.  This is usually the result of calling `frame.insert` many times, which has poor performance.  Consider joining all columns at once using pd.concat(axis=1) instead. To get a de-fragmented frame, use `newframe = frame.copy()`\n",
      "  amostras['Amostra_' + str(i)] = _\n",
      "C:\\Users\\Tiago\\AppData\\Local\\Temp\\ipykernel_18996\\3166345054.py:4: PerformanceWarning: DataFrame is highly fragmented.  This is usually the result of calling `frame.insert` many times, which has poor performance.  Consider joining all columns at once using pd.concat(axis=1) instead. To get a de-fragmented frame, use `newframe = frame.copy()`\n",
      "  amostras['Amostra_' + str(i)] = _\n",
      "C:\\Users\\Tiago\\AppData\\Local\\Temp\\ipykernel_18996\\3166345054.py:4: PerformanceWarning: DataFrame is highly fragmented.  This is usually the result of calling `frame.insert` many times, which has poor performance.  Consider joining all columns at once using pd.concat(axis=1) instead. To get a de-fragmented frame, use `newframe = frame.copy()`\n",
      "  amostras['Amostra_' + str(i)] = _\n",
      "C:\\Users\\Tiago\\AppData\\Local\\Temp\\ipykernel_18996\\3166345054.py:4: PerformanceWarning: DataFrame is highly fragmented.  This is usually the result of calling `frame.insert` many times, which has poor performance.  Consider joining all columns at once using pd.concat(axis=1) instead. To get a de-fragmented frame, use `newframe = frame.copy()`\n",
      "  amostras['Amostra_' + str(i)] = _\n",
      "C:\\Users\\Tiago\\AppData\\Local\\Temp\\ipykernel_18996\\3166345054.py:4: PerformanceWarning: DataFrame is highly fragmented.  This is usually the result of calling `frame.insert` many times, which has poor performance.  Consider joining all columns at once using pd.concat(axis=1) instead. To get a de-fragmented frame, use `newframe = frame.copy()`\n",
      "  amostras['Amostra_' + str(i)] = _\n",
      "C:\\Users\\Tiago\\AppData\\Local\\Temp\\ipykernel_18996\\3166345054.py:4: PerformanceWarning: DataFrame is highly fragmented.  This is usually the result of calling `frame.insert` many times, which has poor performance.  Consider joining all columns at once using pd.concat(axis=1) instead. To get a de-fragmented frame, use `newframe = frame.copy()`\n",
      "  amostras['Amostra_' + str(i)] = _\n",
      "C:\\Users\\Tiago\\AppData\\Local\\Temp\\ipykernel_18996\\3166345054.py:4: PerformanceWarning: DataFrame is highly fragmented.  This is usually the result of calling `frame.insert` many times, which has poor performance.  Consider joining all columns at once using pd.concat(axis=1) instead. To get a de-fragmented frame, use `newframe = frame.copy()`\n",
      "  amostras['Amostra_' + str(i)] = _\n",
      "C:\\Users\\Tiago\\AppData\\Local\\Temp\\ipykernel_18996\\3166345054.py:4: PerformanceWarning: DataFrame is highly fragmented.  This is usually the result of calling `frame.insert` many times, which has poor performance.  Consider joining all columns at once using pd.concat(axis=1) instead. To get a de-fragmented frame, use `newframe = frame.copy()`\n",
      "  amostras['Amostra_' + str(i)] = _\n",
      "C:\\Users\\Tiago\\AppData\\Local\\Temp\\ipykernel_18996\\3166345054.py:4: PerformanceWarning: DataFrame is highly fragmented.  This is usually the result of calling `frame.insert` many times, which has poor performance.  Consider joining all columns at once using pd.concat(axis=1) instead. To get a de-fragmented frame, use `newframe = frame.copy()`\n",
      "  amostras['Amostra_' + str(i)] = _\n",
      "C:\\Users\\Tiago\\AppData\\Local\\Temp\\ipykernel_18996\\3166345054.py:4: PerformanceWarning: DataFrame is highly fragmented.  This is usually the result of calling `frame.insert` many times, which has poor performance.  Consider joining all columns at once using pd.concat(axis=1) instead. To get a de-fragmented frame, use `newframe = frame.copy()`\n",
      "  amostras['Amostra_' + str(i)] = _\n",
      "C:\\Users\\Tiago\\AppData\\Local\\Temp\\ipykernel_18996\\3166345054.py:4: PerformanceWarning: DataFrame is highly fragmented.  This is usually the result of calling `frame.insert` many times, which has poor performance.  Consider joining all columns at once using pd.concat(axis=1) instead. To get a de-fragmented frame, use `newframe = frame.copy()`\n",
      "  amostras['Amostra_' + str(i)] = _\n",
      "C:\\Users\\Tiago\\AppData\\Local\\Temp\\ipykernel_18996\\3166345054.py:4: PerformanceWarning: DataFrame is highly fragmented.  This is usually the result of calling `frame.insert` many times, which has poor performance.  Consider joining all columns at once using pd.concat(axis=1) instead. To get a de-fragmented frame, use `newframe = frame.copy()`\n",
      "  amostras['Amostra_' + str(i)] = _\n",
      "C:\\Users\\Tiago\\AppData\\Local\\Temp\\ipykernel_18996\\3166345054.py:4: PerformanceWarning: DataFrame is highly fragmented.  This is usually the result of calling `frame.insert` many times, which has poor performance.  Consider joining all columns at once using pd.concat(axis=1) instead. To get a de-fragmented frame, use `newframe = frame.copy()`\n",
      "  amostras['Amostra_' + str(i)] = _\n",
      "C:\\Users\\Tiago\\AppData\\Local\\Temp\\ipykernel_18996\\3166345054.py:4: PerformanceWarning: DataFrame is highly fragmented.  This is usually the result of calling `frame.insert` many times, which has poor performance.  Consider joining all columns at once using pd.concat(axis=1) instead. To get a de-fragmented frame, use `newframe = frame.copy()`\n",
      "  amostras['Amostra_' + str(i)] = _\n",
      "C:\\Users\\Tiago\\AppData\\Local\\Temp\\ipykernel_18996\\3166345054.py:4: PerformanceWarning: DataFrame is highly fragmented.  This is usually the result of calling `frame.insert` many times, which has poor performance.  Consider joining all columns at once using pd.concat(axis=1) instead. To get a de-fragmented frame, use `newframe = frame.copy()`\n",
      "  amostras['Amostra_' + str(i)] = _\n",
      "C:\\Users\\Tiago\\AppData\\Local\\Temp\\ipykernel_18996\\3166345054.py:4: PerformanceWarning: DataFrame is highly fragmented.  This is usually the result of calling `frame.insert` many times, which has poor performance.  Consider joining all columns at once using pd.concat(axis=1) instead. To get a de-fragmented frame, use `newframe = frame.copy()`\n",
      "  amostras['Amostra_' + str(i)] = _\n",
      "C:\\Users\\Tiago\\AppData\\Local\\Temp\\ipykernel_18996\\3166345054.py:4: PerformanceWarning: DataFrame is highly fragmented.  This is usually the result of calling `frame.insert` many times, which has poor performance.  Consider joining all columns at once using pd.concat(axis=1) instead. To get a de-fragmented frame, use `newframe = frame.copy()`\n",
      "  amostras['Amostra_' + str(i)] = _\n",
      "C:\\Users\\Tiago\\AppData\\Local\\Temp\\ipykernel_18996\\3166345054.py:4: PerformanceWarning: DataFrame is highly fragmented.  This is usually the result of calling `frame.insert` many times, which has poor performance.  Consider joining all columns at once using pd.concat(axis=1) instead. To get a de-fragmented frame, use `newframe = frame.copy()`\n",
      "  amostras['Amostra_' + str(i)] = _\n",
      "C:\\Users\\Tiago\\AppData\\Local\\Temp\\ipykernel_18996\\3166345054.py:4: PerformanceWarning: DataFrame is highly fragmented.  This is usually the result of calling `frame.insert` many times, which has poor performance.  Consider joining all columns at once using pd.concat(axis=1) instead. To get a de-fragmented frame, use `newframe = frame.copy()`\n",
      "  amostras['Amostra_' + str(i)] = _\n",
      "C:\\Users\\Tiago\\AppData\\Local\\Temp\\ipykernel_18996\\3166345054.py:4: PerformanceWarning: DataFrame is highly fragmented.  This is usually the result of calling `frame.insert` many times, which has poor performance.  Consider joining all columns at once using pd.concat(axis=1) instead. To get a de-fragmented frame, use `newframe = frame.copy()`\n",
      "  amostras['Amostra_' + str(i)] = _\n",
      "C:\\Users\\Tiago\\AppData\\Local\\Temp\\ipykernel_18996\\3166345054.py:4: PerformanceWarning: DataFrame is highly fragmented.  This is usually the result of calling `frame.insert` many times, which has poor performance.  Consider joining all columns at once using pd.concat(axis=1) instead. To get a de-fragmented frame, use `newframe = frame.copy()`\n",
      "  amostras['Amostra_' + str(i)] = _\n",
      "C:\\Users\\Tiago\\AppData\\Local\\Temp\\ipykernel_18996\\3166345054.py:4: PerformanceWarning: DataFrame is highly fragmented.  This is usually the result of calling `frame.insert` many times, which has poor performance.  Consider joining all columns at once using pd.concat(axis=1) instead. To get a de-fragmented frame, use `newframe = frame.copy()`\n",
      "  amostras['Amostra_' + str(i)] = _\n",
      "C:\\Users\\Tiago\\AppData\\Local\\Temp\\ipykernel_18996\\3166345054.py:4: PerformanceWarning: DataFrame is highly fragmented.  This is usually the result of calling `frame.insert` many times, which has poor performance.  Consider joining all columns at once using pd.concat(axis=1) instead. To get a de-fragmented frame, use `newframe = frame.copy()`\n",
      "  amostras['Amostra_' + str(i)] = _\n",
      "C:\\Users\\Tiago\\AppData\\Local\\Temp\\ipykernel_18996\\3166345054.py:4: PerformanceWarning: DataFrame is highly fragmented.  This is usually the result of calling `frame.insert` many times, which has poor performance.  Consider joining all columns at once using pd.concat(axis=1) instead. To get a de-fragmented frame, use `newframe = frame.copy()`\n",
      "  amostras['Amostra_' + str(i)] = _\n",
      "C:\\Users\\Tiago\\AppData\\Local\\Temp\\ipykernel_18996\\3166345054.py:4: PerformanceWarning: DataFrame is highly fragmented.  This is usually the result of calling `frame.insert` many times, which has poor performance.  Consider joining all columns at once using pd.concat(axis=1) instead. To get a de-fragmented frame, use `newframe = frame.copy()`\n",
      "  amostras['Amostra_' + str(i)] = _\n",
      "C:\\Users\\Tiago\\AppData\\Local\\Temp\\ipykernel_18996\\3166345054.py:4: PerformanceWarning: DataFrame is highly fragmented.  This is usually the result of calling `frame.insert` many times, which has poor performance.  Consider joining all columns at once using pd.concat(axis=1) instead. To get a de-fragmented frame, use `newframe = frame.copy()`\n",
      "  amostras['Amostra_' + str(i)] = _\n",
      "C:\\Users\\Tiago\\AppData\\Local\\Temp\\ipykernel_18996\\3166345054.py:4: PerformanceWarning: DataFrame is highly fragmented.  This is usually the result of calling `frame.insert` many times, which has poor performance.  Consider joining all columns at once using pd.concat(axis=1) instead. To get a de-fragmented frame, use `newframe = frame.copy()`\n",
      "  amostras['Amostra_' + str(i)] = _\n",
      "C:\\Users\\Tiago\\AppData\\Local\\Temp\\ipykernel_18996\\3166345054.py:4: PerformanceWarning: DataFrame is highly fragmented.  This is usually the result of calling `frame.insert` many times, which has poor performance.  Consider joining all columns at once using pd.concat(axis=1) instead. To get a de-fragmented frame, use `newframe = frame.copy()`\n",
      "  amostras['Amostra_' + str(i)] = _\n",
      "C:\\Users\\Tiago\\AppData\\Local\\Temp\\ipykernel_18996\\3166345054.py:4: PerformanceWarning: DataFrame is highly fragmented.  This is usually the result of calling `frame.insert` many times, which has poor performance.  Consider joining all columns at once using pd.concat(axis=1) instead. To get a de-fragmented frame, use `newframe = frame.copy()`\n",
      "  amostras['Amostra_' + str(i)] = _\n",
      "C:\\Users\\Tiago\\AppData\\Local\\Temp\\ipykernel_18996\\3166345054.py:4: PerformanceWarning: DataFrame is highly fragmented.  This is usually the result of calling `frame.insert` many times, which has poor performance.  Consider joining all columns at once using pd.concat(axis=1) instead. To get a de-fragmented frame, use `newframe = frame.copy()`\n",
      "  amostras['Amostra_' + str(i)] = _\n",
      "C:\\Users\\Tiago\\AppData\\Local\\Temp\\ipykernel_18996\\3166345054.py:4: PerformanceWarning: DataFrame is highly fragmented.  This is usually the result of calling `frame.insert` many times, which has poor performance.  Consider joining all columns at once using pd.concat(axis=1) instead. To get a de-fragmented frame, use `newframe = frame.copy()`\n",
      "  amostras['Amostra_' + str(i)] = _\n",
      "C:\\Users\\Tiago\\AppData\\Local\\Temp\\ipykernel_18996\\3166345054.py:4: PerformanceWarning: DataFrame is highly fragmented.  This is usually the result of calling `frame.insert` many times, which has poor performance.  Consider joining all columns at once using pd.concat(axis=1) instead. To get a de-fragmented frame, use `newframe = frame.copy()`\n",
      "  amostras['Amostra_' + str(i)] = _\n",
      "C:\\Users\\Tiago\\AppData\\Local\\Temp\\ipykernel_18996\\3166345054.py:4: PerformanceWarning: DataFrame is highly fragmented.  This is usually the result of calling `frame.insert` many times, which has poor performance.  Consider joining all columns at once using pd.concat(axis=1) instead. To get a de-fragmented frame, use `newframe = frame.copy()`\n",
      "  amostras['Amostra_' + str(i)] = _\n",
      "C:\\Users\\Tiago\\AppData\\Local\\Temp\\ipykernel_18996\\3166345054.py:4: PerformanceWarning: DataFrame is highly fragmented.  This is usually the result of calling `frame.insert` many times, which has poor performance.  Consider joining all columns at once using pd.concat(axis=1) instead. To get a de-fragmented frame, use `newframe = frame.copy()`\n",
      "  amostras['Amostra_' + str(i)] = _\n",
      "C:\\Users\\Tiago\\AppData\\Local\\Temp\\ipykernel_18996\\3166345054.py:4: PerformanceWarning: DataFrame is highly fragmented.  This is usually the result of calling `frame.insert` many times, which has poor performance.  Consider joining all columns at once using pd.concat(axis=1) instead. To get a de-fragmented frame, use `newframe = frame.copy()`\n",
      "  amostras['Amostra_' + str(i)] = _\n",
      "C:\\Users\\Tiago\\AppData\\Local\\Temp\\ipykernel_18996\\3166345054.py:4: PerformanceWarning: DataFrame is highly fragmented.  This is usually the result of calling `frame.insert` many times, which has poor performance.  Consider joining all columns at once using pd.concat(axis=1) instead. To get a de-fragmented frame, use `newframe = frame.copy()`\n",
      "  amostras['Amostra_' + str(i)] = _\n",
      "C:\\Users\\Tiago\\AppData\\Local\\Temp\\ipykernel_18996\\3166345054.py:4: PerformanceWarning: DataFrame is highly fragmented.  This is usually the result of calling `frame.insert` many times, which has poor performance.  Consider joining all columns at once using pd.concat(axis=1) instead. To get a de-fragmented frame, use `newframe = frame.copy()`\n",
      "  amostras['Amostra_' + str(i)] = _\n",
      "C:\\Users\\Tiago\\AppData\\Local\\Temp\\ipykernel_18996\\3166345054.py:4: PerformanceWarning: DataFrame is highly fragmented.  This is usually the result of calling `frame.insert` many times, which has poor performance.  Consider joining all columns at once using pd.concat(axis=1) instead. To get a de-fragmented frame, use `newframe = frame.copy()`\n",
      "  amostras['Amostra_' + str(i)] = _\n",
      "C:\\Users\\Tiago\\AppData\\Local\\Temp\\ipykernel_18996\\3166345054.py:4: PerformanceWarning: DataFrame is highly fragmented.  This is usually the result of calling `frame.insert` many times, which has poor performance.  Consider joining all columns at once using pd.concat(axis=1) instead. To get a de-fragmented frame, use `newframe = frame.copy()`\n",
      "  amostras['Amostra_' + str(i)] = _\n",
      "C:\\Users\\Tiago\\AppData\\Local\\Temp\\ipykernel_18996\\3166345054.py:4: PerformanceWarning: DataFrame is highly fragmented.  This is usually the result of calling `frame.insert` many times, which has poor performance.  Consider joining all columns at once using pd.concat(axis=1) instead. To get a de-fragmented frame, use `newframe = frame.copy()`\n",
      "  amostras['Amostra_' + str(i)] = _\n",
      "C:\\Users\\Tiago\\AppData\\Local\\Temp\\ipykernel_18996\\3166345054.py:4: PerformanceWarning: DataFrame is highly fragmented.  This is usually the result of calling `frame.insert` many times, which has poor performance.  Consider joining all columns at once using pd.concat(axis=1) instead. To get a de-fragmented frame, use `newframe = frame.copy()`\n",
      "  amostras['Amostra_' + str(i)] = _\n",
      "C:\\Users\\Tiago\\AppData\\Local\\Temp\\ipykernel_18996\\3166345054.py:4: PerformanceWarning: DataFrame is highly fragmented.  This is usually the result of calling `frame.insert` many times, which has poor performance.  Consider joining all columns at once using pd.concat(axis=1) instead. To get a de-fragmented frame, use `newframe = frame.copy()`\n",
      "  amostras['Amostra_' + str(i)] = _\n",
      "C:\\Users\\Tiago\\AppData\\Local\\Temp\\ipykernel_18996\\3166345054.py:4: PerformanceWarning: DataFrame is highly fragmented.  This is usually the result of calling `frame.insert` many times, which has poor performance.  Consider joining all columns at once using pd.concat(axis=1) instead. To get a de-fragmented frame, use `newframe = frame.copy()`\n",
      "  amostras['Amostra_' + str(i)] = _\n",
      "C:\\Users\\Tiago\\AppData\\Local\\Temp\\ipykernel_18996\\3166345054.py:4: PerformanceWarning: DataFrame is highly fragmented.  This is usually the result of calling `frame.insert` many times, which has poor performance.  Consider joining all columns at once using pd.concat(axis=1) instead. To get a de-fragmented frame, use `newframe = frame.copy()`\n",
      "  amostras['Amostra_' + str(i)] = _\n",
      "C:\\Users\\Tiago\\AppData\\Local\\Temp\\ipykernel_18996\\3166345054.py:4: PerformanceWarning: DataFrame is highly fragmented.  This is usually the result of calling `frame.insert` many times, which has poor performance.  Consider joining all columns at once using pd.concat(axis=1) instead. To get a de-fragmented frame, use `newframe = frame.copy()`\n",
      "  amostras['Amostra_' + str(i)] = _\n",
      "C:\\Users\\Tiago\\AppData\\Local\\Temp\\ipykernel_18996\\3166345054.py:4: PerformanceWarning: DataFrame is highly fragmented.  This is usually the result of calling `frame.insert` many times, which has poor performance.  Consider joining all columns at once using pd.concat(axis=1) instead. To get a de-fragmented frame, use `newframe = frame.copy()`\n",
      "  amostras['Amostra_' + str(i)] = _\n",
      "C:\\Users\\Tiago\\AppData\\Local\\Temp\\ipykernel_18996\\3166345054.py:4: PerformanceWarning: DataFrame is highly fragmented.  This is usually the result of calling `frame.insert` many times, which has poor performance.  Consider joining all columns at once using pd.concat(axis=1) instead. To get a de-fragmented frame, use `newframe = frame.copy()`\n",
      "  amostras['Amostra_' + str(i)] = _\n",
      "C:\\Users\\Tiago\\AppData\\Local\\Temp\\ipykernel_18996\\3166345054.py:4: PerformanceWarning: DataFrame is highly fragmented.  This is usually the result of calling `frame.insert` many times, which has poor performance.  Consider joining all columns at once using pd.concat(axis=1) instead. To get a de-fragmented frame, use `newframe = frame.copy()`\n",
      "  amostras['Amostra_' + str(i)] = _\n",
      "C:\\Users\\Tiago\\AppData\\Local\\Temp\\ipykernel_18996\\3166345054.py:4: PerformanceWarning: DataFrame is highly fragmented.  This is usually the result of calling `frame.insert` many times, which has poor performance.  Consider joining all columns at once using pd.concat(axis=1) instead. To get a de-fragmented frame, use `newframe = frame.copy()`\n",
      "  amostras['Amostra_' + str(i)] = _\n",
      "C:\\Users\\Tiago\\AppData\\Local\\Temp\\ipykernel_18996\\3166345054.py:4: PerformanceWarning: DataFrame is highly fragmented.  This is usually the result of calling `frame.insert` many times, which has poor performance.  Consider joining all columns at once using pd.concat(axis=1) instead. To get a de-fragmented frame, use `newframe = frame.copy()`\n",
      "  amostras['Amostra_' + str(i)] = _\n",
      "C:\\Users\\Tiago\\AppData\\Local\\Temp\\ipykernel_18996\\3166345054.py:4: PerformanceWarning: DataFrame is highly fragmented.  This is usually the result of calling `frame.insert` many times, which has poor performance.  Consider joining all columns at once using pd.concat(axis=1) instead. To get a de-fragmented frame, use `newframe = frame.copy()`\n",
      "  amostras['Amostra_' + str(i)] = _\n",
      "C:\\Users\\Tiago\\AppData\\Local\\Temp\\ipykernel_18996\\3166345054.py:4: PerformanceWarning: DataFrame is highly fragmented.  This is usually the result of calling `frame.insert` many times, which has poor performance.  Consider joining all columns at once using pd.concat(axis=1) instead. To get a de-fragmented frame, use `newframe = frame.copy()`\n",
      "  amostras['Amostra_' + str(i)] = _\n",
      "C:\\Users\\Tiago\\AppData\\Local\\Temp\\ipykernel_18996\\3166345054.py:4: PerformanceWarning: DataFrame is highly fragmented.  This is usually the result of calling `frame.insert` many times, which has poor performance.  Consider joining all columns at once using pd.concat(axis=1) instead. To get a de-fragmented frame, use `newframe = frame.copy()`\n",
      "  amostras['Amostra_' + str(i)] = _\n",
      "C:\\Users\\Tiago\\AppData\\Local\\Temp\\ipykernel_18996\\3166345054.py:4: PerformanceWarning: DataFrame is highly fragmented.  This is usually the result of calling `frame.insert` many times, which has poor performance.  Consider joining all columns at once using pd.concat(axis=1) instead. To get a de-fragmented frame, use `newframe = frame.copy()`\n",
      "  amostras['Amostra_' + str(i)] = _\n",
      "C:\\Users\\Tiago\\AppData\\Local\\Temp\\ipykernel_18996\\3166345054.py:4: PerformanceWarning: DataFrame is highly fragmented.  This is usually the result of calling `frame.insert` many times, which has poor performance.  Consider joining all columns at once using pd.concat(axis=1) instead. To get a de-fragmented frame, use `newframe = frame.copy()`\n",
      "  amostras['Amostra_' + str(i)] = _\n",
      "C:\\Users\\Tiago\\AppData\\Local\\Temp\\ipykernel_18996\\3166345054.py:4: PerformanceWarning: DataFrame is highly fragmented.  This is usually the result of calling `frame.insert` many times, which has poor performance.  Consider joining all columns at once using pd.concat(axis=1) instead. To get a de-fragmented frame, use `newframe = frame.copy()`\n",
      "  amostras['Amostra_' + str(i)] = _\n",
      "C:\\Users\\Tiago\\AppData\\Local\\Temp\\ipykernel_18996\\3166345054.py:4: PerformanceWarning: DataFrame is highly fragmented.  This is usually the result of calling `frame.insert` many times, which has poor performance.  Consider joining all columns at once using pd.concat(axis=1) instead. To get a de-fragmented frame, use `newframe = frame.copy()`\n",
      "  amostras['Amostra_' + str(i)] = _\n",
      "C:\\Users\\Tiago\\AppData\\Local\\Temp\\ipykernel_18996\\3166345054.py:4: PerformanceWarning: DataFrame is highly fragmented.  This is usually the result of calling `frame.insert` many times, which has poor performance.  Consider joining all columns at once using pd.concat(axis=1) instead. To get a de-fragmented frame, use `newframe = frame.copy()`\n",
      "  amostras['Amostra_' + str(i)] = _\n",
      "C:\\Users\\Tiago\\AppData\\Local\\Temp\\ipykernel_18996\\3166345054.py:4: PerformanceWarning: DataFrame is highly fragmented.  This is usually the result of calling `frame.insert` many times, which has poor performance.  Consider joining all columns at once using pd.concat(axis=1) instead. To get a de-fragmented frame, use `newframe = frame.copy()`\n",
      "  amostras['Amostra_' + str(i)] = _\n",
      "C:\\Users\\Tiago\\AppData\\Local\\Temp\\ipykernel_18996\\3166345054.py:4: PerformanceWarning: DataFrame is highly fragmented.  This is usually the result of calling `frame.insert` many times, which has poor performance.  Consider joining all columns at once using pd.concat(axis=1) instead. To get a de-fragmented frame, use `newframe = frame.copy()`\n",
      "  amostras['Amostra_' + str(i)] = _\n",
      "C:\\Users\\Tiago\\AppData\\Local\\Temp\\ipykernel_18996\\3166345054.py:4: PerformanceWarning: DataFrame is highly fragmented.  This is usually the result of calling `frame.insert` many times, which has poor performance.  Consider joining all columns at once using pd.concat(axis=1) instead. To get a de-fragmented frame, use `newframe = frame.copy()`\n",
      "  amostras['Amostra_' + str(i)] = _\n",
      "C:\\Users\\Tiago\\AppData\\Local\\Temp\\ipykernel_18996\\3166345054.py:4: PerformanceWarning: DataFrame is highly fragmented.  This is usually the result of calling `frame.insert` many times, which has poor performance.  Consider joining all columns at once using pd.concat(axis=1) instead. To get a de-fragmented frame, use `newframe = frame.copy()`\n",
      "  amostras['Amostra_' + str(i)] = _\n",
      "C:\\Users\\Tiago\\AppData\\Local\\Temp\\ipykernel_18996\\3166345054.py:4: PerformanceWarning: DataFrame is highly fragmented.  This is usually the result of calling `frame.insert` many times, which has poor performance.  Consider joining all columns at once using pd.concat(axis=1) instead. To get a de-fragmented frame, use `newframe = frame.copy()`\n",
      "  amostras['Amostra_' + str(i)] = _\n",
      "C:\\Users\\Tiago\\AppData\\Local\\Temp\\ipykernel_18996\\3166345054.py:4: PerformanceWarning: DataFrame is highly fragmented.  This is usually the result of calling `frame.insert` many times, which has poor performance.  Consider joining all columns at once using pd.concat(axis=1) instead. To get a de-fragmented frame, use `newframe = frame.copy()`\n",
      "  amostras['Amostra_' + str(i)] = _\n",
      "C:\\Users\\Tiago\\AppData\\Local\\Temp\\ipykernel_18996\\3166345054.py:4: PerformanceWarning: DataFrame is highly fragmented.  This is usually the result of calling `frame.insert` many times, which has poor performance.  Consider joining all columns at once using pd.concat(axis=1) instead. To get a de-fragmented frame, use `newframe = frame.copy()`\n",
      "  amostras['Amostra_' + str(i)] = _\n",
      "C:\\Users\\Tiago\\AppData\\Local\\Temp\\ipykernel_18996\\3166345054.py:4: PerformanceWarning: DataFrame is highly fragmented.  This is usually the result of calling `frame.insert` many times, which has poor performance.  Consider joining all columns at once using pd.concat(axis=1) instead. To get a de-fragmented frame, use `newframe = frame.copy()`\n",
      "  amostras['Amostra_' + str(i)] = _\n",
      "C:\\Users\\Tiago\\AppData\\Local\\Temp\\ipykernel_18996\\3166345054.py:4: PerformanceWarning: DataFrame is highly fragmented.  This is usually the result of calling `frame.insert` many times, which has poor performance.  Consider joining all columns at once using pd.concat(axis=1) instead. To get a de-fragmented frame, use `newframe = frame.copy()`\n",
      "  amostras['Amostra_' + str(i)] = _\n",
      "C:\\Users\\Tiago\\AppData\\Local\\Temp\\ipykernel_18996\\3166345054.py:4: PerformanceWarning: DataFrame is highly fragmented.  This is usually the result of calling `frame.insert` many times, which has poor performance.  Consider joining all columns at once using pd.concat(axis=1) instead. To get a de-fragmented frame, use `newframe = frame.copy()`\n",
      "  amostras['Amostra_' + str(i)] = _\n",
      "C:\\Users\\Tiago\\AppData\\Local\\Temp\\ipykernel_18996\\3166345054.py:4: PerformanceWarning: DataFrame is highly fragmented.  This is usually the result of calling `frame.insert` many times, which has poor performance.  Consider joining all columns at once using pd.concat(axis=1) instead. To get a de-fragmented frame, use `newframe = frame.copy()`\n",
      "  amostras['Amostra_' + str(i)] = _\n",
      "C:\\Users\\Tiago\\AppData\\Local\\Temp\\ipykernel_18996\\3166345054.py:4: PerformanceWarning: DataFrame is highly fragmented.  This is usually the result of calling `frame.insert` many times, which has poor performance.  Consider joining all columns at once using pd.concat(axis=1) instead. To get a de-fragmented frame, use `newframe = frame.copy()`\n",
      "  amostras['Amostra_' + str(i)] = _\n",
      "C:\\Users\\Tiago\\AppData\\Local\\Temp\\ipykernel_18996\\3166345054.py:4: PerformanceWarning: DataFrame is highly fragmented.  This is usually the result of calling `frame.insert` many times, which has poor performance.  Consider joining all columns at once using pd.concat(axis=1) instead. To get a de-fragmented frame, use `newframe = frame.copy()`\n",
      "  amostras['Amostra_' + str(i)] = _\n",
      "C:\\Users\\Tiago\\AppData\\Local\\Temp\\ipykernel_18996\\3166345054.py:4: PerformanceWarning: DataFrame is highly fragmented.  This is usually the result of calling `frame.insert` many times, which has poor performance.  Consider joining all columns at once using pd.concat(axis=1) instead. To get a de-fragmented frame, use `newframe = frame.copy()`\n",
      "  amostras['Amostra_' + str(i)] = _\n",
      "C:\\Users\\Tiago\\AppData\\Local\\Temp\\ipykernel_18996\\3166345054.py:4: PerformanceWarning: DataFrame is highly fragmented.  This is usually the result of calling `frame.insert` many times, which has poor performance.  Consider joining all columns at once using pd.concat(axis=1) instead. To get a de-fragmented frame, use `newframe = frame.copy()`\n",
      "  amostras['Amostra_' + str(i)] = _\n",
      "C:\\Users\\Tiago\\AppData\\Local\\Temp\\ipykernel_18996\\3166345054.py:4: PerformanceWarning: DataFrame is highly fragmented.  This is usually the result of calling `frame.insert` many times, which has poor performance.  Consider joining all columns at once using pd.concat(axis=1) instead. To get a de-fragmented frame, use `newframe = frame.copy()`\n",
      "  amostras['Amostra_' + str(i)] = _\n",
      "C:\\Users\\Tiago\\AppData\\Local\\Temp\\ipykernel_18996\\3166345054.py:4: PerformanceWarning: DataFrame is highly fragmented.  This is usually the result of calling `frame.insert` many times, which has poor performance.  Consider joining all columns at once using pd.concat(axis=1) instead. To get a de-fragmented frame, use `newframe = frame.copy()`\n",
      "  amostras['Amostra_' + str(i)] = _\n",
      "C:\\Users\\Tiago\\AppData\\Local\\Temp\\ipykernel_18996\\3166345054.py:4: PerformanceWarning: DataFrame is highly fragmented.  This is usually the result of calling `frame.insert` many times, which has poor performance.  Consider joining all columns at once using pd.concat(axis=1) instead. To get a de-fragmented frame, use `newframe = frame.copy()`\n",
      "  amostras['Amostra_' + str(i)] = _\n",
      "C:\\Users\\Tiago\\AppData\\Local\\Temp\\ipykernel_18996\\3166345054.py:4: PerformanceWarning: DataFrame is highly fragmented.  This is usually the result of calling `frame.insert` many times, which has poor performance.  Consider joining all columns at once using pd.concat(axis=1) instead. To get a de-fragmented frame, use `newframe = frame.copy()`\n",
      "  amostras['Amostra_' + str(i)] = _\n",
      "C:\\Users\\Tiago\\AppData\\Local\\Temp\\ipykernel_18996\\3166345054.py:4: PerformanceWarning: DataFrame is highly fragmented.  This is usually the result of calling `frame.insert` many times, which has poor performance.  Consider joining all columns at once using pd.concat(axis=1) instead. To get a de-fragmented frame, use `newframe = frame.copy()`\n",
      "  amostras['Amostra_' + str(i)] = _\n",
      "C:\\Users\\Tiago\\AppData\\Local\\Temp\\ipykernel_18996\\3166345054.py:4: PerformanceWarning: DataFrame is highly fragmented.  This is usually the result of calling `frame.insert` many times, which has poor performance.  Consider joining all columns at once using pd.concat(axis=1) instead. To get a de-fragmented frame, use `newframe = frame.copy()`\n",
      "  amostras['Amostra_' + str(i)] = _\n",
      "C:\\Users\\Tiago\\AppData\\Local\\Temp\\ipykernel_18996\\3166345054.py:4: PerformanceWarning: DataFrame is highly fragmented.  This is usually the result of calling `frame.insert` many times, which has poor performance.  Consider joining all columns at once using pd.concat(axis=1) instead. To get a de-fragmented frame, use `newframe = frame.copy()`\n",
      "  amostras['Amostra_' + str(i)] = _\n",
      "C:\\Users\\Tiago\\AppData\\Local\\Temp\\ipykernel_18996\\3166345054.py:4: PerformanceWarning: DataFrame is highly fragmented.  This is usually the result of calling `frame.insert` many times, which has poor performance.  Consider joining all columns at once using pd.concat(axis=1) instead. To get a de-fragmented frame, use `newframe = frame.copy()`\n",
      "  amostras['Amostra_' + str(i)] = _\n",
      "C:\\Users\\Tiago\\AppData\\Local\\Temp\\ipykernel_18996\\3166345054.py:4: PerformanceWarning: DataFrame is highly fragmented.  This is usually the result of calling `frame.insert` many times, which has poor performance.  Consider joining all columns at once using pd.concat(axis=1) instead. To get a de-fragmented frame, use `newframe = frame.copy()`\n",
      "  amostras['Amostra_' + str(i)] = _\n",
      "C:\\Users\\Tiago\\AppData\\Local\\Temp\\ipykernel_18996\\3166345054.py:4: PerformanceWarning: DataFrame is highly fragmented.  This is usually the result of calling `frame.insert` many times, which has poor performance.  Consider joining all columns at once using pd.concat(axis=1) instead. To get a de-fragmented frame, use `newframe = frame.copy()`\n",
      "  amostras['Amostra_' + str(i)] = _\n",
      "C:\\Users\\Tiago\\AppData\\Local\\Temp\\ipykernel_18996\\3166345054.py:4: PerformanceWarning: DataFrame is highly fragmented.  This is usually the result of calling `frame.insert` many times, which has poor performance.  Consider joining all columns at once using pd.concat(axis=1) instead. To get a de-fragmented frame, use `newframe = frame.copy()`\n",
      "  amostras['Amostra_' + str(i)] = _\n",
      "C:\\Users\\Tiago\\AppData\\Local\\Temp\\ipykernel_18996\\3166345054.py:4: PerformanceWarning: DataFrame is highly fragmented.  This is usually the result of calling `frame.insert` many times, which has poor performance.  Consider joining all columns at once using pd.concat(axis=1) instead. To get a de-fragmented frame, use `newframe = frame.copy()`\n",
      "  amostras['Amostra_' + str(i)] = _\n",
      "C:\\Users\\Tiago\\AppData\\Local\\Temp\\ipykernel_18996\\3166345054.py:4: PerformanceWarning: DataFrame is highly fragmented.  This is usually the result of calling `frame.insert` many times, which has poor performance.  Consider joining all columns at once using pd.concat(axis=1) instead. To get a de-fragmented frame, use `newframe = frame.copy()`\n",
      "  amostras['Amostra_' + str(i)] = _\n",
      "C:\\Users\\Tiago\\AppData\\Local\\Temp\\ipykernel_18996\\3166345054.py:4: PerformanceWarning: DataFrame is highly fragmented.  This is usually the result of calling `frame.insert` many times, which has poor performance.  Consider joining all columns at once using pd.concat(axis=1) instead. To get a de-fragmented frame, use `newframe = frame.copy()`\n",
      "  amostras['Amostra_' + str(i)] = _\n",
      "C:\\Users\\Tiago\\AppData\\Local\\Temp\\ipykernel_18996\\3166345054.py:4: PerformanceWarning: DataFrame is highly fragmented.  This is usually the result of calling `frame.insert` many times, which has poor performance.  Consider joining all columns at once using pd.concat(axis=1) instead. To get a de-fragmented frame, use `newframe = frame.copy()`\n",
      "  amostras['Amostra_' + str(i)] = _\n",
      "C:\\Users\\Tiago\\AppData\\Local\\Temp\\ipykernel_18996\\3166345054.py:4: PerformanceWarning: DataFrame is highly fragmented.  This is usually the result of calling `frame.insert` many times, which has poor performance.  Consider joining all columns at once using pd.concat(axis=1) instead. To get a de-fragmented frame, use `newframe = frame.copy()`\n",
      "  amostras['Amostra_' + str(i)] = _\n",
      "C:\\Users\\Tiago\\AppData\\Local\\Temp\\ipykernel_18996\\3166345054.py:4: PerformanceWarning: DataFrame is highly fragmented.  This is usually the result of calling `frame.insert` many times, which has poor performance.  Consider joining all columns at once using pd.concat(axis=1) instead. To get a de-fragmented frame, use `newframe = frame.copy()`\n",
      "  amostras['Amostra_' + str(i)] = _\n",
      "C:\\Users\\Tiago\\AppData\\Local\\Temp\\ipykernel_18996\\3166345054.py:4: PerformanceWarning: DataFrame is highly fragmented.  This is usually the result of calling `frame.insert` many times, which has poor performance.  Consider joining all columns at once using pd.concat(axis=1) instead. To get a de-fragmented frame, use `newframe = frame.copy()`\n",
      "  amostras['Amostra_' + str(i)] = _\n",
      "C:\\Users\\Tiago\\AppData\\Local\\Temp\\ipykernel_18996\\3166345054.py:4: PerformanceWarning: DataFrame is highly fragmented.  This is usually the result of calling `frame.insert` many times, which has poor performance.  Consider joining all columns at once using pd.concat(axis=1) instead. To get a de-fragmented frame, use `newframe = frame.copy()`\n",
      "  amostras['Amostra_' + str(i)] = _\n",
      "C:\\Users\\Tiago\\AppData\\Local\\Temp\\ipykernel_18996\\3166345054.py:4: PerformanceWarning: DataFrame is highly fragmented.  This is usually the result of calling `frame.insert` many times, which has poor performance.  Consider joining all columns at once using pd.concat(axis=1) instead. To get a de-fragmented frame, use `newframe = frame.copy()`\n",
      "  amostras['Amostra_' + str(i)] = _\n",
      "C:\\Users\\Tiago\\AppData\\Local\\Temp\\ipykernel_18996\\3166345054.py:4: PerformanceWarning: DataFrame is highly fragmented.  This is usually the result of calling `frame.insert` many times, which has poor performance.  Consider joining all columns at once using pd.concat(axis=1) instead. To get a de-fragmented frame, use `newframe = frame.copy()`\n",
      "  amostras['Amostra_' + str(i)] = _\n",
      "C:\\Users\\Tiago\\AppData\\Local\\Temp\\ipykernel_18996\\3166345054.py:4: PerformanceWarning: DataFrame is highly fragmented.  This is usually the result of calling `frame.insert` many times, which has poor performance.  Consider joining all columns at once using pd.concat(axis=1) instead. To get a de-fragmented frame, use `newframe = frame.copy()`\n",
      "  amostras['Amostra_' + str(i)] = _\n",
      "C:\\Users\\Tiago\\AppData\\Local\\Temp\\ipykernel_18996\\3166345054.py:4: PerformanceWarning: DataFrame is highly fragmented.  This is usually the result of calling `frame.insert` many times, which has poor performance.  Consider joining all columns at once using pd.concat(axis=1) instead. To get a de-fragmented frame, use `newframe = frame.copy()`\n",
      "  amostras['Amostra_' + str(i)] = _\n",
      "C:\\Users\\Tiago\\AppData\\Local\\Temp\\ipykernel_18996\\3166345054.py:4: PerformanceWarning: DataFrame is highly fragmented.  This is usually the result of calling `frame.insert` many times, which has poor performance.  Consider joining all columns at once using pd.concat(axis=1) instead. To get a de-fragmented frame, use `newframe = frame.copy()`\n",
      "  amostras['Amostra_' + str(i)] = _\n",
      "C:\\Users\\Tiago\\AppData\\Local\\Temp\\ipykernel_18996\\3166345054.py:4: PerformanceWarning: DataFrame is highly fragmented.  This is usually the result of calling `frame.insert` many times, which has poor performance.  Consider joining all columns at once using pd.concat(axis=1) instead. To get a de-fragmented frame, use `newframe = frame.copy()`\n",
      "  amostras['Amostra_' + str(i)] = _\n",
      "C:\\Users\\Tiago\\AppData\\Local\\Temp\\ipykernel_18996\\3166345054.py:4: PerformanceWarning: DataFrame is highly fragmented.  This is usually the result of calling `frame.insert` many times, which has poor performance.  Consider joining all columns at once using pd.concat(axis=1) instead. To get a de-fragmented frame, use `newframe = frame.copy()`\n",
      "  amostras['Amostra_' + str(i)] = _\n",
      "C:\\Users\\Tiago\\AppData\\Local\\Temp\\ipykernel_18996\\3166345054.py:4: PerformanceWarning: DataFrame is highly fragmented.  This is usually the result of calling `frame.insert` many times, which has poor performance.  Consider joining all columns at once using pd.concat(axis=1) instead. To get a de-fragmented frame, use `newframe = frame.copy()`\n",
      "  amostras['Amostra_' + str(i)] = _\n",
      "C:\\Users\\Tiago\\AppData\\Local\\Temp\\ipykernel_18996\\3166345054.py:4: PerformanceWarning: DataFrame is highly fragmented.  This is usually the result of calling `frame.insert` many times, which has poor performance.  Consider joining all columns at once using pd.concat(axis=1) instead. To get a de-fragmented frame, use `newframe = frame.copy()`\n",
      "  amostras['Amostra_' + str(i)] = _\n",
      "C:\\Users\\Tiago\\AppData\\Local\\Temp\\ipykernel_18996\\3166345054.py:4: PerformanceWarning: DataFrame is highly fragmented.  This is usually the result of calling `frame.insert` many times, which has poor performance.  Consider joining all columns at once using pd.concat(axis=1) instead. To get a de-fragmented frame, use `newframe = frame.copy()`\n",
      "  amostras['Amostra_' + str(i)] = _\n",
      "C:\\Users\\Tiago\\AppData\\Local\\Temp\\ipykernel_18996\\3166345054.py:4: PerformanceWarning: DataFrame is highly fragmented.  This is usually the result of calling `frame.insert` many times, which has poor performance.  Consider joining all columns at once using pd.concat(axis=1) instead. To get a de-fragmented frame, use `newframe = frame.copy()`\n",
      "  amostras['Amostra_' + str(i)] = _\n",
      "C:\\Users\\Tiago\\AppData\\Local\\Temp\\ipykernel_18996\\3166345054.py:4: PerformanceWarning: DataFrame is highly fragmented.  This is usually the result of calling `frame.insert` many times, which has poor performance.  Consider joining all columns at once using pd.concat(axis=1) instead. To get a de-fragmented frame, use `newframe = frame.copy()`\n",
      "  amostras['Amostra_' + str(i)] = _\n",
      "C:\\Users\\Tiago\\AppData\\Local\\Temp\\ipykernel_18996\\3166345054.py:4: PerformanceWarning: DataFrame is highly fragmented.  This is usually the result of calling `frame.insert` many times, which has poor performance.  Consider joining all columns at once using pd.concat(axis=1) instead. To get a de-fragmented frame, use `newframe = frame.copy()`\n",
      "  amostras['Amostra_' + str(i)] = _\n",
      "C:\\Users\\Tiago\\AppData\\Local\\Temp\\ipykernel_18996\\3166345054.py:4: PerformanceWarning: DataFrame is highly fragmented.  This is usually the result of calling `frame.insert` many times, which has poor performance.  Consider joining all columns at once using pd.concat(axis=1) instead. To get a de-fragmented frame, use `newframe = frame.copy()`\n",
      "  amostras['Amostra_' + str(i)] = _\n",
      "C:\\Users\\Tiago\\AppData\\Local\\Temp\\ipykernel_18996\\3166345054.py:4: PerformanceWarning: DataFrame is highly fragmented.  This is usually the result of calling `frame.insert` many times, which has poor performance.  Consider joining all columns at once using pd.concat(axis=1) instead. To get a de-fragmented frame, use `newframe = frame.copy()`\n",
      "  amostras['Amostra_' + str(i)] = _\n",
      "C:\\Users\\Tiago\\AppData\\Local\\Temp\\ipykernel_18996\\3166345054.py:4: PerformanceWarning: DataFrame is highly fragmented.  This is usually the result of calling `frame.insert` many times, which has poor performance.  Consider joining all columns at once using pd.concat(axis=1) instead. To get a de-fragmented frame, use `newframe = frame.copy()`\n",
      "  amostras['Amostra_' + str(i)] = _\n",
      "C:\\Users\\Tiago\\AppData\\Local\\Temp\\ipykernel_18996\\3166345054.py:4: PerformanceWarning: DataFrame is highly fragmented.  This is usually the result of calling `frame.insert` many times, which has poor performance.  Consider joining all columns at once using pd.concat(axis=1) instead. To get a de-fragmented frame, use `newframe = frame.copy()`\n",
      "  amostras['Amostra_' + str(i)] = _\n",
      "C:\\Users\\Tiago\\AppData\\Local\\Temp\\ipykernel_18996\\3166345054.py:4: PerformanceWarning: DataFrame is highly fragmented.  This is usually the result of calling `frame.insert` many times, which has poor performance.  Consider joining all columns at once using pd.concat(axis=1) instead. To get a de-fragmented frame, use `newframe = frame.copy()`\n",
      "  amostras['Amostra_' + str(i)] = _\n",
      "C:\\Users\\Tiago\\AppData\\Local\\Temp\\ipykernel_18996\\3166345054.py:4: PerformanceWarning: DataFrame is highly fragmented.  This is usually the result of calling `frame.insert` many times, which has poor performance.  Consider joining all columns at once using pd.concat(axis=1) instead. To get a de-fragmented frame, use `newframe = frame.copy()`\n",
      "  amostras['Amostra_' + str(i)] = _\n",
      "C:\\Users\\Tiago\\AppData\\Local\\Temp\\ipykernel_18996\\3166345054.py:4: PerformanceWarning: DataFrame is highly fragmented.  This is usually the result of calling `frame.insert` many times, which has poor performance.  Consider joining all columns at once using pd.concat(axis=1) instead. To get a de-fragmented frame, use `newframe = frame.copy()`\n",
      "  amostras['Amostra_' + str(i)] = _\n",
      "C:\\Users\\Tiago\\AppData\\Local\\Temp\\ipykernel_18996\\3166345054.py:4: PerformanceWarning: DataFrame is highly fragmented.  This is usually the result of calling `frame.insert` many times, which has poor performance.  Consider joining all columns at once using pd.concat(axis=1) instead. To get a de-fragmented frame, use `newframe = frame.copy()`\n",
      "  amostras['Amostra_' + str(i)] = _\n",
      "C:\\Users\\Tiago\\AppData\\Local\\Temp\\ipykernel_18996\\3166345054.py:4: PerformanceWarning: DataFrame is highly fragmented.  This is usually the result of calling `frame.insert` many times, which has poor performance.  Consider joining all columns at once using pd.concat(axis=1) instead. To get a de-fragmented frame, use `newframe = frame.copy()`\n",
      "  amostras['Amostra_' + str(i)] = _\n",
      "C:\\Users\\Tiago\\AppData\\Local\\Temp\\ipykernel_18996\\3166345054.py:4: PerformanceWarning: DataFrame is highly fragmented.  This is usually the result of calling `frame.insert` many times, which has poor performance.  Consider joining all columns at once using pd.concat(axis=1) instead. To get a de-fragmented frame, use `newframe = frame.copy()`\n",
      "  amostras['Amostra_' + str(i)] = _\n",
      "C:\\Users\\Tiago\\AppData\\Local\\Temp\\ipykernel_18996\\3166345054.py:4: PerformanceWarning: DataFrame is highly fragmented.  This is usually the result of calling `frame.insert` many times, which has poor performance.  Consider joining all columns at once using pd.concat(axis=1) instead. To get a de-fragmented frame, use `newframe = frame.copy()`\n",
      "  amostras['Amostra_' + str(i)] = _\n",
      "C:\\Users\\Tiago\\AppData\\Local\\Temp\\ipykernel_18996\\3166345054.py:4: PerformanceWarning: DataFrame is highly fragmented.  This is usually the result of calling `frame.insert` many times, which has poor performance.  Consider joining all columns at once using pd.concat(axis=1) instead. To get a de-fragmented frame, use `newframe = frame.copy()`\n",
      "  amostras['Amostra_' + str(i)] = _\n",
      "C:\\Users\\Tiago\\AppData\\Local\\Temp\\ipykernel_18996\\3166345054.py:4: PerformanceWarning: DataFrame is highly fragmented.  This is usually the result of calling `frame.insert` many times, which has poor performance.  Consider joining all columns at once using pd.concat(axis=1) instead. To get a de-fragmented frame, use `newframe = frame.copy()`\n",
      "  amostras['Amostra_' + str(i)] = _\n",
      "C:\\Users\\Tiago\\AppData\\Local\\Temp\\ipykernel_18996\\3166345054.py:4: PerformanceWarning: DataFrame is highly fragmented.  This is usually the result of calling `frame.insert` many times, which has poor performance.  Consider joining all columns at once using pd.concat(axis=1) instead. To get a de-fragmented frame, use `newframe = frame.copy()`\n",
      "  amostras['Amostra_' + str(i)] = _\n",
      "C:\\Users\\Tiago\\AppData\\Local\\Temp\\ipykernel_18996\\3166345054.py:4: PerformanceWarning: DataFrame is highly fragmented.  This is usually the result of calling `frame.insert` many times, which has poor performance.  Consider joining all columns at once using pd.concat(axis=1) instead. To get a de-fragmented frame, use `newframe = frame.copy()`\n",
      "  amostras['Amostra_' + str(i)] = _\n",
      "C:\\Users\\Tiago\\AppData\\Local\\Temp\\ipykernel_18996\\3166345054.py:4: PerformanceWarning: DataFrame is highly fragmented.  This is usually the result of calling `frame.insert` many times, which has poor performance.  Consider joining all columns at once using pd.concat(axis=1) instead. To get a de-fragmented frame, use `newframe = frame.copy()`\n",
      "  amostras['Amostra_' + str(i)] = _\n",
      "C:\\Users\\Tiago\\AppData\\Local\\Temp\\ipykernel_18996\\3166345054.py:4: PerformanceWarning: DataFrame is highly fragmented.  This is usually the result of calling `frame.insert` many times, which has poor performance.  Consider joining all columns at once using pd.concat(axis=1) instead. To get a de-fragmented frame, use `newframe = frame.copy()`\n",
      "  amostras['Amostra_' + str(i)] = _\n",
      "C:\\Users\\Tiago\\AppData\\Local\\Temp\\ipykernel_18996\\3166345054.py:4: PerformanceWarning: DataFrame is highly fragmented.  This is usually the result of calling `frame.insert` many times, which has poor performance.  Consider joining all columns at once using pd.concat(axis=1) instead. To get a de-fragmented frame, use `newframe = frame.copy()`\n",
      "  amostras['Amostra_' + str(i)] = _\n",
      "C:\\Users\\Tiago\\AppData\\Local\\Temp\\ipykernel_18996\\3166345054.py:4: PerformanceWarning: DataFrame is highly fragmented.  This is usually the result of calling `frame.insert` many times, which has poor performance.  Consider joining all columns at once using pd.concat(axis=1) instead. To get a de-fragmented frame, use `newframe = frame.copy()`\n",
      "  amostras['Amostra_' + str(i)] = _\n",
      "C:\\Users\\Tiago\\AppData\\Local\\Temp\\ipykernel_18996\\3166345054.py:4: PerformanceWarning: DataFrame is highly fragmented.  This is usually the result of calling `frame.insert` many times, which has poor performance.  Consider joining all columns at once using pd.concat(axis=1) instead. To get a de-fragmented frame, use `newframe = frame.copy()`\n",
      "  amostras['Amostra_' + str(i)] = _\n",
      "C:\\Users\\Tiago\\AppData\\Local\\Temp\\ipykernel_18996\\3166345054.py:4: PerformanceWarning: DataFrame is highly fragmented.  This is usually the result of calling `frame.insert` many times, which has poor performance.  Consider joining all columns at once using pd.concat(axis=1) instead. To get a de-fragmented frame, use `newframe = frame.copy()`\n",
      "  amostras['Amostra_' + str(i)] = _\n",
      "C:\\Users\\Tiago\\AppData\\Local\\Temp\\ipykernel_18996\\3166345054.py:4: PerformanceWarning: DataFrame is highly fragmented.  This is usually the result of calling `frame.insert` many times, which has poor performance.  Consider joining all columns at once using pd.concat(axis=1) instead. To get a de-fragmented frame, use `newframe = frame.copy()`\n",
      "  amostras['Amostra_' + str(i)] = _\n",
      "C:\\Users\\Tiago\\AppData\\Local\\Temp\\ipykernel_18996\\3166345054.py:4: PerformanceWarning: DataFrame is highly fragmented.  This is usually the result of calling `frame.insert` many times, which has poor performance.  Consider joining all columns at once using pd.concat(axis=1) instead. To get a de-fragmented frame, use `newframe = frame.copy()`\n",
      "  amostras['Amostra_' + str(i)] = _\n",
      "C:\\Users\\Tiago\\AppData\\Local\\Temp\\ipykernel_18996\\3166345054.py:4: PerformanceWarning: DataFrame is highly fragmented.  This is usually the result of calling `frame.insert` many times, which has poor performance.  Consider joining all columns at once using pd.concat(axis=1) instead. To get a de-fragmented frame, use `newframe = frame.copy()`\n",
      "  amostras['Amostra_' + str(i)] = _\n",
      "C:\\Users\\Tiago\\AppData\\Local\\Temp\\ipykernel_18996\\3166345054.py:4: PerformanceWarning: DataFrame is highly fragmented.  This is usually the result of calling `frame.insert` many times, which has poor performance.  Consider joining all columns at once using pd.concat(axis=1) instead. To get a de-fragmented frame, use `newframe = frame.copy()`\n",
      "  amostras['Amostra_' + str(i)] = _\n",
      "C:\\Users\\Tiago\\AppData\\Local\\Temp\\ipykernel_18996\\3166345054.py:4: PerformanceWarning: DataFrame is highly fragmented.  This is usually the result of calling `frame.insert` many times, which has poor performance.  Consider joining all columns at once using pd.concat(axis=1) instead. To get a de-fragmented frame, use `newframe = frame.copy()`\n",
      "  amostras['Amostra_' + str(i)] = _\n",
      "C:\\Users\\Tiago\\AppData\\Local\\Temp\\ipykernel_18996\\3166345054.py:4: PerformanceWarning: DataFrame is highly fragmented.  This is usually the result of calling `frame.insert` many times, which has poor performance.  Consider joining all columns at once using pd.concat(axis=1) instead. To get a de-fragmented frame, use `newframe = frame.copy()`\n",
      "  amostras['Amostra_' + str(i)] = _\n",
      "C:\\Users\\Tiago\\AppData\\Local\\Temp\\ipykernel_18996\\3166345054.py:4: PerformanceWarning: DataFrame is highly fragmented.  This is usually the result of calling `frame.insert` many times, which has poor performance.  Consider joining all columns at once using pd.concat(axis=1) instead. To get a de-fragmented frame, use `newframe = frame.copy()`\n",
      "  amostras['Amostra_' + str(i)] = _\n",
      "C:\\Users\\Tiago\\AppData\\Local\\Temp\\ipykernel_18996\\3166345054.py:4: PerformanceWarning: DataFrame is highly fragmented.  This is usually the result of calling `frame.insert` many times, which has poor performance.  Consider joining all columns at once using pd.concat(axis=1) instead. To get a de-fragmented frame, use `newframe = frame.copy()`\n",
      "  amostras['Amostra_' + str(i)] = _\n",
      "C:\\Users\\Tiago\\AppData\\Local\\Temp\\ipykernel_18996\\3166345054.py:4: PerformanceWarning: DataFrame is highly fragmented.  This is usually the result of calling `frame.insert` many times, which has poor performance.  Consider joining all columns at once using pd.concat(axis=1) instead. To get a de-fragmented frame, use `newframe = frame.copy()`\n",
      "  amostras['Amostra_' + str(i)] = _\n",
      "C:\\Users\\Tiago\\AppData\\Local\\Temp\\ipykernel_18996\\3166345054.py:4: PerformanceWarning: DataFrame is highly fragmented.  This is usually the result of calling `frame.insert` many times, which has poor performance.  Consider joining all columns at once using pd.concat(axis=1) instead. To get a de-fragmented frame, use `newframe = frame.copy()`\n",
      "  amostras['Amostra_' + str(i)] = _\n",
      "C:\\Users\\Tiago\\AppData\\Local\\Temp\\ipykernel_18996\\3166345054.py:4: PerformanceWarning: DataFrame is highly fragmented.  This is usually the result of calling `frame.insert` many times, which has poor performance.  Consider joining all columns at once using pd.concat(axis=1) instead. To get a de-fragmented frame, use `newframe = frame.copy()`\n",
      "  amostras['Amostra_' + str(i)] = _\n",
      "C:\\Users\\Tiago\\AppData\\Local\\Temp\\ipykernel_18996\\3166345054.py:4: PerformanceWarning: DataFrame is highly fragmented.  This is usually the result of calling `frame.insert` many times, which has poor performance.  Consider joining all columns at once using pd.concat(axis=1) instead. To get a de-fragmented frame, use `newframe = frame.copy()`\n",
      "  amostras['Amostra_' + str(i)] = _\n",
      "C:\\Users\\Tiago\\AppData\\Local\\Temp\\ipykernel_18996\\3166345054.py:4: PerformanceWarning: DataFrame is highly fragmented.  This is usually the result of calling `frame.insert` many times, which has poor performance.  Consider joining all columns at once using pd.concat(axis=1) instead. To get a de-fragmented frame, use `newframe = frame.copy()`\n",
      "  amostras['Amostra_' + str(i)] = _\n",
      "C:\\Users\\Tiago\\AppData\\Local\\Temp\\ipykernel_18996\\3166345054.py:4: PerformanceWarning: DataFrame is highly fragmented.  This is usually the result of calling `frame.insert` many times, which has poor performance.  Consider joining all columns at once using pd.concat(axis=1) instead. To get a de-fragmented frame, use `newframe = frame.copy()`\n",
      "  amostras['Amostra_' + str(i)] = _\n",
      "C:\\Users\\Tiago\\AppData\\Local\\Temp\\ipykernel_18996\\3166345054.py:4: PerformanceWarning: DataFrame is highly fragmented.  This is usually the result of calling `frame.insert` many times, which has poor performance.  Consider joining all columns at once using pd.concat(axis=1) instead. To get a de-fragmented frame, use `newframe = frame.copy()`\n",
      "  amostras['Amostra_' + str(i)] = _\n",
      "C:\\Users\\Tiago\\AppData\\Local\\Temp\\ipykernel_18996\\3166345054.py:4: PerformanceWarning: DataFrame is highly fragmented.  This is usually the result of calling `frame.insert` many times, which has poor performance.  Consider joining all columns at once using pd.concat(axis=1) instead. To get a de-fragmented frame, use `newframe = frame.copy()`\n",
      "  amostras['Amostra_' + str(i)] = _\n",
      "C:\\Users\\Tiago\\AppData\\Local\\Temp\\ipykernel_18996\\3166345054.py:4: PerformanceWarning: DataFrame is highly fragmented.  This is usually the result of calling `frame.insert` many times, which has poor performance.  Consider joining all columns at once using pd.concat(axis=1) instead. To get a de-fragmented frame, use `newframe = frame.copy()`\n",
      "  amostras['Amostra_' + str(i)] = _\n",
      "C:\\Users\\Tiago\\AppData\\Local\\Temp\\ipykernel_18996\\3166345054.py:4: PerformanceWarning: DataFrame is highly fragmented.  This is usually the result of calling `frame.insert` many times, which has poor performance.  Consider joining all columns at once using pd.concat(axis=1) instead. To get a de-fragmented frame, use `newframe = frame.copy()`\n",
      "  amostras['Amostra_' + str(i)] = _\n",
      "C:\\Users\\Tiago\\AppData\\Local\\Temp\\ipykernel_18996\\3166345054.py:4: PerformanceWarning: DataFrame is highly fragmented.  This is usually the result of calling `frame.insert` many times, which has poor performance.  Consider joining all columns at once using pd.concat(axis=1) instead. To get a de-fragmented frame, use `newframe = frame.copy()`\n",
      "  amostras['Amostra_' + str(i)] = _\n",
      "C:\\Users\\Tiago\\AppData\\Local\\Temp\\ipykernel_18996\\3166345054.py:4: PerformanceWarning: DataFrame is highly fragmented.  This is usually the result of calling `frame.insert` many times, which has poor performance.  Consider joining all columns at once using pd.concat(axis=1) instead. To get a de-fragmented frame, use `newframe = frame.copy()`\n",
      "  amostras['Amostra_' + str(i)] = _\n",
      "C:\\Users\\Tiago\\AppData\\Local\\Temp\\ipykernel_18996\\3166345054.py:4: PerformanceWarning: DataFrame is highly fragmented.  This is usually the result of calling `frame.insert` many times, which has poor performance.  Consider joining all columns at once using pd.concat(axis=1) instead. To get a de-fragmented frame, use `newframe = frame.copy()`\n",
      "  amostras['Amostra_' + str(i)] = _\n",
      "C:\\Users\\Tiago\\AppData\\Local\\Temp\\ipykernel_18996\\3166345054.py:4: PerformanceWarning: DataFrame is highly fragmented.  This is usually the result of calling `frame.insert` many times, which has poor performance.  Consider joining all columns at once using pd.concat(axis=1) instead. To get a de-fragmented frame, use `newframe = frame.copy()`\n",
      "  amostras['Amostra_' + str(i)] = _\n",
      "C:\\Users\\Tiago\\AppData\\Local\\Temp\\ipykernel_18996\\3166345054.py:4: PerformanceWarning: DataFrame is highly fragmented.  This is usually the result of calling `frame.insert` many times, which has poor performance.  Consider joining all columns at once using pd.concat(axis=1) instead. To get a de-fragmented frame, use `newframe = frame.copy()`\n",
      "  amostras['Amostra_' + str(i)] = _\n",
      "C:\\Users\\Tiago\\AppData\\Local\\Temp\\ipykernel_18996\\3166345054.py:4: PerformanceWarning: DataFrame is highly fragmented.  This is usually the result of calling `frame.insert` many times, which has poor performance.  Consider joining all columns at once using pd.concat(axis=1) instead. To get a de-fragmented frame, use `newframe = frame.copy()`\n",
      "  amostras['Amostra_' + str(i)] = _\n",
      "C:\\Users\\Tiago\\AppData\\Local\\Temp\\ipykernel_18996\\3166345054.py:4: PerformanceWarning: DataFrame is highly fragmented.  This is usually the result of calling `frame.insert` many times, which has poor performance.  Consider joining all columns at once using pd.concat(axis=1) instead. To get a de-fragmented frame, use `newframe = frame.copy()`\n",
      "  amostras['Amostra_' + str(i)] = _\n",
      "C:\\Users\\Tiago\\AppData\\Local\\Temp\\ipykernel_18996\\3166345054.py:4: PerformanceWarning: DataFrame is highly fragmented.  This is usually the result of calling `frame.insert` many times, which has poor performance.  Consider joining all columns at once using pd.concat(axis=1) instead. To get a de-fragmented frame, use `newframe = frame.copy()`\n",
      "  amostras['Amostra_' + str(i)] = _\n",
      "C:\\Users\\Tiago\\AppData\\Local\\Temp\\ipykernel_18996\\3166345054.py:4: PerformanceWarning: DataFrame is highly fragmented.  This is usually the result of calling `frame.insert` many times, which has poor performance.  Consider joining all columns at once using pd.concat(axis=1) instead. To get a de-fragmented frame, use `newframe = frame.copy()`\n",
      "  amostras['Amostra_' + str(i)] = _\n",
      "C:\\Users\\Tiago\\AppData\\Local\\Temp\\ipykernel_18996\\3166345054.py:4: PerformanceWarning: DataFrame is highly fragmented.  This is usually the result of calling `frame.insert` many times, which has poor performance.  Consider joining all columns at once using pd.concat(axis=1) instead. To get a de-fragmented frame, use `newframe = frame.copy()`\n",
      "  amostras['Amostra_' + str(i)] = _\n",
      "C:\\Users\\Tiago\\AppData\\Local\\Temp\\ipykernel_18996\\3166345054.py:4: PerformanceWarning: DataFrame is highly fragmented.  This is usually the result of calling `frame.insert` many times, which has poor performance.  Consider joining all columns at once using pd.concat(axis=1) instead. To get a de-fragmented frame, use `newframe = frame.copy()`\n",
      "  amostras['Amostra_' + str(i)] = _\n",
      "C:\\Users\\Tiago\\AppData\\Local\\Temp\\ipykernel_18996\\3166345054.py:4: PerformanceWarning: DataFrame is highly fragmented.  This is usually the result of calling `frame.insert` many times, which has poor performance.  Consider joining all columns at once using pd.concat(axis=1) instead. To get a de-fragmented frame, use `newframe = frame.copy()`\n",
      "  amostras['Amostra_' + str(i)] = _\n",
      "C:\\Users\\Tiago\\AppData\\Local\\Temp\\ipykernel_18996\\3166345054.py:4: PerformanceWarning: DataFrame is highly fragmented.  This is usually the result of calling `frame.insert` many times, which has poor performance.  Consider joining all columns at once using pd.concat(axis=1) instead. To get a de-fragmented frame, use `newframe = frame.copy()`\n",
      "  amostras['Amostra_' + str(i)] = _\n",
      "C:\\Users\\Tiago\\AppData\\Local\\Temp\\ipykernel_18996\\3166345054.py:4: PerformanceWarning: DataFrame is highly fragmented.  This is usually the result of calling `frame.insert` many times, which has poor performance.  Consider joining all columns at once using pd.concat(axis=1) instead. To get a de-fragmented frame, use `newframe = frame.copy()`\n",
      "  amostras['Amostra_' + str(i)] = _\n",
      "C:\\Users\\Tiago\\AppData\\Local\\Temp\\ipykernel_18996\\3166345054.py:4: PerformanceWarning: DataFrame is highly fragmented.  This is usually the result of calling `frame.insert` many times, which has poor performance.  Consider joining all columns at once using pd.concat(axis=1) instead. To get a de-fragmented frame, use `newframe = frame.copy()`\n",
      "  amostras['Amostra_' + str(i)] = _\n",
      "C:\\Users\\Tiago\\AppData\\Local\\Temp\\ipykernel_18996\\3166345054.py:4: PerformanceWarning: DataFrame is highly fragmented.  This is usually the result of calling `frame.insert` many times, which has poor performance.  Consider joining all columns at once using pd.concat(axis=1) instead. To get a de-fragmented frame, use `newframe = frame.copy()`\n",
      "  amostras['Amostra_' + str(i)] = _\n",
      "C:\\Users\\Tiago\\AppData\\Local\\Temp\\ipykernel_18996\\3166345054.py:4: PerformanceWarning: DataFrame is highly fragmented.  This is usually the result of calling `frame.insert` many times, which has poor performance.  Consider joining all columns at once using pd.concat(axis=1) instead. To get a de-fragmented frame, use `newframe = frame.copy()`\n",
      "  amostras['Amostra_' + str(i)] = _\n",
      "C:\\Users\\Tiago\\AppData\\Local\\Temp\\ipykernel_18996\\3166345054.py:4: PerformanceWarning: DataFrame is highly fragmented.  This is usually the result of calling `frame.insert` many times, which has poor performance.  Consider joining all columns at once using pd.concat(axis=1) instead. To get a de-fragmented frame, use `newframe = frame.copy()`\n",
      "  amostras['Amostra_' + str(i)] = _\n",
      "C:\\Users\\Tiago\\AppData\\Local\\Temp\\ipykernel_18996\\3166345054.py:4: PerformanceWarning: DataFrame is highly fragmented.  This is usually the result of calling `frame.insert` many times, which has poor performance.  Consider joining all columns at once using pd.concat(axis=1) instead. To get a de-fragmented frame, use `newframe = frame.copy()`\n",
      "  amostras['Amostra_' + str(i)] = _\n",
      "C:\\Users\\Tiago\\AppData\\Local\\Temp\\ipykernel_18996\\3166345054.py:4: PerformanceWarning: DataFrame is highly fragmented.  This is usually the result of calling `frame.insert` many times, which has poor performance.  Consider joining all columns at once using pd.concat(axis=1) instead. To get a de-fragmented frame, use `newframe = frame.copy()`\n",
      "  amostras['Amostra_' + str(i)] = _\n",
      "C:\\Users\\Tiago\\AppData\\Local\\Temp\\ipykernel_18996\\3166345054.py:4: PerformanceWarning: DataFrame is highly fragmented.  This is usually the result of calling `frame.insert` many times, which has poor performance.  Consider joining all columns at once using pd.concat(axis=1) instead. To get a de-fragmented frame, use `newframe = frame.copy()`\n",
      "  amostras['Amostra_' + str(i)] = _\n",
      "C:\\Users\\Tiago\\AppData\\Local\\Temp\\ipykernel_18996\\3166345054.py:4: PerformanceWarning: DataFrame is highly fragmented.  This is usually the result of calling `frame.insert` many times, which has poor performance.  Consider joining all columns at once using pd.concat(axis=1) instead. To get a de-fragmented frame, use `newframe = frame.copy()`\n",
      "  amostras['Amostra_' + str(i)] = _\n",
      "C:\\Users\\Tiago\\AppData\\Local\\Temp\\ipykernel_18996\\3166345054.py:4: PerformanceWarning: DataFrame is highly fragmented.  This is usually the result of calling `frame.insert` many times, which has poor performance.  Consider joining all columns at once using pd.concat(axis=1) instead. To get a de-fragmented frame, use `newframe = frame.copy()`\n",
      "  amostras['Amostra_' + str(i)] = _\n",
      "C:\\Users\\Tiago\\AppData\\Local\\Temp\\ipykernel_18996\\3166345054.py:4: PerformanceWarning: DataFrame is highly fragmented.  This is usually the result of calling `frame.insert` many times, which has poor performance.  Consider joining all columns at once using pd.concat(axis=1) instead. To get a de-fragmented frame, use `newframe = frame.copy()`\n",
      "  amostras['Amostra_' + str(i)] = _\n",
      "C:\\Users\\Tiago\\AppData\\Local\\Temp\\ipykernel_18996\\3166345054.py:4: PerformanceWarning: DataFrame is highly fragmented.  This is usually the result of calling `frame.insert` many times, which has poor performance.  Consider joining all columns at once using pd.concat(axis=1) instead. To get a de-fragmented frame, use `newframe = frame.copy()`\n",
      "  amostras['Amostra_' + str(i)] = _\n",
      "C:\\Users\\Tiago\\AppData\\Local\\Temp\\ipykernel_18996\\3166345054.py:4: PerformanceWarning: DataFrame is highly fragmented.  This is usually the result of calling `frame.insert` many times, which has poor performance.  Consider joining all columns at once using pd.concat(axis=1) instead. To get a de-fragmented frame, use `newframe = frame.copy()`\n",
      "  amostras['Amostra_' + str(i)] = _\n",
      "C:\\Users\\Tiago\\AppData\\Local\\Temp\\ipykernel_18996\\3166345054.py:4: PerformanceWarning: DataFrame is highly fragmented.  This is usually the result of calling `frame.insert` many times, which has poor performance.  Consider joining all columns at once using pd.concat(axis=1) instead. To get a de-fragmented frame, use `newframe = frame.copy()`\n",
      "  amostras['Amostra_' + str(i)] = _\n",
      "C:\\Users\\Tiago\\AppData\\Local\\Temp\\ipykernel_18996\\3166345054.py:4: PerformanceWarning: DataFrame is highly fragmented.  This is usually the result of calling `frame.insert` many times, which has poor performance.  Consider joining all columns at once using pd.concat(axis=1) instead. To get a de-fragmented frame, use `newframe = frame.copy()`\n",
      "  amostras['Amostra_' + str(i)] = _\n",
      "C:\\Users\\Tiago\\AppData\\Local\\Temp\\ipykernel_18996\\3166345054.py:4: PerformanceWarning: DataFrame is highly fragmented.  This is usually the result of calling `frame.insert` many times, which has poor performance.  Consider joining all columns at once using pd.concat(axis=1) instead. To get a de-fragmented frame, use `newframe = frame.copy()`\n",
      "  amostras['Amostra_' + str(i)] = _\n",
      "C:\\Users\\Tiago\\AppData\\Local\\Temp\\ipykernel_18996\\3166345054.py:4: PerformanceWarning: DataFrame is highly fragmented.  This is usually the result of calling `frame.insert` many times, which has poor performance.  Consider joining all columns at once using pd.concat(axis=1) instead. To get a de-fragmented frame, use `newframe = frame.copy()`\n",
      "  amostras['Amostra_' + str(i)] = _\n",
      "C:\\Users\\Tiago\\AppData\\Local\\Temp\\ipykernel_18996\\3166345054.py:4: PerformanceWarning: DataFrame is highly fragmented.  This is usually the result of calling `frame.insert` many times, which has poor performance.  Consider joining all columns at once using pd.concat(axis=1) instead. To get a de-fragmented frame, use `newframe = frame.copy()`\n",
      "  amostras['Amostra_' + str(i)] = _\n",
      "C:\\Users\\Tiago\\AppData\\Local\\Temp\\ipykernel_18996\\3166345054.py:4: PerformanceWarning: DataFrame is highly fragmented.  This is usually the result of calling `frame.insert` many times, which has poor performance.  Consider joining all columns at once using pd.concat(axis=1) instead. To get a de-fragmented frame, use `newframe = frame.copy()`\n",
      "  amostras['Amostra_' + str(i)] = _\n",
      "C:\\Users\\Tiago\\AppData\\Local\\Temp\\ipykernel_18996\\3166345054.py:4: PerformanceWarning: DataFrame is highly fragmented.  This is usually the result of calling `frame.insert` many times, which has poor performance.  Consider joining all columns at once using pd.concat(axis=1) instead. To get a de-fragmented frame, use `newframe = frame.copy()`\n",
      "  amostras['Amostra_' + str(i)] = _\n",
      "C:\\Users\\Tiago\\AppData\\Local\\Temp\\ipykernel_18996\\3166345054.py:4: PerformanceWarning: DataFrame is highly fragmented.  This is usually the result of calling `frame.insert` many times, which has poor performance.  Consider joining all columns at once using pd.concat(axis=1) instead. To get a de-fragmented frame, use `newframe = frame.copy()`\n",
      "  amostras['Amostra_' + str(i)] = _\n",
      "C:\\Users\\Tiago\\AppData\\Local\\Temp\\ipykernel_18996\\3166345054.py:4: PerformanceWarning: DataFrame is highly fragmented.  This is usually the result of calling `frame.insert` many times, which has poor performance.  Consider joining all columns at once using pd.concat(axis=1) instead. To get a de-fragmented frame, use `newframe = frame.copy()`\n",
      "  amostras['Amostra_' + str(i)] = _\n",
      "C:\\Users\\Tiago\\AppData\\Local\\Temp\\ipykernel_18996\\3166345054.py:4: PerformanceWarning: DataFrame is highly fragmented.  This is usually the result of calling `frame.insert` many times, which has poor performance.  Consider joining all columns at once using pd.concat(axis=1) instead. To get a de-fragmented frame, use `newframe = frame.copy()`\n",
      "  amostras['Amostra_' + str(i)] = _\n",
      "C:\\Users\\Tiago\\AppData\\Local\\Temp\\ipykernel_18996\\3166345054.py:4: PerformanceWarning: DataFrame is highly fragmented.  This is usually the result of calling `frame.insert` many times, which has poor performance.  Consider joining all columns at once using pd.concat(axis=1) instead. To get a de-fragmented frame, use `newframe = frame.copy()`\n",
      "  amostras['Amostra_' + str(i)] = _\n",
      "C:\\Users\\Tiago\\AppData\\Local\\Temp\\ipykernel_18996\\3166345054.py:4: PerformanceWarning: DataFrame is highly fragmented.  This is usually the result of calling `frame.insert` many times, which has poor performance.  Consider joining all columns at once using pd.concat(axis=1) instead. To get a de-fragmented frame, use `newframe = frame.copy()`\n",
      "  amostras['Amostra_' + str(i)] = _\n",
      "C:\\Users\\Tiago\\AppData\\Local\\Temp\\ipykernel_18996\\3166345054.py:4: PerformanceWarning: DataFrame is highly fragmented.  This is usually the result of calling `frame.insert` many times, which has poor performance.  Consider joining all columns at once using pd.concat(axis=1) instead. To get a de-fragmented frame, use `newframe = frame.copy()`\n",
      "  amostras['Amostra_' + str(i)] = _\n",
      "C:\\Users\\Tiago\\AppData\\Local\\Temp\\ipykernel_18996\\3166345054.py:4: PerformanceWarning: DataFrame is highly fragmented.  This is usually the result of calling `frame.insert` many times, which has poor performance.  Consider joining all columns at once using pd.concat(axis=1) instead. To get a de-fragmented frame, use `newframe = frame.copy()`\n",
      "  amostras['Amostra_' + str(i)] = _\n",
      "C:\\Users\\Tiago\\AppData\\Local\\Temp\\ipykernel_18996\\3166345054.py:4: PerformanceWarning: DataFrame is highly fragmented.  This is usually the result of calling `frame.insert` many times, which has poor performance.  Consider joining all columns at once using pd.concat(axis=1) instead. To get a de-fragmented frame, use `newframe = frame.copy()`\n",
      "  amostras['Amostra_' + str(i)] = _\n",
      "C:\\Users\\Tiago\\AppData\\Local\\Temp\\ipykernel_18996\\3166345054.py:4: PerformanceWarning: DataFrame is highly fragmented.  This is usually the result of calling `frame.insert` many times, which has poor performance.  Consider joining all columns at once using pd.concat(axis=1) instead. To get a de-fragmented frame, use `newframe = frame.copy()`\n",
      "  amostras['Amostra_' + str(i)] = _\n",
      "C:\\Users\\Tiago\\AppData\\Local\\Temp\\ipykernel_18996\\3166345054.py:4: PerformanceWarning: DataFrame is highly fragmented.  This is usually the result of calling `frame.insert` many times, which has poor performance.  Consider joining all columns at once using pd.concat(axis=1) instead. To get a de-fragmented frame, use `newframe = frame.copy()`\n",
      "  amostras['Amostra_' + str(i)] = _\n",
      "C:\\Users\\Tiago\\AppData\\Local\\Temp\\ipykernel_18996\\3166345054.py:4: PerformanceWarning: DataFrame is highly fragmented.  This is usually the result of calling `frame.insert` many times, which has poor performance.  Consider joining all columns at once using pd.concat(axis=1) instead. To get a de-fragmented frame, use `newframe = frame.copy()`\n",
      "  amostras['Amostra_' + str(i)] = _\n",
      "C:\\Users\\Tiago\\AppData\\Local\\Temp\\ipykernel_18996\\3166345054.py:4: PerformanceWarning: DataFrame is highly fragmented.  This is usually the result of calling `frame.insert` many times, which has poor performance.  Consider joining all columns at once using pd.concat(axis=1) instead. To get a de-fragmented frame, use `newframe = frame.copy()`\n",
      "  amostras['Amostra_' + str(i)] = _\n",
      "C:\\Users\\Tiago\\AppData\\Local\\Temp\\ipykernel_18996\\3166345054.py:4: PerformanceWarning: DataFrame is highly fragmented.  This is usually the result of calling `frame.insert` many times, which has poor performance.  Consider joining all columns at once using pd.concat(axis=1) instead. To get a de-fragmented frame, use `newframe = frame.copy()`\n",
      "  amostras['Amostra_' + str(i)] = _\n",
      "C:\\Users\\Tiago\\AppData\\Local\\Temp\\ipykernel_18996\\3166345054.py:4: PerformanceWarning: DataFrame is highly fragmented.  This is usually the result of calling `frame.insert` many times, which has poor performance.  Consider joining all columns at once using pd.concat(axis=1) instead. To get a de-fragmented frame, use `newframe = frame.copy()`\n",
      "  amostras['Amostra_' + str(i)] = _\n",
      "C:\\Users\\Tiago\\AppData\\Local\\Temp\\ipykernel_18996\\3166345054.py:4: PerformanceWarning: DataFrame is highly fragmented.  This is usually the result of calling `frame.insert` many times, which has poor performance.  Consider joining all columns at once using pd.concat(axis=1) instead. To get a de-fragmented frame, use `newframe = frame.copy()`\n",
      "  amostras['Amostra_' + str(i)] = _\n",
      "C:\\Users\\Tiago\\AppData\\Local\\Temp\\ipykernel_18996\\3166345054.py:4: PerformanceWarning: DataFrame is highly fragmented.  This is usually the result of calling `frame.insert` many times, which has poor performance.  Consider joining all columns at once using pd.concat(axis=1) instead. To get a de-fragmented frame, use `newframe = frame.copy()`\n",
      "  amostras['Amostra_' + str(i)] = _\n",
      "C:\\Users\\Tiago\\AppData\\Local\\Temp\\ipykernel_18996\\3166345054.py:4: PerformanceWarning: DataFrame is highly fragmented.  This is usually the result of calling `frame.insert` many times, which has poor performance.  Consider joining all columns at once using pd.concat(axis=1) instead. To get a de-fragmented frame, use `newframe = frame.copy()`\n",
      "  amostras['Amostra_' + str(i)] = _\n",
      "C:\\Users\\Tiago\\AppData\\Local\\Temp\\ipykernel_18996\\3166345054.py:4: PerformanceWarning: DataFrame is highly fragmented.  This is usually the result of calling `frame.insert` many times, which has poor performance.  Consider joining all columns at once using pd.concat(axis=1) instead. To get a de-fragmented frame, use `newframe = frame.copy()`\n",
      "  amostras['Amostra_' + str(i)] = _\n",
      "C:\\Users\\Tiago\\AppData\\Local\\Temp\\ipykernel_18996\\3166345054.py:4: PerformanceWarning: DataFrame is highly fragmented.  This is usually the result of calling `frame.insert` many times, which has poor performance.  Consider joining all columns at once using pd.concat(axis=1) instead. To get a de-fragmented frame, use `newframe = frame.copy()`\n",
      "  amostras['Amostra_' + str(i)] = _\n",
      "C:\\Users\\Tiago\\AppData\\Local\\Temp\\ipykernel_18996\\3166345054.py:4: PerformanceWarning: DataFrame is highly fragmented.  This is usually the result of calling `frame.insert` many times, which has poor performance.  Consider joining all columns at once using pd.concat(axis=1) instead. To get a de-fragmented frame, use `newframe = frame.copy()`\n",
      "  amostras['Amostra_' + str(i)] = _\n",
      "C:\\Users\\Tiago\\AppData\\Local\\Temp\\ipykernel_18996\\3166345054.py:4: PerformanceWarning: DataFrame is highly fragmented.  This is usually the result of calling `frame.insert` many times, which has poor performance.  Consider joining all columns at once using pd.concat(axis=1) instead. To get a de-fragmented frame, use `newframe = frame.copy()`\n",
      "  amostras['Amostra_' + str(i)] = _\n",
      "C:\\Users\\Tiago\\AppData\\Local\\Temp\\ipykernel_18996\\3166345054.py:4: PerformanceWarning: DataFrame is highly fragmented.  This is usually the result of calling `frame.insert` many times, which has poor performance.  Consider joining all columns at once using pd.concat(axis=1) instead. To get a de-fragmented frame, use `newframe = frame.copy()`\n",
      "  amostras['Amostra_' + str(i)] = _\n",
      "C:\\Users\\Tiago\\AppData\\Local\\Temp\\ipykernel_18996\\3166345054.py:4: PerformanceWarning: DataFrame is highly fragmented.  This is usually the result of calling `frame.insert` many times, which has poor performance.  Consider joining all columns at once using pd.concat(axis=1) instead. To get a de-fragmented frame, use `newframe = frame.copy()`\n",
      "  amostras['Amostra_' + str(i)] = _\n",
      "C:\\Users\\Tiago\\AppData\\Local\\Temp\\ipykernel_18996\\3166345054.py:4: PerformanceWarning: DataFrame is highly fragmented.  This is usually the result of calling `frame.insert` many times, which has poor performance.  Consider joining all columns at once using pd.concat(axis=1) instead. To get a de-fragmented frame, use `newframe = frame.copy()`\n",
      "  amostras['Amostra_' + str(i)] = _\n",
      "C:\\Users\\Tiago\\AppData\\Local\\Temp\\ipykernel_18996\\3166345054.py:4: PerformanceWarning: DataFrame is highly fragmented.  This is usually the result of calling `frame.insert` many times, which has poor performance.  Consider joining all columns at once using pd.concat(axis=1) instead. To get a de-fragmented frame, use `newframe = frame.copy()`\n",
      "  amostras['Amostra_' + str(i)] = _\n",
      "C:\\Users\\Tiago\\AppData\\Local\\Temp\\ipykernel_18996\\3166345054.py:4: PerformanceWarning: DataFrame is highly fragmented.  This is usually the result of calling `frame.insert` many times, which has poor performance.  Consider joining all columns at once using pd.concat(axis=1) instead. To get a de-fragmented frame, use `newframe = frame.copy()`\n",
      "  amostras['Amostra_' + str(i)] = _\n",
      "C:\\Users\\Tiago\\AppData\\Local\\Temp\\ipykernel_18996\\3166345054.py:4: PerformanceWarning: DataFrame is highly fragmented.  This is usually the result of calling `frame.insert` many times, which has poor performance.  Consider joining all columns at once using pd.concat(axis=1) instead. To get a de-fragmented frame, use `newframe = frame.copy()`\n",
      "  amostras['Amostra_' + str(i)] = _\n",
      "C:\\Users\\Tiago\\AppData\\Local\\Temp\\ipykernel_18996\\3166345054.py:4: PerformanceWarning: DataFrame is highly fragmented.  This is usually the result of calling `frame.insert` many times, which has poor performance.  Consider joining all columns at once using pd.concat(axis=1) instead. To get a de-fragmented frame, use `newframe = frame.copy()`\n",
      "  amostras['Amostra_' + str(i)] = _\n",
      "C:\\Users\\Tiago\\AppData\\Local\\Temp\\ipykernel_18996\\3166345054.py:4: PerformanceWarning: DataFrame is highly fragmented.  This is usually the result of calling `frame.insert` many times, which has poor performance.  Consider joining all columns at once using pd.concat(axis=1) instead. To get a de-fragmented frame, use `newframe = frame.copy()`\n",
      "  amostras['Amostra_' + str(i)] = _\n",
      "C:\\Users\\Tiago\\AppData\\Local\\Temp\\ipykernel_18996\\3166345054.py:4: PerformanceWarning: DataFrame is highly fragmented.  This is usually the result of calling `frame.insert` many times, which has poor performance.  Consider joining all columns at once using pd.concat(axis=1) instead. To get a de-fragmented frame, use `newframe = frame.copy()`\n",
      "  amostras['Amostra_' + str(i)] = _\n",
      "C:\\Users\\Tiago\\AppData\\Local\\Temp\\ipykernel_18996\\3166345054.py:4: PerformanceWarning: DataFrame is highly fragmented.  This is usually the result of calling `frame.insert` many times, which has poor performance.  Consider joining all columns at once using pd.concat(axis=1) instead. To get a de-fragmented frame, use `newframe = frame.copy()`\n",
      "  amostras['Amostra_' + str(i)] = _\n",
      "C:\\Users\\Tiago\\AppData\\Local\\Temp\\ipykernel_18996\\3166345054.py:4: PerformanceWarning: DataFrame is highly fragmented.  This is usually the result of calling `frame.insert` many times, which has poor performance.  Consider joining all columns at once using pd.concat(axis=1) instead. To get a de-fragmented frame, use `newframe = frame.copy()`\n",
      "  amostras['Amostra_' + str(i)] = _\n",
      "C:\\Users\\Tiago\\AppData\\Local\\Temp\\ipykernel_18996\\3166345054.py:4: PerformanceWarning: DataFrame is highly fragmented.  This is usually the result of calling `frame.insert` many times, which has poor performance.  Consider joining all columns at once using pd.concat(axis=1) instead. To get a de-fragmented frame, use `newframe = frame.copy()`\n",
      "  amostras['Amostra_' + str(i)] = _\n",
      "C:\\Users\\Tiago\\AppData\\Local\\Temp\\ipykernel_18996\\3166345054.py:4: PerformanceWarning: DataFrame is highly fragmented.  This is usually the result of calling `frame.insert` many times, which has poor performance.  Consider joining all columns at once using pd.concat(axis=1) instead. To get a de-fragmented frame, use `newframe = frame.copy()`\n",
      "  amostras['Amostra_' + str(i)] = _\n",
      "C:\\Users\\Tiago\\AppData\\Local\\Temp\\ipykernel_18996\\3166345054.py:4: PerformanceWarning: DataFrame is highly fragmented.  This is usually the result of calling `frame.insert` many times, which has poor performance.  Consider joining all columns at once using pd.concat(axis=1) instead. To get a de-fragmented frame, use `newframe = frame.copy()`\n",
      "  amostras['Amostra_' + str(i)] = _\n",
      "C:\\Users\\Tiago\\AppData\\Local\\Temp\\ipykernel_18996\\3166345054.py:4: PerformanceWarning: DataFrame is highly fragmented.  This is usually the result of calling `frame.insert` many times, which has poor performance.  Consider joining all columns at once using pd.concat(axis=1) instead. To get a de-fragmented frame, use `newframe = frame.copy()`\n",
      "  amostras['Amostra_' + str(i)] = _\n",
      "C:\\Users\\Tiago\\AppData\\Local\\Temp\\ipykernel_18996\\3166345054.py:4: PerformanceWarning: DataFrame is highly fragmented.  This is usually the result of calling `frame.insert` many times, which has poor performance.  Consider joining all columns at once using pd.concat(axis=1) instead. To get a de-fragmented frame, use `newframe = frame.copy()`\n",
      "  amostras['Amostra_' + str(i)] = _\n",
      "C:\\Users\\Tiago\\AppData\\Local\\Temp\\ipykernel_18996\\3166345054.py:4: PerformanceWarning: DataFrame is highly fragmented.  This is usually the result of calling `frame.insert` many times, which has poor performance.  Consider joining all columns at once using pd.concat(axis=1) instead. To get a de-fragmented frame, use `newframe = frame.copy()`\n",
      "  amostras['Amostra_' + str(i)] = _\n",
      "C:\\Users\\Tiago\\AppData\\Local\\Temp\\ipykernel_18996\\3166345054.py:4: PerformanceWarning: DataFrame is highly fragmented.  This is usually the result of calling `frame.insert` many times, which has poor performance.  Consider joining all columns at once using pd.concat(axis=1) instead. To get a de-fragmented frame, use `newframe = frame.copy()`\n",
      "  amostras['Amostra_' + str(i)] = _\n",
      "C:\\Users\\Tiago\\AppData\\Local\\Temp\\ipykernel_18996\\3166345054.py:4: PerformanceWarning: DataFrame is highly fragmented.  This is usually the result of calling `frame.insert` many times, which has poor performance.  Consider joining all columns at once using pd.concat(axis=1) instead. To get a de-fragmented frame, use `newframe = frame.copy()`\n",
      "  amostras['Amostra_' + str(i)] = _\n",
      "C:\\Users\\Tiago\\AppData\\Local\\Temp\\ipykernel_18996\\3166345054.py:4: PerformanceWarning: DataFrame is highly fragmented.  This is usually the result of calling `frame.insert` many times, which has poor performance.  Consider joining all columns at once using pd.concat(axis=1) instead. To get a de-fragmented frame, use `newframe = frame.copy()`\n",
      "  amostras['Amostra_' + str(i)] = _\n",
      "C:\\Users\\Tiago\\AppData\\Local\\Temp\\ipykernel_18996\\3166345054.py:4: PerformanceWarning: DataFrame is highly fragmented.  This is usually the result of calling `frame.insert` many times, which has poor performance.  Consider joining all columns at once using pd.concat(axis=1) instead. To get a de-fragmented frame, use `newframe = frame.copy()`\n",
      "  amostras['Amostra_' + str(i)] = _\n",
      "C:\\Users\\Tiago\\AppData\\Local\\Temp\\ipykernel_18996\\3166345054.py:4: PerformanceWarning: DataFrame is highly fragmented.  This is usually the result of calling `frame.insert` many times, which has poor performance.  Consider joining all columns at once using pd.concat(axis=1) instead. To get a de-fragmented frame, use `newframe = frame.copy()`\n",
      "  amostras['Amostra_' + str(i)] = _\n",
      "C:\\Users\\Tiago\\AppData\\Local\\Temp\\ipykernel_18996\\3166345054.py:4: PerformanceWarning: DataFrame is highly fragmented.  This is usually the result of calling `frame.insert` many times, which has poor performance.  Consider joining all columns at once using pd.concat(axis=1) instead. To get a de-fragmented frame, use `newframe = frame.copy()`\n",
      "  amostras['Amostra_' + str(i)] = _\n",
      "C:\\Users\\Tiago\\AppData\\Local\\Temp\\ipykernel_18996\\3166345054.py:4: PerformanceWarning: DataFrame is highly fragmented.  This is usually the result of calling `frame.insert` many times, which has poor performance.  Consider joining all columns at once using pd.concat(axis=1) instead. To get a de-fragmented frame, use `newframe = frame.copy()`\n",
      "  amostras['Amostra_' + str(i)] = _\n",
      "C:\\Users\\Tiago\\AppData\\Local\\Temp\\ipykernel_18996\\3166345054.py:4: PerformanceWarning: DataFrame is highly fragmented.  This is usually the result of calling `frame.insert` many times, which has poor performance.  Consider joining all columns at once using pd.concat(axis=1) instead. To get a de-fragmented frame, use `newframe = frame.copy()`\n",
      "  amostras['Amostra_' + str(i)] = _\n",
      "C:\\Users\\Tiago\\AppData\\Local\\Temp\\ipykernel_18996\\3166345054.py:4: PerformanceWarning: DataFrame is highly fragmented.  This is usually the result of calling `frame.insert` many times, which has poor performance.  Consider joining all columns at once using pd.concat(axis=1) instead. To get a de-fragmented frame, use `newframe = frame.copy()`\n",
      "  amostras['Amostra_' + str(i)] = _\n",
      "C:\\Users\\Tiago\\AppData\\Local\\Temp\\ipykernel_18996\\3166345054.py:4: PerformanceWarning: DataFrame is highly fragmented.  This is usually the result of calling `frame.insert` many times, which has poor performance.  Consider joining all columns at once using pd.concat(axis=1) instead. To get a de-fragmented frame, use `newframe = frame.copy()`\n",
      "  amostras['Amostra_' + str(i)] = _\n",
      "C:\\Users\\Tiago\\AppData\\Local\\Temp\\ipykernel_18996\\3166345054.py:4: PerformanceWarning: DataFrame is highly fragmented.  This is usually the result of calling `frame.insert` many times, which has poor performance.  Consider joining all columns at once using pd.concat(axis=1) instead. To get a de-fragmented frame, use `newframe = frame.copy()`\n",
      "  amostras['Amostra_' + str(i)] = _\n",
      "C:\\Users\\Tiago\\AppData\\Local\\Temp\\ipykernel_18996\\3166345054.py:4: PerformanceWarning: DataFrame is highly fragmented.  This is usually the result of calling `frame.insert` many times, which has poor performance.  Consider joining all columns at once using pd.concat(axis=1) instead. To get a de-fragmented frame, use `newframe = frame.copy()`\n",
      "  amostras['Amostra_' + str(i)] = _\n",
      "C:\\Users\\Tiago\\AppData\\Local\\Temp\\ipykernel_18996\\3166345054.py:4: PerformanceWarning: DataFrame is highly fragmented.  This is usually the result of calling `frame.insert` many times, which has poor performance.  Consider joining all columns at once using pd.concat(axis=1) instead. To get a de-fragmented frame, use `newframe = frame.copy()`\n",
      "  amostras['Amostra_' + str(i)] = _\n",
      "C:\\Users\\Tiago\\AppData\\Local\\Temp\\ipykernel_18996\\3166345054.py:4: PerformanceWarning: DataFrame is highly fragmented.  This is usually the result of calling `frame.insert` many times, which has poor performance.  Consider joining all columns at once using pd.concat(axis=1) instead. To get a de-fragmented frame, use `newframe = frame.copy()`\n",
      "  amostras['Amostra_' + str(i)] = _\n",
      "C:\\Users\\Tiago\\AppData\\Local\\Temp\\ipykernel_18996\\3166345054.py:4: PerformanceWarning: DataFrame is highly fragmented.  This is usually the result of calling `frame.insert` many times, which has poor performance.  Consider joining all columns at once using pd.concat(axis=1) instead. To get a de-fragmented frame, use `newframe = frame.copy()`\n",
      "  amostras['Amostra_' + str(i)] = _\n",
      "C:\\Users\\Tiago\\AppData\\Local\\Temp\\ipykernel_18996\\3166345054.py:4: PerformanceWarning: DataFrame is highly fragmented.  This is usually the result of calling `frame.insert` many times, which has poor performance.  Consider joining all columns at once using pd.concat(axis=1) instead. To get a de-fragmented frame, use `newframe = frame.copy()`\n",
      "  amostras['Amostra_' + str(i)] = _\n",
      "C:\\Users\\Tiago\\AppData\\Local\\Temp\\ipykernel_18996\\3166345054.py:4: PerformanceWarning: DataFrame is highly fragmented.  This is usually the result of calling `frame.insert` many times, which has poor performance.  Consider joining all columns at once using pd.concat(axis=1) instead. To get a de-fragmented frame, use `newframe = frame.copy()`\n",
      "  amostras['Amostra_' + str(i)] = _\n",
      "C:\\Users\\Tiago\\AppData\\Local\\Temp\\ipykernel_18996\\3166345054.py:4: PerformanceWarning: DataFrame is highly fragmented.  This is usually the result of calling `frame.insert` many times, which has poor performance.  Consider joining all columns at once using pd.concat(axis=1) instead. To get a de-fragmented frame, use `newframe = frame.copy()`\n",
      "  amostras['Amostra_' + str(i)] = _\n",
      "C:\\Users\\Tiago\\AppData\\Local\\Temp\\ipykernel_18996\\3166345054.py:4: PerformanceWarning: DataFrame is highly fragmented.  This is usually the result of calling `frame.insert` many times, which has poor performance.  Consider joining all columns at once using pd.concat(axis=1) instead. To get a de-fragmented frame, use `newframe = frame.copy()`\n",
      "  amostras['Amostra_' + str(i)] = _\n",
      "C:\\Users\\Tiago\\AppData\\Local\\Temp\\ipykernel_18996\\3166345054.py:4: PerformanceWarning: DataFrame is highly fragmented.  This is usually the result of calling `frame.insert` many times, which has poor performance.  Consider joining all columns at once using pd.concat(axis=1) instead. To get a de-fragmented frame, use `newframe = frame.copy()`\n",
      "  amostras['Amostra_' + str(i)] = _\n",
      "C:\\Users\\Tiago\\AppData\\Local\\Temp\\ipykernel_18996\\3166345054.py:4: PerformanceWarning: DataFrame is highly fragmented.  This is usually the result of calling `frame.insert` many times, which has poor performance.  Consider joining all columns at once using pd.concat(axis=1) instead. To get a de-fragmented frame, use `newframe = frame.copy()`\n",
      "  amostras['Amostra_' + str(i)] = _\n",
      "C:\\Users\\Tiago\\AppData\\Local\\Temp\\ipykernel_18996\\3166345054.py:4: PerformanceWarning: DataFrame is highly fragmented.  This is usually the result of calling `frame.insert` many times, which has poor performance.  Consider joining all columns at once using pd.concat(axis=1) instead. To get a de-fragmented frame, use `newframe = frame.copy()`\n",
      "  amostras['Amostra_' + str(i)] = _\n",
      "C:\\Users\\Tiago\\AppData\\Local\\Temp\\ipykernel_18996\\3166345054.py:4: PerformanceWarning: DataFrame is highly fragmented.  This is usually the result of calling `frame.insert` many times, which has poor performance.  Consider joining all columns at once using pd.concat(axis=1) instead. To get a de-fragmented frame, use `newframe = frame.copy()`\n",
      "  amostras['Amostra_' + str(i)] = _\n",
      "C:\\Users\\Tiago\\AppData\\Local\\Temp\\ipykernel_18996\\3166345054.py:4: PerformanceWarning: DataFrame is highly fragmented.  This is usually the result of calling `frame.insert` many times, which has poor performance.  Consider joining all columns at once using pd.concat(axis=1) instead. To get a de-fragmented frame, use `newframe = frame.copy()`\n",
      "  amostras['Amostra_' + str(i)] = _\n",
      "C:\\Users\\Tiago\\AppData\\Local\\Temp\\ipykernel_18996\\3166345054.py:4: PerformanceWarning: DataFrame is highly fragmented.  This is usually the result of calling `frame.insert` many times, which has poor performance.  Consider joining all columns at once using pd.concat(axis=1) instead. To get a de-fragmented frame, use `newframe = frame.copy()`\n",
      "  amostras['Amostra_' + str(i)] = _\n",
      "C:\\Users\\Tiago\\AppData\\Local\\Temp\\ipykernel_18996\\3166345054.py:4: PerformanceWarning: DataFrame is highly fragmented.  This is usually the result of calling `frame.insert` many times, which has poor performance.  Consider joining all columns at once using pd.concat(axis=1) instead. To get a de-fragmented frame, use `newframe = frame.copy()`\n",
      "  amostras['Amostra_' + str(i)] = _\n",
      "C:\\Users\\Tiago\\AppData\\Local\\Temp\\ipykernel_18996\\3166345054.py:4: PerformanceWarning: DataFrame is highly fragmented.  This is usually the result of calling `frame.insert` many times, which has poor performance.  Consider joining all columns at once using pd.concat(axis=1) instead. To get a de-fragmented frame, use `newframe = frame.copy()`\n",
      "  amostras['Amostra_' + str(i)] = _\n",
      "C:\\Users\\Tiago\\AppData\\Local\\Temp\\ipykernel_18996\\3166345054.py:4: PerformanceWarning: DataFrame is highly fragmented.  This is usually the result of calling `frame.insert` many times, which has poor performance.  Consider joining all columns at once using pd.concat(axis=1) instead. To get a de-fragmented frame, use `newframe = frame.copy()`\n",
      "  amostras['Amostra_' + str(i)] = _\n",
      "C:\\Users\\Tiago\\AppData\\Local\\Temp\\ipykernel_18996\\3166345054.py:4: PerformanceWarning: DataFrame is highly fragmented.  This is usually the result of calling `frame.insert` many times, which has poor performance.  Consider joining all columns at once using pd.concat(axis=1) instead. To get a de-fragmented frame, use `newframe = frame.copy()`\n",
      "  amostras['Amostra_' + str(i)] = _\n",
      "C:\\Users\\Tiago\\AppData\\Local\\Temp\\ipykernel_18996\\3166345054.py:4: PerformanceWarning: DataFrame is highly fragmented.  This is usually the result of calling `frame.insert` many times, which has poor performance.  Consider joining all columns at once using pd.concat(axis=1) instead. To get a de-fragmented frame, use `newframe = frame.copy()`\n",
      "  amostras['Amostra_' + str(i)] = _\n",
      "C:\\Users\\Tiago\\AppData\\Local\\Temp\\ipykernel_18996\\3166345054.py:4: PerformanceWarning: DataFrame is highly fragmented.  This is usually the result of calling `frame.insert` many times, which has poor performance.  Consider joining all columns at once using pd.concat(axis=1) instead. To get a de-fragmented frame, use `newframe = frame.copy()`\n",
      "  amostras['Amostra_' + str(i)] = _\n",
      "C:\\Users\\Tiago\\AppData\\Local\\Temp\\ipykernel_18996\\3166345054.py:4: PerformanceWarning: DataFrame is highly fragmented.  This is usually the result of calling `frame.insert` many times, which has poor performance.  Consider joining all columns at once using pd.concat(axis=1) instead. To get a de-fragmented frame, use `newframe = frame.copy()`\n",
      "  amostras['Amostra_' + str(i)] = _\n",
      "C:\\Users\\Tiago\\AppData\\Local\\Temp\\ipykernel_18996\\3166345054.py:4: PerformanceWarning: DataFrame is highly fragmented.  This is usually the result of calling `frame.insert` many times, which has poor performance.  Consider joining all columns at once using pd.concat(axis=1) instead. To get a de-fragmented frame, use `newframe = frame.copy()`\n",
      "  amostras['Amostra_' + str(i)] = _\n",
      "C:\\Users\\Tiago\\AppData\\Local\\Temp\\ipykernel_18996\\3166345054.py:4: PerformanceWarning: DataFrame is highly fragmented.  This is usually the result of calling `frame.insert` many times, which has poor performance.  Consider joining all columns at once using pd.concat(axis=1) instead. To get a de-fragmented frame, use `newframe = frame.copy()`\n",
      "  amostras['Amostra_' + str(i)] = _\n",
      "C:\\Users\\Tiago\\AppData\\Local\\Temp\\ipykernel_18996\\3166345054.py:4: PerformanceWarning: DataFrame is highly fragmented.  This is usually the result of calling `frame.insert` many times, which has poor performance.  Consider joining all columns at once using pd.concat(axis=1) instead. To get a de-fragmented frame, use `newframe = frame.copy()`\n",
      "  amostras['Amostra_' + str(i)] = _\n",
      "C:\\Users\\Tiago\\AppData\\Local\\Temp\\ipykernel_18996\\3166345054.py:4: PerformanceWarning: DataFrame is highly fragmented.  This is usually the result of calling `frame.insert` many times, which has poor performance.  Consider joining all columns at once using pd.concat(axis=1) instead. To get a de-fragmented frame, use `newframe = frame.copy()`\n",
      "  amostras['Amostra_' + str(i)] = _\n",
      "C:\\Users\\Tiago\\AppData\\Local\\Temp\\ipykernel_18996\\3166345054.py:4: PerformanceWarning: DataFrame is highly fragmented.  This is usually the result of calling `frame.insert` many times, which has poor performance.  Consider joining all columns at once using pd.concat(axis=1) instead. To get a de-fragmented frame, use `newframe = frame.copy()`\n",
      "  amostras['Amostra_' + str(i)] = _\n",
      "C:\\Users\\Tiago\\AppData\\Local\\Temp\\ipykernel_18996\\3166345054.py:4: PerformanceWarning: DataFrame is highly fragmented.  This is usually the result of calling `frame.insert` many times, which has poor performance.  Consider joining all columns at once using pd.concat(axis=1) instead. To get a de-fragmented frame, use `newframe = frame.copy()`\n",
      "  amostras['Amostra_' + str(i)] = _\n",
      "C:\\Users\\Tiago\\AppData\\Local\\Temp\\ipykernel_18996\\3166345054.py:4: PerformanceWarning: DataFrame is highly fragmented.  This is usually the result of calling `frame.insert` many times, which has poor performance.  Consider joining all columns at once using pd.concat(axis=1) instead. To get a de-fragmented frame, use `newframe = frame.copy()`\n",
      "  amostras['Amostra_' + str(i)] = _\n",
      "C:\\Users\\Tiago\\AppData\\Local\\Temp\\ipykernel_18996\\3166345054.py:4: PerformanceWarning: DataFrame is highly fragmented.  This is usually the result of calling `frame.insert` many times, which has poor performance.  Consider joining all columns at once using pd.concat(axis=1) instead. To get a de-fragmented frame, use `newframe = frame.copy()`\n",
      "  amostras['Amostra_' + str(i)] = _\n",
      "C:\\Users\\Tiago\\AppData\\Local\\Temp\\ipykernel_18996\\3166345054.py:4: PerformanceWarning: DataFrame is highly fragmented.  This is usually the result of calling `frame.insert` many times, which has poor performance.  Consider joining all columns at once using pd.concat(axis=1) instead. To get a de-fragmented frame, use `newframe = frame.copy()`\n",
      "  amostras['Amostra_' + str(i)] = _\n",
      "C:\\Users\\Tiago\\AppData\\Local\\Temp\\ipykernel_18996\\3166345054.py:4: PerformanceWarning: DataFrame is highly fragmented.  This is usually the result of calling `frame.insert` many times, which has poor performance.  Consider joining all columns at once using pd.concat(axis=1) instead. To get a de-fragmented frame, use `newframe = frame.copy()`\n",
      "  amostras['Amostra_' + str(i)] = _\n",
      "C:\\Users\\Tiago\\AppData\\Local\\Temp\\ipykernel_18996\\3166345054.py:4: PerformanceWarning: DataFrame is highly fragmented.  This is usually the result of calling `frame.insert` many times, which has poor performance.  Consider joining all columns at once using pd.concat(axis=1) instead. To get a de-fragmented frame, use `newframe = frame.copy()`\n",
      "  amostras['Amostra_' + str(i)] = _\n",
      "C:\\Users\\Tiago\\AppData\\Local\\Temp\\ipykernel_18996\\3166345054.py:4: PerformanceWarning: DataFrame is highly fragmented.  This is usually the result of calling `frame.insert` many times, which has poor performance.  Consider joining all columns at once using pd.concat(axis=1) instead. To get a de-fragmented frame, use `newframe = frame.copy()`\n",
      "  amostras['Amostra_' + str(i)] = _\n",
      "C:\\Users\\Tiago\\AppData\\Local\\Temp\\ipykernel_18996\\3166345054.py:4: PerformanceWarning: DataFrame is highly fragmented.  This is usually the result of calling `frame.insert` many times, which has poor performance.  Consider joining all columns at once using pd.concat(axis=1) instead. To get a de-fragmented frame, use `newframe = frame.copy()`\n",
      "  amostras['Amostra_' + str(i)] = _\n",
      "C:\\Users\\Tiago\\AppData\\Local\\Temp\\ipykernel_18996\\3166345054.py:4: PerformanceWarning: DataFrame is highly fragmented.  This is usually the result of calling `frame.insert` many times, which has poor performance.  Consider joining all columns at once using pd.concat(axis=1) instead. To get a de-fragmented frame, use `newframe = frame.copy()`\n",
      "  amostras['Amostra_' + str(i)] = _\n",
      "C:\\Users\\Tiago\\AppData\\Local\\Temp\\ipykernel_18996\\3166345054.py:4: PerformanceWarning: DataFrame is highly fragmented.  This is usually the result of calling `frame.insert` many times, which has poor performance.  Consider joining all columns at once using pd.concat(axis=1) instead. To get a de-fragmented frame, use `newframe = frame.copy()`\n",
      "  amostras['Amostra_' + str(i)] = _\n",
      "C:\\Users\\Tiago\\AppData\\Local\\Temp\\ipykernel_18996\\3166345054.py:4: PerformanceWarning: DataFrame is highly fragmented.  This is usually the result of calling `frame.insert` many times, which has poor performance.  Consider joining all columns at once using pd.concat(axis=1) instead. To get a de-fragmented frame, use `newframe = frame.copy()`\n",
      "  amostras['Amostra_' + str(i)] = _\n",
      "C:\\Users\\Tiago\\AppData\\Local\\Temp\\ipykernel_18996\\3166345054.py:4: PerformanceWarning: DataFrame is highly fragmented.  This is usually the result of calling `frame.insert` many times, which has poor performance.  Consider joining all columns at once using pd.concat(axis=1) instead. To get a de-fragmented frame, use `newframe = frame.copy()`\n",
      "  amostras['Amostra_' + str(i)] = _\n",
      "C:\\Users\\Tiago\\AppData\\Local\\Temp\\ipykernel_18996\\3166345054.py:4: PerformanceWarning: DataFrame is highly fragmented.  This is usually the result of calling `frame.insert` many times, which has poor performance.  Consider joining all columns at once using pd.concat(axis=1) instead. To get a de-fragmented frame, use `newframe = frame.copy()`\n",
      "  amostras['Amostra_' + str(i)] = _\n",
      "C:\\Users\\Tiago\\AppData\\Local\\Temp\\ipykernel_18996\\3166345054.py:4: PerformanceWarning: DataFrame is highly fragmented.  This is usually the result of calling `frame.insert` many times, which has poor performance.  Consider joining all columns at once using pd.concat(axis=1) instead. To get a de-fragmented frame, use `newframe = frame.copy()`\n",
      "  amostras['Amostra_' + str(i)] = _\n",
      "C:\\Users\\Tiago\\AppData\\Local\\Temp\\ipykernel_18996\\3166345054.py:4: PerformanceWarning: DataFrame is highly fragmented.  This is usually the result of calling `frame.insert` many times, which has poor performance.  Consider joining all columns at once using pd.concat(axis=1) instead. To get a de-fragmented frame, use `newframe = frame.copy()`\n",
      "  amostras['Amostra_' + str(i)] = _\n",
      "C:\\Users\\Tiago\\AppData\\Local\\Temp\\ipykernel_18996\\3166345054.py:4: PerformanceWarning: DataFrame is highly fragmented.  This is usually the result of calling `frame.insert` many times, which has poor performance.  Consider joining all columns at once using pd.concat(axis=1) instead. To get a de-fragmented frame, use `newframe = frame.copy()`\n",
      "  amostras['Amostra_' + str(i)] = _\n",
      "C:\\Users\\Tiago\\AppData\\Local\\Temp\\ipykernel_18996\\3166345054.py:4: PerformanceWarning: DataFrame is highly fragmented.  This is usually the result of calling `frame.insert` many times, which has poor performance.  Consider joining all columns at once using pd.concat(axis=1) instead. To get a de-fragmented frame, use `newframe = frame.copy()`\n",
      "  amostras['Amostra_' + str(i)] = _\n",
      "C:\\Users\\Tiago\\AppData\\Local\\Temp\\ipykernel_18996\\3166345054.py:4: PerformanceWarning: DataFrame is highly fragmented.  This is usually the result of calling `frame.insert` many times, which has poor performance.  Consider joining all columns at once using pd.concat(axis=1) instead. To get a de-fragmented frame, use `newframe = frame.copy()`\n",
      "  amostras['Amostra_' + str(i)] = _\n",
      "C:\\Users\\Tiago\\AppData\\Local\\Temp\\ipykernel_18996\\3166345054.py:4: PerformanceWarning: DataFrame is highly fragmented.  This is usually the result of calling `frame.insert` many times, which has poor performance.  Consider joining all columns at once using pd.concat(axis=1) instead. To get a de-fragmented frame, use `newframe = frame.copy()`\n",
      "  amostras['Amostra_' + str(i)] = _\n",
      "C:\\Users\\Tiago\\AppData\\Local\\Temp\\ipykernel_18996\\3166345054.py:4: PerformanceWarning: DataFrame is highly fragmented.  This is usually the result of calling `frame.insert` many times, which has poor performance.  Consider joining all columns at once using pd.concat(axis=1) instead. To get a de-fragmented frame, use `newframe = frame.copy()`\n",
      "  amostras['Amostra_' + str(i)] = _\n",
      "C:\\Users\\Tiago\\AppData\\Local\\Temp\\ipykernel_18996\\3166345054.py:4: PerformanceWarning: DataFrame is highly fragmented.  This is usually the result of calling `frame.insert` many times, which has poor performance.  Consider joining all columns at once using pd.concat(axis=1) instead. To get a de-fragmented frame, use `newframe = frame.copy()`\n",
      "  amostras['Amostra_' + str(i)] = _\n",
      "C:\\Users\\Tiago\\AppData\\Local\\Temp\\ipykernel_18996\\3166345054.py:4: PerformanceWarning: DataFrame is highly fragmented.  This is usually the result of calling `frame.insert` many times, which has poor performance.  Consider joining all columns at once using pd.concat(axis=1) instead. To get a de-fragmented frame, use `newframe = frame.copy()`\n",
      "  amostras['Amostra_' + str(i)] = _\n",
      "C:\\Users\\Tiago\\AppData\\Local\\Temp\\ipykernel_18996\\3166345054.py:4: PerformanceWarning: DataFrame is highly fragmented.  This is usually the result of calling `frame.insert` many times, which has poor performance.  Consider joining all columns at once using pd.concat(axis=1) instead. To get a de-fragmented frame, use `newframe = frame.copy()`\n",
      "  amostras['Amostra_' + str(i)] = _\n",
      "C:\\Users\\Tiago\\AppData\\Local\\Temp\\ipykernel_18996\\3166345054.py:4: PerformanceWarning: DataFrame is highly fragmented.  This is usually the result of calling `frame.insert` many times, which has poor performance.  Consider joining all columns at once using pd.concat(axis=1) instead. To get a de-fragmented frame, use `newframe = frame.copy()`\n",
      "  amostras['Amostra_' + str(i)] = _\n",
      "C:\\Users\\Tiago\\AppData\\Local\\Temp\\ipykernel_18996\\3166345054.py:4: PerformanceWarning: DataFrame is highly fragmented.  This is usually the result of calling `frame.insert` many times, which has poor performance.  Consider joining all columns at once using pd.concat(axis=1) instead. To get a de-fragmented frame, use `newframe = frame.copy()`\n",
      "  amostras['Amostra_' + str(i)] = _\n",
      "C:\\Users\\Tiago\\AppData\\Local\\Temp\\ipykernel_18996\\3166345054.py:4: PerformanceWarning: DataFrame is highly fragmented.  This is usually the result of calling `frame.insert` many times, which has poor performance.  Consider joining all columns at once using pd.concat(axis=1) instead. To get a de-fragmented frame, use `newframe = frame.copy()`\n",
      "  amostras['Amostra_' + str(i)] = _\n",
      "C:\\Users\\Tiago\\AppData\\Local\\Temp\\ipykernel_18996\\3166345054.py:4: PerformanceWarning: DataFrame is highly fragmented.  This is usually the result of calling `frame.insert` many times, which has poor performance.  Consider joining all columns at once using pd.concat(axis=1) instead. To get a de-fragmented frame, use `newframe = frame.copy()`\n",
      "  amostras['Amostra_' + str(i)] = _\n",
      "C:\\Users\\Tiago\\AppData\\Local\\Temp\\ipykernel_18996\\3166345054.py:4: PerformanceWarning: DataFrame is highly fragmented.  This is usually the result of calling `frame.insert` many times, which has poor performance.  Consider joining all columns at once using pd.concat(axis=1) instead. To get a de-fragmented frame, use `newframe = frame.copy()`\n",
      "  amostras['Amostra_' + str(i)] = _\n",
      "C:\\Users\\Tiago\\AppData\\Local\\Temp\\ipykernel_18996\\3166345054.py:4: PerformanceWarning: DataFrame is highly fragmented.  This is usually the result of calling `frame.insert` many times, which has poor performance.  Consider joining all columns at once using pd.concat(axis=1) instead. To get a de-fragmented frame, use `newframe = frame.copy()`\n",
      "  amostras['Amostra_' + str(i)] = _\n",
      "C:\\Users\\Tiago\\AppData\\Local\\Temp\\ipykernel_18996\\3166345054.py:4: PerformanceWarning: DataFrame is highly fragmented.  This is usually the result of calling `frame.insert` many times, which has poor performance.  Consider joining all columns at once using pd.concat(axis=1) instead. To get a de-fragmented frame, use `newframe = frame.copy()`\n",
      "  amostras['Amostra_' + str(i)] = _\n",
      "C:\\Users\\Tiago\\AppData\\Local\\Temp\\ipykernel_18996\\3166345054.py:4: PerformanceWarning: DataFrame is highly fragmented.  This is usually the result of calling `frame.insert` many times, which has poor performance.  Consider joining all columns at once using pd.concat(axis=1) instead. To get a de-fragmented frame, use `newframe = frame.copy()`\n",
      "  amostras['Amostra_' + str(i)] = _\n",
      "C:\\Users\\Tiago\\AppData\\Local\\Temp\\ipykernel_18996\\3166345054.py:4: PerformanceWarning: DataFrame is highly fragmented.  This is usually the result of calling `frame.insert` many times, which has poor performance.  Consider joining all columns at once using pd.concat(axis=1) instead. To get a de-fragmented frame, use `newframe = frame.copy()`\n",
      "  amostras['Amostra_' + str(i)] = _\n",
      "C:\\Users\\Tiago\\AppData\\Local\\Temp\\ipykernel_18996\\3166345054.py:4: PerformanceWarning: DataFrame is highly fragmented.  This is usually the result of calling `frame.insert` many times, which has poor performance.  Consider joining all columns at once using pd.concat(axis=1) instead. To get a de-fragmented frame, use `newframe = frame.copy()`\n",
      "  amostras['Amostra_' + str(i)] = _\n",
      "C:\\Users\\Tiago\\AppData\\Local\\Temp\\ipykernel_18996\\3166345054.py:4: PerformanceWarning: DataFrame is highly fragmented.  This is usually the result of calling `frame.insert` many times, which has poor performance.  Consider joining all columns at once using pd.concat(axis=1) instead. To get a de-fragmented frame, use `newframe = frame.copy()`\n",
      "  amostras['Amostra_' + str(i)] = _\n",
      "C:\\Users\\Tiago\\AppData\\Local\\Temp\\ipykernel_18996\\3166345054.py:4: PerformanceWarning: DataFrame is highly fragmented.  This is usually the result of calling `frame.insert` many times, which has poor performance.  Consider joining all columns at once using pd.concat(axis=1) instead. To get a de-fragmented frame, use `newframe = frame.copy()`\n",
      "  amostras['Amostra_' + str(i)] = _\n",
      "C:\\Users\\Tiago\\AppData\\Local\\Temp\\ipykernel_18996\\3166345054.py:4: PerformanceWarning: DataFrame is highly fragmented.  This is usually the result of calling `frame.insert` many times, which has poor performance.  Consider joining all columns at once using pd.concat(axis=1) instead. To get a de-fragmented frame, use `newframe = frame.copy()`\n",
      "  amostras['Amostra_' + str(i)] = _\n",
      "C:\\Users\\Tiago\\AppData\\Local\\Temp\\ipykernel_18996\\3166345054.py:4: PerformanceWarning: DataFrame is highly fragmented.  This is usually the result of calling `frame.insert` many times, which has poor performance.  Consider joining all columns at once using pd.concat(axis=1) instead. To get a de-fragmented frame, use `newframe = frame.copy()`\n",
      "  amostras['Amostra_' + str(i)] = _\n",
      "C:\\Users\\Tiago\\AppData\\Local\\Temp\\ipykernel_18996\\3166345054.py:4: PerformanceWarning: DataFrame is highly fragmented.  This is usually the result of calling `frame.insert` many times, which has poor performance.  Consider joining all columns at once using pd.concat(axis=1) instead. To get a de-fragmented frame, use `newframe = frame.copy()`\n",
      "  amostras['Amostra_' + str(i)] = _\n",
      "C:\\Users\\Tiago\\AppData\\Local\\Temp\\ipykernel_18996\\3166345054.py:4: PerformanceWarning: DataFrame is highly fragmented.  This is usually the result of calling `frame.insert` many times, which has poor performance.  Consider joining all columns at once using pd.concat(axis=1) instead. To get a de-fragmented frame, use `newframe = frame.copy()`\n",
      "  amostras['Amostra_' + str(i)] = _\n",
      "C:\\Users\\Tiago\\AppData\\Local\\Temp\\ipykernel_18996\\3166345054.py:4: PerformanceWarning: DataFrame is highly fragmented.  This is usually the result of calling `frame.insert` many times, which has poor performance.  Consider joining all columns at once using pd.concat(axis=1) instead. To get a de-fragmented frame, use `newframe = frame.copy()`\n",
      "  amostras['Amostra_' + str(i)] = _\n",
      "C:\\Users\\Tiago\\AppData\\Local\\Temp\\ipykernel_18996\\3166345054.py:4: PerformanceWarning: DataFrame is highly fragmented.  This is usually the result of calling `frame.insert` many times, which has poor performance.  Consider joining all columns at once using pd.concat(axis=1) instead. To get a de-fragmented frame, use `newframe = frame.copy()`\n",
      "  amostras['Amostra_' + str(i)] = _\n",
      "C:\\Users\\Tiago\\AppData\\Local\\Temp\\ipykernel_18996\\3166345054.py:4: PerformanceWarning: DataFrame is highly fragmented.  This is usually the result of calling `frame.insert` many times, which has poor performance.  Consider joining all columns at once using pd.concat(axis=1) instead. To get a de-fragmented frame, use `newframe = frame.copy()`\n",
      "  amostras['Amostra_' + str(i)] = _\n",
      "C:\\Users\\Tiago\\AppData\\Local\\Temp\\ipykernel_18996\\3166345054.py:4: PerformanceWarning: DataFrame is highly fragmented.  This is usually the result of calling `frame.insert` many times, which has poor performance.  Consider joining all columns at once using pd.concat(axis=1) instead. To get a de-fragmented frame, use `newframe = frame.copy()`\n",
      "  amostras['Amostra_' + str(i)] = _\n",
      "C:\\Users\\Tiago\\AppData\\Local\\Temp\\ipykernel_18996\\3166345054.py:4: PerformanceWarning: DataFrame is highly fragmented.  This is usually the result of calling `frame.insert` many times, which has poor performance.  Consider joining all columns at once using pd.concat(axis=1) instead. To get a de-fragmented frame, use `newframe = frame.copy()`\n",
      "  amostras['Amostra_' + str(i)] = _\n",
      "C:\\Users\\Tiago\\AppData\\Local\\Temp\\ipykernel_18996\\3166345054.py:4: PerformanceWarning: DataFrame is highly fragmented.  This is usually the result of calling `frame.insert` many times, which has poor performance.  Consider joining all columns at once using pd.concat(axis=1) instead. To get a de-fragmented frame, use `newframe = frame.copy()`\n",
      "  amostras['Amostra_' + str(i)] = _\n",
      "C:\\Users\\Tiago\\AppData\\Local\\Temp\\ipykernel_18996\\3166345054.py:4: PerformanceWarning: DataFrame is highly fragmented.  This is usually the result of calling `frame.insert` many times, which has poor performance.  Consider joining all columns at once using pd.concat(axis=1) instead. To get a de-fragmented frame, use `newframe = frame.copy()`\n",
      "  amostras['Amostra_' + str(i)] = _\n",
      "C:\\Users\\Tiago\\AppData\\Local\\Temp\\ipykernel_18996\\3166345054.py:4: PerformanceWarning: DataFrame is highly fragmented.  This is usually the result of calling `frame.insert` many times, which has poor performance.  Consider joining all columns at once using pd.concat(axis=1) instead. To get a de-fragmented frame, use `newframe = frame.copy()`\n",
      "  amostras['Amostra_' + str(i)] = _\n",
      "C:\\Users\\Tiago\\AppData\\Local\\Temp\\ipykernel_18996\\3166345054.py:4: PerformanceWarning: DataFrame is highly fragmented.  This is usually the result of calling `frame.insert` many times, which has poor performance.  Consider joining all columns at once using pd.concat(axis=1) instead. To get a de-fragmented frame, use `newframe = frame.copy()`\n",
      "  amostras['Amostra_' + str(i)] = _\n",
      "C:\\Users\\Tiago\\AppData\\Local\\Temp\\ipykernel_18996\\3166345054.py:4: PerformanceWarning: DataFrame is highly fragmented.  This is usually the result of calling `frame.insert` many times, which has poor performance.  Consider joining all columns at once using pd.concat(axis=1) instead. To get a de-fragmented frame, use `newframe = frame.copy()`\n",
      "  amostras['Amostra_' + str(i)] = _\n",
      "C:\\Users\\Tiago\\AppData\\Local\\Temp\\ipykernel_18996\\3166345054.py:4: PerformanceWarning: DataFrame is highly fragmented.  This is usually the result of calling `frame.insert` many times, which has poor performance.  Consider joining all columns at once using pd.concat(axis=1) instead. To get a de-fragmented frame, use `newframe = frame.copy()`\n",
      "  amostras['Amostra_' + str(i)] = _\n",
      "C:\\Users\\Tiago\\AppData\\Local\\Temp\\ipykernel_18996\\3166345054.py:4: PerformanceWarning: DataFrame is highly fragmented.  This is usually the result of calling `frame.insert` many times, which has poor performance.  Consider joining all columns at once using pd.concat(axis=1) instead. To get a de-fragmented frame, use `newframe = frame.copy()`\n",
      "  amostras['Amostra_' + str(i)] = _\n",
      "C:\\Users\\Tiago\\AppData\\Local\\Temp\\ipykernel_18996\\3166345054.py:4: PerformanceWarning: DataFrame is highly fragmented.  This is usually the result of calling `frame.insert` many times, which has poor performance.  Consider joining all columns at once using pd.concat(axis=1) instead. To get a de-fragmented frame, use `newframe = frame.copy()`\n",
      "  amostras['Amostra_' + str(i)] = _\n",
      "C:\\Users\\Tiago\\AppData\\Local\\Temp\\ipykernel_18996\\3166345054.py:4: PerformanceWarning: DataFrame is highly fragmented.  This is usually the result of calling `frame.insert` many times, which has poor performance.  Consider joining all columns at once using pd.concat(axis=1) instead. To get a de-fragmented frame, use `newframe = frame.copy()`\n",
      "  amostras['Amostra_' + str(i)] = _\n",
      "C:\\Users\\Tiago\\AppData\\Local\\Temp\\ipykernel_18996\\3166345054.py:4: PerformanceWarning: DataFrame is highly fragmented.  This is usually the result of calling `frame.insert` many times, which has poor performance.  Consider joining all columns at once using pd.concat(axis=1) instead. To get a de-fragmented frame, use `newframe = frame.copy()`\n",
      "  amostras['Amostra_' + str(i)] = _\n",
      "C:\\Users\\Tiago\\AppData\\Local\\Temp\\ipykernel_18996\\3166345054.py:4: PerformanceWarning: DataFrame is highly fragmented.  This is usually the result of calling `frame.insert` many times, which has poor performance.  Consider joining all columns at once using pd.concat(axis=1) instead. To get a de-fragmented frame, use `newframe = frame.copy()`\n",
      "  amostras['Amostra_' + str(i)] = _\n",
      "C:\\Users\\Tiago\\AppData\\Local\\Temp\\ipykernel_18996\\3166345054.py:4: PerformanceWarning: DataFrame is highly fragmented.  This is usually the result of calling `frame.insert` many times, which has poor performance.  Consider joining all columns at once using pd.concat(axis=1) instead. To get a de-fragmented frame, use `newframe = frame.copy()`\n",
      "  amostras['Amostra_' + str(i)] = _\n",
      "C:\\Users\\Tiago\\AppData\\Local\\Temp\\ipykernel_18996\\3166345054.py:4: PerformanceWarning: DataFrame is highly fragmented.  This is usually the result of calling `frame.insert` many times, which has poor performance.  Consider joining all columns at once using pd.concat(axis=1) instead. To get a de-fragmented frame, use `newframe = frame.copy()`\n",
      "  amostras['Amostra_' + str(i)] = _\n",
      "C:\\Users\\Tiago\\AppData\\Local\\Temp\\ipykernel_18996\\3166345054.py:4: PerformanceWarning: DataFrame is highly fragmented.  This is usually the result of calling `frame.insert` many times, which has poor performance.  Consider joining all columns at once using pd.concat(axis=1) instead. To get a de-fragmented frame, use `newframe = frame.copy()`\n",
      "  amostras['Amostra_' + str(i)] = _\n",
      "C:\\Users\\Tiago\\AppData\\Local\\Temp\\ipykernel_18996\\3166345054.py:4: PerformanceWarning: DataFrame is highly fragmented.  This is usually the result of calling `frame.insert` many times, which has poor performance.  Consider joining all columns at once using pd.concat(axis=1) instead. To get a de-fragmented frame, use `newframe = frame.copy()`\n",
      "  amostras['Amostra_' + str(i)] = _\n",
      "C:\\Users\\Tiago\\AppData\\Local\\Temp\\ipykernel_18996\\3166345054.py:4: PerformanceWarning: DataFrame is highly fragmented.  This is usually the result of calling `frame.insert` many times, which has poor performance.  Consider joining all columns at once using pd.concat(axis=1) instead. To get a de-fragmented frame, use `newframe = frame.copy()`\n",
      "  amostras['Amostra_' + str(i)] = _\n",
      "C:\\Users\\Tiago\\AppData\\Local\\Temp\\ipykernel_18996\\3166345054.py:4: PerformanceWarning: DataFrame is highly fragmented.  This is usually the result of calling `frame.insert` many times, which has poor performance.  Consider joining all columns at once using pd.concat(axis=1) instead. To get a de-fragmented frame, use `newframe = frame.copy()`\n",
      "  amostras['Amostra_' + str(i)] = _\n",
      "C:\\Users\\Tiago\\AppData\\Local\\Temp\\ipykernel_18996\\3166345054.py:4: PerformanceWarning: DataFrame is highly fragmented.  This is usually the result of calling `frame.insert` many times, which has poor performance.  Consider joining all columns at once using pd.concat(axis=1) instead. To get a de-fragmented frame, use `newframe = frame.copy()`\n",
      "  amostras['Amostra_' + str(i)] = _\n",
      "C:\\Users\\Tiago\\AppData\\Local\\Temp\\ipykernel_18996\\3166345054.py:4: PerformanceWarning: DataFrame is highly fragmented.  This is usually the result of calling `frame.insert` many times, which has poor performance.  Consider joining all columns at once using pd.concat(axis=1) instead. To get a de-fragmented frame, use `newframe = frame.copy()`\n",
      "  amostras['Amostra_' + str(i)] = _\n",
      "C:\\Users\\Tiago\\AppData\\Local\\Temp\\ipykernel_18996\\3166345054.py:4: PerformanceWarning: DataFrame is highly fragmented.  This is usually the result of calling `frame.insert` many times, which has poor performance.  Consider joining all columns at once using pd.concat(axis=1) instead. To get a de-fragmented frame, use `newframe = frame.copy()`\n",
      "  amostras['Amostra_' + str(i)] = _\n",
      "C:\\Users\\Tiago\\AppData\\Local\\Temp\\ipykernel_18996\\3166345054.py:4: PerformanceWarning: DataFrame is highly fragmented.  This is usually the result of calling `frame.insert` many times, which has poor performance.  Consider joining all columns at once using pd.concat(axis=1) instead. To get a de-fragmented frame, use `newframe = frame.copy()`\n",
      "  amostras['Amostra_' + str(i)] = _\n",
      "C:\\Users\\Tiago\\AppData\\Local\\Temp\\ipykernel_18996\\3166345054.py:4: PerformanceWarning: DataFrame is highly fragmented.  This is usually the result of calling `frame.insert` many times, which has poor performance.  Consider joining all columns at once using pd.concat(axis=1) instead. To get a de-fragmented frame, use `newframe = frame.copy()`\n",
      "  amostras['Amostra_' + str(i)] = _\n",
      "C:\\Users\\Tiago\\AppData\\Local\\Temp\\ipykernel_18996\\3166345054.py:4: PerformanceWarning: DataFrame is highly fragmented.  This is usually the result of calling `frame.insert` many times, which has poor performance.  Consider joining all columns at once using pd.concat(axis=1) instead. To get a de-fragmented frame, use `newframe = frame.copy()`\n",
      "  amostras['Amostra_' + str(i)] = _\n",
      "C:\\Users\\Tiago\\AppData\\Local\\Temp\\ipykernel_18996\\3166345054.py:4: PerformanceWarning: DataFrame is highly fragmented.  This is usually the result of calling `frame.insert` many times, which has poor performance.  Consider joining all columns at once using pd.concat(axis=1) instead. To get a de-fragmented frame, use `newframe = frame.copy()`\n",
      "  amostras['Amostra_' + str(i)] = _\n",
      "C:\\Users\\Tiago\\AppData\\Local\\Temp\\ipykernel_18996\\3166345054.py:4: PerformanceWarning: DataFrame is highly fragmented.  This is usually the result of calling `frame.insert` many times, which has poor performance.  Consider joining all columns at once using pd.concat(axis=1) instead. To get a de-fragmented frame, use `newframe = frame.copy()`\n",
      "  amostras['Amostra_' + str(i)] = _\n",
      "C:\\Users\\Tiago\\AppData\\Local\\Temp\\ipykernel_18996\\3166345054.py:4: PerformanceWarning: DataFrame is highly fragmented.  This is usually the result of calling `frame.insert` many times, which has poor performance.  Consider joining all columns at once using pd.concat(axis=1) instead. To get a de-fragmented frame, use `newframe = frame.copy()`\n",
      "  amostras['Amostra_' + str(i)] = _\n",
      "C:\\Users\\Tiago\\AppData\\Local\\Temp\\ipykernel_18996\\3166345054.py:4: PerformanceWarning: DataFrame is highly fragmented.  This is usually the result of calling `frame.insert` many times, which has poor performance.  Consider joining all columns at once using pd.concat(axis=1) instead. To get a de-fragmented frame, use `newframe = frame.copy()`\n",
      "  amostras['Amostra_' + str(i)] = _\n",
      "C:\\Users\\Tiago\\AppData\\Local\\Temp\\ipykernel_18996\\3166345054.py:4: PerformanceWarning: DataFrame is highly fragmented.  This is usually the result of calling `frame.insert` many times, which has poor performance.  Consider joining all columns at once using pd.concat(axis=1) instead. To get a de-fragmented frame, use `newframe = frame.copy()`\n",
      "  amostras['Amostra_' + str(i)] = _\n",
      "C:\\Users\\Tiago\\AppData\\Local\\Temp\\ipykernel_18996\\3166345054.py:4: PerformanceWarning: DataFrame is highly fragmented.  This is usually the result of calling `frame.insert` many times, which has poor performance.  Consider joining all columns at once using pd.concat(axis=1) instead. To get a de-fragmented frame, use `newframe = frame.copy()`\n",
      "  amostras['Amostra_' + str(i)] = _\n",
      "C:\\Users\\Tiago\\AppData\\Local\\Temp\\ipykernel_18996\\3166345054.py:4: PerformanceWarning: DataFrame is highly fragmented.  This is usually the result of calling `frame.insert` many times, which has poor performance.  Consider joining all columns at once using pd.concat(axis=1) instead. To get a de-fragmented frame, use `newframe = frame.copy()`\n",
      "  amostras['Amostra_' + str(i)] = _\n",
      "C:\\Users\\Tiago\\AppData\\Local\\Temp\\ipykernel_18996\\3166345054.py:4: PerformanceWarning: DataFrame is highly fragmented.  This is usually the result of calling `frame.insert` many times, which has poor performance.  Consider joining all columns at once using pd.concat(axis=1) instead. To get a de-fragmented frame, use `newframe = frame.copy()`\n",
      "  amostras['Amostra_' + str(i)] = _\n",
      "C:\\Users\\Tiago\\AppData\\Local\\Temp\\ipykernel_18996\\3166345054.py:4: PerformanceWarning: DataFrame is highly fragmented.  This is usually the result of calling `frame.insert` many times, which has poor performance.  Consider joining all columns at once using pd.concat(axis=1) instead. To get a de-fragmented frame, use `newframe = frame.copy()`\n",
      "  amostras['Amostra_' + str(i)] = _\n",
      "C:\\Users\\Tiago\\AppData\\Local\\Temp\\ipykernel_18996\\3166345054.py:4: PerformanceWarning: DataFrame is highly fragmented.  This is usually the result of calling `frame.insert` many times, which has poor performance.  Consider joining all columns at once using pd.concat(axis=1) instead. To get a de-fragmented frame, use `newframe = frame.copy()`\n",
      "  amostras['Amostra_' + str(i)] = _\n",
      "C:\\Users\\Tiago\\AppData\\Local\\Temp\\ipykernel_18996\\3166345054.py:4: PerformanceWarning: DataFrame is highly fragmented.  This is usually the result of calling `frame.insert` many times, which has poor performance.  Consider joining all columns at once using pd.concat(axis=1) instead. To get a de-fragmented frame, use `newframe = frame.copy()`\n",
      "  amostras['Amostra_' + str(i)] = _\n",
      "C:\\Users\\Tiago\\AppData\\Local\\Temp\\ipykernel_18996\\3166345054.py:4: PerformanceWarning: DataFrame is highly fragmented.  This is usually the result of calling `frame.insert` many times, which has poor performance.  Consider joining all columns at once using pd.concat(axis=1) instead. To get a de-fragmented frame, use `newframe = frame.copy()`\n",
      "  amostras['Amostra_' + str(i)] = _\n",
      "C:\\Users\\Tiago\\AppData\\Local\\Temp\\ipykernel_18996\\3166345054.py:4: PerformanceWarning: DataFrame is highly fragmented.  This is usually the result of calling `frame.insert` many times, which has poor performance.  Consider joining all columns at once using pd.concat(axis=1) instead. To get a de-fragmented frame, use `newframe = frame.copy()`\n",
      "  amostras['Amostra_' + str(i)] = _\n",
      "C:\\Users\\Tiago\\AppData\\Local\\Temp\\ipykernel_18996\\3166345054.py:4: PerformanceWarning: DataFrame is highly fragmented.  This is usually the result of calling `frame.insert` many times, which has poor performance.  Consider joining all columns at once using pd.concat(axis=1) instead. To get a de-fragmented frame, use `newframe = frame.copy()`\n",
      "  amostras['Amostra_' + str(i)] = _\n",
      "C:\\Users\\Tiago\\AppData\\Local\\Temp\\ipykernel_18996\\3166345054.py:4: PerformanceWarning: DataFrame is highly fragmented.  This is usually the result of calling `frame.insert` many times, which has poor performance.  Consider joining all columns at once using pd.concat(axis=1) instead. To get a de-fragmented frame, use `newframe = frame.copy()`\n",
      "  amostras['Amostra_' + str(i)] = _\n",
      "C:\\Users\\Tiago\\AppData\\Local\\Temp\\ipykernel_18996\\3166345054.py:4: PerformanceWarning: DataFrame is highly fragmented.  This is usually the result of calling `frame.insert` many times, which has poor performance.  Consider joining all columns at once using pd.concat(axis=1) instead. To get a de-fragmented frame, use `newframe = frame.copy()`\n",
      "  amostras['Amostra_' + str(i)] = _\n",
      "C:\\Users\\Tiago\\AppData\\Local\\Temp\\ipykernel_18996\\3166345054.py:4: PerformanceWarning: DataFrame is highly fragmented.  This is usually the result of calling `frame.insert` many times, which has poor performance.  Consider joining all columns at once using pd.concat(axis=1) instead. To get a de-fragmented frame, use `newframe = frame.copy()`\n",
      "  amostras['Amostra_' + str(i)] = _\n",
      "C:\\Users\\Tiago\\AppData\\Local\\Temp\\ipykernel_18996\\3166345054.py:4: PerformanceWarning: DataFrame is highly fragmented.  This is usually the result of calling `frame.insert` many times, which has poor performance.  Consider joining all columns at once using pd.concat(axis=1) instead. To get a de-fragmented frame, use `newframe = frame.copy()`\n",
      "  amostras['Amostra_' + str(i)] = _\n",
      "C:\\Users\\Tiago\\AppData\\Local\\Temp\\ipykernel_18996\\3166345054.py:4: PerformanceWarning: DataFrame is highly fragmented.  This is usually the result of calling `frame.insert` many times, which has poor performance.  Consider joining all columns at once using pd.concat(axis=1) instead. To get a de-fragmented frame, use `newframe = frame.copy()`\n",
      "  amostras['Amostra_' + str(i)] = _\n",
      "C:\\Users\\Tiago\\AppData\\Local\\Temp\\ipykernel_18996\\3166345054.py:4: PerformanceWarning: DataFrame is highly fragmented.  This is usually the result of calling `frame.insert` many times, which has poor performance.  Consider joining all columns at once using pd.concat(axis=1) instead. To get a de-fragmented frame, use `newframe = frame.copy()`\n",
      "  amostras['Amostra_' + str(i)] = _\n",
      "C:\\Users\\Tiago\\AppData\\Local\\Temp\\ipykernel_18996\\3166345054.py:4: PerformanceWarning: DataFrame is highly fragmented.  This is usually the result of calling `frame.insert` many times, which has poor performance.  Consider joining all columns at once using pd.concat(axis=1) instead. To get a de-fragmented frame, use `newframe = frame.copy()`\n",
      "  amostras['Amostra_' + str(i)] = _\n",
      "C:\\Users\\Tiago\\AppData\\Local\\Temp\\ipykernel_18996\\3166345054.py:4: PerformanceWarning: DataFrame is highly fragmented.  This is usually the result of calling `frame.insert` many times, which has poor performance.  Consider joining all columns at once using pd.concat(axis=1) instead. To get a de-fragmented frame, use `newframe = frame.copy()`\n",
      "  amostras['Amostra_' + str(i)] = _\n",
      "C:\\Users\\Tiago\\AppData\\Local\\Temp\\ipykernel_18996\\3166345054.py:4: PerformanceWarning: DataFrame is highly fragmented.  This is usually the result of calling `frame.insert` many times, which has poor performance.  Consider joining all columns at once using pd.concat(axis=1) instead. To get a de-fragmented frame, use `newframe = frame.copy()`\n",
      "  amostras['Amostra_' + str(i)] = _\n",
      "C:\\Users\\Tiago\\AppData\\Local\\Temp\\ipykernel_18996\\3166345054.py:4: PerformanceWarning: DataFrame is highly fragmented.  This is usually the result of calling `frame.insert` many times, which has poor performance.  Consider joining all columns at once using pd.concat(axis=1) instead. To get a de-fragmented frame, use `newframe = frame.copy()`\n",
      "  amostras['Amostra_' + str(i)] = _\n",
      "C:\\Users\\Tiago\\AppData\\Local\\Temp\\ipykernel_18996\\3166345054.py:4: PerformanceWarning: DataFrame is highly fragmented.  This is usually the result of calling `frame.insert` many times, which has poor performance.  Consider joining all columns at once using pd.concat(axis=1) instead. To get a de-fragmented frame, use `newframe = frame.copy()`\n",
      "  amostras['Amostra_' + str(i)] = _\n",
      "C:\\Users\\Tiago\\AppData\\Local\\Temp\\ipykernel_18996\\3166345054.py:4: PerformanceWarning: DataFrame is highly fragmented.  This is usually the result of calling `frame.insert` many times, which has poor performance.  Consider joining all columns at once using pd.concat(axis=1) instead. To get a de-fragmented frame, use `newframe = frame.copy()`\n",
      "  amostras['Amostra_' + str(i)] = _\n",
      "C:\\Users\\Tiago\\AppData\\Local\\Temp\\ipykernel_18996\\3166345054.py:4: PerformanceWarning: DataFrame is highly fragmented.  This is usually the result of calling `frame.insert` many times, which has poor performance.  Consider joining all columns at once using pd.concat(axis=1) instead. To get a de-fragmented frame, use `newframe = frame.copy()`\n",
      "  amostras['Amostra_' + str(i)] = _\n",
      "C:\\Users\\Tiago\\AppData\\Local\\Temp\\ipykernel_18996\\3166345054.py:4: PerformanceWarning: DataFrame is highly fragmented.  This is usually the result of calling `frame.insert` many times, which has poor performance.  Consider joining all columns at once using pd.concat(axis=1) instead. To get a de-fragmented frame, use `newframe = frame.copy()`\n",
      "  amostras['Amostra_' + str(i)] = _\n",
      "C:\\Users\\Tiago\\AppData\\Local\\Temp\\ipykernel_18996\\3166345054.py:4: PerformanceWarning: DataFrame is highly fragmented.  This is usually the result of calling `frame.insert` many times, which has poor performance.  Consider joining all columns at once using pd.concat(axis=1) instead. To get a de-fragmented frame, use `newframe = frame.copy()`\n",
      "  amostras['Amostra_' + str(i)] = _\n",
      "C:\\Users\\Tiago\\AppData\\Local\\Temp\\ipykernel_18996\\3166345054.py:4: PerformanceWarning: DataFrame is highly fragmented.  This is usually the result of calling `frame.insert` many times, which has poor performance.  Consider joining all columns at once using pd.concat(axis=1) instead. To get a de-fragmented frame, use `newframe = frame.copy()`\n",
      "  amostras['Amostra_' + str(i)] = _\n",
      "C:\\Users\\Tiago\\AppData\\Local\\Temp\\ipykernel_18996\\3166345054.py:4: PerformanceWarning: DataFrame is highly fragmented.  This is usually the result of calling `frame.insert` many times, which has poor performance.  Consider joining all columns at once using pd.concat(axis=1) instead. To get a de-fragmented frame, use `newframe = frame.copy()`\n",
      "  amostras['Amostra_' + str(i)] = _\n",
      "C:\\Users\\Tiago\\AppData\\Local\\Temp\\ipykernel_18996\\3166345054.py:4: PerformanceWarning: DataFrame is highly fragmented.  This is usually the result of calling `frame.insert` many times, which has poor performance.  Consider joining all columns at once using pd.concat(axis=1) instead. To get a de-fragmented frame, use `newframe = frame.copy()`\n",
      "  amostras['Amostra_' + str(i)] = _\n",
      "C:\\Users\\Tiago\\AppData\\Local\\Temp\\ipykernel_18996\\3166345054.py:4: PerformanceWarning: DataFrame is highly fragmented.  This is usually the result of calling `frame.insert` many times, which has poor performance.  Consider joining all columns at once using pd.concat(axis=1) instead. To get a de-fragmented frame, use `newframe = frame.copy()`\n",
      "  amostras['Amostra_' + str(i)] = _\n",
      "C:\\Users\\Tiago\\AppData\\Local\\Temp\\ipykernel_18996\\3166345054.py:4: PerformanceWarning: DataFrame is highly fragmented.  This is usually the result of calling `frame.insert` many times, which has poor performance.  Consider joining all columns at once using pd.concat(axis=1) instead. To get a de-fragmented frame, use `newframe = frame.copy()`\n",
      "  amostras['Amostra_' + str(i)] = _\n",
      "C:\\Users\\Tiago\\AppData\\Local\\Temp\\ipykernel_18996\\3166345054.py:4: PerformanceWarning: DataFrame is highly fragmented.  This is usually the result of calling `frame.insert` many times, which has poor performance.  Consider joining all columns at once using pd.concat(axis=1) instead. To get a de-fragmented frame, use `newframe = frame.copy()`\n",
      "  amostras['Amostra_' + str(i)] = _\n",
      "C:\\Users\\Tiago\\AppData\\Local\\Temp\\ipykernel_18996\\3166345054.py:4: PerformanceWarning: DataFrame is highly fragmented.  This is usually the result of calling `frame.insert` many times, which has poor performance.  Consider joining all columns at once using pd.concat(axis=1) instead. To get a de-fragmented frame, use `newframe = frame.copy()`\n",
      "  amostras['Amostra_' + str(i)] = _\n",
      "C:\\Users\\Tiago\\AppData\\Local\\Temp\\ipykernel_18996\\3166345054.py:4: PerformanceWarning: DataFrame is highly fragmented.  This is usually the result of calling `frame.insert` many times, which has poor performance.  Consider joining all columns at once using pd.concat(axis=1) instead. To get a de-fragmented frame, use `newframe = frame.copy()`\n",
      "  amostras['Amostra_' + str(i)] = _\n",
      "C:\\Users\\Tiago\\AppData\\Local\\Temp\\ipykernel_18996\\3166345054.py:4: PerformanceWarning: DataFrame is highly fragmented.  This is usually the result of calling `frame.insert` many times, which has poor performance.  Consider joining all columns at once using pd.concat(axis=1) instead. To get a de-fragmented frame, use `newframe = frame.copy()`\n",
      "  amostras['Amostra_' + str(i)] = _\n",
      "C:\\Users\\Tiago\\AppData\\Local\\Temp\\ipykernel_18996\\3166345054.py:4: PerformanceWarning: DataFrame is highly fragmented.  This is usually the result of calling `frame.insert` many times, which has poor performance.  Consider joining all columns at once using pd.concat(axis=1) instead. To get a de-fragmented frame, use `newframe = frame.copy()`\n",
      "  amostras['Amostra_' + str(i)] = _\n",
      "C:\\Users\\Tiago\\AppData\\Local\\Temp\\ipykernel_18996\\3166345054.py:4: PerformanceWarning: DataFrame is highly fragmented.  This is usually the result of calling `frame.insert` many times, which has poor performance.  Consider joining all columns at once using pd.concat(axis=1) instead. To get a de-fragmented frame, use `newframe = frame.copy()`\n",
      "  amostras['Amostra_' + str(i)] = _\n",
      "C:\\Users\\Tiago\\AppData\\Local\\Temp\\ipykernel_18996\\3166345054.py:4: PerformanceWarning: DataFrame is highly fragmented.  This is usually the result of calling `frame.insert` many times, which has poor performance.  Consider joining all columns at once using pd.concat(axis=1) instead. To get a de-fragmented frame, use `newframe = frame.copy()`\n",
      "  amostras['Amostra_' + str(i)] = _\n",
      "C:\\Users\\Tiago\\AppData\\Local\\Temp\\ipykernel_18996\\3166345054.py:4: PerformanceWarning: DataFrame is highly fragmented.  This is usually the result of calling `frame.insert` many times, which has poor performance.  Consider joining all columns at once using pd.concat(axis=1) instead. To get a de-fragmented frame, use `newframe = frame.copy()`\n",
      "  amostras['Amostra_' + str(i)] = _\n",
      "C:\\Users\\Tiago\\AppData\\Local\\Temp\\ipykernel_18996\\3166345054.py:4: PerformanceWarning: DataFrame is highly fragmented.  This is usually the result of calling `frame.insert` many times, which has poor performance.  Consider joining all columns at once using pd.concat(axis=1) instead. To get a de-fragmented frame, use `newframe = frame.copy()`\n",
      "  amostras['Amostra_' + str(i)] = _\n",
      "C:\\Users\\Tiago\\AppData\\Local\\Temp\\ipykernel_18996\\3166345054.py:4: PerformanceWarning: DataFrame is highly fragmented.  This is usually the result of calling `frame.insert` many times, which has poor performance.  Consider joining all columns at once using pd.concat(axis=1) instead. To get a de-fragmented frame, use `newframe = frame.copy()`\n",
      "  amostras['Amostra_' + str(i)] = _\n",
      "C:\\Users\\Tiago\\AppData\\Local\\Temp\\ipykernel_18996\\3166345054.py:4: PerformanceWarning: DataFrame is highly fragmented.  This is usually the result of calling `frame.insert` many times, which has poor performance.  Consider joining all columns at once using pd.concat(axis=1) instead. To get a de-fragmented frame, use `newframe = frame.copy()`\n",
      "  amostras['Amostra_' + str(i)] = _\n",
      "C:\\Users\\Tiago\\AppData\\Local\\Temp\\ipykernel_18996\\3166345054.py:4: PerformanceWarning: DataFrame is highly fragmented.  This is usually the result of calling `frame.insert` many times, which has poor performance.  Consider joining all columns at once using pd.concat(axis=1) instead. To get a de-fragmented frame, use `newframe = frame.copy()`\n",
      "  amostras['Amostra_' + str(i)] = _\n",
      "C:\\Users\\Tiago\\AppData\\Local\\Temp\\ipykernel_18996\\3166345054.py:4: PerformanceWarning: DataFrame is highly fragmented.  This is usually the result of calling `frame.insert` many times, which has poor performance.  Consider joining all columns at once using pd.concat(axis=1) instead. To get a de-fragmented frame, use `newframe = frame.copy()`\n",
      "  amostras['Amostra_' + str(i)] = _\n",
      "C:\\Users\\Tiago\\AppData\\Local\\Temp\\ipykernel_18996\\3166345054.py:4: PerformanceWarning: DataFrame is highly fragmented.  This is usually the result of calling `frame.insert` many times, which has poor performance.  Consider joining all columns at once using pd.concat(axis=1) instead. To get a de-fragmented frame, use `newframe = frame.copy()`\n",
      "  amostras['Amostra_' + str(i)] = _\n",
      "C:\\Users\\Tiago\\AppData\\Local\\Temp\\ipykernel_18996\\3166345054.py:4: PerformanceWarning: DataFrame is highly fragmented.  This is usually the result of calling `frame.insert` many times, which has poor performance.  Consider joining all columns at once using pd.concat(axis=1) instead. To get a de-fragmented frame, use `newframe = frame.copy()`\n",
      "  amostras['Amostra_' + str(i)] = _\n",
      "C:\\Users\\Tiago\\AppData\\Local\\Temp\\ipykernel_18996\\3166345054.py:4: PerformanceWarning: DataFrame is highly fragmented.  This is usually the result of calling `frame.insert` many times, which has poor performance.  Consider joining all columns at once using pd.concat(axis=1) instead. To get a de-fragmented frame, use `newframe = frame.copy()`\n",
      "  amostras['Amostra_' + str(i)] = _\n",
      "C:\\Users\\Tiago\\AppData\\Local\\Temp\\ipykernel_18996\\3166345054.py:4: PerformanceWarning: DataFrame is highly fragmented.  This is usually the result of calling `frame.insert` many times, which has poor performance.  Consider joining all columns at once using pd.concat(axis=1) instead. To get a de-fragmented frame, use `newframe = frame.copy()`\n",
      "  amostras['Amostra_' + str(i)] = _\n",
      "C:\\Users\\Tiago\\AppData\\Local\\Temp\\ipykernel_18996\\3166345054.py:4: PerformanceWarning: DataFrame is highly fragmented.  This is usually the result of calling `frame.insert` many times, which has poor performance.  Consider joining all columns at once using pd.concat(axis=1) instead. To get a de-fragmented frame, use `newframe = frame.copy()`\n",
      "  amostras['Amostra_' + str(i)] = _\n",
      "C:\\Users\\Tiago\\AppData\\Local\\Temp\\ipykernel_18996\\3166345054.py:4: PerformanceWarning: DataFrame is highly fragmented.  This is usually the result of calling `frame.insert` many times, which has poor performance.  Consider joining all columns at once using pd.concat(axis=1) instead. To get a de-fragmented frame, use `newframe = frame.copy()`\n",
      "  amostras['Amostra_' + str(i)] = _\n",
      "C:\\Users\\Tiago\\AppData\\Local\\Temp\\ipykernel_18996\\3166345054.py:4: PerformanceWarning: DataFrame is highly fragmented.  This is usually the result of calling `frame.insert` many times, which has poor performance.  Consider joining all columns at once using pd.concat(axis=1) instead. To get a de-fragmented frame, use `newframe = frame.copy()`\n",
      "  amostras['Amostra_' + str(i)] = _\n",
      "C:\\Users\\Tiago\\AppData\\Local\\Temp\\ipykernel_18996\\3166345054.py:4: PerformanceWarning: DataFrame is highly fragmented.  This is usually the result of calling `frame.insert` many times, which has poor performance.  Consider joining all columns at once using pd.concat(axis=1) instead. To get a de-fragmented frame, use `newframe = frame.copy()`\n",
      "  amostras['Amostra_' + str(i)] = _\n",
      "C:\\Users\\Tiago\\AppData\\Local\\Temp\\ipykernel_18996\\3166345054.py:4: PerformanceWarning: DataFrame is highly fragmented.  This is usually the result of calling `frame.insert` many times, which has poor performance.  Consider joining all columns at once using pd.concat(axis=1) instead. To get a de-fragmented frame, use `newframe = frame.copy()`\n",
      "  amostras['Amostra_' + str(i)] = _\n",
      "C:\\Users\\Tiago\\AppData\\Local\\Temp\\ipykernel_18996\\3166345054.py:4: PerformanceWarning: DataFrame is highly fragmented.  This is usually the result of calling `frame.insert` many times, which has poor performance.  Consider joining all columns at once using pd.concat(axis=1) instead. To get a de-fragmented frame, use `newframe = frame.copy()`\n",
      "  amostras['Amostra_' + str(i)] = _\n",
      "C:\\Users\\Tiago\\AppData\\Local\\Temp\\ipykernel_18996\\3166345054.py:4: PerformanceWarning: DataFrame is highly fragmented.  This is usually the result of calling `frame.insert` many times, which has poor performance.  Consider joining all columns at once using pd.concat(axis=1) instead. To get a de-fragmented frame, use `newframe = frame.copy()`\n",
      "  amostras['Amostra_' + str(i)] = _\n",
      "C:\\Users\\Tiago\\AppData\\Local\\Temp\\ipykernel_18996\\3166345054.py:4: PerformanceWarning: DataFrame is highly fragmented.  This is usually the result of calling `frame.insert` many times, which has poor performance.  Consider joining all columns at once using pd.concat(axis=1) instead. To get a de-fragmented frame, use `newframe = frame.copy()`\n",
      "  amostras['Amostra_' + str(i)] = _\n",
      "C:\\Users\\Tiago\\AppData\\Local\\Temp\\ipykernel_18996\\3166345054.py:4: PerformanceWarning: DataFrame is highly fragmented.  This is usually the result of calling `frame.insert` many times, which has poor performance.  Consider joining all columns at once using pd.concat(axis=1) instead. To get a de-fragmented frame, use `newframe = frame.copy()`\n",
      "  amostras['Amostra_' + str(i)] = _\n",
      "C:\\Users\\Tiago\\AppData\\Local\\Temp\\ipykernel_18996\\3166345054.py:4: PerformanceWarning: DataFrame is highly fragmented.  This is usually the result of calling `frame.insert` many times, which has poor performance.  Consider joining all columns at once using pd.concat(axis=1) instead. To get a de-fragmented frame, use `newframe = frame.copy()`\n",
      "  amostras['Amostra_' + str(i)] = _\n",
      "C:\\Users\\Tiago\\AppData\\Local\\Temp\\ipykernel_18996\\3166345054.py:4: PerformanceWarning: DataFrame is highly fragmented.  This is usually the result of calling `frame.insert` many times, which has poor performance.  Consider joining all columns at once using pd.concat(axis=1) instead. To get a de-fragmented frame, use `newframe = frame.copy()`\n",
      "  amostras['Amostra_' + str(i)] = _\n",
      "C:\\Users\\Tiago\\AppData\\Local\\Temp\\ipykernel_18996\\3166345054.py:4: PerformanceWarning: DataFrame is highly fragmented.  This is usually the result of calling `frame.insert` many times, which has poor performance.  Consider joining all columns at once using pd.concat(axis=1) instead. To get a de-fragmented frame, use `newframe = frame.copy()`\n",
      "  amostras['Amostra_' + str(i)] = _\n",
      "C:\\Users\\Tiago\\AppData\\Local\\Temp\\ipykernel_18996\\3166345054.py:4: PerformanceWarning: DataFrame is highly fragmented.  This is usually the result of calling `frame.insert` many times, which has poor performance.  Consider joining all columns at once using pd.concat(axis=1) instead. To get a de-fragmented frame, use `newframe = frame.copy()`\n",
      "  amostras['Amostra_' + str(i)] = _\n",
      "C:\\Users\\Tiago\\AppData\\Local\\Temp\\ipykernel_18996\\3166345054.py:4: PerformanceWarning: DataFrame is highly fragmented.  This is usually the result of calling `frame.insert` many times, which has poor performance.  Consider joining all columns at once using pd.concat(axis=1) instead. To get a de-fragmented frame, use `newframe = frame.copy()`\n",
      "  amostras['Amostra_' + str(i)] = _\n",
      "C:\\Users\\Tiago\\AppData\\Local\\Temp\\ipykernel_18996\\3166345054.py:4: PerformanceWarning: DataFrame is highly fragmented.  This is usually the result of calling `frame.insert` many times, which has poor performance.  Consider joining all columns at once using pd.concat(axis=1) instead. To get a de-fragmented frame, use `newframe = frame.copy()`\n",
      "  amostras['Amostra_' + str(i)] = _\n",
      "C:\\Users\\Tiago\\AppData\\Local\\Temp\\ipykernel_18996\\3166345054.py:4: PerformanceWarning: DataFrame is highly fragmented.  This is usually the result of calling `frame.insert` many times, which has poor performance.  Consider joining all columns at once using pd.concat(axis=1) instead. To get a de-fragmented frame, use `newframe = frame.copy()`\n",
      "  amostras['Amostra_' + str(i)] = _\n",
      "C:\\Users\\Tiago\\AppData\\Local\\Temp\\ipykernel_18996\\3166345054.py:4: PerformanceWarning: DataFrame is highly fragmented.  This is usually the result of calling `frame.insert` many times, which has poor performance.  Consider joining all columns at once using pd.concat(axis=1) instead. To get a de-fragmented frame, use `newframe = frame.copy()`\n",
      "  amostras['Amostra_' + str(i)] = _\n",
      "C:\\Users\\Tiago\\AppData\\Local\\Temp\\ipykernel_18996\\3166345054.py:4: PerformanceWarning: DataFrame is highly fragmented.  This is usually the result of calling `frame.insert` many times, which has poor performance.  Consider joining all columns at once using pd.concat(axis=1) instead. To get a de-fragmented frame, use `newframe = frame.copy()`\n",
      "  amostras['Amostra_' + str(i)] = _\n",
      "C:\\Users\\Tiago\\AppData\\Local\\Temp\\ipykernel_18996\\3166345054.py:4: PerformanceWarning: DataFrame is highly fragmented.  This is usually the result of calling `frame.insert` many times, which has poor performance.  Consider joining all columns at once using pd.concat(axis=1) instead. To get a de-fragmented frame, use `newframe = frame.copy()`\n",
      "  amostras['Amostra_' + str(i)] = _\n",
      "C:\\Users\\Tiago\\AppData\\Local\\Temp\\ipykernel_18996\\3166345054.py:4: PerformanceWarning: DataFrame is highly fragmented.  This is usually the result of calling `frame.insert` many times, which has poor performance.  Consider joining all columns at once using pd.concat(axis=1) instead. To get a de-fragmented frame, use `newframe = frame.copy()`\n",
      "  amostras['Amostra_' + str(i)] = _\n",
      "C:\\Users\\Tiago\\AppData\\Local\\Temp\\ipykernel_18996\\3166345054.py:4: PerformanceWarning: DataFrame is highly fragmented.  This is usually the result of calling `frame.insert` many times, which has poor performance.  Consider joining all columns at once using pd.concat(axis=1) instead. To get a de-fragmented frame, use `newframe = frame.copy()`\n",
      "  amostras['Amostra_' + str(i)] = _\n",
      "C:\\Users\\Tiago\\AppData\\Local\\Temp\\ipykernel_18996\\3166345054.py:4: PerformanceWarning: DataFrame is highly fragmented.  This is usually the result of calling `frame.insert` many times, which has poor performance.  Consider joining all columns at once using pd.concat(axis=1) instead. To get a de-fragmented frame, use `newframe = frame.copy()`\n",
      "  amostras['Amostra_' + str(i)] = _\n",
      "C:\\Users\\Tiago\\AppData\\Local\\Temp\\ipykernel_18996\\3166345054.py:4: PerformanceWarning: DataFrame is highly fragmented.  This is usually the result of calling `frame.insert` many times, which has poor performance.  Consider joining all columns at once using pd.concat(axis=1) instead. To get a de-fragmented frame, use `newframe = frame.copy()`\n",
      "  amostras['Amostra_' + str(i)] = _\n",
      "C:\\Users\\Tiago\\AppData\\Local\\Temp\\ipykernel_18996\\3166345054.py:4: PerformanceWarning: DataFrame is highly fragmented.  This is usually the result of calling `frame.insert` many times, which has poor performance.  Consider joining all columns at once using pd.concat(axis=1) instead. To get a de-fragmented frame, use `newframe = frame.copy()`\n",
      "  amostras['Amostra_' + str(i)] = _\n",
      "C:\\Users\\Tiago\\AppData\\Local\\Temp\\ipykernel_18996\\3166345054.py:4: PerformanceWarning: DataFrame is highly fragmented.  This is usually the result of calling `frame.insert` many times, which has poor performance.  Consider joining all columns at once using pd.concat(axis=1) instead. To get a de-fragmented frame, use `newframe = frame.copy()`\n",
      "  amostras['Amostra_' + str(i)] = _\n",
      "C:\\Users\\Tiago\\AppData\\Local\\Temp\\ipykernel_18996\\3166345054.py:4: PerformanceWarning: DataFrame is highly fragmented.  This is usually the result of calling `frame.insert` many times, which has poor performance.  Consider joining all columns at once using pd.concat(axis=1) instead. To get a de-fragmented frame, use `newframe = frame.copy()`\n",
      "  amostras['Amostra_' + str(i)] = _\n",
      "C:\\Users\\Tiago\\AppData\\Local\\Temp\\ipykernel_18996\\3166345054.py:4: PerformanceWarning: DataFrame is highly fragmented.  This is usually the result of calling `frame.insert` many times, which has poor performance.  Consider joining all columns at once using pd.concat(axis=1) instead. To get a de-fragmented frame, use `newframe = frame.copy()`\n",
      "  amostras['Amostra_' + str(i)] = _\n",
      "C:\\Users\\Tiago\\AppData\\Local\\Temp\\ipykernel_18996\\3166345054.py:4: PerformanceWarning: DataFrame is highly fragmented.  This is usually the result of calling `frame.insert` many times, which has poor performance.  Consider joining all columns at once using pd.concat(axis=1) instead. To get a de-fragmented frame, use `newframe = frame.copy()`\n",
      "  amostras['Amostra_' + str(i)] = _\n",
      "C:\\Users\\Tiago\\AppData\\Local\\Temp\\ipykernel_18996\\3166345054.py:4: PerformanceWarning: DataFrame is highly fragmented.  This is usually the result of calling `frame.insert` many times, which has poor performance.  Consider joining all columns at once using pd.concat(axis=1) instead. To get a de-fragmented frame, use `newframe = frame.copy()`\n",
      "  amostras['Amostra_' + str(i)] = _\n",
      "C:\\Users\\Tiago\\AppData\\Local\\Temp\\ipykernel_18996\\3166345054.py:4: PerformanceWarning: DataFrame is highly fragmented.  This is usually the result of calling `frame.insert` many times, which has poor performance.  Consider joining all columns at once using pd.concat(axis=1) instead. To get a de-fragmented frame, use `newframe = frame.copy()`\n",
      "  amostras['Amostra_' + str(i)] = _\n",
      "C:\\Users\\Tiago\\AppData\\Local\\Temp\\ipykernel_18996\\3166345054.py:4: PerformanceWarning: DataFrame is highly fragmented.  This is usually the result of calling `frame.insert` many times, which has poor performance.  Consider joining all columns at once using pd.concat(axis=1) instead. To get a de-fragmented frame, use `newframe = frame.copy()`\n",
      "  amostras['Amostra_' + str(i)] = _\n",
      "C:\\Users\\Tiago\\AppData\\Local\\Temp\\ipykernel_18996\\3166345054.py:4: PerformanceWarning: DataFrame is highly fragmented.  This is usually the result of calling `frame.insert` many times, which has poor performance.  Consider joining all columns at once using pd.concat(axis=1) instead. To get a de-fragmented frame, use `newframe = frame.copy()`\n",
      "  amostras['Amostra_' + str(i)] = _\n",
      "C:\\Users\\Tiago\\AppData\\Local\\Temp\\ipykernel_18996\\3166345054.py:4: PerformanceWarning: DataFrame is highly fragmented.  This is usually the result of calling `frame.insert` many times, which has poor performance.  Consider joining all columns at once using pd.concat(axis=1) instead. To get a de-fragmented frame, use `newframe = frame.copy()`\n",
      "  amostras['Amostra_' + str(i)] = _\n",
      "C:\\Users\\Tiago\\AppData\\Local\\Temp\\ipykernel_18996\\3166345054.py:4: PerformanceWarning: DataFrame is highly fragmented.  This is usually the result of calling `frame.insert` many times, which has poor performance.  Consider joining all columns at once using pd.concat(axis=1) instead. To get a de-fragmented frame, use `newframe = frame.copy()`\n",
      "  amostras['Amostra_' + str(i)] = _\n",
      "C:\\Users\\Tiago\\AppData\\Local\\Temp\\ipykernel_18996\\3166345054.py:4: PerformanceWarning: DataFrame is highly fragmented.  This is usually the result of calling `frame.insert` many times, which has poor performance.  Consider joining all columns at once using pd.concat(axis=1) instead. To get a de-fragmented frame, use `newframe = frame.copy()`\n",
      "  amostras['Amostra_' + str(i)] = _\n",
      "C:\\Users\\Tiago\\AppData\\Local\\Temp\\ipykernel_18996\\3166345054.py:4: PerformanceWarning: DataFrame is highly fragmented.  This is usually the result of calling `frame.insert` many times, which has poor performance.  Consider joining all columns at once using pd.concat(axis=1) instead. To get a de-fragmented frame, use `newframe = frame.copy()`\n",
      "  amostras['Amostra_' + str(i)] = _\n",
      "C:\\Users\\Tiago\\AppData\\Local\\Temp\\ipykernel_18996\\3166345054.py:4: PerformanceWarning: DataFrame is highly fragmented.  This is usually the result of calling `frame.insert` many times, which has poor performance.  Consider joining all columns at once using pd.concat(axis=1) instead. To get a de-fragmented frame, use `newframe = frame.copy()`\n",
      "  amostras['Amostra_' + str(i)] = _\n",
      "C:\\Users\\Tiago\\AppData\\Local\\Temp\\ipykernel_18996\\3166345054.py:4: PerformanceWarning: DataFrame is highly fragmented.  This is usually the result of calling `frame.insert` many times, which has poor performance.  Consider joining all columns at once using pd.concat(axis=1) instead. To get a de-fragmented frame, use `newframe = frame.copy()`\n",
      "  amostras['Amostra_' + str(i)] = _\n",
      "C:\\Users\\Tiago\\AppData\\Local\\Temp\\ipykernel_18996\\3166345054.py:4: PerformanceWarning: DataFrame is highly fragmented.  This is usually the result of calling `frame.insert` many times, which has poor performance.  Consider joining all columns at once using pd.concat(axis=1) instead. To get a de-fragmented frame, use `newframe = frame.copy()`\n",
      "  amostras['Amostra_' + str(i)] = _\n",
      "C:\\Users\\Tiago\\AppData\\Local\\Temp\\ipykernel_18996\\3166345054.py:4: PerformanceWarning: DataFrame is highly fragmented.  This is usually the result of calling `frame.insert` many times, which has poor performance.  Consider joining all columns at once using pd.concat(axis=1) instead. To get a de-fragmented frame, use `newframe = frame.copy()`\n",
      "  amostras['Amostra_' + str(i)] = _\n",
      "C:\\Users\\Tiago\\AppData\\Local\\Temp\\ipykernel_18996\\3166345054.py:4: PerformanceWarning: DataFrame is highly fragmented.  This is usually the result of calling `frame.insert` many times, which has poor performance.  Consider joining all columns at once using pd.concat(axis=1) instead. To get a de-fragmented frame, use `newframe = frame.copy()`\n",
      "  amostras['Amostra_' + str(i)] = _\n",
      "C:\\Users\\Tiago\\AppData\\Local\\Temp\\ipykernel_18996\\3166345054.py:4: PerformanceWarning: DataFrame is highly fragmented.  This is usually the result of calling `frame.insert` many times, which has poor performance.  Consider joining all columns at once using pd.concat(axis=1) instead. To get a de-fragmented frame, use `newframe = frame.copy()`\n",
      "  amostras['Amostra_' + str(i)] = _\n",
      "C:\\Users\\Tiago\\AppData\\Local\\Temp\\ipykernel_18996\\3166345054.py:4: PerformanceWarning: DataFrame is highly fragmented.  This is usually the result of calling `frame.insert` many times, which has poor performance.  Consider joining all columns at once using pd.concat(axis=1) instead. To get a de-fragmented frame, use `newframe = frame.copy()`\n",
      "  amostras['Amostra_' + str(i)] = _\n",
      "C:\\Users\\Tiago\\AppData\\Local\\Temp\\ipykernel_18996\\3166345054.py:4: PerformanceWarning: DataFrame is highly fragmented.  This is usually the result of calling `frame.insert` many times, which has poor performance.  Consider joining all columns at once using pd.concat(axis=1) instead. To get a de-fragmented frame, use `newframe = frame.copy()`\n",
      "  amostras['Amostra_' + str(i)] = _\n",
      "C:\\Users\\Tiago\\AppData\\Local\\Temp\\ipykernel_18996\\3166345054.py:4: PerformanceWarning: DataFrame is highly fragmented.  This is usually the result of calling `frame.insert` many times, which has poor performance.  Consider joining all columns at once using pd.concat(axis=1) instead. To get a de-fragmented frame, use `newframe = frame.copy()`\n",
      "  amostras['Amostra_' + str(i)] = _\n",
      "C:\\Users\\Tiago\\AppData\\Local\\Temp\\ipykernel_18996\\3166345054.py:4: PerformanceWarning: DataFrame is highly fragmented.  This is usually the result of calling `frame.insert` many times, which has poor performance.  Consider joining all columns at once using pd.concat(axis=1) instead. To get a de-fragmented frame, use `newframe = frame.copy()`\n",
      "  amostras['Amostra_' + str(i)] = _\n",
      "C:\\Users\\Tiago\\AppData\\Local\\Temp\\ipykernel_18996\\3166345054.py:4: PerformanceWarning: DataFrame is highly fragmented.  This is usually the result of calling `frame.insert` many times, which has poor performance.  Consider joining all columns at once using pd.concat(axis=1) instead. To get a de-fragmented frame, use `newframe = frame.copy()`\n",
      "  amostras['Amostra_' + str(i)] = _\n",
      "C:\\Users\\Tiago\\AppData\\Local\\Temp\\ipykernel_18996\\3166345054.py:4: PerformanceWarning: DataFrame is highly fragmented.  This is usually the result of calling `frame.insert` many times, which has poor performance.  Consider joining all columns at once using pd.concat(axis=1) instead. To get a de-fragmented frame, use `newframe = frame.copy()`\n",
      "  amostras['Amostra_' + str(i)] = _\n",
      "C:\\Users\\Tiago\\AppData\\Local\\Temp\\ipykernel_18996\\3166345054.py:4: PerformanceWarning: DataFrame is highly fragmented.  This is usually the result of calling `frame.insert` many times, which has poor performance.  Consider joining all columns at once using pd.concat(axis=1) instead. To get a de-fragmented frame, use `newframe = frame.copy()`\n",
      "  amostras['Amostra_' + str(i)] = _\n",
      "C:\\Users\\Tiago\\AppData\\Local\\Temp\\ipykernel_18996\\3166345054.py:4: PerformanceWarning: DataFrame is highly fragmented.  This is usually the result of calling `frame.insert` many times, which has poor performance.  Consider joining all columns at once using pd.concat(axis=1) instead. To get a de-fragmented frame, use `newframe = frame.copy()`\n",
      "  amostras['Amostra_' + str(i)] = _\n",
      "C:\\Users\\Tiago\\AppData\\Local\\Temp\\ipykernel_18996\\3166345054.py:4: PerformanceWarning: DataFrame is highly fragmented.  This is usually the result of calling `frame.insert` many times, which has poor performance.  Consider joining all columns at once using pd.concat(axis=1) instead. To get a de-fragmented frame, use `newframe = frame.copy()`\n",
      "  amostras['Amostra_' + str(i)] = _\n",
      "C:\\Users\\Tiago\\AppData\\Local\\Temp\\ipykernel_18996\\3166345054.py:4: PerformanceWarning: DataFrame is highly fragmented.  This is usually the result of calling `frame.insert` many times, which has poor performance.  Consider joining all columns at once using pd.concat(axis=1) instead. To get a de-fragmented frame, use `newframe = frame.copy()`\n",
      "  amostras['Amostra_' + str(i)] = _\n",
      "C:\\Users\\Tiago\\AppData\\Local\\Temp\\ipykernel_18996\\3166345054.py:4: PerformanceWarning: DataFrame is highly fragmented.  This is usually the result of calling `frame.insert` many times, which has poor performance.  Consider joining all columns at once using pd.concat(axis=1) instead. To get a de-fragmented frame, use `newframe = frame.copy()`\n",
      "  amostras['Amostra_' + str(i)] = _\n",
      "C:\\Users\\Tiago\\AppData\\Local\\Temp\\ipykernel_18996\\3166345054.py:4: PerformanceWarning: DataFrame is highly fragmented.  This is usually the result of calling `frame.insert` many times, which has poor performance.  Consider joining all columns at once using pd.concat(axis=1) instead. To get a de-fragmented frame, use `newframe = frame.copy()`\n",
      "  amostras['Amostra_' + str(i)] = _\n",
      "C:\\Users\\Tiago\\AppData\\Local\\Temp\\ipykernel_18996\\3166345054.py:4: PerformanceWarning: DataFrame is highly fragmented.  This is usually the result of calling `frame.insert` many times, which has poor performance.  Consider joining all columns at once using pd.concat(axis=1) instead. To get a de-fragmented frame, use `newframe = frame.copy()`\n",
      "  amostras['Amostra_' + str(i)] = _\n",
      "C:\\Users\\Tiago\\AppData\\Local\\Temp\\ipykernel_18996\\3166345054.py:4: PerformanceWarning: DataFrame is highly fragmented.  This is usually the result of calling `frame.insert` many times, which has poor performance.  Consider joining all columns at once using pd.concat(axis=1) instead. To get a de-fragmented frame, use `newframe = frame.copy()`\n",
      "  amostras['Amostra_' + str(i)] = _\n",
      "C:\\Users\\Tiago\\AppData\\Local\\Temp\\ipykernel_18996\\3166345054.py:4: PerformanceWarning: DataFrame is highly fragmented.  This is usually the result of calling `frame.insert` many times, which has poor performance.  Consider joining all columns at once using pd.concat(axis=1) instead. To get a de-fragmented frame, use `newframe = frame.copy()`\n",
      "  amostras['Amostra_' + str(i)] = _\n",
      "C:\\Users\\Tiago\\AppData\\Local\\Temp\\ipykernel_18996\\3166345054.py:4: PerformanceWarning: DataFrame is highly fragmented.  This is usually the result of calling `frame.insert` many times, which has poor performance.  Consider joining all columns at once using pd.concat(axis=1) instead. To get a de-fragmented frame, use `newframe = frame.copy()`\n",
      "  amostras['Amostra_' + str(i)] = _\n",
      "C:\\Users\\Tiago\\AppData\\Local\\Temp\\ipykernel_18996\\3166345054.py:4: PerformanceWarning: DataFrame is highly fragmented.  This is usually the result of calling `frame.insert` many times, which has poor performance.  Consider joining all columns at once using pd.concat(axis=1) instead. To get a de-fragmented frame, use `newframe = frame.copy()`\n",
      "  amostras['Amostra_' + str(i)] = _\n",
      "C:\\Users\\Tiago\\AppData\\Local\\Temp\\ipykernel_18996\\3166345054.py:4: PerformanceWarning: DataFrame is highly fragmented.  This is usually the result of calling `frame.insert` many times, which has poor performance.  Consider joining all columns at once using pd.concat(axis=1) instead. To get a de-fragmented frame, use `newframe = frame.copy()`\n",
      "  amostras['Amostra_' + str(i)] = _\n",
      "C:\\Users\\Tiago\\AppData\\Local\\Temp\\ipykernel_18996\\3166345054.py:4: PerformanceWarning: DataFrame is highly fragmented.  This is usually the result of calling `frame.insert` many times, which has poor performance.  Consider joining all columns at once using pd.concat(axis=1) instead. To get a de-fragmented frame, use `newframe = frame.copy()`\n",
      "  amostras['Amostra_' + str(i)] = _\n",
      "C:\\Users\\Tiago\\AppData\\Local\\Temp\\ipykernel_18996\\3166345054.py:4: PerformanceWarning: DataFrame is highly fragmented.  This is usually the result of calling `frame.insert` many times, which has poor performance.  Consider joining all columns at once using pd.concat(axis=1) instead. To get a de-fragmented frame, use `newframe = frame.copy()`\n",
      "  amostras['Amostra_' + str(i)] = _\n",
      "C:\\Users\\Tiago\\AppData\\Local\\Temp\\ipykernel_18996\\3166345054.py:4: PerformanceWarning: DataFrame is highly fragmented.  This is usually the result of calling `frame.insert` many times, which has poor performance.  Consider joining all columns at once using pd.concat(axis=1) instead. To get a de-fragmented frame, use `newframe = frame.copy()`\n",
      "  amostras['Amostra_' + str(i)] = _\n",
      "C:\\Users\\Tiago\\AppData\\Local\\Temp\\ipykernel_18996\\3166345054.py:4: PerformanceWarning: DataFrame is highly fragmented.  This is usually the result of calling `frame.insert` many times, which has poor performance.  Consider joining all columns at once using pd.concat(axis=1) instead. To get a de-fragmented frame, use `newframe = frame.copy()`\n",
      "  amostras['Amostra_' + str(i)] = _\n",
      "C:\\Users\\Tiago\\AppData\\Local\\Temp\\ipykernel_18996\\3166345054.py:4: PerformanceWarning: DataFrame is highly fragmented.  This is usually the result of calling `frame.insert` many times, which has poor performance.  Consider joining all columns at once using pd.concat(axis=1) instead. To get a de-fragmented frame, use `newframe = frame.copy()`\n",
      "  amostras['Amostra_' + str(i)] = _\n",
      "C:\\Users\\Tiago\\AppData\\Local\\Temp\\ipykernel_18996\\3166345054.py:4: PerformanceWarning: DataFrame is highly fragmented.  This is usually the result of calling `frame.insert` many times, which has poor performance.  Consider joining all columns at once using pd.concat(axis=1) instead. To get a de-fragmented frame, use `newframe = frame.copy()`\n",
      "  amostras['Amostra_' + str(i)] = _\n",
      "C:\\Users\\Tiago\\AppData\\Local\\Temp\\ipykernel_18996\\3166345054.py:4: PerformanceWarning: DataFrame is highly fragmented.  This is usually the result of calling `frame.insert` many times, which has poor performance.  Consider joining all columns at once using pd.concat(axis=1) instead. To get a de-fragmented frame, use `newframe = frame.copy()`\n",
      "  amostras['Amostra_' + str(i)] = _\n",
      "C:\\Users\\Tiago\\AppData\\Local\\Temp\\ipykernel_18996\\3166345054.py:4: PerformanceWarning: DataFrame is highly fragmented.  This is usually the result of calling `frame.insert` many times, which has poor performance.  Consider joining all columns at once using pd.concat(axis=1) instead. To get a de-fragmented frame, use `newframe = frame.copy()`\n",
      "  amostras['Amostra_' + str(i)] = _\n",
      "C:\\Users\\Tiago\\AppData\\Local\\Temp\\ipykernel_18996\\3166345054.py:4: PerformanceWarning: DataFrame is highly fragmented.  This is usually the result of calling `frame.insert` many times, which has poor performance.  Consider joining all columns at once using pd.concat(axis=1) instead. To get a de-fragmented frame, use `newframe = frame.copy()`\n",
      "  amostras['Amostra_' + str(i)] = _\n",
      "C:\\Users\\Tiago\\AppData\\Local\\Temp\\ipykernel_18996\\3166345054.py:4: PerformanceWarning: DataFrame is highly fragmented.  This is usually the result of calling `frame.insert` many times, which has poor performance.  Consider joining all columns at once using pd.concat(axis=1) instead. To get a de-fragmented frame, use `newframe = frame.copy()`\n",
      "  amostras['Amostra_' + str(i)] = _\n",
      "C:\\Users\\Tiago\\AppData\\Local\\Temp\\ipykernel_18996\\3166345054.py:4: PerformanceWarning: DataFrame is highly fragmented.  This is usually the result of calling `frame.insert` many times, which has poor performance.  Consider joining all columns at once using pd.concat(axis=1) instead. To get a de-fragmented frame, use `newframe = frame.copy()`\n",
      "  amostras['Amostra_' + str(i)] = _\n",
      "C:\\Users\\Tiago\\AppData\\Local\\Temp\\ipykernel_18996\\3166345054.py:4: PerformanceWarning: DataFrame is highly fragmented.  This is usually the result of calling `frame.insert` many times, which has poor performance.  Consider joining all columns at once using pd.concat(axis=1) instead. To get a de-fragmented frame, use `newframe = frame.copy()`\n",
      "  amostras['Amostra_' + str(i)] = _\n",
      "C:\\Users\\Tiago\\AppData\\Local\\Temp\\ipykernel_18996\\3166345054.py:4: PerformanceWarning: DataFrame is highly fragmented.  This is usually the result of calling `frame.insert` many times, which has poor performance.  Consider joining all columns at once using pd.concat(axis=1) instead. To get a de-fragmented frame, use `newframe = frame.copy()`\n",
      "  amostras['Amostra_' + str(i)] = _\n",
      "C:\\Users\\Tiago\\AppData\\Local\\Temp\\ipykernel_18996\\3166345054.py:4: PerformanceWarning: DataFrame is highly fragmented.  This is usually the result of calling `frame.insert` many times, which has poor performance.  Consider joining all columns at once using pd.concat(axis=1) instead. To get a de-fragmented frame, use `newframe = frame.copy()`\n",
      "  amostras['Amostra_' + str(i)] = _\n",
      "C:\\Users\\Tiago\\AppData\\Local\\Temp\\ipykernel_18996\\3166345054.py:4: PerformanceWarning: DataFrame is highly fragmented.  This is usually the result of calling `frame.insert` many times, which has poor performance.  Consider joining all columns at once using pd.concat(axis=1) instead. To get a de-fragmented frame, use `newframe = frame.copy()`\n",
      "  amostras['Amostra_' + str(i)] = _\n",
      "C:\\Users\\Tiago\\AppData\\Local\\Temp\\ipykernel_18996\\3166345054.py:4: PerformanceWarning: DataFrame is highly fragmented.  This is usually the result of calling `frame.insert` many times, which has poor performance.  Consider joining all columns at once using pd.concat(axis=1) instead. To get a de-fragmented frame, use `newframe = frame.copy()`\n",
      "  amostras['Amostra_' + str(i)] = _\n",
      "C:\\Users\\Tiago\\AppData\\Local\\Temp\\ipykernel_18996\\3166345054.py:4: PerformanceWarning: DataFrame is highly fragmented.  This is usually the result of calling `frame.insert` many times, which has poor performance.  Consider joining all columns at once using pd.concat(axis=1) instead. To get a de-fragmented frame, use `newframe = frame.copy()`\n",
      "  amostras['Amostra_' + str(i)] = _\n",
      "C:\\Users\\Tiago\\AppData\\Local\\Temp\\ipykernel_18996\\3166345054.py:4: PerformanceWarning: DataFrame is highly fragmented.  This is usually the result of calling `frame.insert` many times, which has poor performance.  Consider joining all columns at once using pd.concat(axis=1) instead. To get a de-fragmented frame, use `newframe = frame.copy()`\n",
      "  amostras['Amostra_' + str(i)] = _\n",
      "C:\\Users\\Tiago\\AppData\\Local\\Temp\\ipykernel_18996\\3166345054.py:4: PerformanceWarning: DataFrame is highly fragmented.  This is usually the result of calling `frame.insert` many times, which has poor performance.  Consider joining all columns at once using pd.concat(axis=1) instead. To get a de-fragmented frame, use `newframe = frame.copy()`\n",
      "  amostras['Amostra_' + str(i)] = _\n",
      "C:\\Users\\Tiago\\AppData\\Local\\Temp\\ipykernel_18996\\3166345054.py:4: PerformanceWarning: DataFrame is highly fragmented.  This is usually the result of calling `frame.insert` many times, which has poor performance.  Consider joining all columns at once using pd.concat(axis=1) instead. To get a de-fragmented frame, use `newframe = frame.copy()`\n",
      "  amostras['Amostra_' + str(i)] = _\n",
      "C:\\Users\\Tiago\\AppData\\Local\\Temp\\ipykernel_18996\\3166345054.py:4: PerformanceWarning: DataFrame is highly fragmented.  This is usually the result of calling `frame.insert` many times, which has poor performance.  Consider joining all columns at once using pd.concat(axis=1) instead. To get a de-fragmented frame, use `newframe = frame.copy()`\n",
      "  amostras['Amostra_' + str(i)] = _\n",
      "C:\\Users\\Tiago\\AppData\\Local\\Temp\\ipykernel_18996\\3166345054.py:4: PerformanceWarning: DataFrame is highly fragmented.  This is usually the result of calling `frame.insert` many times, which has poor performance.  Consider joining all columns at once using pd.concat(axis=1) instead. To get a de-fragmented frame, use `newframe = frame.copy()`\n",
      "  amostras['Amostra_' + str(i)] = _\n",
      "C:\\Users\\Tiago\\AppData\\Local\\Temp\\ipykernel_18996\\3166345054.py:4: PerformanceWarning: DataFrame is highly fragmented.  This is usually the result of calling `frame.insert` many times, which has poor performance.  Consider joining all columns at once using pd.concat(axis=1) instead. To get a de-fragmented frame, use `newframe = frame.copy()`\n",
      "  amostras['Amostra_' + str(i)] = _\n",
      "C:\\Users\\Tiago\\AppData\\Local\\Temp\\ipykernel_18996\\3166345054.py:4: PerformanceWarning: DataFrame is highly fragmented.  This is usually the result of calling `frame.insert` many times, which has poor performance.  Consider joining all columns at once using pd.concat(axis=1) instead. To get a de-fragmented frame, use `newframe = frame.copy()`\n",
      "  amostras['Amostra_' + str(i)] = _\n",
      "C:\\Users\\Tiago\\AppData\\Local\\Temp\\ipykernel_18996\\3166345054.py:4: PerformanceWarning: DataFrame is highly fragmented.  This is usually the result of calling `frame.insert` many times, which has poor performance.  Consider joining all columns at once using pd.concat(axis=1) instead. To get a de-fragmented frame, use `newframe = frame.copy()`\n",
      "  amostras['Amostra_' + str(i)] = _\n",
      "C:\\Users\\Tiago\\AppData\\Local\\Temp\\ipykernel_18996\\3166345054.py:4: PerformanceWarning: DataFrame is highly fragmented.  This is usually the result of calling `frame.insert` many times, which has poor performance.  Consider joining all columns at once using pd.concat(axis=1) instead. To get a de-fragmented frame, use `newframe = frame.copy()`\n",
      "  amostras['Amostra_' + str(i)] = _\n",
      "C:\\Users\\Tiago\\AppData\\Local\\Temp\\ipykernel_18996\\3166345054.py:4: PerformanceWarning: DataFrame is highly fragmented.  This is usually the result of calling `frame.insert` many times, which has poor performance.  Consider joining all columns at once using pd.concat(axis=1) instead. To get a de-fragmented frame, use `newframe = frame.copy()`\n",
      "  amostras['Amostra_' + str(i)] = _\n",
      "C:\\Users\\Tiago\\AppData\\Local\\Temp\\ipykernel_18996\\3166345054.py:4: PerformanceWarning: DataFrame is highly fragmented.  This is usually the result of calling `frame.insert` many times, which has poor performance.  Consider joining all columns at once using pd.concat(axis=1) instead. To get a de-fragmented frame, use `newframe = frame.copy()`\n",
      "  amostras['Amostra_' + str(i)] = _\n",
      "C:\\Users\\Tiago\\AppData\\Local\\Temp\\ipykernel_18996\\3166345054.py:4: PerformanceWarning: DataFrame is highly fragmented.  This is usually the result of calling `frame.insert` many times, which has poor performance.  Consider joining all columns at once using pd.concat(axis=1) instead. To get a de-fragmented frame, use `newframe = frame.copy()`\n",
      "  amostras['Amostra_' + str(i)] = _\n",
      "C:\\Users\\Tiago\\AppData\\Local\\Temp\\ipykernel_18996\\3166345054.py:4: PerformanceWarning: DataFrame is highly fragmented.  This is usually the result of calling `frame.insert` many times, which has poor performance.  Consider joining all columns at once using pd.concat(axis=1) instead. To get a de-fragmented frame, use `newframe = frame.copy()`\n",
      "  amostras['Amostra_' + str(i)] = _\n",
      "C:\\Users\\Tiago\\AppData\\Local\\Temp\\ipykernel_18996\\3166345054.py:4: PerformanceWarning: DataFrame is highly fragmented.  This is usually the result of calling `frame.insert` many times, which has poor performance.  Consider joining all columns at once using pd.concat(axis=1) instead. To get a de-fragmented frame, use `newframe = frame.copy()`\n",
      "  amostras['Amostra_' + str(i)] = _\n",
      "C:\\Users\\Tiago\\AppData\\Local\\Temp\\ipykernel_18996\\3166345054.py:4: PerformanceWarning: DataFrame is highly fragmented.  This is usually the result of calling `frame.insert` many times, which has poor performance.  Consider joining all columns at once using pd.concat(axis=1) instead. To get a de-fragmented frame, use `newframe = frame.copy()`\n",
      "  amostras['Amostra_' + str(i)] = _\n",
      "C:\\Users\\Tiago\\AppData\\Local\\Temp\\ipykernel_18996\\3166345054.py:4: PerformanceWarning: DataFrame is highly fragmented.  This is usually the result of calling `frame.insert` many times, which has poor performance.  Consider joining all columns at once using pd.concat(axis=1) instead. To get a de-fragmented frame, use `newframe = frame.copy()`\n",
      "  amostras['Amostra_' + str(i)] = _\n",
      "C:\\Users\\Tiago\\AppData\\Local\\Temp\\ipykernel_18996\\3166345054.py:4: PerformanceWarning: DataFrame is highly fragmented.  This is usually the result of calling `frame.insert` many times, which has poor performance.  Consider joining all columns at once using pd.concat(axis=1) instead. To get a de-fragmented frame, use `newframe = frame.copy()`\n",
      "  amostras['Amostra_' + str(i)] = _\n",
      "C:\\Users\\Tiago\\AppData\\Local\\Temp\\ipykernel_18996\\3166345054.py:4: PerformanceWarning: DataFrame is highly fragmented.  This is usually the result of calling `frame.insert` many times, which has poor performance.  Consider joining all columns at once using pd.concat(axis=1) instead. To get a de-fragmented frame, use `newframe = frame.copy()`\n",
      "  amostras['Amostra_' + str(i)] = _\n",
      "C:\\Users\\Tiago\\AppData\\Local\\Temp\\ipykernel_18996\\3166345054.py:4: PerformanceWarning: DataFrame is highly fragmented.  This is usually the result of calling `frame.insert` many times, which has poor performance.  Consider joining all columns at once using pd.concat(axis=1) instead. To get a de-fragmented frame, use `newframe = frame.copy()`\n",
      "  amostras['Amostra_' + str(i)] = _\n",
      "C:\\Users\\Tiago\\AppData\\Local\\Temp\\ipykernel_18996\\3166345054.py:4: PerformanceWarning: DataFrame is highly fragmented.  This is usually the result of calling `frame.insert` many times, which has poor performance.  Consider joining all columns at once using pd.concat(axis=1) instead. To get a de-fragmented frame, use `newframe = frame.copy()`\n",
      "  amostras['Amostra_' + str(i)] = _\n",
      "C:\\Users\\Tiago\\AppData\\Local\\Temp\\ipykernel_18996\\3166345054.py:4: PerformanceWarning: DataFrame is highly fragmented.  This is usually the result of calling `frame.insert` many times, which has poor performance.  Consider joining all columns at once using pd.concat(axis=1) instead. To get a de-fragmented frame, use `newframe = frame.copy()`\n",
      "  amostras['Amostra_' + str(i)] = _\n",
      "C:\\Users\\Tiago\\AppData\\Local\\Temp\\ipykernel_18996\\3166345054.py:4: PerformanceWarning: DataFrame is highly fragmented.  This is usually the result of calling `frame.insert` many times, which has poor performance.  Consider joining all columns at once using pd.concat(axis=1) instead. To get a de-fragmented frame, use `newframe = frame.copy()`\n",
      "  amostras['Amostra_' + str(i)] = _\n",
      "C:\\Users\\Tiago\\AppData\\Local\\Temp\\ipykernel_18996\\3166345054.py:4: PerformanceWarning: DataFrame is highly fragmented.  This is usually the result of calling `frame.insert` many times, which has poor performance.  Consider joining all columns at once using pd.concat(axis=1) instead. To get a de-fragmented frame, use `newframe = frame.copy()`\n",
      "  amostras['Amostra_' + str(i)] = _\n",
      "C:\\Users\\Tiago\\AppData\\Local\\Temp\\ipykernel_18996\\3166345054.py:4: PerformanceWarning: DataFrame is highly fragmented.  This is usually the result of calling `frame.insert` many times, which has poor performance.  Consider joining all columns at once using pd.concat(axis=1) instead. To get a de-fragmented frame, use `newframe = frame.copy()`\n",
      "  amostras['Amostra_' + str(i)] = _\n",
      "C:\\Users\\Tiago\\AppData\\Local\\Temp\\ipykernel_18996\\3166345054.py:4: PerformanceWarning: DataFrame is highly fragmented.  This is usually the result of calling `frame.insert` many times, which has poor performance.  Consider joining all columns at once using pd.concat(axis=1) instead. To get a de-fragmented frame, use `newframe = frame.copy()`\n",
      "  amostras['Amostra_' + str(i)] = _\n",
      "C:\\Users\\Tiago\\AppData\\Local\\Temp\\ipykernel_18996\\3166345054.py:4: PerformanceWarning: DataFrame is highly fragmented.  This is usually the result of calling `frame.insert` many times, which has poor performance.  Consider joining all columns at once using pd.concat(axis=1) instead. To get a de-fragmented frame, use `newframe = frame.copy()`\n",
      "  amostras['Amostra_' + str(i)] = _\n",
      "C:\\Users\\Tiago\\AppData\\Local\\Temp\\ipykernel_18996\\3166345054.py:4: PerformanceWarning: DataFrame is highly fragmented.  This is usually the result of calling `frame.insert` many times, which has poor performance.  Consider joining all columns at once using pd.concat(axis=1) instead. To get a de-fragmented frame, use `newframe = frame.copy()`\n",
      "  amostras['Amostra_' + str(i)] = _\n",
      "C:\\Users\\Tiago\\AppData\\Local\\Temp\\ipykernel_18996\\3166345054.py:4: PerformanceWarning: DataFrame is highly fragmented.  This is usually the result of calling `frame.insert` many times, which has poor performance.  Consider joining all columns at once using pd.concat(axis=1) instead. To get a de-fragmented frame, use `newframe = frame.copy()`\n",
      "  amostras['Amostra_' + str(i)] = _\n",
      "C:\\Users\\Tiago\\AppData\\Local\\Temp\\ipykernel_18996\\3166345054.py:4: PerformanceWarning: DataFrame is highly fragmented.  This is usually the result of calling `frame.insert` many times, which has poor performance.  Consider joining all columns at once using pd.concat(axis=1) instead. To get a de-fragmented frame, use `newframe = frame.copy()`\n",
      "  amostras['Amostra_' + str(i)] = _\n",
      "C:\\Users\\Tiago\\AppData\\Local\\Temp\\ipykernel_18996\\3166345054.py:4: PerformanceWarning: DataFrame is highly fragmented.  This is usually the result of calling `frame.insert` many times, which has poor performance.  Consider joining all columns at once using pd.concat(axis=1) instead. To get a de-fragmented frame, use `newframe = frame.copy()`\n",
      "  amostras['Amostra_' + str(i)] = _\n",
      "C:\\Users\\Tiago\\AppData\\Local\\Temp\\ipykernel_18996\\3166345054.py:4: PerformanceWarning: DataFrame is highly fragmented.  This is usually the result of calling `frame.insert` many times, which has poor performance.  Consider joining all columns at once using pd.concat(axis=1) instead. To get a de-fragmented frame, use `newframe = frame.copy()`\n",
      "  amostras['Amostra_' + str(i)] = _\n",
      "C:\\Users\\Tiago\\AppData\\Local\\Temp\\ipykernel_18996\\3166345054.py:4: PerformanceWarning: DataFrame is highly fragmented.  This is usually the result of calling `frame.insert` many times, which has poor performance.  Consider joining all columns at once using pd.concat(axis=1) instead. To get a de-fragmented frame, use `newframe = frame.copy()`\n",
      "  amostras['Amostra_' + str(i)] = _\n",
      "C:\\Users\\Tiago\\AppData\\Local\\Temp\\ipykernel_18996\\3166345054.py:4: PerformanceWarning: DataFrame is highly fragmented.  This is usually the result of calling `frame.insert` many times, which has poor performance.  Consider joining all columns at once using pd.concat(axis=1) instead. To get a de-fragmented frame, use `newframe = frame.copy()`\n",
      "  amostras['Amostra_' + str(i)] = _\n",
      "C:\\Users\\Tiago\\AppData\\Local\\Temp\\ipykernel_18996\\3166345054.py:4: PerformanceWarning: DataFrame is highly fragmented.  This is usually the result of calling `frame.insert` many times, which has poor performance.  Consider joining all columns at once using pd.concat(axis=1) instead. To get a de-fragmented frame, use `newframe = frame.copy()`\n",
      "  amostras['Amostra_' + str(i)] = _\n",
      "C:\\Users\\Tiago\\AppData\\Local\\Temp\\ipykernel_18996\\3166345054.py:4: PerformanceWarning: DataFrame is highly fragmented.  This is usually the result of calling `frame.insert` many times, which has poor performance.  Consider joining all columns at once using pd.concat(axis=1) instead. To get a de-fragmented frame, use `newframe = frame.copy()`\n",
      "  amostras['Amostra_' + str(i)] = _\n",
      "C:\\Users\\Tiago\\AppData\\Local\\Temp\\ipykernel_18996\\3166345054.py:4: PerformanceWarning: DataFrame is highly fragmented.  This is usually the result of calling `frame.insert` many times, which has poor performance.  Consider joining all columns at once using pd.concat(axis=1) instead. To get a de-fragmented frame, use `newframe = frame.copy()`\n",
      "  amostras['Amostra_' + str(i)] = _\n",
      "C:\\Users\\Tiago\\AppData\\Local\\Temp\\ipykernel_18996\\3166345054.py:4: PerformanceWarning: DataFrame is highly fragmented.  This is usually the result of calling `frame.insert` many times, which has poor performance.  Consider joining all columns at once using pd.concat(axis=1) instead. To get a de-fragmented frame, use `newframe = frame.copy()`\n",
      "  amostras['Amostra_' + str(i)] = _\n",
      "C:\\Users\\Tiago\\AppData\\Local\\Temp\\ipykernel_18996\\3166345054.py:4: PerformanceWarning: DataFrame is highly fragmented.  This is usually the result of calling `frame.insert` many times, which has poor performance.  Consider joining all columns at once using pd.concat(axis=1) instead. To get a de-fragmented frame, use `newframe = frame.copy()`\n",
      "  amostras['Amostra_' + str(i)] = _\n",
      "C:\\Users\\Tiago\\AppData\\Local\\Temp\\ipykernel_18996\\3166345054.py:4: PerformanceWarning: DataFrame is highly fragmented.  This is usually the result of calling `frame.insert` many times, which has poor performance.  Consider joining all columns at once using pd.concat(axis=1) instead. To get a de-fragmented frame, use `newframe = frame.copy()`\n",
      "  amostras['Amostra_' + str(i)] = _\n",
      "C:\\Users\\Tiago\\AppData\\Local\\Temp\\ipykernel_18996\\3166345054.py:4: PerformanceWarning: DataFrame is highly fragmented.  This is usually the result of calling `frame.insert` many times, which has poor performance.  Consider joining all columns at once using pd.concat(axis=1) instead. To get a de-fragmented frame, use `newframe = frame.copy()`\n",
      "  amostras['Amostra_' + str(i)] = _\n",
      "C:\\Users\\Tiago\\AppData\\Local\\Temp\\ipykernel_18996\\3166345054.py:4: PerformanceWarning: DataFrame is highly fragmented.  This is usually the result of calling `frame.insert` many times, which has poor performance.  Consider joining all columns at once using pd.concat(axis=1) instead. To get a de-fragmented frame, use `newframe = frame.copy()`\n",
      "  amostras['Amostra_' + str(i)] = _\n",
      "C:\\Users\\Tiago\\AppData\\Local\\Temp\\ipykernel_18996\\3166345054.py:4: PerformanceWarning: DataFrame is highly fragmented.  This is usually the result of calling `frame.insert` many times, which has poor performance.  Consider joining all columns at once using pd.concat(axis=1) instead. To get a de-fragmented frame, use `newframe = frame.copy()`\n",
      "  amostras['Amostra_' + str(i)] = _\n",
      "C:\\Users\\Tiago\\AppData\\Local\\Temp\\ipykernel_18996\\3166345054.py:4: PerformanceWarning: DataFrame is highly fragmented.  This is usually the result of calling `frame.insert` many times, which has poor performance.  Consider joining all columns at once using pd.concat(axis=1) instead. To get a de-fragmented frame, use `newframe = frame.copy()`\n",
      "  amostras['Amostra_' + str(i)] = _\n",
      "C:\\Users\\Tiago\\AppData\\Local\\Temp\\ipykernel_18996\\3166345054.py:4: PerformanceWarning: DataFrame is highly fragmented.  This is usually the result of calling `frame.insert` many times, which has poor performance.  Consider joining all columns at once using pd.concat(axis=1) instead. To get a de-fragmented frame, use `newframe = frame.copy()`\n",
      "  amostras['Amostra_' + str(i)] = _\n",
      "C:\\Users\\Tiago\\AppData\\Local\\Temp\\ipykernel_18996\\3166345054.py:4: PerformanceWarning: DataFrame is highly fragmented.  This is usually the result of calling `frame.insert` many times, which has poor performance.  Consider joining all columns at once using pd.concat(axis=1) instead. To get a de-fragmented frame, use `newframe = frame.copy()`\n",
      "  amostras['Amostra_' + str(i)] = _\n",
      "C:\\Users\\Tiago\\AppData\\Local\\Temp\\ipykernel_18996\\3166345054.py:4: PerformanceWarning: DataFrame is highly fragmented.  This is usually the result of calling `frame.insert` many times, which has poor performance.  Consider joining all columns at once using pd.concat(axis=1) instead. To get a de-fragmented frame, use `newframe = frame.copy()`\n",
      "  amostras['Amostra_' + str(i)] = _\n",
      "C:\\Users\\Tiago\\AppData\\Local\\Temp\\ipykernel_18996\\3166345054.py:4: PerformanceWarning: DataFrame is highly fragmented.  This is usually the result of calling `frame.insert` many times, which has poor performance.  Consider joining all columns at once using pd.concat(axis=1) instead. To get a de-fragmented frame, use `newframe = frame.copy()`\n",
      "  amostras['Amostra_' + str(i)] = _\n",
      "C:\\Users\\Tiago\\AppData\\Local\\Temp\\ipykernel_18996\\3166345054.py:4: PerformanceWarning: DataFrame is highly fragmented.  This is usually the result of calling `frame.insert` many times, which has poor performance.  Consider joining all columns at once using pd.concat(axis=1) instead. To get a de-fragmented frame, use `newframe = frame.copy()`\n",
      "  amostras['Amostra_' + str(i)] = _\n",
      "C:\\Users\\Tiago\\AppData\\Local\\Temp\\ipykernel_18996\\3166345054.py:4: PerformanceWarning: DataFrame is highly fragmented.  This is usually the result of calling `frame.insert` many times, which has poor performance.  Consider joining all columns at once using pd.concat(axis=1) instead. To get a de-fragmented frame, use `newframe = frame.copy()`\n",
      "  amostras['Amostra_' + str(i)] = _\n",
      "C:\\Users\\Tiago\\AppData\\Local\\Temp\\ipykernel_18996\\3166345054.py:4: PerformanceWarning: DataFrame is highly fragmented.  This is usually the result of calling `frame.insert` many times, which has poor performance.  Consider joining all columns at once using pd.concat(axis=1) instead. To get a de-fragmented frame, use `newframe = frame.copy()`\n",
      "  amostras['Amostra_' + str(i)] = _\n",
      "C:\\Users\\Tiago\\AppData\\Local\\Temp\\ipykernel_18996\\3166345054.py:4: PerformanceWarning: DataFrame is highly fragmented.  This is usually the result of calling `frame.insert` many times, which has poor performance.  Consider joining all columns at once using pd.concat(axis=1) instead. To get a de-fragmented frame, use `newframe = frame.copy()`\n",
      "  amostras['Amostra_' + str(i)] = _\n",
      "C:\\Users\\Tiago\\AppData\\Local\\Temp\\ipykernel_18996\\3166345054.py:4: PerformanceWarning: DataFrame is highly fragmented.  This is usually the result of calling `frame.insert` many times, which has poor performance.  Consider joining all columns at once using pd.concat(axis=1) instead. To get a de-fragmented frame, use `newframe = frame.copy()`\n",
      "  amostras['Amostra_' + str(i)] = _\n",
      "C:\\Users\\Tiago\\AppData\\Local\\Temp\\ipykernel_18996\\3166345054.py:4: PerformanceWarning: DataFrame is highly fragmented.  This is usually the result of calling `frame.insert` many times, which has poor performance.  Consider joining all columns at once using pd.concat(axis=1) instead. To get a de-fragmented frame, use `newframe = frame.copy()`\n",
      "  amostras['Amostra_' + str(i)] = _\n",
      "C:\\Users\\Tiago\\AppData\\Local\\Temp\\ipykernel_18996\\3166345054.py:4: PerformanceWarning: DataFrame is highly fragmented.  This is usually the result of calling `frame.insert` many times, which has poor performance.  Consider joining all columns at once using pd.concat(axis=1) instead. To get a de-fragmented frame, use `newframe = frame.copy()`\n",
      "  amostras['Amostra_' + str(i)] = _\n",
      "C:\\Users\\Tiago\\AppData\\Local\\Temp\\ipykernel_18996\\3166345054.py:4: PerformanceWarning: DataFrame is highly fragmented.  This is usually the result of calling `frame.insert` many times, which has poor performance.  Consider joining all columns at once using pd.concat(axis=1) instead. To get a de-fragmented frame, use `newframe = frame.copy()`\n",
      "  amostras['Amostra_' + str(i)] = _\n",
      "C:\\Users\\Tiago\\AppData\\Local\\Temp\\ipykernel_18996\\3166345054.py:4: PerformanceWarning: DataFrame is highly fragmented.  This is usually the result of calling `frame.insert` many times, which has poor performance.  Consider joining all columns at once using pd.concat(axis=1) instead. To get a de-fragmented frame, use `newframe = frame.copy()`\n",
      "  amostras['Amostra_' + str(i)] = _\n",
      "C:\\Users\\Tiago\\AppData\\Local\\Temp\\ipykernel_18996\\3166345054.py:4: PerformanceWarning: DataFrame is highly fragmented.  This is usually the result of calling `frame.insert` many times, which has poor performance.  Consider joining all columns at once using pd.concat(axis=1) instead. To get a de-fragmented frame, use `newframe = frame.copy()`\n",
      "  amostras['Amostra_' + str(i)] = _\n",
      "C:\\Users\\Tiago\\AppData\\Local\\Temp\\ipykernel_18996\\3166345054.py:4: PerformanceWarning: DataFrame is highly fragmented.  This is usually the result of calling `frame.insert` many times, which has poor performance.  Consider joining all columns at once using pd.concat(axis=1) instead. To get a de-fragmented frame, use `newframe = frame.copy()`\n",
      "  amostras['Amostra_' + str(i)] = _\n",
      "C:\\Users\\Tiago\\AppData\\Local\\Temp\\ipykernel_18996\\3166345054.py:4: PerformanceWarning: DataFrame is highly fragmented.  This is usually the result of calling `frame.insert` many times, which has poor performance.  Consider joining all columns at once using pd.concat(axis=1) instead. To get a de-fragmented frame, use `newframe = frame.copy()`\n",
      "  amostras['Amostra_' + str(i)] = _\n",
      "C:\\Users\\Tiago\\AppData\\Local\\Temp\\ipykernel_18996\\3166345054.py:4: PerformanceWarning: DataFrame is highly fragmented.  This is usually the result of calling `frame.insert` many times, which has poor performance.  Consider joining all columns at once using pd.concat(axis=1) instead. To get a de-fragmented frame, use `newframe = frame.copy()`\n",
      "  amostras['Amostra_' + str(i)] = _\n",
      "C:\\Users\\Tiago\\AppData\\Local\\Temp\\ipykernel_18996\\3166345054.py:4: PerformanceWarning: DataFrame is highly fragmented.  This is usually the result of calling `frame.insert` many times, which has poor performance.  Consider joining all columns at once using pd.concat(axis=1) instead. To get a de-fragmented frame, use `newframe = frame.copy()`\n",
      "  amostras['Amostra_' + str(i)] = _\n",
      "C:\\Users\\Tiago\\AppData\\Local\\Temp\\ipykernel_18996\\3166345054.py:4: PerformanceWarning: DataFrame is highly fragmented.  This is usually the result of calling `frame.insert` many times, which has poor performance.  Consider joining all columns at once using pd.concat(axis=1) instead. To get a de-fragmented frame, use `newframe = frame.copy()`\n",
      "  amostras['Amostra_' + str(i)] = _\n",
      "C:\\Users\\Tiago\\AppData\\Local\\Temp\\ipykernel_18996\\3166345054.py:4: PerformanceWarning: DataFrame is highly fragmented.  This is usually the result of calling `frame.insert` many times, which has poor performance.  Consider joining all columns at once using pd.concat(axis=1) instead. To get a de-fragmented frame, use `newframe = frame.copy()`\n",
      "  amostras['Amostra_' + str(i)] = _\n",
      "C:\\Users\\Tiago\\AppData\\Local\\Temp\\ipykernel_18996\\3166345054.py:4: PerformanceWarning: DataFrame is highly fragmented.  This is usually the result of calling `frame.insert` many times, which has poor performance.  Consider joining all columns at once using pd.concat(axis=1) instead. To get a de-fragmented frame, use `newframe = frame.copy()`\n",
      "  amostras['Amostra_' + str(i)] = _\n",
      "C:\\Users\\Tiago\\AppData\\Local\\Temp\\ipykernel_18996\\3166345054.py:4: PerformanceWarning: DataFrame is highly fragmented.  This is usually the result of calling `frame.insert` many times, which has poor performance.  Consider joining all columns at once using pd.concat(axis=1) instead. To get a de-fragmented frame, use `newframe = frame.copy()`\n",
      "  amostras['Amostra_' + str(i)] = _\n",
      "C:\\Users\\Tiago\\AppData\\Local\\Temp\\ipykernel_18996\\3166345054.py:4: PerformanceWarning: DataFrame is highly fragmented.  This is usually the result of calling `frame.insert` many times, which has poor performance.  Consider joining all columns at once using pd.concat(axis=1) instead. To get a de-fragmented frame, use `newframe = frame.copy()`\n",
      "  amostras['Amostra_' + str(i)] = _\n",
      "C:\\Users\\Tiago\\AppData\\Local\\Temp\\ipykernel_18996\\3166345054.py:4: PerformanceWarning: DataFrame is highly fragmented.  This is usually the result of calling `frame.insert` many times, which has poor performance.  Consider joining all columns at once using pd.concat(axis=1) instead. To get a de-fragmented frame, use `newframe = frame.copy()`\n",
      "  amostras['Amostra_' + str(i)] = _\n",
      "C:\\Users\\Tiago\\AppData\\Local\\Temp\\ipykernel_18996\\3166345054.py:4: PerformanceWarning: DataFrame is highly fragmented.  This is usually the result of calling `frame.insert` many times, which has poor performance.  Consider joining all columns at once using pd.concat(axis=1) instead. To get a de-fragmented frame, use `newframe = frame.copy()`\n",
      "  amostras['Amostra_' + str(i)] = _\n",
      "C:\\Users\\Tiago\\AppData\\Local\\Temp\\ipykernel_18996\\3166345054.py:4: PerformanceWarning: DataFrame is highly fragmented.  This is usually the result of calling `frame.insert` many times, which has poor performance.  Consider joining all columns at once using pd.concat(axis=1) instead. To get a de-fragmented frame, use `newframe = frame.copy()`\n",
      "  amostras['Amostra_' + str(i)] = _\n",
      "C:\\Users\\Tiago\\AppData\\Local\\Temp\\ipykernel_18996\\3166345054.py:4: PerformanceWarning: DataFrame is highly fragmented.  This is usually the result of calling `frame.insert` many times, which has poor performance.  Consider joining all columns at once using pd.concat(axis=1) instead. To get a de-fragmented frame, use `newframe = frame.copy()`\n",
      "  amostras['Amostra_' + str(i)] = _\n",
      "C:\\Users\\Tiago\\AppData\\Local\\Temp\\ipykernel_18996\\3166345054.py:4: PerformanceWarning: DataFrame is highly fragmented.  This is usually the result of calling `frame.insert` many times, which has poor performance.  Consider joining all columns at once using pd.concat(axis=1) instead. To get a de-fragmented frame, use `newframe = frame.copy()`\n",
      "  amostras['Amostra_' + str(i)] = _\n",
      "C:\\Users\\Tiago\\AppData\\Local\\Temp\\ipykernel_18996\\3166345054.py:4: PerformanceWarning: DataFrame is highly fragmented.  This is usually the result of calling `frame.insert` many times, which has poor performance.  Consider joining all columns at once using pd.concat(axis=1) instead. To get a de-fragmented frame, use `newframe = frame.copy()`\n",
      "  amostras['Amostra_' + str(i)] = _\n",
      "C:\\Users\\Tiago\\AppData\\Local\\Temp\\ipykernel_18996\\3166345054.py:4: PerformanceWarning: DataFrame is highly fragmented.  This is usually the result of calling `frame.insert` many times, which has poor performance.  Consider joining all columns at once using pd.concat(axis=1) instead. To get a de-fragmented frame, use `newframe = frame.copy()`\n",
      "  amostras['Amostra_' + str(i)] = _\n",
      "C:\\Users\\Tiago\\AppData\\Local\\Temp\\ipykernel_18996\\3166345054.py:4: PerformanceWarning: DataFrame is highly fragmented.  This is usually the result of calling `frame.insert` many times, which has poor performance.  Consider joining all columns at once using pd.concat(axis=1) instead. To get a de-fragmented frame, use `newframe = frame.copy()`\n",
      "  amostras['Amostra_' + str(i)] = _\n",
      "C:\\Users\\Tiago\\AppData\\Local\\Temp\\ipykernel_18996\\3166345054.py:4: PerformanceWarning: DataFrame is highly fragmented.  This is usually the result of calling `frame.insert` many times, which has poor performance.  Consider joining all columns at once using pd.concat(axis=1) instead. To get a de-fragmented frame, use `newframe = frame.copy()`\n",
      "  amostras['Amostra_' + str(i)] = _\n",
      "C:\\Users\\Tiago\\AppData\\Local\\Temp\\ipykernel_18996\\3166345054.py:4: PerformanceWarning: DataFrame is highly fragmented.  This is usually the result of calling `frame.insert` many times, which has poor performance.  Consider joining all columns at once using pd.concat(axis=1) instead. To get a de-fragmented frame, use `newframe = frame.copy()`\n",
      "  amostras['Amostra_' + str(i)] = _\n",
      "C:\\Users\\Tiago\\AppData\\Local\\Temp\\ipykernel_18996\\3166345054.py:4: PerformanceWarning: DataFrame is highly fragmented.  This is usually the result of calling `frame.insert` many times, which has poor performance.  Consider joining all columns at once using pd.concat(axis=1) instead. To get a de-fragmented frame, use `newframe = frame.copy()`\n",
      "  amostras['Amostra_' + str(i)] = _\n",
      "C:\\Users\\Tiago\\AppData\\Local\\Temp\\ipykernel_18996\\3166345054.py:4: PerformanceWarning: DataFrame is highly fragmented.  This is usually the result of calling `frame.insert` many times, which has poor performance.  Consider joining all columns at once using pd.concat(axis=1) instead. To get a de-fragmented frame, use `newframe = frame.copy()`\n",
      "  amostras['Amostra_' + str(i)] = _\n",
      "C:\\Users\\Tiago\\AppData\\Local\\Temp\\ipykernel_18996\\3166345054.py:4: PerformanceWarning: DataFrame is highly fragmented.  This is usually the result of calling `frame.insert` many times, which has poor performance.  Consider joining all columns at once using pd.concat(axis=1) instead. To get a de-fragmented frame, use `newframe = frame.copy()`\n",
      "  amostras['Amostra_' + str(i)] = _\n",
      "C:\\Users\\Tiago\\AppData\\Local\\Temp\\ipykernel_18996\\3166345054.py:4: PerformanceWarning: DataFrame is highly fragmented.  This is usually the result of calling `frame.insert` many times, which has poor performance.  Consider joining all columns at once using pd.concat(axis=1) instead. To get a de-fragmented frame, use `newframe = frame.copy()`\n",
      "  amostras['Amostra_' + str(i)] = _\n",
      "C:\\Users\\Tiago\\AppData\\Local\\Temp\\ipykernel_18996\\3166345054.py:4: PerformanceWarning: DataFrame is highly fragmented.  This is usually the result of calling `frame.insert` many times, which has poor performance.  Consider joining all columns at once using pd.concat(axis=1) instead. To get a de-fragmented frame, use `newframe = frame.copy()`\n",
      "  amostras['Amostra_' + str(i)] = _\n",
      "C:\\Users\\Tiago\\AppData\\Local\\Temp\\ipykernel_18996\\3166345054.py:4: PerformanceWarning: DataFrame is highly fragmented.  This is usually the result of calling `frame.insert` many times, which has poor performance.  Consider joining all columns at once using pd.concat(axis=1) instead. To get a de-fragmented frame, use `newframe = frame.copy()`\n",
      "  amostras['Amostra_' + str(i)] = _\n",
      "C:\\Users\\Tiago\\AppData\\Local\\Temp\\ipykernel_18996\\3166345054.py:4: PerformanceWarning: DataFrame is highly fragmented.  This is usually the result of calling `frame.insert` many times, which has poor performance.  Consider joining all columns at once using pd.concat(axis=1) instead. To get a de-fragmented frame, use `newframe = frame.copy()`\n",
      "  amostras['Amostra_' + str(i)] = _\n",
      "C:\\Users\\Tiago\\AppData\\Local\\Temp\\ipykernel_18996\\3166345054.py:4: PerformanceWarning: DataFrame is highly fragmented.  This is usually the result of calling `frame.insert` many times, which has poor performance.  Consider joining all columns at once using pd.concat(axis=1) instead. To get a de-fragmented frame, use `newframe = frame.copy()`\n",
      "  amostras['Amostra_' + str(i)] = _\n",
      "C:\\Users\\Tiago\\AppData\\Local\\Temp\\ipykernel_18996\\3166345054.py:4: PerformanceWarning: DataFrame is highly fragmented.  This is usually the result of calling `frame.insert` many times, which has poor performance.  Consider joining all columns at once using pd.concat(axis=1) instead. To get a de-fragmented frame, use `newframe = frame.copy()`\n",
      "  amostras['Amostra_' + str(i)] = _\n",
      "C:\\Users\\Tiago\\AppData\\Local\\Temp\\ipykernel_18996\\3166345054.py:4: PerformanceWarning: DataFrame is highly fragmented.  This is usually the result of calling `frame.insert` many times, which has poor performance.  Consider joining all columns at once using pd.concat(axis=1) instead. To get a de-fragmented frame, use `newframe = frame.copy()`\n",
      "  amostras['Amostra_' + str(i)] = _\n",
      "C:\\Users\\Tiago\\AppData\\Local\\Temp\\ipykernel_18996\\3166345054.py:4: PerformanceWarning: DataFrame is highly fragmented.  This is usually the result of calling `frame.insert` many times, which has poor performance.  Consider joining all columns at once using pd.concat(axis=1) instead. To get a de-fragmented frame, use `newframe = frame.copy()`\n",
      "  amostras['Amostra_' + str(i)] = _\n",
      "C:\\Users\\Tiago\\AppData\\Local\\Temp\\ipykernel_18996\\3166345054.py:4: PerformanceWarning: DataFrame is highly fragmented.  This is usually the result of calling `frame.insert` many times, which has poor performance.  Consider joining all columns at once using pd.concat(axis=1) instead. To get a de-fragmented frame, use `newframe = frame.copy()`\n",
      "  amostras['Amostra_' + str(i)] = _\n",
      "C:\\Users\\Tiago\\AppData\\Local\\Temp\\ipykernel_18996\\3166345054.py:4: PerformanceWarning: DataFrame is highly fragmented.  This is usually the result of calling `frame.insert` many times, which has poor performance.  Consider joining all columns at once using pd.concat(axis=1) instead. To get a de-fragmented frame, use `newframe = frame.copy()`\n",
      "  amostras['Amostra_' + str(i)] = _\n",
      "C:\\Users\\Tiago\\AppData\\Local\\Temp\\ipykernel_18996\\3166345054.py:4: PerformanceWarning: DataFrame is highly fragmented.  This is usually the result of calling `frame.insert` many times, which has poor performance.  Consider joining all columns at once using pd.concat(axis=1) instead. To get a de-fragmented frame, use `newframe = frame.copy()`\n",
      "  amostras['Amostra_' + str(i)] = _\n",
      "C:\\Users\\Tiago\\AppData\\Local\\Temp\\ipykernel_18996\\3166345054.py:4: PerformanceWarning: DataFrame is highly fragmented.  This is usually the result of calling `frame.insert` many times, which has poor performance.  Consider joining all columns at once using pd.concat(axis=1) instead. To get a de-fragmented frame, use `newframe = frame.copy()`\n",
      "  amostras['Amostra_' + str(i)] = _\n",
      "C:\\Users\\Tiago\\AppData\\Local\\Temp\\ipykernel_18996\\3166345054.py:4: PerformanceWarning: DataFrame is highly fragmented.  This is usually the result of calling `frame.insert` many times, which has poor performance.  Consider joining all columns at once using pd.concat(axis=1) instead. To get a de-fragmented frame, use `newframe = frame.copy()`\n",
      "  amostras['Amostra_' + str(i)] = _\n",
      "C:\\Users\\Tiago\\AppData\\Local\\Temp\\ipykernel_18996\\3166345054.py:4: PerformanceWarning: DataFrame is highly fragmented.  This is usually the result of calling `frame.insert` many times, which has poor performance.  Consider joining all columns at once using pd.concat(axis=1) instead. To get a de-fragmented frame, use `newframe = frame.copy()`\n",
      "  amostras['Amostra_' + str(i)] = _\n",
      "C:\\Users\\Tiago\\AppData\\Local\\Temp\\ipykernel_18996\\3166345054.py:4: PerformanceWarning: DataFrame is highly fragmented.  This is usually the result of calling `frame.insert` many times, which has poor performance.  Consider joining all columns at once using pd.concat(axis=1) instead. To get a de-fragmented frame, use `newframe = frame.copy()`\n",
      "  amostras['Amostra_' + str(i)] = _\n",
      "C:\\Users\\Tiago\\AppData\\Local\\Temp\\ipykernel_18996\\3166345054.py:4: PerformanceWarning: DataFrame is highly fragmented.  This is usually the result of calling `frame.insert` many times, which has poor performance.  Consider joining all columns at once using pd.concat(axis=1) instead. To get a de-fragmented frame, use `newframe = frame.copy()`\n",
      "  amostras['Amostra_' + str(i)] = _\n",
      "C:\\Users\\Tiago\\AppData\\Local\\Temp\\ipykernel_18996\\3166345054.py:4: PerformanceWarning: DataFrame is highly fragmented.  This is usually the result of calling `frame.insert` many times, which has poor performance.  Consider joining all columns at once using pd.concat(axis=1) instead. To get a de-fragmented frame, use `newframe = frame.copy()`\n",
      "  amostras['Amostra_' + str(i)] = _\n",
      "C:\\Users\\Tiago\\AppData\\Local\\Temp\\ipykernel_18996\\3166345054.py:4: PerformanceWarning: DataFrame is highly fragmented.  This is usually the result of calling `frame.insert` many times, which has poor performance.  Consider joining all columns at once using pd.concat(axis=1) instead. To get a de-fragmented frame, use `newframe = frame.copy()`\n",
      "  amostras['Amostra_' + str(i)] = _\n",
      "C:\\Users\\Tiago\\AppData\\Local\\Temp\\ipykernel_18996\\3166345054.py:4: PerformanceWarning: DataFrame is highly fragmented.  This is usually the result of calling `frame.insert` many times, which has poor performance.  Consider joining all columns at once using pd.concat(axis=1) instead. To get a de-fragmented frame, use `newframe = frame.copy()`\n",
      "  amostras['Amostra_' + str(i)] = _\n",
      "C:\\Users\\Tiago\\AppData\\Local\\Temp\\ipykernel_18996\\3166345054.py:4: PerformanceWarning: DataFrame is highly fragmented.  This is usually the result of calling `frame.insert` many times, which has poor performance.  Consider joining all columns at once using pd.concat(axis=1) instead. To get a de-fragmented frame, use `newframe = frame.copy()`\n",
      "  amostras['Amostra_' + str(i)] = _\n",
      "C:\\Users\\Tiago\\AppData\\Local\\Temp\\ipykernel_18996\\3166345054.py:4: PerformanceWarning: DataFrame is highly fragmented.  This is usually the result of calling `frame.insert` many times, which has poor performance.  Consider joining all columns at once using pd.concat(axis=1) instead. To get a de-fragmented frame, use `newframe = frame.copy()`\n",
      "  amostras['Amostra_' + str(i)] = _\n",
      "C:\\Users\\Tiago\\AppData\\Local\\Temp\\ipykernel_18996\\3166345054.py:4: PerformanceWarning: DataFrame is highly fragmented.  This is usually the result of calling `frame.insert` many times, which has poor performance.  Consider joining all columns at once using pd.concat(axis=1) instead. To get a de-fragmented frame, use `newframe = frame.copy()`\n",
      "  amostras['Amostra_' + str(i)] = _\n",
      "C:\\Users\\Tiago\\AppData\\Local\\Temp\\ipykernel_18996\\3166345054.py:4: PerformanceWarning: DataFrame is highly fragmented.  This is usually the result of calling `frame.insert` many times, which has poor performance.  Consider joining all columns at once using pd.concat(axis=1) instead. To get a de-fragmented frame, use `newframe = frame.copy()`\n",
      "  amostras['Amostra_' + str(i)] = _\n",
      "C:\\Users\\Tiago\\AppData\\Local\\Temp\\ipykernel_18996\\3166345054.py:4: PerformanceWarning: DataFrame is highly fragmented.  This is usually the result of calling `frame.insert` many times, which has poor performance.  Consider joining all columns at once using pd.concat(axis=1) instead. To get a de-fragmented frame, use `newframe = frame.copy()`\n",
      "  amostras['Amostra_' + str(i)] = _\n",
      "C:\\Users\\Tiago\\AppData\\Local\\Temp\\ipykernel_18996\\3166345054.py:4: PerformanceWarning: DataFrame is highly fragmented.  This is usually the result of calling `frame.insert` many times, which has poor performance.  Consider joining all columns at once using pd.concat(axis=1) instead. To get a de-fragmented frame, use `newframe = frame.copy()`\n",
      "  amostras['Amostra_' + str(i)] = _\n",
      "C:\\Users\\Tiago\\AppData\\Local\\Temp\\ipykernel_18996\\3166345054.py:4: PerformanceWarning: DataFrame is highly fragmented.  This is usually the result of calling `frame.insert` many times, which has poor performance.  Consider joining all columns at once using pd.concat(axis=1) instead. To get a de-fragmented frame, use `newframe = frame.copy()`\n",
      "  amostras['Amostra_' + str(i)] = _\n",
      "C:\\Users\\Tiago\\AppData\\Local\\Temp\\ipykernel_18996\\3166345054.py:4: PerformanceWarning: DataFrame is highly fragmented.  This is usually the result of calling `frame.insert` many times, which has poor performance.  Consider joining all columns at once using pd.concat(axis=1) instead. To get a de-fragmented frame, use `newframe = frame.copy()`\n",
      "  amostras['Amostra_' + str(i)] = _\n",
      "C:\\Users\\Tiago\\AppData\\Local\\Temp\\ipykernel_18996\\3166345054.py:4: PerformanceWarning: DataFrame is highly fragmented.  This is usually the result of calling `frame.insert` many times, which has poor performance.  Consider joining all columns at once using pd.concat(axis=1) instead. To get a de-fragmented frame, use `newframe = frame.copy()`\n",
      "  amostras['Amostra_' + str(i)] = _\n",
      "C:\\Users\\Tiago\\AppData\\Local\\Temp\\ipykernel_18996\\3166345054.py:4: PerformanceWarning: DataFrame is highly fragmented.  This is usually the result of calling `frame.insert` many times, which has poor performance.  Consider joining all columns at once using pd.concat(axis=1) instead. To get a de-fragmented frame, use `newframe = frame.copy()`\n",
      "  amostras['Amostra_' + str(i)] = _\n",
      "C:\\Users\\Tiago\\AppData\\Local\\Temp\\ipykernel_18996\\3166345054.py:4: PerformanceWarning: DataFrame is highly fragmented.  This is usually the result of calling `frame.insert` many times, which has poor performance.  Consider joining all columns at once using pd.concat(axis=1) instead. To get a de-fragmented frame, use `newframe = frame.copy()`\n",
      "  amostras['Amostra_' + str(i)] = _\n",
      "C:\\Users\\Tiago\\AppData\\Local\\Temp\\ipykernel_18996\\3166345054.py:4: PerformanceWarning: DataFrame is highly fragmented.  This is usually the result of calling `frame.insert` many times, which has poor performance.  Consider joining all columns at once using pd.concat(axis=1) instead. To get a de-fragmented frame, use `newframe = frame.copy()`\n",
      "  amostras['Amostra_' + str(i)] = _\n",
      "C:\\Users\\Tiago\\AppData\\Local\\Temp\\ipykernel_18996\\3166345054.py:4: PerformanceWarning: DataFrame is highly fragmented.  This is usually the result of calling `frame.insert` many times, which has poor performance.  Consider joining all columns at once using pd.concat(axis=1) instead. To get a de-fragmented frame, use `newframe = frame.copy()`\n",
      "  amostras['Amostra_' + str(i)] = _\n",
      "C:\\Users\\Tiago\\AppData\\Local\\Temp\\ipykernel_18996\\3166345054.py:4: PerformanceWarning: DataFrame is highly fragmented.  This is usually the result of calling `frame.insert` many times, which has poor performance.  Consider joining all columns at once using pd.concat(axis=1) instead. To get a de-fragmented frame, use `newframe = frame.copy()`\n",
      "  amostras['Amostra_' + str(i)] = _\n",
      "C:\\Users\\Tiago\\AppData\\Local\\Temp\\ipykernel_18996\\3166345054.py:4: PerformanceWarning: DataFrame is highly fragmented.  This is usually the result of calling `frame.insert` many times, which has poor performance.  Consider joining all columns at once using pd.concat(axis=1) instead. To get a de-fragmented frame, use `newframe = frame.copy()`\n",
      "  amostras['Amostra_' + str(i)] = _\n",
      "C:\\Users\\Tiago\\AppData\\Local\\Temp\\ipykernel_18996\\3166345054.py:4: PerformanceWarning: DataFrame is highly fragmented.  This is usually the result of calling `frame.insert` many times, which has poor performance.  Consider joining all columns at once using pd.concat(axis=1) instead. To get a de-fragmented frame, use `newframe = frame.copy()`\n",
      "  amostras['Amostra_' + str(i)] = _\n",
      "C:\\Users\\Tiago\\AppData\\Local\\Temp\\ipykernel_18996\\3166345054.py:4: PerformanceWarning: DataFrame is highly fragmented.  This is usually the result of calling `frame.insert` many times, which has poor performance.  Consider joining all columns at once using pd.concat(axis=1) instead. To get a de-fragmented frame, use `newframe = frame.copy()`\n",
      "  amostras['Amostra_' + str(i)] = _\n",
      "C:\\Users\\Tiago\\AppData\\Local\\Temp\\ipykernel_18996\\3166345054.py:4: PerformanceWarning: DataFrame is highly fragmented.  This is usually the result of calling `frame.insert` many times, which has poor performance.  Consider joining all columns at once using pd.concat(axis=1) instead. To get a de-fragmented frame, use `newframe = frame.copy()`\n",
      "  amostras['Amostra_' + str(i)] = _\n",
      "C:\\Users\\Tiago\\AppData\\Local\\Temp\\ipykernel_18996\\3166345054.py:4: PerformanceWarning: DataFrame is highly fragmented.  This is usually the result of calling `frame.insert` many times, which has poor performance.  Consider joining all columns at once using pd.concat(axis=1) instead. To get a de-fragmented frame, use `newframe = frame.copy()`\n",
      "  amostras['Amostra_' + str(i)] = _\n",
      "C:\\Users\\Tiago\\AppData\\Local\\Temp\\ipykernel_18996\\3166345054.py:4: PerformanceWarning: DataFrame is highly fragmented.  This is usually the result of calling `frame.insert` many times, which has poor performance.  Consider joining all columns at once using pd.concat(axis=1) instead. To get a de-fragmented frame, use `newframe = frame.copy()`\n",
      "  amostras['Amostra_' + str(i)] = _\n",
      "C:\\Users\\Tiago\\AppData\\Local\\Temp\\ipykernel_18996\\3166345054.py:4: PerformanceWarning: DataFrame is highly fragmented.  This is usually the result of calling `frame.insert` many times, which has poor performance.  Consider joining all columns at once using pd.concat(axis=1) instead. To get a de-fragmented frame, use `newframe = frame.copy()`\n",
      "  amostras['Amostra_' + str(i)] = _\n",
      "C:\\Users\\Tiago\\AppData\\Local\\Temp\\ipykernel_18996\\3166345054.py:4: PerformanceWarning: DataFrame is highly fragmented.  This is usually the result of calling `frame.insert` many times, which has poor performance.  Consider joining all columns at once using pd.concat(axis=1) instead. To get a de-fragmented frame, use `newframe = frame.copy()`\n",
      "  amostras['Amostra_' + str(i)] = _\n",
      "C:\\Users\\Tiago\\AppData\\Local\\Temp\\ipykernel_18996\\3166345054.py:4: PerformanceWarning: DataFrame is highly fragmented.  This is usually the result of calling `frame.insert` many times, which has poor performance.  Consider joining all columns at once using pd.concat(axis=1) instead. To get a de-fragmented frame, use `newframe = frame.copy()`\n",
      "  amostras['Amostra_' + str(i)] = _\n",
      "C:\\Users\\Tiago\\AppData\\Local\\Temp\\ipykernel_18996\\3166345054.py:4: PerformanceWarning: DataFrame is highly fragmented.  This is usually the result of calling `frame.insert` many times, which has poor performance.  Consider joining all columns at once using pd.concat(axis=1) instead. To get a de-fragmented frame, use `newframe = frame.copy()`\n",
      "  amostras['Amostra_' + str(i)] = _\n",
      "C:\\Users\\Tiago\\AppData\\Local\\Temp\\ipykernel_18996\\3166345054.py:4: PerformanceWarning: DataFrame is highly fragmented.  This is usually the result of calling `frame.insert` many times, which has poor performance.  Consider joining all columns at once using pd.concat(axis=1) instead. To get a de-fragmented frame, use `newframe = frame.copy()`\n",
      "  amostras['Amostra_' + str(i)] = _\n",
      "C:\\Users\\Tiago\\AppData\\Local\\Temp\\ipykernel_18996\\3166345054.py:4: PerformanceWarning: DataFrame is highly fragmented.  This is usually the result of calling `frame.insert` many times, which has poor performance.  Consider joining all columns at once using pd.concat(axis=1) instead. To get a de-fragmented frame, use `newframe = frame.copy()`\n",
      "  amostras['Amostra_' + str(i)] = _\n",
      "C:\\Users\\Tiago\\AppData\\Local\\Temp\\ipykernel_18996\\3166345054.py:4: PerformanceWarning: DataFrame is highly fragmented.  This is usually the result of calling `frame.insert` many times, which has poor performance.  Consider joining all columns at once using pd.concat(axis=1) instead. To get a de-fragmented frame, use `newframe = frame.copy()`\n",
      "  amostras['Amostra_' + str(i)] = _\n",
      "C:\\Users\\Tiago\\AppData\\Local\\Temp\\ipykernel_18996\\3166345054.py:4: PerformanceWarning: DataFrame is highly fragmented.  This is usually the result of calling `frame.insert` many times, which has poor performance.  Consider joining all columns at once using pd.concat(axis=1) instead. To get a de-fragmented frame, use `newframe = frame.copy()`\n",
      "  amostras['Amostra_' + str(i)] = _\n",
      "C:\\Users\\Tiago\\AppData\\Local\\Temp\\ipykernel_18996\\3166345054.py:4: PerformanceWarning: DataFrame is highly fragmented.  This is usually the result of calling `frame.insert` many times, which has poor performance.  Consider joining all columns at once using pd.concat(axis=1) instead. To get a de-fragmented frame, use `newframe = frame.copy()`\n",
      "  amostras['Amostra_' + str(i)] = _\n",
      "C:\\Users\\Tiago\\AppData\\Local\\Temp\\ipykernel_18996\\3166345054.py:4: PerformanceWarning: DataFrame is highly fragmented.  This is usually the result of calling `frame.insert` many times, which has poor performance.  Consider joining all columns at once using pd.concat(axis=1) instead. To get a de-fragmented frame, use `newframe = frame.copy()`\n",
      "  amostras['Amostra_' + str(i)] = _\n",
      "C:\\Users\\Tiago\\AppData\\Local\\Temp\\ipykernel_18996\\3166345054.py:4: PerformanceWarning: DataFrame is highly fragmented.  This is usually the result of calling `frame.insert` many times, which has poor performance.  Consider joining all columns at once using pd.concat(axis=1) instead. To get a de-fragmented frame, use `newframe = frame.copy()`\n",
      "  amostras['Amostra_' + str(i)] = _\n",
      "C:\\Users\\Tiago\\AppData\\Local\\Temp\\ipykernel_18996\\3166345054.py:4: PerformanceWarning: DataFrame is highly fragmented.  This is usually the result of calling `frame.insert` many times, which has poor performance.  Consider joining all columns at once using pd.concat(axis=1) instead. To get a de-fragmented frame, use `newframe = frame.copy()`\n",
      "  amostras['Amostra_' + str(i)] = _\n",
      "C:\\Users\\Tiago\\AppData\\Local\\Temp\\ipykernel_18996\\3166345054.py:4: PerformanceWarning: DataFrame is highly fragmented.  This is usually the result of calling `frame.insert` many times, which has poor performance.  Consider joining all columns at once using pd.concat(axis=1) instead. To get a de-fragmented frame, use `newframe = frame.copy()`\n",
      "  amostras['Amostra_' + str(i)] = _\n",
      "C:\\Users\\Tiago\\AppData\\Local\\Temp\\ipykernel_18996\\3166345054.py:4: PerformanceWarning: DataFrame is highly fragmented.  This is usually the result of calling `frame.insert` many times, which has poor performance.  Consider joining all columns at once using pd.concat(axis=1) instead. To get a de-fragmented frame, use `newframe = frame.copy()`\n",
      "  amostras['Amostra_' + str(i)] = _\n",
      "C:\\Users\\Tiago\\AppData\\Local\\Temp\\ipykernel_18996\\3166345054.py:4: PerformanceWarning: DataFrame is highly fragmented.  This is usually the result of calling `frame.insert` many times, which has poor performance.  Consider joining all columns at once using pd.concat(axis=1) instead. To get a de-fragmented frame, use `newframe = frame.copy()`\n",
      "  amostras['Amostra_' + str(i)] = _\n",
      "C:\\Users\\Tiago\\AppData\\Local\\Temp\\ipykernel_18996\\3166345054.py:4: PerformanceWarning: DataFrame is highly fragmented.  This is usually the result of calling `frame.insert` many times, which has poor performance.  Consider joining all columns at once using pd.concat(axis=1) instead. To get a de-fragmented frame, use `newframe = frame.copy()`\n",
      "  amostras['Amostra_' + str(i)] = _\n",
      "C:\\Users\\Tiago\\AppData\\Local\\Temp\\ipykernel_18996\\3166345054.py:4: PerformanceWarning: DataFrame is highly fragmented.  This is usually the result of calling `frame.insert` many times, which has poor performance.  Consider joining all columns at once using pd.concat(axis=1) instead. To get a de-fragmented frame, use `newframe = frame.copy()`\n",
      "  amostras['Amostra_' + str(i)] = _\n",
      "C:\\Users\\Tiago\\AppData\\Local\\Temp\\ipykernel_18996\\3166345054.py:4: PerformanceWarning: DataFrame is highly fragmented.  This is usually the result of calling `frame.insert` many times, which has poor performance.  Consider joining all columns at once using pd.concat(axis=1) instead. To get a de-fragmented frame, use `newframe = frame.copy()`\n",
      "  amostras['Amostra_' + str(i)] = _\n",
      "C:\\Users\\Tiago\\AppData\\Local\\Temp\\ipykernel_18996\\3166345054.py:4: PerformanceWarning: DataFrame is highly fragmented.  This is usually the result of calling `frame.insert` many times, which has poor performance.  Consider joining all columns at once using pd.concat(axis=1) instead. To get a de-fragmented frame, use `newframe = frame.copy()`\n",
      "  amostras['Amostra_' + str(i)] = _\n",
      "C:\\Users\\Tiago\\AppData\\Local\\Temp\\ipykernel_18996\\3166345054.py:4: PerformanceWarning: DataFrame is highly fragmented.  This is usually the result of calling `frame.insert` many times, which has poor performance.  Consider joining all columns at once using pd.concat(axis=1) instead. To get a de-fragmented frame, use `newframe = frame.copy()`\n",
      "  amostras['Amostra_' + str(i)] = _\n",
      "C:\\Users\\Tiago\\AppData\\Local\\Temp\\ipykernel_18996\\3166345054.py:4: PerformanceWarning: DataFrame is highly fragmented.  This is usually the result of calling `frame.insert` many times, which has poor performance.  Consider joining all columns at once using pd.concat(axis=1) instead. To get a de-fragmented frame, use `newframe = frame.copy()`\n",
      "  amostras['Amostra_' + str(i)] = _\n",
      "C:\\Users\\Tiago\\AppData\\Local\\Temp\\ipykernel_18996\\3166345054.py:4: PerformanceWarning: DataFrame is highly fragmented.  This is usually the result of calling `frame.insert` many times, which has poor performance.  Consider joining all columns at once using pd.concat(axis=1) instead. To get a de-fragmented frame, use `newframe = frame.copy()`\n",
      "  amostras['Amostra_' + str(i)] = _\n",
      "C:\\Users\\Tiago\\AppData\\Local\\Temp\\ipykernel_18996\\3166345054.py:4: PerformanceWarning: DataFrame is highly fragmented.  This is usually the result of calling `frame.insert` many times, which has poor performance.  Consider joining all columns at once using pd.concat(axis=1) instead. To get a de-fragmented frame, use `newframe = frame.copy()`\n",
      "  amostras['Amostra_' + str(i)] = _\n",
      "C:\\Users\\Tiago\\AppData\\Local\\Temp\\ipykernel_18996\\3166345054.py:4: PerformanceWarning: DataFrame is highly fragmented.  This is usually the result of calling `frame.insert` many times, which has poor performance.  Consider joining all columns at once using pd.concat(axis=1) instead. To get a de-fragmented frame, use `newframe = frame.copy()`\n",
      "  amostras['Amostra_' + str(i)] = _\n",
      "C:\\Users\\Tiago\\AppData\\Local\\Temp\\ipykernel_18996\\3166345054.py:4: PerformanceWarning: DataFrame is highly fragmented.  This is usually the result of calling `frame.insert` many times, which has poor performance.  Consider joining all columns at once using pd.concat(axis=1) instead. To get a de-fragmented frame, use `newframe = frame.copy()`\n",
      "  amostras['Amostra_' + str(i)] = _\n",
      "C:\\Users\\Tiago\\AppData\\Local\\Temp\\ipykernel_18996\\3166345054.py:4: PerformanceWarning: DataFrame is highly fragmented.  This is usually the result of calling `frame.insert` many times, which has poor performance.  Consider joining all columns at once using pd.concat(axis=1) instead. To get a de-fragmented frame, use `newframe = frame.copy()`\n",
      "  amostras['Amostra_' + str(i)] = _\n",
      "C:\\Users\\Tiago\\AppData\\Local\\Temp\\ipykernel_18996\\3166345054.py:4: PerformanceWarning: DataFrame is highly fragmented.  This is usually the result of calling `frame.insert` many times, which has poor performance.  Consider joining all columns at once using pd.concat(axis=1) instead. To get a de-fragmented frame, use `newframe = frame.copy()`\n",
      "  amostras['Amostra_' + str(i)] = _\n",
      "C:\\Users\\Tiago\\AppData\\Local\\Temp\\ipykernel_18996\\3166345054.py:4: PerformanceWarning: DataFrame is highly fragmented.  This is usually the result of calling `frame.insert` many times, which has poor performance.  Consider joining all columns at once using pd.concat(axis=1) instead. To get a de-fragmented frame, use `newframe = frame.copy()`\n",
      "  amostras['Amostra_' + str(i)] = _\n",
      "C:\\Users\\Tiago\\AppData\\Local\\Temp\\ipykernel_18996\\3166345054.py:4: PerformanceWarning: DataFrame is highly fragmented.  This is usually the result of calling `frame.insert` many times, which has poor performance.  Consider joining all columns at once using pd.concat(axis=1) instead. To get a de-fragmented frame, use `newframe = frame.copy()`\n",
      "  amostras['Amostra_' + str(i)] = _\n",
      "C:\\Users\\Tiago\\AppData\\Local\\Temp\\ipykernel_18996\\3166345054.py:4: PerformanceWarning: DataFrame is highly fragmented.  This is usually the result of calling `frame.insert` many times, which has poor performance.  Consider joining all columns at once using pd.concat(axis=1) instead. To get a de-fragmented frame, use `newframe = frame.copy()`\n",
      "  amostras['Amostra_' + str(i)] = _\n",
      "C:\\Users\\Tiago\\AppData\\Local\\Temp\\ipykernel_18996\\3166345054.py:4: PerformanceWarning: DataFrame is highly fragmented.  This is usually the result of calling `frame.insert` many times, which has poor performance.  Consider joining all columns at once using pd.concat(axis=1) instead. To get a de-fragmented frame, use `newframe = frame.copy()`\n",
      "  amostras['Amostra_' + str(i)] = _\n",
      "C:\\Users\\Tiago\\AppData\\Local\\Temp\\ipykernel_18996\\3166345054.py:4: PerformanceWarning: DataFrame is highly fragmented.  This is usually the result of calling `frame.insert` many times, which has poor performance.  Consider joining all columns at once using pd.concat(axis=1) instead. To get a de-fragmented frame, use `newframe = frame.copy()`\n",
      "  amostras['Amostra_' + str(i)] = _\n",
      "C:\\Users\\Tiago\\AppData\\Local\\Temp\\ipykernel_18996\\3166345054.py:4: PerformanceWarning: DataFrame is highly fragmented.  This is usually the result of calling `frame.insert` many times, which has poor performance.  Consider joining all columns at once using pd.concat(axis=1) instead. To get a de-fragmented frame, use `newframe = frame.copy()`\n",
      "  amostras['Amostra_' + str(i)] = _\n",
      "C:\\Users\\Tiago\\AppData\\Local\\Temp\\ipykernel_18996\\3166345054.py:4: PerformanceWarning: DataFrame is highly fragmented.  This is usually the result of calling `frame.insert` many times, which has poor performance.  Consider joining all columns at once using pd.concat(axis=1) instead. To get a de-fragmented frame, use `newframe = frame.copy()`\n",
      "  amostras['Amostra_' + str(i)] = _\n",
      "C:\\Users\\Tiago\\AppData\\Local\\Temp\\ipykernel_18996\\3166345054.py:4: PerformanceWarning: DataFrame is highly fragmented.  This is usually the result of calling `frame.insert` many times, which has poor performance.  Consider joining all columns at once using pd.concat(axis=1) instead. To get a de-fragmented frame, use `newframe = frame.copy()`\n",
      "  amostras['Amostra_' + str(i)] = _\n",
      "C:\\Users\\Tiago\\AppData\\Local\\Temp\\ipykernel_18996\\3166345054.py:4: PerformanceWarning: DataFrame is highly fragmented.  This is usually the result of calling `frame.insert` many times, which has poor performance.  Consider joining all columns at once using pd.concat(axis=1) instead. To get a de-fragmented frame, use `newframe = frame.copy()`\n",
      "  amostras['Amostra_' + str(i)] = _\n",
      "C:\\Users\\Tiago\\AppData\\Local\\Temp\\ipykernel_18996\\3166345054.py:4: PerformanceWarning: DataFrame is highly fragmented.  This is usually the result of calling `frame.insert` many times, which has poor performance.  Consider joining all columns at once using pd.concat(axis=1) instead. To get a de-fragmented frame, use `newframe = frame.copy()`\n",
      "  amostras['Amostra_' + str(i)] = _\n",
      "C:\\Users\\Tiago\\AppData\\Local\\Temp\\ipykernel_18996\\3166345054.py:4: PerformanceWarning: DataFrame is highly fragmented.  This is usually the result of calling `frame.insert` many times, which has poor performance.  Consider joining all columns at once using pd.concat(axis=1) instead. To get a de-fragmented frame, use `newframe = frame.copy()`\n",
      "  amostras['Amostra_' + str(i)] = _\n",
      "C:\\Users\\Tiago\\AppData\\Local\\Temp\\ipykernel_18996\\3166345054.py:4: PerformanceWarning: DataFrame is highly fragmented.  This is usually the result of calling `frame.insert` many times, which has poor performance.  Consider joining all columns at once using pd.concat(axis=1) instead. To get a de-fragmented frame, use `newframe = frame.copy()`\n",
      "  amostras['Amostra_' + str(i)] = _\n",
      "C:\\Users\\Tiago\\AppData\\Local\\Temp\\ipykernel_18996\\3166345054.py:4: PerformanceWarning: DataFrame is highly fragmented.  This is usually the result of calling `frame.insert` many times, which has poor performance.  Consider joining all columns at once using pd.concat(axis=1) instead. To get a de-fragmented frame, use `newframe = frame.copy()`\n",
      "  amostras['Amostra_' + str(i)] = _\n",
      "C:\\Users\\Tiago\\AppData\\Local\\Temp\\ipykernel_18996\\3166345054.py:4: PerformanceWarning: DataFrame is highly fragmented.  This is usually the result of calling `frame.insert` many times, which has poor performance.  Consider joining all columns at once using pd.concat(axis=1) instead. To get a de-fragmented frame, use `newframe = frame.copy()`\n",
      "  amostras['Amostra_' + str(i)] = _\n",
      "C:\\Users\\Tiago\\AppData\\Local\\Temp\\ipykernel_18996\\3166345054.py:4: PerformanceWarning: DataFrame is highly fragmented.  This is usually the result of calling `frame.insert` many times, which has poor performance.  Consider joining all columns at once using pd.concat(axis=1) instead. To get a de-fragmented frame, use `newframe = frame.copy()`\n",
      "  amostras['Amostra_' + str(i)] = _\n",
      "C:\\Users\\Tiago\\AppData\\Local\\Temp\\ipykernel_18996\\3166345054.py:4: PerformanceWarning: DataFrame is highly fragmented.  This is usually the result of calling `frame.insert` many times, which has poor performance.  Consider joining all columns at once using pd.concat(axis=1) instead. To get a de-fragmented frame, use `newframe = frame.copy()`\n",
      "  amostras['Amostra_' + str(i)] = _\n",
      "C:\\Users\\Tiago\\AppData\\Local\\Temp\\ipykernel_18996\\3166345054.py:4: PerformanceWarning: DataFrame is highly fragmented.  This is usually the result of calling `frame.insert` many times, which has poor performance.  Consider joining all columns at once using pd.concat(axis=1) instead. To get a de-fragmented frame, use `newframe = frame.copy()`\n",
      "  amostras['Amostra_' + str(i)] = _\n",
      "C:\\Users\\Tiago\\AppData\\Local\\Temp\\ipykernel_18996\\3166345054.py:4: PerformanceWarning: DataFrame is highly fragmented.  This is usually the result of calling `frame.insert` many times, which has poor performance.  Consider joining all columns at once using pd.concat(axis=1) instead. To get a de-fragmented frame, use `newframe = frame.copy()`\n",
      "  amostras['Amostra_' + str(i)] = _\n",
      "C:\\Users\\Tiago\\AppData\\Local\\Temp\\ipykernel_18996\\3166345054.py:4: PerformanceWarning: DataFrame is highly fragmented.  This is usually the result of calling `frame.insert` many times, which has poor performance.  Consider joining all columns at once using pd.concat(axis=1) instead. To get a de-fragmented frame, use `newframe = frame.copy()`\n",
      "  amostras['Amostra_' + str(i)] = _\n",
      "C:\\Users\\Tiago\\AppData\\Local\\Temp\\ipykernel_18996\\3166345054.py:4: PerformanceWarning: DataFrame is highly fragmented.  This is usually the result of calling `frame.insert` many times, which has poor performance.  Consider joining all columns at once using pd.concat(axis=1) instead. To get a de-fragmented frame, use `newframe = frame.copy()`\n",
      "  amostras['Amostra_' + str(i)] = _\n",
      "C:\\Users\\Tiago\\AppData\\Local\\Temp\\ipykernel_18996\\3166345054.py:4: PerformanceWarning: DataFrame is highly fragmented.  This is usually the result of calling `frame.insert` many times, which has poor performance.  Consider joining all columns at once using pd.concat(axis=1) instead. To get a de-fragmented frame, use `newframe = frame.copy()`\n",
      "  amostras['Amostra_' + str(i)] = _\n",
      "C:\\Users\\Tiago\\AppData\\Local\\Temp\\ipykernel_18996\\3166345054.py:4: PerformanceWarning: DataFrame is highly fragmented.  This is usually the result of calling `frame.insert` many times, which has poor performance.  Consider joining all columns at once using pd.concat(axis=1) instead. To get a de-fragmented frame, use `newframe = frame.copy()`\n",
      "  amostras['Amostra_' + str(i)] = _\n",
      "C:\\Users\\Tiago\\AppData\\Local\\Temp\\ipykernel_18996\\3166345054.py:4: PerformanceWarning: DataFrame is highly fragmented.  This is usually the result of calling `frame.insert` many times, which has poor performance.  Consider joining all columns at once using pd.concat(axis=1) instead. To get a de-fragmented frame, use `newframe = frame.copy()`\n",
      "  amostras['Amostra_' + str(i)] = _\n",
      "C:\\Users\\Tiago\\AppData\\Local\\Temp\\ipykernel_18996\\3166345054.py:4: PerformanceWarning: DataFrame is highly fragmented.  This is usually the result of calling `frame.insert` many times, which has poor performance.  Consider joining all columns at once using pd.concat(axis=1) instead. To get a de-fragmented frame, use `newframe = frame.copy()`\n",
      "  amostras['Amostra_' + str(i)] = _\n",
      "C:\\Users\\Tiago\\AppData\\Local\\Temp\\ipykernel_18996\\3166345054.py:4: PerformanceWarning: DataFrame is highly fragmented.  This is usually the result of calling `frame.insert` many times, which has poor performance.  Consider joining all columns at once using pd.concat(axis=1) instead. To get a de-fragmented frame, use `newframe = frame.copy()`\n",
      "  amostras['Amostra_' + str(i)] = _\n",
      "C:\\Users\\Tiago\\AppData\\Local\\Temp\\ipykernel_18996\\3166345054.py:4: PerformanceWarning: DataFrame is highly fragmented.  This is usually the result of calling `frame.insert` many times, which has poor performance.  Consider joining all columns at once using pd.concat(axis=1) instead. To get a de-fragmented frame, use `newframe = frame.copy()`\n",
      "  amostras['Amostra_' + str(i)] = _\n",
      "C:\\Users\\Tiago\\AppData\\Local\\Temp\\ipykernel_18996\\3166345054.py:4: PerformanceWarning: DataFrame is highly fragmented.  This is usually the result of calling `frame.insert` many times, which has poor performance.  Consider joining all columns at once using pd.concat(axis=1) instead. To get a de-fragmented frame, use `newframe = frame.copy()`\n",
      "  amostras['Amostra_' + str(i)] = _\n",
      "C:\\Users\\Tiago\\AppData\\Local\\Temp\\ipykernel_18996\\3166345054.py:4: PerformanceWarning: DataFrame is highly fragmented.  This is usually the result of calling `frame.insert` many times, which has poor performance.  Consider joining all columns at once using pd.concat(axis=1) instead. To get a de-fragmented frame, use `newframe = frame.copy()`\n",
      "  amostras['Amostra_' + str(i)] = _\n",
      "C:\\Users\\Tiago\\AppData\\Local\\Temp\\ipykernel_18996\\3166345054.py:4: PerformanceWarning: DataFrame is highly fragmented.  This is usually the result of calling `frame.insert` many times, which has poor performance.  Consider joining all columns at once using pd.concat(axis=1) instead. To get a de-fragmented frame, use `newframe = frame.copy()`\n",
      "  amostras['Amostra_' + str(i)] = _\n",
      "C:\\Users\\Tiago\\AppData\\Local\\Temp\\ipykernel_18996\\3166345054.py:4: PerformanceWarning: DataFrame is highly fragmented.  This is usually the result of calling `frame.insert` many times, which has poor performance.  Consider joining all columns at once using pd.concat(axis=1) instead. To get a de-fragmented frame, use `newframe = frame.copy()`\n",
      "  amostras['Amostra_' + str(i)] = _\n",
      "C:\\Users\\Tiago\\AppData\\Local\\Temp\\ipykernel_18996\\3166345054.py:4: PerformanceWarning: DataFrame is highly fragmented.  This is usually the result of calling `frame.insert` many times, which has poor performance.  Consider joining all columns at once using pd.concat(axis=1) instead. To get a de-fragmented frame, use `newframe = frame.copy()`\n",
      "  amostras['Amostra_' + str(i)] = _\n",
      "C:\\Users\\Tiago\\AppData\\Local\\Temp\\ipykernel_18996\\3166345054.py:4: PerformanceWarning: DataFrame is highly fragmented.  This is usually the result of calling `frame.insert` many times, which has poor performance.  Consider joining all columns at once using pd.concat(axis=1) instead. To get a de-fragmented frame, use `newframe = frame.copy()`\n",
      "  amostras['Amostra_' + str(i)] = _\n",
      "C:\\Users\\Tiago\\AppData\\Local\\Temp\\ipykernel_18996\\3166345054.py:4: PerformanceWarning: DataFrame is highly fragmented.  This is usually the result of calling `frame.insert` many times, which has poor performance.  Consider joining all columns at once using pd.concat(axis=1) instead. To get a de-fragmented frame, use `newframe = frame.copy()`\n",
      "  amostras['Amostra_' + str(i)] = _\n",
      "C:\\Users\\Tiago\\AppData\\Local\\Temp\\ipykernel_18996\\3166345054.py:4: PerformanceWarning: DataFrame is highly fragmented.  This is usually the result of calling `frame.insert` many times, which has poor performance.  Consider joining all columns at once using pd.concat(axis=1) instead. To get a de-fragmented frame, use `newframe = frame.copy()`\n",
      "  amostras['Amostra_' + str(i)] = _\n",
      "C:\\Users\\Tiago\\AppData\\Local\\Temp\\ipykernel_18996\\3166345054.py:4: PerformanceWarning: DataFrame is highly fragmented.  This is usually the result of calling `frame.insert` many times, which has poor performance.  Consider joining all columns at once using pd.concat(axis=1) instead. To get a de-fragmented frame, use `newframe = frame.copy()`\n",
      "  amostras['Amostra_' + str(i)] = _\n",
      "C:\\Users\\Tiago\\AppData\\Local\\Temp\\ipykernel_18996\\3166345054.py:4: PerformanceWarning: DataFrame is highly fragmented.  This is usually the result of calling `frame.insert` many times, which has poor performance.  Consider joining all columns at once using pd.concat(axis=1) instead. To get a de-fragmented frame, use `newframe = frame.copy()`\n",
      "  amostras['Amostra_' + str(i)] = _\n",
      "C:\\Users\\Tiago\\AppData\\Local\\Temp\\ipykernel_18996\\3166345054.py:4: PerformanceWarning: DataFrame is highly fragmented.  This is usually the result of calling `frame.insert` many times, which has poor performance.  Consider joining all columns at once using pd.concat(axis=1) instead. To get a de-fragmented frame, use `newframe = frame.copy()`\n",
      "  amostras['Amostra_' + str(i)] = _\n",
      "C:\\Users\\Tiago\\AppData\\Local\\Temp\\ipykernel_18996\\3166345054.py:4: PerformanceWarning: DataFrame is highly fragmented.  This is usually the result of calling `frame.insert` many times, which has poor performance.  Consider joining all columns at once using pd.concat(axis=1) instead. To get a de-fragmented frame, use `newframe = frame.copy()`\n",
      "  amostras['Amostra_' + str(i)] = _\n",
      "C:\\Users\\Tiago\\AppData\\Local\\Temp\\ipykernel_18996\\3166345054.py:4: PerformanceWarning: DataFrame is highly fragmented.  This is usually the result of calling `frame.insert` many times, which has poor performance.  Consider joining all columns at once using pd.concat(axis=1) instead. To get a de-fragmented frame, use `newframe = frame.copy()`\n",
      "  amostras['Amostra_' + str(i)] = _\n",
      "C:\\Users\\Tiago\\AppData\\Local\\Temp\\ipykernel_18996\\3166345054.py:4: PerformanceWarning: DataFrame is highly fragmented.  This is usually the result of calling `frame.insert` many times, which has poor performance.  Consider joining all columns at once using pd.concat(axis=1) instead. To get a de-fragmented frame, use `newframe = frame.copy()`\n",
      "  amostras['Amostra_' + str(i)] = _\n",
      "C:\\Users\\Tiago\\AppData\\Local\\Temp\\ipykernel_18996\\3166345054.py:4: PerformanceWarning: DataFrame is highly fragmented.  This is usually the result of calling `frame.insert` many times, which has poor performance.  Consider joining all columns at once using pd.concat(axis=1) instead. To get a de-fragmented frame, use `newframe = frame.copy()`\n",
      "  amostras['Amostra_' + str(i)] = _\n",
      "C:\\Users\\Tiago\\AppData\\Local\\Temp\\ipykernel_18996\\3166345054.py:4: PerformanceWarning: DataFrame is highly fragmented.  This is usually the result of calling `frame.insert` many times, which has poor performance.  Consider joining all columns at once using pd.concat(axis=1) instead. To get a de-fragmented frame, use `newframe = frame.copy()`\n",
      "  amostras['Amostra_' + str(i)] = _\n",
      "C:\\Users\\Tiago\\AppData\\Local\\Temp\\ipykernel_18996\\3166345054.py:4: PerformanceWarning: DataFrame is highly fragmented.  This is usually the result of calling `frame.insert` many times, which has poor performance.  Consider joining all columns at once using pd.concat(axis=1) instead. To get a de-fragmented frame, use `newframe = frame.copy()`\n",
      "  amostras['Amostra_' + str(i)] = _\n",
      "C:\\Users\\Tiago\\AppData\\Local\\Temp\\ipykernel_18996\\3166345054.py:4: PerformanceWarning: DataFrame is highly fragmented.  This is usually the result of calling `frame.insert` many times, which has poor performance.  Consider joining all columns at once using pd.concat(axis=1) instead. To get a de-fragmented frame, use `newframe = frame.copy()`\n",
      "  amostras['Amostra_' + str(i)] = _\n",
      "C:\\Users\\Tiago\\AppData\\Local\\Temp\\ipykernel_18996\\3166345054.py:4: PerformanceWarning: DataFrame is highly fragmented.  This is usually the result of calling `frame.insert` many times, which has poor performance.  Consider joining all columns at once using pd.concat(axis=1) instead. To get a de-fragmented frame, use `newframe = frame.copy()`\n",
      "  amostras['Amostra_' + str(i)] = _\n",
      "C:\\Users\\Tiago\\AppData\\Local\\Temp\\ipykernel_18996\\3166345054.py:4: PerformanceWarning: DataFrame is highly fragmented.  This is usually the result of calling `frame.insert` many times, which has poor performance.  Consider joining all columns at once using pd.concat(axis=1) instead. To get a de-fragmented frame, use `newframe = frame.copy()`\n",
      "  amostras['Amostra_' + str(i)] = _\n",
      "C:\\Users\\Tiago\\AppData\\Local\\Temp\\ipykernel_18996\\3166345054.py:4: PerformanceWarning: DataFrame is highly fragmented.  This is usually the result of calling `frame.insert` many times, which has poor performance.  Consider joining all columns at once using pd.concat(axis=1) instead. To get a de-fragmented frame, use `newframe = frame.copy()`\n",
      "  amostras['Amostra_' + str(i)] = _\n",
      "C:\\Users\\Tiago\\AppData\\Local\\Temp\\ipykernel_18996\\3166345054.py:4: PerformanceWarning: DataFrame is highly fragmented.  This is usually the result of calling `frame.insert` many times, which has poor performance.  Consider joining all columns at once using pd.concat(axis=1) instead. To get a de-fragmented frame, use `newframe = frame.copy()`\n",
      "  amostras['Amostra_' + str(i)] = _\n",
      "C:\\Users\\Tiago\\AppData\\Local\\Temp\\ipykernel_18996\\3166345054.py:4: PerformanceWarning: DataFrame is highly fragmented.  This is usually the result of calling `frame.insert` many times, which has poor performance.  Consider joining all columns at once using pd.concat(axis=1) instead. To get a de-fragmented frame, use `newframe = frame.copy()`\n",
      "  amostras['Amostra_' + str(i)] = _\n",
      "C:\\Users\\Tiago\\AppData\\Local\\Temp\\ipykernel_18996\\3166345054.py:4: PerformanceWarning: DataFrame is highly fragmented.  This is usually the result of calling `frame.insert` many times, which has poor performance.  Consider joining all columns at once using pd.concat(axis=1) instead. To get a de-fragmented frame, use `newframe = frame.copy()`\n",
      "  amostras['Amostra_' + str(i)] = _\n",
      "C:\\Users\\Tiago\\AppData\\Local\\Temp\\ipykernel_18996\\3166345054.py:4: PerformanceWarning: DataFrame is highly fragmented.  This is usually the result of calling `frame.insert` many times, which has poor performance.  Consider joining all columns at once using pd.concat(axis=1) instead. To get a de-fragmented frame, use `newframe = frame.copy()`\n",
      "  amostras['Amostra_' + str(i)] = _\n",
      "C:\\Users\\Tiago\\AppData\\Local\\Temp\\ipykernel_18996\\3166345054.py:4: PerformanceWarning: DataFrame is highly fragmented.  This is usually the result of calling `frame.insert` many times, which has poor performance.  Consider joining all columns at once using pd.concat(axis=1) instead. To get a de-fragmented frame, use `newframe = frame.copy()`\n",
      "  amostras['Amostra_' + str(i)] = _\n",
      "C:\\Users\\Tiago\\AppData\\Local\\Temp\\ipykernel_18996\\3166345054.py:4: PerformanceWarning: DataFrame is highly fragmented.  This is usually the result of calling `frame.insert` many times, which has poor performance.  Consider joining all columns at once using pd.concat(axis=1) instead. To get a de-fragmented frame, use `newframe = frame.copy()`\n",
      "  amostras['Amostra_' + str(i)] = _\n",
      "C:\\Users\\Tiago\\AppData\\Local\\Temp\\ipykernel_18996\\3166345054.py:4: PerformanceWarning: DataFrame is highly fragmented.  This is usually the result of calling `frame.insert` many times, which has poor performance.  Consider joining all columns at once using pd.concat(axis=1) instead. To get a de-fragmented frame, use `newframe = frame.copy()`\n",
      "  amostras['Amostra_' + str(i)] = _\n",
      "C:\\Users\\Tiago\\AppData\\Local\\Temp\\ipykernel_18996\\3166345054.py:4: PerformanceWarning: DataFrame is highly fragmented.  This is usually the result of calling `frame.insert` many times, which has poor performance.  Consider joining all columns at once using pd.concat(axis=1) instead. To get a de-fragmented frame, use `newframe = frame.copy()`\n",
      "  amostras['Amostra_' + str(i)] = _\n",
      "C:\\Users\\Tiago\\AppData\\Local\\Temp\\ipykernel_18996\\3166345054.py:4: PerformanceWarning: DataFrame is highly fragmented.  This is usually the result of calling `frame.insert` many times, which has poor performance.  Consider joining all columns at once using pd.concat(axis=1) instead. To get a de-fragmented frame, use `newframe = frame.copy()`\n",
      "  amostras['Amostra_' + str(i)] = _\n",
      "C:\\Users\\Tiago\\AppData\\Local\\Temp\\ipykernel_18996\\3166345054.py:4: PerformanceWarning: DataFrame is highly fragmented.  This is usually the result of calling `frame.insert` many times, which has poor performance.  Consider joining all columns at once using pd.concat(axis=1) instead. To get a de-fragmented frame, use `newframe = frame.copy()`\n",
      "  amostras['Amostra_' + str(i)] = _\n",
      "C:\\Users\\Tiago\\AppData\\Local\\Temp\\ipykernel_18996\\3166345054.py:4: PerformanceWarning: DataFrame is highly fragmented.  This is usually the result of calling `frame.insert` many times, which has poor performance.  Consider joining all columns at once using pd.concat(axis=1) instead. To get a de-fragmented frame, use `newframe = frame.copy()`\n",
      "  amostras['Amostra_' + str(i)] = _\n",
      "C:\\Users\\Tiago\\AppData\\Local\\Temp\\ipykernel_18996\\3166345054.py:4: PerformanceWarning: DataFrame is highly fragmented.  This is usually the result of calling `frame.insert` many times, which has poor performance.  Consider joining all columns at once using pd.concat(axis=1) instead. To get a de-fragmented frame, use `newframe = frame.copy()`\n",
      "  amostras['Amostra_' + str(i)] = _\n",
      "C:\\Users\\Tiago\\AppData\\Local\\Temp\\ipykernel_18996\\3166345054.py:4: PerformanceWarning: DataFrame is highly fragmented.  This is usually the result of calling `frame.insert` many times, which has poor performance.  Consider joining all columns at once using pd.concat(axis=1) instead. To get a de-fragmented frame, use `newframe = frame.copy()`\n",
      "  amostras['Amostra_' + str(i)] = _\n",
      "C:\\Users\\Tiago\\AppData\\Local\\Temp\\ipykernel_18996\\3166345054.py:4: PerformanceWarning: DataFrame is highly fragmented.  This is usually the result of calling `frame.insert` many times, which has poor performance.  Consider joining all columns at once using pd.concat(axis=1) instead. To get a de-fragmented frame, use `newframe = frame.copy()`\n",
      "  amostras['Amostra_' + str(i)] = _\n",
      "C:\\Users\\Tiago\\AppData\\Local\\Temp\\ipykernel_18996\\3166345054.py:4: PerformanceWarning: DataFrame is highly fragmented.  This is usually the result of calling `frame.insert` many times, which has poor performance.  Consider joining all columns at once using pd.concat(axis=1) instead. To get a de-fragmented frame, use `newframe = frame.copy()`\n",
      "  amostras['Amostra_' + str(i)] = _\n",
      "C:\\Users\\Tiago\\AppData\\Local\\Temp\\ipykernel_18996\\3166345054.py:4: PerformanceWarning: DataFrame is highly fragmented.  This is usually the result of calling `frame.insert` many times, which has poor performance.  Consider joining all columns at once using pd.concat(axis=1) instead. To get a de-fragmented frame, use `newframe = frame.copy()`\n",
      "  amostras['Amostra_' + str(i)] = _\n",
      "C:\\Users\\Tiago\\AppData\\Local\\Temp\\ipykernel_18996\\3166345054.py:4: PerformanceWarning: DataFrame is highly fragmented.  This is usually the result of calling `frame.insert` many times, which has poor performance.  Consider joining all columns at once using pd.concat(axis=1) instead. To get a de-fragmented frame, use `newframe = frame.copy()`\n",
      "  amostras['Amostra_' + str(i)] = _\n",
      "C:\\Users\\Tiago\\AppData\\Local\\Temp\\ipykernel_18996\\3166345054.py:4: PerformanceWarning: DataFrame is highly fragmented.  This is usually the result of calling `frame.insert` many times, which has poor performance.  Consider joining all columns at once using pd.concat(axis=1) instead. To get a de-fragmented frame, use `newframe = frame.copy()`\n",
      "  amostras['Amostra_' + str(i)] = _\n",
      "C:\\Users\\Tiago\\AppData\\Local\\Temp\\ipykernel_18996\\3166345054.py:4: PerformanceWarning: DataFrame is highly fragmented.  This is usually the result of calling `frame.insert` many times, which has poor performance.  Consider joining all columns at once using pd.concat(axis=1) instead. To get a de-fragmented frame, use `newframe = frame.copy()`\n",
      "  amostras['Amostra_' + str(i)] = _\n",
      "C:\\Users\\Tiago\\AppData\\Local\\Temp\\ipykernel_18996\\3166345054.py:4: PerformanceWarning: DataFrame is highly fragmented.  This is usually the result of calling `frame.insert` many times, which has poor performance.  Consider joining all columns at once using pd.concat(axis=1) instead. To get a de-fragmented frame, use `newframe = frame.copy()`\n",
      "  amostras['Amostra_' + str(i)] = _\n",
      "C:\\Users\\Tiago\\AppData\\Local\\Temp\\ipykernel_18996\\3166345054.py:4: PerformanceWarning: DataFrame is highly fragmented.  This is usually the result of calling `frame.insert` many times, which has poor performance.  Consider joining all columns at once using pd.concat(axis=1) instead. To get a de-fragmented frame, use `newframe = frame.copy()`\n",
      "  amostras['Amostra_' + str(i)] = _\n",
      "C:\\Users\\Tiago\\AppData\\Local\\Temp\\ipykernel_18996\\3166345054.py:4: PerformanceWarning: DataFrame is highly fragmented.  This is usually the result of calling `frame.insert` many times, which has poor performance.  Consider joining all columns at once using pd.concat(axis=1) instead. To get a de-fragmented frame, use `newframe = frame.copy()`\n",
      "  amostras['Amostra_' + str(i)] = _\n",
      "C:\\Users\\Tiago\\AppData\\Local\\Temp\\ipykernel_18996\\3166345054.py:4: PerformanceWarning: DataFrame is highly fragmented.  This is usually the result of calling `frame.insert` many times, which has poor performance.  Consider joining all columns at once using pd.concat(axis=1) instead. To get a de-fragmented frame, use `newframe = frame.copy()`\n",
      "  amostras['Amostra_' + str(i)] = _\n",
      "C:\\Users\\Tiago\\AppData\\Local\\Temp\\ipykernel_18996\\3166345054.py:4: PerformanceWarning: DataFrame is highly fragmented.  This is usually the result of calling `frame.insert` many times, which has poor performance.  Consider joining all columns at once using pd.concat(axis=1) instead. To get a de-fragmented frame, use `newframe = frame.copy()`\n",
      "  amostras['Amostra_' + str(i)] = _\n",
      "C:\\Users\\Tiago\\AppData\\Local\\Temp\\ipykernel_18996\\3166345054.py:4: PerformanceWarning: DataFrame is highly fragmented.  This is usually the result of calling `frame.insert` many times, which has poor performance.  Consider joining all columns at once using pd.concat(axis=1) instead. To get a de-fragmented frame, use `newframe = frame.copy()`\n",
      "  amostras['Amostra_' + str(i)] = _\n",
      "C:\\Users\\Tiago\\AppData\\Local\\Temp\\ipykernel_18996\\3166345054.py:4: PerformanceWarning: DataFrame is highly fragmented.  This is usually the result of calling `frame.insert` many times, which has poor performance.  Consider joining all columns at once using pd.concat(axis=1) instead. To get a de-fragmented frame, use `newframe = frame.copy()`\n",
      "  amostras['Amostra_' + str(i)] = _\n",
      "C:\\Users\\Tiago\\AppData\\Local\\Temp\\ipykernel_18996\\3166345054.py:4: PerformanceWarning: DataFrame is highly fragmented.  This is usually the result of calling `frame.insert` many times, which has poor performance.  Consider joining all columns at once using pd.concat(axis=1) instead. To get a de-fragmented frame, use `newframe = frame.copy()`\n",
      "  amostras['Amostra_' + str(i)] = _\n",
      "C:\\Users\\Tiago\\AppData\\Local\\Temp\\ipykernel_18996\\3166345054.py:4: PerformanceWarning: DataFrame is highly fragmented.  This is usually the result of calling `frame.insert` many times, which has poor performance.  Consider joining all columns at once using pd.concat(axis=1) instead. To get a de-fragmented frame, use `newframe = frame.copy()`\n",
      "  amostras['Amostra_' + str(i)] = _\n",
      "C:\\Users\\Tiago\\AppData\\Local\\Temp\\ipykernel_18996\\3166345054.py:4: PerformanceWarning: DataFrame is highly fragmented.  This is usually the result of calling `frame.insert` many times, which has poor performance.  Consider joining all columns at once using pd.concat(axis=1) instead. To get a de-fragmented frame, use `newframe = frame.copy()`\n",
      "  amostras['Amostra_' + str(i)] = _\n",
      "C:\\Users\\Tiago\\AppData\\Local\\Temp\\ipykernel_18996\\3166345054.py:4: PerformanceWarning: DataFrame is highly fragmented.  This is usually the result of calling `frame.insert` many times, which has poor performance.  Consider joining all columns at once using pd.concat(axis=1) instead. To get a de-fragmented frame, use `newframe = frame.copy()`\n",
      "  amostras['Amostra_' + str(i)] = _\n",
      "C:\\Users\\Tiago\\AppData\\Local\\Temp\\ipykernel_18996\\3166345054.py:4: PerformanceWarning: DataFrame is highly fragmented.  This is usually the result of calling `frame.insert` many times, which has poor performance.  Consider joining all columns at once using pd.concat(axis=1) instead. To get a de-fragmented frame, use `newframe = frame.copy()`\n",
      "  amostras['Amostra_' + str(i)] = _\n",
      "C:\\Users\\Tiago\\AppData\\Local\\Temp\\ipykernel_18996\\3166345054.py:4: PerformanceWarning: DataFrame is highly fragmented.  This is usually the result of calling `frame.insert` many times, which has poor performance.  Consider joining all columns at once using pd.concat(axis=1) instead. To get a de-fragmented frame, use `newframe = frame.copy()`\n",
      "  amostras['Amostra_' + str(i)] = _\n",
      "C:\\Users\\Tiago\\AppData\\Local\\Temp\\ipykernel_18996\\3166345054.py:4: PerformanceWarning: DataFrame is highly fragmented.  This is usually the result of calling `frame.insert` many times, which has poor performance.  Consider joining all columns at once using pd.concat(axis=1) instead. To get a de-fragmented frame, use `newframe = frame.copy()`\n",
      "  amostras['Amostra_' + str(i)] = _\n",
      "C:\\Users\\Tiago\\AppData\\Local\\Temp\\ipykernel_18996\\3166345054.py:4: PerformanceWarning: DataFrame is highly fragmented.  This is usually the result of calling `frame.insert` many times, which has poor performance.  Consider joining all columns at once using pd.concat(axis=1) instead. To get a de-fragmented frame, use `newframe = frame.copy()`\n",
      "  amostras['Amostra_' + str(i)] = _\n",
      "C:\\Users\\Tiago\\AppData\\Local\\Temp\\ipykernel_18996\\3166345054.py:4: PerformanceWarning: DataFrame is highly fragmented.  This is usually the result of calling `frame.insert` many times, which has poor performance.  Consider joining all columns at once using pd.concat(axis=1) instead. To get a de-fragmented frame, use `newframe = frame.copy()`\n",
      "  amostras['Amostra_' + str(i)] = _\n",
      "C:\\Users\\Tiago\\AppData\\Local\\Temp\\ipykernel_18996\\3166345054.py:4: PerformanceWarning: DataFrame is highly fragmented.  This is usually the result of calling `frame.insert` many times, which has poor performance.  Consider joining all columns at once using pd.concat(axis=1) instead. To get a de-fragmented frame, use `newframe = frame.copy()`\n",
      "  amostras['Amostra_' + str(i)] = _\n",
      "C:\\Users\\Tiago\\AppData\\Local\\Temp\\ipykernel_18996\\3166345054.py:4: PerformanceWarning: DataFrame is highly fragmented.  This is usually the result of calling `frame.insert` many times, which has poor performance.  Consider joining all columns at once using pd.concat(axis=1) instead. To get a de-fragmented frame, use `newframe = frame.copy()`\n",
      "  amostras['Amostra_' + str(i)] = _\n",
      "C:\\Users\\Tiago\\AppData\\Local\\Temp\\ipykernel_18996\\3166345054.py:4: PerformanceWarning: DataFrame is highly fragmented.  This is usually the result of calling `frame.insert` many times, which has poor performance.  Consider joining all columns at once using pd.concat(axis=1) instead. To get a de-fragmented frame, use `newframe = frame.copy()`\n",
      "  amostras['Amostra_' + str(i)] = _\n",
      "C:\\Users\\Tiago\\AppData\\Local\\Temp\\ipykernel_18996\\3166345054.py:4: PerformanceWarning: DataFrame is highly fragmented.  This is usually the result of calling `frame.insert` many times, which has poor performance.  Consider joining all columns at once using pd.concat(axis=1) instead. To get a de-fragmented frame, use `newframe = frame.copy()`\n",
      "  amostras['Amostra_' + str(i)] = _\n",
      "C:\\Users\\Tiago\\AppData\\Local\\Temp\\ipykernel_18996\\3166345054.py:4: PerformanceWarning: DataFrame is highly fragmented.  This is usually the result of calling `frame.insert` many times, which has poor performance.  Consider joining all columns at once using pd.concat(axis=1) instead. To get a de-fragmented frame, use `newframe = frame.copy()`\n",
      "  amostras['Amostra_' + str(i)] = _\n",
      "C:\\Users\\Tiago\\AppData\\Local\\Temp\\ipykernel_18996\\3166345054.py:4: PerformanceWarning: DataFrame is highly fragmented.  This is usually the result of calling `frame.insert` many times, which has poor performance.  Consider joining all columns at once using pd.concat(axis=1) instead. To get a de-fragmented frame, use `newframe = frame.copy()`\n",
      "  amostras['Amostra_' + str(i)] = _\n",
      "C:\\Users\\Tiago\\AppData\\Local\\Temp\\ipykernel_18996\\3166345054.py:4: PerformanceWarning: DataFrame is highly fragmented.  This is usually the result of calling `frame.insert` many times, which has poor performance.  Consider joining all columns at once using pd.concat(axis=1) instead. To get a de-fragmented frame, use `newframe = frame.copy()`\n",
      "  amostras['Amostra_' + str(i)] = _\n",
      "C:\\Users\\Tiago\\AppData\\Local\\Temp\\ipykernel_18996\\3166345054.py:4: PerformanceWarning: DataFrame is highly fragmented.  This is usually the result of calling `frame.insert` many times, which has poor performance.  Consider joining all columns at once using pd.concat(axis=1) instead. To get a de-fragmented frame, use `newframe = frame.copy()`\n",
      "  amostras['Amostra_' + str(i)] = _\n",
      "C:\\Users\\Tiago\\AppData\\Local\\Temp\\ipykernel_18996\\3166345054.py:4: PerformanceWarning: DataFrame is highly fragmented.  This is usually the result of calling `frame.insert` many times, which has poor performance.  Consider joining all columns at once using pd.concat(axis=1) instead. To get a de-fragmented frame, use `newframe = frame.copy()`\n",
      "  amostras['Amostra_' + str(i)] = _\n",
      "C:\\Users\\Tiago\\AppData\\Local\\Temp\\ipykernel_18996\\3166345054.py:4: PerformanceWarning: DataFrame is highly fragmented.  This is usually the result of calling `frame.insert` many times, which has poor performance.  Consider joining all columns at once using pd.concat(axis=1) instead. To get a de-fragmented frame, use `newframe = frame.copy()`\n",
      "  amostras['Amostra_' + str(i)] = _\n",
      "C:\\Users\\Tiago\\AppData\\Local\\Temp\\ipykernel_18996\\3166345054.py:4: PerformanceWarning: DataFrame is highly fragmented.  This is usually the result of calling `frame.insert` many times, which has poor performance.  Consider joining all columns at once using pd.concat(axis=1) instead. To get a de-fragmented frame, use `newframe = frame.copy()`\n",
      "  amostras['Amostra_' + str(i)] = _\n",
      "C:\\Users\\Tiago\\AppData\\Local\\Temp\\ipykernel_18996\\3166345054.py:4: PerformanceWarning: DataFrame is highly fragmented.  This is usually the result of calling `frame.insert` many times, which has poor performance.  Consider joining all columns at once using pd.concat(axis=1) instead. To get a de-fragmented frame, use `newframe = frame.copy()`\n",
      "  amostras['Amostra_' + str(i)] = _\n",
      "C:\\Users\\Tiago\\AppData\\Local\\Temp\\ipykernel_18996\\3166345054.py:4: PerformanceWarning: DataFrame is highly fragmented.  This is usually the result of calling `frame.insert` many times, which has poor performance.  Consider joining all columns at once using pd.concat(axis=1) instead. To get a de-fragmented frame, use `newframe = frame.copy()`\n",
      "  amostras['Amostra_' + str(i)] = _\n",
      "C:\\Users\\Tiago\\AppData\\Local\\Temp\\ipykernel_18996\\3166345054.py:4: PerformanceWarning: DataFrame is highly fragmented.  This is usually the result of calling `frame.insert` many times, which has poor performance.  Consider joining all columns at once using pd.concat(axis=1) instead. To get a de-fragmented frame, use `newframe = frame.copy()`\n",
      "  amostras['Amostra_' + str(i)] = _\n",
      "C:\\Users\\Tiago\\AppData\\Local\\Temp\\ipykernel_18996\\3166345054.py:4: PerformanceWarning: DataFrame is highly fragmented.  This is usually the result of calling `frame.insert` many times, which has poor performance.  Consider joining all columns at once using pd.concat(axis=1) instead. To get a de-fragmented frame, use `newframe = frame.copy()`\n",
      "  amostras['Amostra_' + str(i)] = _\n",
      "C:\\Users\\Tiago\\AppData\\Local\\Temp\\ipykernel_18996\\3166345054.py:4: PerformanceWarning: DataFrame is highly fragmented.  This is usually the result of calling `frame.insert` many times, which has poor performance.  Consider joining all columns at once using pd.concat(axis=1) instead. To get a de-fragmented frame, use `newframe = frame.copy()`\n",
      "  amostras['Amostra_' + str(i)] = _\n",
      "C:\\Users\\Tiago\\AppData\\Local\\Temp\\ipykernel_18996\\3166345054.py:4: PerformanceWarning: DataFrame is highly fragmented.  This is usually the result of calling `frame.insert` many times, which has poor performance.  Consider joining all columns at once using pd.concat(axis=1) instead. To get a de-fragmented frame, use `newframe = frame.copy()`\n",
      "  amostras['Amostra_' + str(i)] = _\n",
      "C:\\Users\\Tiago\\AppData\\Local\\Temp\\ipykernel_18996\\3166345054.py:4: PerformanceWarning: DataFrame is highly fragmented.  This is usually the result of calling `frame.insert` many times, which has poor performance.  Consider joining all columns at once using pd.concat(axis=1) instead. To get a de-fragmented frame, use `newframe = frame.copy()`\n",
      "  amostras['Amostra_' + str(i)] = _\n",
      "C:\\Users\\Tiago\\AppData\\Local\\Temp\\ipykernel_18996\\3166345054.py:4: PerformanceWarning: DataFrame is highly fragmented.  This is usually the result of calling `frame.insert` many times, which has poor performance.  Consider joining all columns at once using pd.concat(axis=1) instead. To get a de-fragmented frame, use `newframe = frame.copy()`\n",
      "  amostras['Amostra_' + str(i)] = _\n",
      "C:\\Users\\Tiago\\AppData\\Local\\Temp\\ipykernel_18996\\3166345054.py:4: PerformanceWarning: DataFrame is highly fragmented.  This is usually the result of calling `frame.insert` many times, which has poor performance.  Consider joining all columns at once using pd.concat(axis=1) instead. To get a de-fragmented frame, use `newframe = frame.copy()`\n",
      "  amostras['Amostra_' + str(i)] = _\n",
      "C:\\Users\\Tiago\\AppData\\Local\\Temp\\ipykernel_18996\\3166345054.py:4: PerformanceWarning: DataFrame is highly fragmented.  This is usually the result of calling `frame.insert` many times, which has poor performance.  Consider joining all columns at once using pd.concat(axis=1) instead. To get a de-fragmented frame, use `newframe = frame.copy()`\n",
      "  amostras['Amostra_' + str(i)] = _\n",
      "C:\\Users\\Tiago\\AppData\\Local\\Temp\\ipykernel_18996\\3166345054.py:4: PerformanceWarning: DataFrame is highly fragmented.  This is usually the result of calling `frame.insert` many times, which has poor performance.  Consider joining all columns at once using pd.concat(axis=1) instead. To get a de-fragmented frame, use `newframe = frame.copy()`\n",
      "  amostras['Amostra_' + str(i)] = _\n",
      "C:\\Users\\Tiago\\AppData\\Local\\Temp\\ipykernel_18996\\3166345054.py:4: PerformanceWarning: DataFrame is highly fragmented.  This is usually the result of calling `frame.insert` many times, which has poor performance.  Consider joining all columns at once using pd.concat(axis=1) instead. To get a de-fragmented frame, use `newframe = frame.copy()`\n",
      "  amostras['Amostra_' + str(i)] = _\n",
      "C:\\Users\\Tiago\\AppData\\Local\\Temp\\ipykernel_18996\\3166345054.py:4: PerformanceWarning: DataFrame is highly fragmented.  This is usually the result of calling `frame.insert` many times, which has poor performance.  Consider joining all columns at once using pd.concat(axis=1) instead. To get a de-fragmented frame, use `newframe = frame.copy()`\n",
      "  amostras['Amostra_' + str(i)] = _\n",
      "C:\\Users\\Tiago\\AppData\\Local\\Temp\\ipykernel_18996\\3166345054.py:4: PerformanceWarning: DataFrame is highly fragmented.  This is usually the result of calling `frame.insert` many times, which has poor performance.  Consider joining all columns at once using pd.concat(axis=1) instead. To get a de-fragmented frame, use `newframe = frame.copy()`\n",
      "  amostras['Amostra_' + str(i)] = _\n",
      "C:\\Users\\Tiago\\AppData\\Local\\Temp\\ipykernel_18996\\3166345054.py:4: PerformanceWarning: DataFrame is highly fragmented.  This is usually the result of calling `frame.insert` many times, which has poor performance.  Consider joining all columns at once using pd.concat(axis=1) instead. To get a de-fragmented frame, use `newframe = frame.copy()`\n",
      "  amostras['Amostra_' + str(i)] = _\n",
      "C:\\Users\\Tiago\\AppData\\Local\\Temp\\ipykernel_18996\\3166345054.py:4: PerformanceWarning: DataFrame is highly fragmented.  This is usually the result of calling `frame.insert` many times, which has poor performance.  Consider joining all columns at once using pd.concat(axis=1) instead. To get a de-fragmented frame, use `newframe = frame.copy()`\n",
      "  amostras['Amostra_' + str(i)] = _\n",
      "C:\\Users\\Tiago\\AppData\\Local\\Temp\\ipykernel_18996\\3166345054.py:4: PerformanceWarning: DataFrame is highly fragmented.  This is usually the result of calling `frame.insert` many times, which has poor performance.  Consider joining all columns at once using pd.concat(axis=1) instead. To get a de-fragmented frame, use `newframe = frame.copy()`\n",
      "  amostras['Amostra_' + str(i)] = _\n",
      "C:\\Users\\Tiago\\AppData\\Local\\Temp\\ipykernel_18996\\3166345054.py:4: PerformanceWarning: DataFrame is highly fragmented.  This is usually the result of calling `frame.insert` many times, which has poor performance.  Consider joining all columns at once using pd.concat(axis=1) instead. To get a de-fragmented frame, use `newframe = frame.copy()`\n",
      "  amostras['Amostra_' + str(i)] = _\n",
      "C:\\Users\\Tiago\\AppData\\Local\\Temp\\ipykernel_18996\\3166345054.py:4: PerformanceWarning: DataFrame is highly fragmented.  This is usually the result of calling `frame.insert` many times, which has poor performance.  Consider joining all columns at once using pd.concat(axis=1) instead. To get a de-fragmented frame, use `newframe = frame.copy()`\n",
      "  amostras['Amostra_' + str(i)] = _\n",
      "C:\\Users\\Tiago\\AppData\\Local\\Temp\\ipykernel_18996\\3166345054.py:4: PerformanceWarning: DataFrame is highly fragmented.  This is usually the result of calling `frame.insert` many times, which has poor performance.  Consider joining all columns at once using pd.concat(axis=1) instead. To get a de-fragmented frame, use `newframe = frame.copy()`\n",
      "  amostras['Amostra_' + str(i)] = _\n",
      "C:\\Users\\Tiago\\AppData\\Local\\Temp\\ipykernel_18996\\3166345054.py:4: PerformanceWarning: DataFrame is highly fragmented.  This is usually the result of calling `frame.insert` many times, which has poor performance.  Consider joining all columns at once using pd.concat(axis=1) instead. To get a de-fragmented frame, use `newframe = frame.copy()`\n",
      "  amostras['Amostra_' + str(i)] = _\n",
      "C:\\Users\\Tiago\\AppData\\Local\\Temp\\ipykernel_18996\\3166345054.py:4: PerformanceWarning: DataFrame is highly fragmented.  This is usually the result of calling `frame.insert` many times, which has poor performance.  Consider joining all columns at once using pd.concat(axis=1) instead. To get a de-fragmented frame, use `newframe = frame.copy()`\n",
      "  amostras['Amostra_' + str(i)] = _\n",
      "C:\\Users\\Tiago\\AppData\\Local\\Temp\\ipykernel_18996\\3166345054.py:4: PerformanceWarning: DataFrame is highly fragmented.  This is usually the result of calling `frame.insert` many times, which has poor performance.  Consider joining all columns at once using pd.concat(axis=1) instead. To get a de-fragmented frame, use `newframe = frame.copy()`\n",
      "  amostras['Amostra_' + str(i)] = _\n",
      "C:\\Users\\Tiago\\AppData\\Local\\Temp\\ipykernel_18996\\3166345054.py:4: PerformanceWarning: DataFrame is highly fragmented.  This is usually the result of calling `frame.insert` many times, which has poor performance.  Consider joining all columns at once using pd.concat(axis=1) instead. To get a de-fragmented frame, use `newframe = frame.copy()`\n",
      "  amostras['Amostra_' + str(i)] = _\n",
      "C:\\Users\\Tiago\\AppData\\Local\\Temp\\ipykernel_18996\\3166345054.py:4: PerformanceWarning: DataFrame is highly fragmented.  This is usually the result of calling `frame.insert` many times, which has poor performance.  Consider joining all columns at once using pd.concat(axis=1) instead. To get a de-fragmented frame, use `newframe = frame.copy()`\n",
      "  amostras['Amostra_' + str(i)] = _\n",
      "C:\\Users\\Tiago\\AppData\\Local\\Temp\\ipykernel_18996\\3166345054.py:4: PerformanceWarning: DataFrame is highly fragmented.  This is usually the result of calling `frame.insert` many times, which has poor performance.  Consider joining all columns at once using pd.concat(axis=1) instead. To get a de-fragmented frame, use `newframe = frame.copy()`\n",
      "  amostras['Amostra_' + str(i)] = _\n",
      "C:\\Users\\Tiago\\AppData\\Local\\Temp\\ipykernel_18996\\3166345054.py:4: PerformanceWarning: DataFrame is highly fragmented.  This is usually the result of calling `frame.insert` many times, which has poor performance.  Consider joining all columns at once using pd.concat(axis=1) instead. To get a de-fragmented frame, use `newframe = frame.copy()`\n",
      "  amostras['Amostra_' + str(i)] = _\n",
      "C:\\Users\\Tiago\\AppData\\Local\\Temp\\ipykernel_18996\\3166345054.py:4: PerformanceWarning: DataFrame is highly fragmented.  This is usually the result of calling `frame.insert` many times, which has poor performance.  Consider joining all columns at once using pd.concat(axis=1) instead. To get a de-fragmented frame, use `newframe = frame.copy()`\n",
      "  amostras['Amostra_' + str(i)] = _\n",
      "C:\\Users\\Tiago\\AppData\\Local\\Temp\\ipykernel_18996\\3166345054.py:4: PerformanceWarning: DataFrame is highly fragmented.  This is usually the result of calling `frame.insert` many times, which has poor performance.  Consider joining all columns at once using pd.concat(axis=1) instead. To get a de-fragmented frame, use `newframe = frame.copy()`\n",
      "  amostras['Amostra_' + str(i)] = _\n",
      "C:\\Users\\Tiago\\AppData\\Local\\Temp\\ipykernel_18996\\3166345054.py:4: PerformanceWarning: DataFrame is highly fragmented.  This is usually the result of calling `frame.insert` many times, which has poor performance.  Consider joining all columns at once using pd.concat(axis=1) instead. To get a de-fragmented frame, use `newframe = frame.copy()`\n",
      "  amostras['Amostra_' + str(i)] = _\n",
      "C:\\Users\\Tiago\\AppData\\Local\\Temp\\ipykernel_18996\\3166345054.py:4: PerformanceWarning: DataFrame is highly fragmented.  This is usually the result of calling `frame.insert` many times, which has poor performance.  Consider joining all columns at once using pd.concat(axis=1) instead. To get a de-fragmented frame, use `newframe = frame.copy()`\n",
      "  amostras['Amostra_' + str(i)] = _\n",
      "C:\\Users\\Tiago\\AppData\\Local\\Temp\\ipykernel_18996\\3166345054.py:4: PerformanceWarning: DataFrame is highly fragmented.  This is usually the result of calling `frame.insert` many times, which has poor performance.  Consider joining all columns at once using pd.concat(axis=1) instead. To get a de-fragmented frame, use `newframe = frame.copy()`\n",
      "  amostras['Amostra_' + str(i)] = _\n",
      "C:\\Users\\Tiago\\AppData\\Local\\Temp\\ipykernel_18996\\3166345054.py:4: PerformanceWarning: DataFrame is highly fragmented.  This is usually the result of calling `frame.insert` many times, which has poor performance.  Consider joining all columns at once using pd.concat(axis=1) instead. To get a de-fragmented frame, use `newframe = frame.copy()`\n",
      "  amostras['Amostra_' + str(i)] = _\n",
      "C:\\Users\\Tiago\\AppData\\Local\\Temp\\ipykernel_18996\\3166345054.py:4: PerformanceWarning: DataFrame is highly fragmented.  This is usually the result of calling `frame.insert` many times, which has poor performance.  Consider joining all columns at once using pd.concat(axis=1) instead. To get a de-fragmented frame, use `newframe = frame.copy()`\n",
      "  amostras['Amostra_' + str(i)] = _\n",
      "C:\\Users\\Tiago\\AppData\\Local\\Temp\\ipykernel_18996\\3166345054.py:4: PerformanceWarning: DataFrame is highly fragmented.  This is usually the result of calling `frame.insert` many times, which has poor performance.  Consider joining all columns at once using pd.concat(axis=1) instead. To get a de-fragmented frame, use `newframe = frame.copy()`\n",
      "  amostras['Amostra_' + str(i)] = _\n",
      "C:\\Users\\Tiago\\AppData\\Local\\Temp\\ipykernel_18996\\3166345054.py:4: PerformanceWarning: DataFrame is highly fragmented.  This is usually the result of calling `frame.insert` many times, which has poor performance.  Consider joining all columns at once using pd.concat(axis=1) instead. To get a de-fragmented frame, use `newframe = frame.copy()`\n",
      "  amostras['Amostra_' + str(i)] = _\n",
      "C:\\Users\\Tiago\\AppData\\Local\\Temp\\ipykernel_18996\\3166345054.py:4: PerformanceWarning: DataFrame is highly fragmented.  This is usually the result of calling `frame.insert` many times, which has poor performance.  Consider joining all columns at once using pd.concat(axis=1) instead. To get a de-fragmented frame, use `newframe = frame.copy()`\n",
      "  amostras['Amostra_' + str(i)] = _\n",
      "C:\\Users\\Tiago\\AppData\\Local\\Temp\\ipykernel_18996\\3166345054.py:4: PerformanceWarning: DataFrame is highly fragmented.  This is usually the result of calling `frame.insert` many times, which has poor performance.  Consider joining all columns at once using pd.concat(axis=1) instead. To get a de-fragmented frame, use `newframe = frame.copy()`\n",
      "  amostras['Amostra_' + str(i)] = _\n",
      "C:\\Users\\Tiago\\AppData\\Local\\Temp\\ipykernel_18996\\3166345054.py:4: PerformanceWarning: DataFrame is highly fragmented.  This is usually the result of calling `frame.insert` many times, which has poor performance.  Consider joining all columns at once using pd.concat(axis=1) instead. To get a de-fragmented frame, use `newframe = frame.copy()`\n",
      "  amostras['Amostra_' + str(i)] = _\n",
      "C:\\Users\\Tiago\\AppData\\Local\\Temp\\ipykernel_18996\\3166345054.py:4: PerformanceWarning: DataFrame is highly fragmented.  This is usually the result of calling `frame.insert` many times, which has poor performance.  Consider joining all columns at once using pd.concat(axis=1) instead. To get a de-fragmented frame, use `newframe = frame.copy()`\n",
      "  amostras['Amostra_' + str(i)] = _\n",
      "C:\\Users\\Tiago\\AppData\\Local\\Temp\\ipykernel_18996\\3166345054.py:4: PerformanceWarning: DataFrame is highly fragmented.  This is usually the result of calling `frame.insert` many times, which has poor performance.  Consider joining all columns at once using pd.concat(axis=1) instead. To get a de-fragmented frame, use `newframe = frame.copy()`\n",
      "  amostras['Amostra_' + str(i)] = _\n",
      "C:\\Users\\Tiago\\AppData\\Local\\Temp\\ipykernel_18996\\3166345054.py:4: PerformanceWarning: DataFrame is highly fragmented.  This is usually the result of calling `frame.insert` many times, which has poor performance.  Consider joining all columns at once using pd.concat(axis=1) instead. To get a de-fragmented frame, use `newframe = frame.copy()`\n",
      "  amostras['Amostra_' + str(i)] = _\n",
      "C:\\Users\\Tiago\\AppData\\Local\\Temp\\ipykernel_18996\\3166345054.py:4: PerformanceWarning: DataFrame is highly fragmented.  This is usually the result of calling `frame.insert` many times, which has poor performance.  Consider joining all columns at once using pd.concat(axis=1) instead. To get a de-fragmented frame, use `newframe = frame.copy()`\n",
      "  amostras['Amostra_' + str(i)] = _\n",
      "C:\\Users\\Tiago\\AppData\\Local\\Temp\\ipykernel_18996\\3166345054.py:4: PerformanceWarning: DataFrame is highly fragmented.  This is usually the result of calling `frame.insert` many times, which has poor performance.  Consider joining all columns at once using pd.concat(axis=1) instead. To get a de-fragmented frame, use `newframe = frame.copy()`\n",
      "  amostras['Amostra_' + str(i)] = _\n",
      "C:\\Users\\Tiago\\AppData\\Local\\Temp\\ipykernel_18996\\3166345054.py:4: PerformanceWarning: DataFrame is highly fragmented.  This is usually the result of calling `frame.insert` many times, which has poor performance.  Consider joining all columns at once using pd.concat(axis=1) instead. To get a de-fragmented frame, use `newframe = frame.copy()`\n",
      "  amostras['Amostra_' + str(i)] = _\n",
      "C:\\Users\\Tiago\\AppData\\Local\\Temp\\ipykernel_18996\\3166345054.py:4: PerformanceWarning: DataFrame is highly fragmented.  This is usually the result of calling `frame.insert` many times, which has poor performance.  Consider joining all columns at once using pd.concat(axis=1) instead. To get a de-fragmented frame, use `newframe = frame.copy()`\n",
      "  amostras['Amostra_' + str(i)] = _\n",
      "C:\\Users\\Tiago\\AppData\\Local\\Temp\\ipykernel_18996\\3166345054.py:4: PerformanceWarning: DataFrame is highly fragmented.  This is usually the result of calling `frame.insert` many times, which has poor performance.  Consider joining all columns at once using pd.concat(axis=1) instead. To get a de-fragmented frame, use `newframe = frame.copy()`\n",
      "  amostras['Amostra_' + str(i)] = _\n",
      "C:\\Users\\Tiago\\AppData\\Local\\Temp\\ipykernel_18996\\3166345054.py:4: PerformanceWarning: DataFrame is highly fragmented.  This is usually the result of calling `frame.insert` many times, which has poor performance.  Consider joining all columns at once using pd.concat(axis=1) instead. To get a de-fragmented frame, use `newframe = frame.copy()`\n",
      "  amostras['Amostra_' + str(i)] = _\n",
      "C:\\Users\\Tiago\\AppData\\Local\\Temp\\ipykernel_18996\\3166345054.py:4: PerformanceWarning: DataFrame is highly fragmented.  This is usually the result of calling `frame.insert` many times, which has poor performance.  Consider joining all columns at once using pd.concat(axis=1) instead. To get a de-fragmented frame, use `newframe = frame.copy()`\n",
      "  amostras['Amostra_' + str(i)] = _\n",
      "C:\\Users\\Tiago\\AppData\\Local\\Temp\\ipykernel_18996\\3166345054.py:4: PerformanceWarning: DataFrame is highly fragmented.  This is usually the result of calling `frame.insert` many times, which has poor performance.  Consider joining all columns at once using pd.concat(axis=1) instead. To get a de-fragmented frame, use `newframe = frame.copy()`\n",
      "  amostras['Amostra_' + str(i)] = _\n",
      "C:\\Users\\Tiago\\AppData\\Local\\Temp\\ipykernel_18996\\3166345054.py:4: PerformanceWarning: DataFrame is highly fragmented.  This is usually the result of calling `frame.insert` many times, which has poor performance.  Consider joining all columns at once using pd.concat(axis=1) instead. To get a de-fragmented frame, use `newframe = frame.copy()`\n",
      "  amostras['Amostra_' + str(i)] = _\n",
      "C:\\Users\\Tiago\\AppData\\Local\\Temp\\ipykernel_18996\\3166345054.py:4: PerformanceWarning: DataFrame is highly fragmented.  This is usually the result of calling `frame.insert` many times, which has poor performance.  Consider joining all columns at once using pd.concat(axis=1) instead. To get a de-fragmented frame, use `newframe = frame.copy()`\n",
      "  amostras['Amostra_' + str(i)] = _\n",
      "C:\\Users\\Tiago\\AppData\\Local\\Temp\\ipykernel_18996\\3166345054.py:4: PerformanceWarning: DataFrame is highly fragmented.  This is usually the result of calling `frame.insert` many times, which has poor performance.  Consider joining all columns at once using pd.concat(axis=1) instead. To get a de-fragmented frame, use `newframe = frame.copy()`\n",
      "  amostras['Amostra_' + str(i)] = _\n",
      "C:\\Users\\Tiago\\AppData\\Local\\Temp\\ipykernel_18996\\3166345054.py:4: PerformanceWarning: DataFrame is highly fragmented.  This is usually the result of calling `frame.insert` many times, which has poor performance.  Consider joining all columns at once using pd.concat(axis=1) instead. To get a de-fragmented frame, use `newframe = frame.copy()`\n",
      "  amostras['Amostra_' + str(i)] = _\n",
      "C:\\Users\\Tiago\\AppData\\Local\\Temp\\ipykernel_18996\\3166345054.py:4: PerformanceWarning: DataFrame is highly fragmented.  This is usually the result of calling `frame.insert` many times, which has poor performance.  Consider joining all columns at once using pd.concat(axis=1) instead. To get a de-fragmented frame, use `newframe = frame.copy()`\n",
      "  amostras['Amostra_' + str(i)] = _\n",
      "C:\\Users\\Tiago\\AppData\\Local\\Temp\\ipykernel_18996\\3166345054.py:4: PerformanceWarning: DataFrame is highly fragmented.  This is usually the result of calling `frame.insert` many times, which has poor performance.  Consider joining all columns at once using pd.concat(axis=1) instead. To get a de-fragmented frame, use `newframe = frame.copy()`\n",
      "  amostras['Amostra_' + str(i)] = _\n",
      "C:\\Users\\Tiago\\AppData\\Local\\Temp\\ipykernel_18996\\3166345054.py:4: PerformanceWarning: DataFrame is highly fragmented.  This is usually the result of calling `frame.insert` many times, which has poor performance.  Consider joining all columns at once using pd.concat(axis=1) instead. To get a de-fragmented frame, use `newframe = frame.copy()`\n",
      "  amostras['Amostra_' + str(i)] = _\n",
      "C:\\Users\\Tiago\\AppData\\Local\\Temp\\ipykernel_18996\\3166345054.py:4: PerformanceWarning: DataFrame is highly fragmented.  This is usually the result of calling `frame.insert` many times, which has poor performance.  Consider joining all columns at once using pd.concat(axis=1) instead. To get a de-fragmented frame, use `newframe = frame.copy()`\n",
      "  amostras['Amostra_' + str(i)] = _\n",
      "C:\\Users\\Tiago\\AppData\\Local\\Temp\\ipykernel_18996\\3166345054.py:4: PerformanceWarning: DataFrame is highly fragmented.  This is usually the result of calling `frame.insert` many times, which has poor performance.  Consider joining all columns at once using pd.concat(axis=1) instead. To get a de-fragmented frame, use `newframe = frame.copy()`\n",
      "  amostras['Amostra_' + str(i)] = _\n",
      "C:\\Users\\Tiago\\AppData\\Local\\Temp\\ipykernel_18996\\3166345054.py:4: PerformanceWarning: DataFrame is highly fragmented.  This is usually the result of calling `frame.insert` many times, which has poor performance.  Consider joining all columns at once using pd.concat(axis=1) instead. To get a de-fragmented frame, use `newframe = frame.copy()`\n",
      "  amostras['Amostra_' + str(i)] = _\n",
      "C:\\Users\\Tiago\\AppData\\Local\\Temp\\ipykernel_18996\\3166345054.py:4: PerformanceWarning: DataFrame is highly fragmented.  This is usually the result of calling `frame.insert` many times, which has poor performance.  Consider joining all columns at once using pd.concat(axis=1) instead. To get a de-fragmented frame, use `newframe = frame.copy()`\n",
      "  amostras['Amostra_' + str(i)] = _\n",
      "C:\\Users\\Tiago\\AppData\\Local\\Temp\\ipykernel_18996\\3166345054.py:4: PerformanceWarning: DataFrame is highly fragmented.  This is usually the result of calling `frame.insert` many times, which has poor performance.  Consider joining all columns at once using pd.concat(axis=1) instead. To get a de-fragmented frame, use `newframe = frame.copy()`\n",
      "  amostras['Amostra_' + str(i)] = _\n",
      "C:\\Users\\Tiago\\AppData\\Local\\Temp\\ipykernel_18996\\3166345054.py:4: PerformanceWarning: DataFrame is highly fragmented.  This is usually the result of calling `frame.insert` many times, which has poor performance.  Consider joining all columns at once using pd.concat(axis=1) instead. To get a de-fragmented frame, use `newframe = frame.copy()`\n",
      "  amostras['Amostra_' + str(i)] = _\n",
      "C:\\Users\\Tiago\\AppData\\Local\\Temp\\ipykernel_18996\\3166345054.py:4: PerformanceWarning: DataFrame is highly fragmented.  This is usually the result of calling `frame.insert` many times, which has poor performance.  Consider joining all columns at once using pd.concat(axis=1) instead. To get a de-fragmented frame, use `newframe = frame.copy()`\n",
      "  amostras['Amostra_' + str(i)] = _\n",
      "C:\\Users\\Tiago\\AppData\\Local\\Temp\\ipykernel_18996\\3166345054.py:4: PerformanceWarning: DataFrame is highly fragmented.  This is usually the result of calling `frame.insert` many times, which has poor performance.  Consider joining all columns at once using pd.concat(axis=1) instead. To get a de-fragmented frame, use `newframe = frame.copy()`\n",
      "  amostras['Amostra_' + str(i)] = _\n",
      "C:\\Users\\Tiago\\AppData\\Local\\Temp\\ipykernel_18996\\3166345054.py:4: PerformanceWarning: DataFrame is highly fragmented.  This is usually the result of calling `frame.insert` many times, which has poor performance.  Consider joining all columns at once using pd.concat(axis=1) instead. To get a de-fragmented frame, use `newframe = frame.copy()`\n",
      "  amostras['Amostra_' + str(i)] = _\n",
      "C:\\Users\\Tiago\\AppData\\Local\\Temp\\ipykernel_18996\\3166345054.py:4: PerformanceWarning: DataFrame is highly fragmented.  This is usually the result of calling `frame.insert` many times, which has poor performance.  Consider joining all columns at once using pd.concat(axis=1) instead. To get a de-fragmented frame, use `newframe = frame.copy()`\n",
      "  amostras['Amostra_' + str(i)] = _\n",
      "C:\\Users\\Tiago\\AppData\\Local\\Temp\\ipykernel_18996\\3166345054.py:4: PerformanceWarning: DataFrame is highly fragmented.  This is usually the result of calling `frame.insert` many times, which has poor performance.  Consider joining all columns at once using pd.concat(axis=1) instead. To get a de-fragmented frame, use `newframe = frame.copy()`\n",
      "  amostras['Amostra_' + str(i)] = _\n",
      "C:\\Users\\Tiago\\AppData\\Local\\Temp\\ipykernel_18996\\3166345054.py:4: PerformanceWarning: DataFrame is highly fragmented.  This is usually the result of calling `frame.insert` many times, which has poor performance.  Consider joining all columns at once using pd.concat(axis=1) instead. To get a de-fragmented frame, use `newframe = frame.copy()`\n",
      "  amostras['Amostra_' + str(i)] = _\n",
      "C:\\Users\\Tiago\\AppData\\Local\\Temp\\ipykernel_18996\\3166345054.py:4: PerformanceWarning: DataFrame is highly fragmented.  This is usually the result of calling `frame.insert` many times, which has poor performance.  Consider joining all columns at once using pd.concat(axis=1) instead. To get a de-fragmented frame, use `newframe = frame.copy()`\n",
      "  amostras['Amostra_' + str(i)] = _\n",
      "C:\\Users\\Tiago\\AppData\\Local\\Temp\\ipykernel_18996\\3166345054.py:4: PerformanceWarning: DataFrame is highly fragmented.  This is usually the result of calling `frame.insert` many times, which has poor performance.  Consider joining all columns at once using pd.concat(axis=1) instead. To get a de-fragmented frame, use `newframe = frame.copy()`\n",
      "  amostras['Amostra_' + str(i)] = _\n",
      "C:\\Users\\Tiago\\AppData\\Local\\Temp\\ipykernel_18996\\3166345054.py:4: PerformanceWarning: DataFrame is highly fragmented.  This is usually the result of calling `frame.insert` many times, which has poor performance.  Consider joining all columns at once using pd.concat(axis=1) instead. To get a de-fragmented frame, use `newframe = frame.copy()`\n",
      "  amostras['Amostra_' + str(i)] = _\n",
      "C:\\Users\\Tiago\\AppData\\Local\\Temp\\ipykernel_18996\\3166345054.py:4: PerformanceWarning: DataFrame is highly fragmented.  This is usually the result of calling `frame.insert` many times, which has poor performance.  Consider joining all columns at once using pd.concat(axis=1) instead. To get a de-fragmented frame, use `newframe = frame.copy()`\n",
      "  amostras['Amostra_' + str(i)] = _\n",
      "C:\\Users\\Tiago\\AppData\\Local\\Temp\\ipykernel_18996\\3166345054.py:4: PerformanceWarning: DataFrame is highly fragmented.  This is usually the result of calling `frame.insert` many times, which has poor performance.  Consider joining all columns at once using pd.concat(axis=1) instead. To get a de-fragmented frame, use `newframe = frame.copy()`\n",
      "  amostras['Amostra_' + str(i)] = _\n",
      "C:\\Users\\Tiago\\AppData\\Local\\Temp\\ipykernel_18996\\3166345054.py:4: PerformanceWarning: DataFrame is highly fragmented.  This is usually the result of calling `frame.insert` many times, which has poor performance.  Consider joining all columns at once using pd.concat(axis=1) instead. To get a de-fragmented frame, use `newframe = frame.copy()`\n",
      "  amostras['Amostra_' + str(i)] = _\n",
      "C:\\Users\\Tiago\\AppData\\Local\\Temp\\ipykernel_18996\\3166345054.py:4: PerformanceWarning: DataFrame is highly fragmented.  This is usually the result of calling `frame.insert` many times, which has poor performance.  Consider joining all columns at once using pd.concat(axis=1) instead. To get a de-fragmented frame, use `newframe = frame.copy()`\n",
      "  amostras['Amostra_' + str(i)] = _\n",
      "C:\\Users\\Tiago\\AppData\\Local\\Temp\\ipykernel_18996\\3166345054.py:4: PerformanceWarning: DataFrame is highly fragmented.  This is usually the result of calling `frame.insert` many times, which has poor performance.  Consider joining all columns at once using pd.concat(axis=1) instead. To get a de-fragmented frame, use `newframe = frame.copy()`\n",
      "  amostras['Amostra_' + str(i)] = _\n",
      "C:\\Users\\Tiago\\AppData\\Local\\Temp\\ipykernel_18996\\3166345054.py:4: PerformanceWarning: DataFrame is highly fragmented.  This is usually the result of calling `frame.insert` many times, which has poor performance.  Consider joining all columns at once using pd.concat(axis=1) instead. To get a de-fragmented frame, use `newframe = frame.copy()`\n",
      "  amostras['Amostra_' + str(i)] = _\n",
      "C:\\Users\\Tiago\\AppData\\Local\\Temp\\ipykernel_18996\\3166345054.py:4: PerformanceWarning: DataFrame is highly fragmented.  This is usually the result of calling `frame.insert` many times, which has poor performance.  Consider joining all columns at once using pd.concat(axis=1) instead. To get a de-fragmented frame, use `newframe = frame.copy()`\n",
      "  amostras['Amostra_' + str(i)] = _\n",
      "C:\\Users\\Tiago\\AppData\\Local\\Temp\\ipykernel_18996\\3166345054.py:4: PerformanceWarning: DataFrame is highly fragmented.  This is usually the result of calling `frame.insert` many times, which has poor performance.  Consider joining all columns at once using pd.concat(axis=1) instead. To get a de-fragmented frame, use `newframe = frame.copy()`\n",
      "  amostras['Amostra_' + str(i)] = _\n",
      "C:\\Users\\Tiago\\AppData\\Local\\Temp\\ipykernel_18996\\3166345054.py:4: PerformanceWarning: DataFrame is highly fragmented.  This is usually the result of calling `frame.insert` many times, which has poor performance.  Consider joining all columns at once using pd.concat(axis=1) instead. To get a de-fragmented frame, use `newframe = frame.copy()`\n",
      "  amostras['Amostra_' + str(i)] = _\n",
      "C:\\Users\\Tiago\\AppData\\Local\\Temp\\ipykernel_18996\\3166345054.py:4: PerformanceWarning: DataFrame is highly fragmented.  This is usually the result of calling `frame.insert` many times, which has poor performance.  Consider joining all columns at once using pd.concat(axis=1) instead. To get a de-fragmented frame, use `newframe = frame.copy()`\n",
      "  amostras['Amostra_' + str(i)] = _\n",
      "C:\\Users\\Tiago\\AppData\\Local\\Temp\\ipykernel_18996\\3166345054.py:4: PerformanceWarning: DataFrame is highly fragmented.  This is usually the result of calling `frame.insert` many times, which has poor performance.  Consider joining all columns at once using pd.concat(axis=1) instead. To get a de-fragmented frame, use `newframe = frame.copy()`\n",
      "  amostras['Amostra_' + str(i)] = _\n",
      "C:\\Users\\Tiago\\AppData\\Local\\Temp\\ipykernel_18996\\3166345054.py:4: PerformanceWarning: DataFrame is highly fragmented.  This is usually the result of calling `frame.insert` many times, which has poor performance.  Consider joining all columns at once using pd.concat(axis=1) instead. To get a de-fragmented frame, use `newframe = frame.copy()`\n",
      "  amostras['Amostra_' + str(i)] = _\n",
      "C:\\Users\\Tiago\\AppData\\Local\\Temp\\ipykernel_18996\\3166345054.py:4: PerformanceWarning: DataFrame is highly fragmented.  This is usually the result of calling `frame.insert` many times, which has poor performance.  Consider joining all columns at once using pd.concat(axis=1) instead. To get a de-fragmented frame, use `newframe = frame.copy()`\n",
      "  amostras['Amostra_' + str(i)] = _\n",
      "C:\\Users\\Tiago\\AppData\\Local\\Temp\\ipykernel_18996\\3166345054.py:4: PerformanceWarning: DataFrame is highly fragmented.  This is usually the result of calling `frame.insert` many times, which has poor performance.  Consider joining all columns at once using pd.concat(axis=1) instead. To get a de-fragmented frame, use `newframe = frame.copy()`\n",
      "  amostras['Amostra_' + str(i)] = _\n",
      "C:\\Users\\Tiago\\AppData\\Local\\Temp\\ipykernel_18996\\3166345054.py:4: PerformanceWarning: DataFrame is highly fragmented.  This is usually the result of calling `frame.insert` many times, which has poor performance.  Consider joining all columns at once using pd.concat(axis=1) instead. To get a de-fragmented frame, use `newframe = frame.copy()`\n",
      "  amostras['Amostra_' + str(i)] = _\n",
      "C:\\Users\\Tiago\\AppData\\Local\\Temp\\ipykernel_18996\\3166345054.py:4: PerformanceWarning: DataFrame is highly fragmented.  This is usually the result of calling `frame.insert` many times, which has poor performance.  Consider joining all columns at once using pd.concat(axis=1) instead. To get a de-fragmented frame, use `newframe = frame.copy()`\n",
      "  amostras['Amostra_' + str(i)] = _\n",
      "C:\\Users\\Tiago\\AppData\\Local\\Temp\\ipykernel_18996\\3166345054.py:4: PerformanceWarning: DataFrame is highly fragmented.  This is usually the result of calling `frame.insert` many times, which has poor performance.  Consider joining all columns at once using pd.concat(axis=1) instead. To get a de-fragmented frame, use `newframe = frame.copy()`\n",
      "  amostras['Amostra_' + str(i)] = _\n",
      "C:\\Users\\Tiago\\AppData\\Local\\Temp\\ipykernel_18996\\3166345054.py:4: PerformanceWarning: DataFrame is highly fragmented.  This is usually the result of calling `frame.insert` many times, which has poor performance.  Consider joining all columns at once using pd.concat(axis=1) instead. To get a de-fragmented frame, use `newframe = frame.copy()`\n",
      "  amostras['Amostra_' + str(i)] = _\n",
      "C:\\Users\\Tiago\\AppData\\Local\\Temp\\ipykernel_18996\\3166345054.py:4: PerformanceWarning: DataFrame is highly fragmented.  This is usually the result of calling `frame.insert` many times, which has poor performance.  Consider joining all columns at once using pd.concat(axis=1) instead. To get a de-fragmented frame, use `newframe = frame.copy()`\n",
      "  amostras['Amostra_' + str(i)] = _\n",
      "C:\\Users\\Tiago\\AppData\\Local\\Temp\\ipykernel_18996\\3166345054.py:4: PerformanceWarning: DataFrame is highly fragmented.  This is usually the result of calling `frame.insert` many times, which has poor performance.  Consider joining all columns at once using pd.concat(axis=1) instead. To get a de-fragmented frame, use `newframe = frame.copy()`\n",
      "  amostras['Amostra_' + str(i)] = _\n",
      "C:\\Users\\Tiago\\AppData\\Local\\Temp\\ipykernel_18996\\3166345054.py:4: PerformanceWarning: DataFrame is highly fragmented.  This is usually the result of calling `frame.insert` many times, which has poor performance.  Consider joining all columns at once using pd.concat(axis=1) instead. To get a de-fragmented frame, use `newframe = frame.copy()`\n",
      "  amostras['Amostra_' + str(i)] = _\n",
      "C:\\Users\\Tiago\\AppData\\Local\\Temp\\ipykernel_18996\\3166345054.py:4: PerformanceWarning: DataFrame is highly fragmented.  This is usually the result of calling `frame.insert` many times, which has poor performance.  Consider joining all columns at once using pd.concat(axis=1) instead. To get a de-fragmented frame, use `newframe = frame.copy()`\n",
      "  amostras['Amostra_' + str(i)] = _\n",
      "C:\\Users\\Tiago\\AppData\\Local\\Temp\\ipykernel_18996\\3166345054.py:4: PerformanceWarning: DataFrame is highly fragmented.  This is usually the result of calling `frame.insert` many times, which has poor performance.  Consider joining all columns at once using pd.concat(axis=1) instead. To get a de-fragmented frame, use `newframe = frame.copy()`\n",
      "  amostras['Amostra_' + str(i)] = _\n",
      "C:\\Users\\Tiago\\AppData\\Local\\Temp\\ipykernel_18996\\3166345054.py:4: PerformanceWarning: DataFrame is highly fragmented.  This is usually the result of calling `frame.insert` many times, which has poor performance.  Consider joining all columns at once using pd.concat(axis=1) instead. To get a de-fragmented frame, use `newframe = frame.copy()`\n",
      "  amostras['Amostra_' + str(i)] = _\n",
      "C:\\Users\\Tiago\\AppData\\Local\\Temp\\ipykernel_18996\\3166345054.py:4: PerformanceWarning: DataFrame is highly fragmented.  This is usually the result of calling `frame.insert` many times, which has poor performance.  Consider joining all columns at once using pd.concat(axis=1) instead. To get a de-fragmented frame, use `newframe = frame.copy()`\n",
      "  amostras['Amostra_' + str(i)] = _\n",
      "C:\\Users\\Tiago\\AppData\\Local\\Temp\\ipykernel_18996\\3166345054.py:4: PerformanceWarning: DataFrame is highly fragmented.  This is usually the result of calling `frame.insert` many times, which has poor performance.  Consider joining all columns at once using pd.concat(axis=1) instead. To get a de-fragmented frame, use `newframe = frame.copy()`\n",
      "  amostras['Amostra_' + str(i)] = _\n",
      "C:\\Users\\Tiago\\AppData\\Local\\Temp\\ipykernel_18996\\3166345054.py:4: PerformanceWarning: DataFrame is highly fragmented.  This is usually the result of calling `frame.insert` many times, which has poor performance.  Consider joining all columns at once using pd.concat(axis=1) instead. To get a de-fragmented frame, use `newframe = frame.copy()`\n",
      "  amostras['Amostra_' + str(i)] = _\n",
      "C:\\Users\\Tiago\\AppData\\Local\\Temp\\ipykernel_18996\\3166345054.py:4: PerformanceWarning: DataFrame is highly fragmented.  This is usually the result of calling `frame.insert` many times, which has poor performance.  Consider joining all columns at once using pd.concat(axis=1) instead. To get a de-fragmented frame, use `newframe = frame.copy()`\n",
      "  amostras['Amostra_' + str(i)] = _\n",
      "C:\\Users\\Tiago\\AppData\\Local\\Temp\\ipykernel_18996\\3166345054.py:4: PerformanceWarning: DataFrame is highly fragmented.  This is usually the result of calling `frame.insert` many times, which has poor performance.  Consider joining all columns at once using pd.concat(axis=1) instead. To get a de-fragmented frame, use `newframe = frame.copy()`\n",
      "  amostras['Amostra_' + str(i)] = _\n",
      "C:\\Users\\Tiago\\AppData\\Local\\Temp\\ipykernel_18996\\3166345054.py:4: PerformanceWarning: DataFrame is highly fragmented.  This is usually the result of calling `frame.insert` many times, which has poor performance.  Consider joining all columns at once using pd.concat(axis=1) instead. To get a de-fragmented frame, use `newframe = frame.copy()`\n",
      "  amostras['Amostra_' + str(i)] = _\n",
      "C:\\Users\\Tiago\\AppData\\Local\\Temp\\ipykernel_18996\\3166345054.py:4: PerformanceWarning: DataFrame is highly fragmented.  This is usually the result of calling `frame.insert` many times, which has poor performance.  Consider joining all columns at once using pd.concat(axis=1) instead. To get a de-fragmented frame, use `newframe = frame.copy()`\n",
      "  amostras['Amostra_' + str(i)] = _\n",
      "C:\\Users\\Tiago\\AppData\\Local\\Temp\\ipykernel_18996\\3166345054.py:4: PerformanceWarning: DataFrame is highly fragmented.  This is usually the result of calling `frame.insert` many times, which has poor performance.  Consider joining all columns at once using pd.concat(axis=1) instead. To get a de-fragmented frame, use `newframe = frame.copy()`\n",
      "  amostras['Amostra_' + str(i)] = _\n",
      "C:\\Users\\Tiago\\AppData\\Local\\Temp\\ipykernel_18996\\3166345054.py:4: PerformanceWarning: DataFrame is highly fragmented.  This is usually the result of calling `frame.insert` many times, which has poor performance.  Consider joining all columns at once using pd.concat(axis=1) instead. To get a de-fragmented frame, use `newframe = frame.copy()`\n",
      "  amostras['Amostra_' + str(i)] = _\n",
      "C:\\Users\\Tiago\\AppData\\Local\\Temp\\ipykernel_18996\\3166345054.py:4: PerformanceWarning: DataFrame is highly fragmented.  This is usually the result of calling `frame.insert` many times, which has poor performance.  Consider joining all columns at once using pd.concat(axis=1) instead. To get a de-fragmented frame, use `newframe = frame.copy()`\n",
      "  amostras['Amostra_' + str(i)] = _\n",
      "C:\\Users\\Tiago\\AppData\\Local\\Temp\\ipykernel_18996\\3166345054.py:4: PerformanceWarning: DataFrame is highly fragmented.  This is usually the result of calling `frame.insert` many times, which has poor performance.  Consider joining all columns at once using pd.concat(axis=1) instead. To get a de-fragmented frame, use `newframe = frame.copy()`\n",
      "  amostras['Amostra_' + str(i)] = _\n",
      "C:\\Users\\Tiago\\AppData\\Local\\Temp\\ipykernel_18996\\3166345054.py:4: PerformanceWarning: DataFrame is highly fragmented.  This is usually the result of calling `frame.insert` many times, which has poor performance.  Consider joining all columns at once using pd.concat(axis=1) instead. To get a de-fragmented frame, use `newframe = frame.copy()`\n",
      "  amostras['Amostra_' + str(i)] = _\n",
      "C:\\Users\\Tiago\\AppData\\Local\\Temp\\ipykernel_18996\\3166345054.py:4: PerformanceWarning: DataFrame is highly fragmented.  This is usually the result of calling `frame.insert` many times, which has poor performance.  Consider joining all columns at once using pd.concat(axis=1) instead. To get a de-fragmented frame, use `newframe = frame.copy()`\n",
      "  amostras['Amostra_' + str(i)] = _\n",
      "C:\\Users\\Tiago\\AppData\\Local\\Temp\\ipykernel_18996\\3166345054.py:4: PerformanceWarning: DataFrame is highly fragmented.  This is usually the result of calling `frame.insert` many times, which has poor performance.  Consider joining all columns at once using pd.concat(axis=1) instead. To get a de-fragmented frame, use `newframe = frame.copy()`\n",
      "  amostras['Amostra_' + str(i)] = _\n",
      "C:\\Users\\Tiago\\AppData\\Local\\Temp\\ipykernel_18996\\3166345054.py:4: PerformanceWarning: DataFrame is highly fragmented.  This is usually the result of calling `frame.insert` many times, which has poor performance.  Consider joining all columns at once using pd.concat(axis=1) instead. To get a de-fragmented frame, use `newframe = frame.copy()`\n",
      "  amostras['Amostra_' + str(i)] = _\n",
      "C:\\Users\\Tiago\\AppData\\Local\\Temp\\ipykernel_18996\\3166345054.py:4: PerformanceWarning: DataFrame is highly fragmented.  This is usually the result of calling `frame.insert` many times, which has poor performance.  Consider joining all columns at once using pd.concat(axis=1) instead. To get a de-fragmented frame, use `newframe = frame.copy()`\n",
      "  amostras['Amostra_' + str(i)] = _\n",
      "C:\\Users\\Tiago\\AppData\\Local\\Temp\\ipykernel_18996\\3166345054.py:4: PerformanceWarning: DataFrame is highly fragmented.  This is usually the result of calling `frame.insert` many times, which has poor performance.  Consider joining all columns at once using pd.concat(axis=1) instead. To get a de-fragmented frame, use `newframe = frame.copy()`\n",
      "  amostras['Amostra_' + str(i)] = _\n",
      "C:\\Users\\Tiago\\AppData\\Local\\Temp\\ipykernel_18996\\3166345054.py:4: PerformanceWarning: DataFrame is highly fragmented.  This is usually the result of calling `frame.insert` many times, which has poor performance.  Consider joining all columns at once using pd.concat(axis=1) instead. To get a de-fragmented frame, use `newframe = frame.copy()`\n",
      "  amostras['Amostra_' + str(i)] = _\n",
      "C:\\Users\\Tiago\\AppData\\Local\\Temp\\ipykernel_18996\\3166345054.py:4: PerformanceWarning: DataFrame is highly fragmented.  This is usually the result of calling `frame.insert` many times, which has poor performance.  Consider joining all columns at once using pd.concat(axis=1) instead. To get a de-fragmented frame, use `newframe = frame.copy()`\n",
      "  amostras['Amostra_' + str(i)] = _\n",
      "C:\\Users\\Tiago\\AppData\\Local\\Temp\\ipykernel_18996\\3166345054.py:4: PerformanceWarning: DataFrame is highly fragmented.  This is usually the result of calling `frame.insert` many times, which has poor performance.  Consider joining all columns at once using pd.concat(axis=1) instead. To get a de-fragmented frame, use `newframe = frame.copy()`\n",
      "  amostras['Amostra_' + str(i)] = _\n",
      "C:\\Users\\Tiago\\AppData\\Local\\Temp\\ipykernel_18996\\3166345054.py:4: PerformanceWarning: DataFrame is highly fragmented.  This is usually the result of calling `frame.insert` many times, which has poor performance.  Consider joining all columns at once using pd.concat(axis=1) instead. To get a de-fragmented frame, use `newframe = frame.copy()`\n",
      "  amostras['Amostra_' + str(i)] = _\n",
      "C:\\Users\\Tiago\\AppData\\Local\\Temp\\ipykernel_18996\\3166345054.py:4: PerformanceWarning: DataFrame is highly fragmented.  This is usually the result of calling `frame.insert` many times, which has poor performance.  Consider joining all columns at once using pd.concat(axis=1) instead. To get a de-fragmented frame, use `newframe = frame.copy()`\n",
      "  amostras['Amostra_' + str(i)] = _\n",
      "C:\\Users\\Tiago\\AppData\\Local\\Temp\\ipykernel_18996\\3166345054.py:4: PerformanceWarning: DataFrame is highly fragmented.  This is usually the result of calling `frame.insert` many times, which has poor performance.  Consider joining all columns at once using pd.concat(axis=1) instead. To get a de-fragmented frame, use `newframe = frame.copy()`\n",
      "  amostras['Amostra_' + str(i)] = _\n",
      "C:\\Users\\Tiago\\AppData\\Local\\Temp\\ipykernel_18996\\3166345054.py:4: PerformanceWarning: DataFrame is highly fragmented.  This is usually the result of calling `frame.insert` many times, which has poor performance.  Consider joining all columns at once using pd.concat(axis=1) instead. To get a de-fragmented frame, use `newframe = frame.copy()`\n",
      "  amostras['Amostra_' + str(i)] = _\n",
      "C:\\Users\\Tiago\\AppData\\Local\\Temp\\ipykernel_18996\\3166345054.py:4: PerformanceWarning: DataFrame is highly fragmented.  This is usually the result of calling `frame.insert` many times, which has poor performance.  Consider joining all columns at once using pd.concat(axis=1) instead. To get a de-fragmented frame, use `newframe = frame.copy()`\n",
      "  amostras['Amostra_' + str(i)] = _\n",
      "C:\\Users\\Tiago\\AppData\\Local\\Temp\\ipykernel_18996\\3166345054.py:4: PerformanceWarning: DataFrame is highly fragmented.  This is usually the result of calling `frame.insert` many times, which has poor performance.  Consider joining all columns at once using pd.concat(axis=1) instead. To get a de-fragmented frame, use `newframe = frame.copy()`\n",
      "  amostras['Amostra_' + str(i)] = _\n",
      "C:\\Users\\Tiago\\AppData\\Local\\Temp\\ipykernel_18996\\3166345054.py:4: PerformanceWarning: DataFrame is highly fragmented.  This is usually the result of calling `frame.insert` many times, which has poor performance.  Consider joining all columns at once using pd.concat(axis=1) instead. To get a de-fragmented frame, use `newframe = frame.copy()`\n",
      "  amostras['Amostra_' + str(i)] = _\n",
      "C:\\Users\\Tiago\\AppData\\Local\\Temp\\ipykernel_18996\\3166345054.py:4: PerformanceWarning: DataFrame is highly fragmented.  This is usually the result of calling `frame.insert` many times, which has poor performance.  Consider joining all columns at once using pd.concat(axis=1) instead. To get a de-fragmented frame, use `newframe = frame.copy()`\n",
      "  amostras['Amostra_' + str(i)] = _\n",
      "C:\\Users\\Tiago\\AppData\\Local\\Temp\\ipykernel_18996\\3166345054.py:4: PerformanceWarning: DataFrame is highly fragmented.  This is usually the result of calling `frame.insert` many times, which has poor performance.  Consider joining all columns at once using pd.concat(axis=1) instead. To get a de-fragmented frame, use `newframe = frame.copy()`\n",
      "  amostras['Amostra_' + str(i)] = _\n",
      "C:\\Users\\Tiago\\AppData\\Local\\Temp\\ipykernel_18996\\3166345054.py:4: PerformanceWarning: DataFrame is highly fragmented.  This is usually the result of calling `frame.insert` many times, which has poor performance.  Consider joining all columns at once using pd.concat(axis=1) instead. To get a de-fragmented frame, use `newframe = frame.copy()`\n",
      "  amostras['Amostra_' + str(i)] = _\n",
      "C:\\Users\\Tiago\\AppData\\Local\\Temp\\ipykernel_18996\\3166345054.py:4: PerformanceWarning: DataFrame is highly fragmented.  This is usually the result of calling `frame.insert` many times, which has poor performance.  Consider joining all columns at once using pd.concat(axis=1) instead. To get a de-fragmented frame, use `newframe = frame.copy()`\n",
      "  amostras['Amostra_' + str(i)] = _\n",
      "C:\\Users\\Tiago\\AppData\\Local\\Temp\\ipykernel_18996\\3166345054.py:4: PerformanceWarning: DataFrame is highly fragmented.  This is usually the result of calling `frame.insert` many times, which has poor performance.  Consider joining all columns at once using pd.concat(axis=1) instead. To get a de-fragmented frame, use `newframe = frame.copy()`\n",
      "  amostras['Amostra_' + str(i)] = _\n",
      "C:\\Users\\Tiago\\AppData\\Local\\Temp\\ipykernel_18996\\3166345054.py:4: PerformanceWarning: DataFrame is highly fragmented.  This is usually the result of calling `frame.insert` many times, which has poor performance.  Consider joining all columns at once using pd.concat(axis=1) instead. To get a de-fragmented frame, use `newframe = frame.copy()`\n",
      "  amostras['Amostra_' + str(i)] = _\n",
      "C:\\Users\\Tiago\\AppData\\Local\\Temp\\ipykernel_18996\\3166345054.py:4: PerformanceWarning: DataFrame is highly fragmented.  This is usually the result of calling `frame.insert` many times, which has poor performance.  Consider joining all columns at once using pd.concat(axis=1) instead. To get a de-fragmented frame, use `newframe = frame.copy()`\n",
      "  amostras['Amostra_' + str(i)] = _\n",
      "C:\\Users\\Tiago\\AppData\\Local\\Temp\\ipykernel_18996\\3166345054.py:4: PerformanceWarning: DataFrame is highly fragmented.  This is usually the result of calling `frame.insert` many times, which has poor performance.  Consider joining all columns at once using pd.concat(axis=1) instead. To get a de-fragmented frame, use `newframe = frame.copy()`\n",
      "  amostras['Amostra_' + str(i)] = _\n",
      "C:\\Users\\Tiago\\AppData\\Local\\Temp\\ipykernel_18996\\3166345054.py:4: PerformanceWarning: DataFrame is highly fragmented.  This is usually the result of calling `frame.insert` many times, which has poor performance.  Consider joining all columns at once using pd.concat(axis=1) instead. To get a de-fragmented frame, use `newframe = frame.copy()`\n",
      "  amostras['Amostra_' + str(i)] = _\n",
      "C:\\Users\\Tiago\\AppData\\Local\\Temp\\ipykernel_18996\\3166345054.py:4: PerformanceWarning: DataFrame is highly fragmented.  This is usually the result of calling `frame.insert` many times, which has poor performance.  Consider joining all columns at once using pd.concat(axis=1) instead. To get a de-fragmented frame, use `newframe = frame.copy()`\n",
      "  amostras['Amostra_' + str(i)] = _\n",
      "C:\\Users\\Tiago\\AppData\\Local\\Temp\\ipykernel_18996\\3166345054.py:4: PerformanceWarning: DataFrame is highly fragmented.  This is usually the result of calling `frame.insert` many times, which has poor performance.  Consider joining all columns at once using pd.concat(axis=1) instead. To get a de-fragmented frame, use `newframe = frame.copy()`\n",
      "  amostras['Amostra_' + str(i)] = _\n",
      "C:\\Users\\Tiago\\AppData\\Local\\Temp\\ipykernel_18996\\3166345054.py:4: PerformanceWarning: DataFrame is highly fragmented.  This is usually the result of calling `frame.insert` many times, which has poor performance.  Consider joining all columns at once using pd.concat(axis=1) instead. To get a de-fragmented frame, use `newframe = frame.copy()`\n",
      "  amostras['Amostra_' + str(i)] = _\n",
      "C:\\Users\\Tiago\\AppData\\Local\\Temp\\ipykernel_18996\\3166345054.py:4: PerformanceWarning: DataFrame is highly fragmented.  This is usually the result of calling `frame.insert` many times, which has poor performance.  Consider joining all columns at once using pd.concat(axis=1) instead. To get a de-fragmented frame, use `newframe = frame.copy()`\n",
      "  amostras['Amostra_' + str(i)] = _\n",
      "C:\\Users\\Tiago\\AppData\\Local\\Temp\\ipykernel_18996\\3166345054.py:4: PerformanceWarning: DataFrame is highly fragmented.  This is usually the result of calling `frame.insert` many times, which has poor performance.  Consider joining all columns at once using pd.concat(axis=1) instead. To get a de-fragmented frame, use `newframe = frame.copy()`\n",
      "  amostras['Amostra_' + str(i)] = _\n",
      "C:\\Users\\Tiago\\AppData\\Local\\Temp\\ipykernel_18996\\3166345054.py:4: PerformanceWarning: DataFrame is highly fragmented.  This is usually the result of calling `frame.insert` many times, which has poor performance.  Consider joining all columns at once using pd.concat(axis=1) instead. To get a de-fragmented frame, use `newframe = frame.copy()`\n",
      "  amostras['Amostra_' + str(i)] = _\n",
      "C:\\Users\\Tiago\\AppData\\Local\\Temp\\ipykernel_18996\\3166345054.py:4: PerformanceWarning: DataFrame is highly fragmented.  This is usually the result of calling `frame.insert` many times, which has poor performance.  Consider joining all columns at once using pd.concat(axis=1) instead. To get a de-fragmented frame, use `newframe = frame.copy()`\n",
      "  amostras['Amostra_' + str(i)] = _\n",
      "C:\\Users\\Tiago\\AppData\\Local\\Temp\\ipykernel_18996\\3166345054.py:4: PerformanceWarning: DataFrame is highly fragmented.  This is usually the result of calling `frame.insert` many times, which has poor performance.  Consider joining all columns at once using pd.concat(axis=1) instead. To get a de-fragmented frame, use `newframe = frame.copy()`\n",
      "  amostras['Amostra_' + str(i)] = _\n",
      "C:\\Users\\Tiago\\AppData\\Local\\Temp\\ipykernel_18996\\3166345054.py:4: PerformanceWarning: DataFrame is highly fragmented.  This is usually the result of calling `frame.insert` many times, which has poor performance.  Consider joining all columns at once using pd.concat(axis=1) instead. To get a de-fragmented frame, use `newframe = frame.copy()`\n",
      "  amostras['Amostra_' + str(i)] = _\n",
      "C:\\Users\\Tiago\\AppData\\Local\\Temp\\ipykernel_18996\\3166345054.py:4: PerformanceWarning: DataFrame is highly fragmented.  This is usually the result of calling `frame.insert` many times, which has poor performance.  Consider joining all columns at once using pd.concat(axis=1) instead. To get a de-fragmented frame, use `newframe = frame.copy()`\n",
      "  amostras['Amostra_' + str(i)] = _\n",
      "C:\\Users\\Tiago\\AppData\\Local\\Temp\\ipykernel_18996\\3166345054.py:4: PerformanceWarning: DataFrame is highly fragmented.  This is usually the result of calling `frame.insert` many times, which has poor performance.  Consider joining all columns at once using pd.concat(axis=1) instead. To get a de-fragmented frame, use `newframe = frame.copy()`\n",
      "  amostras['Amostra_' + str(i)] = _\n",
      "C:\\Users\\Tiago\\AppData\\Local\\Temp\\ipykernel_18996\\3166345054.py:4: PerformanceWarning: DataFrame is highly fragmented.  This is usually the result of calling `frame.insert` many times, which has poor performance.  Consider joining all columns at once using pd.concat(axis=1) instead. To get a de-fragmented frame, use `newframe = frame.copy()`\n",
      "  amostras['Amostra_' + str(i)] = _\n",
      "C:\\Users\\Tiago\\AppData\\Local\\Temp\\ipykernel_18996\\3166345054.py:4: PerformanceWarning: DataFrame is highly fragmented.  This is usually the result of calling `frame.insert` many times, which has poor performance.  Consider joining all columns at once using pd.concat(axis=1) instead. To get a de-fragmented frame, use `newframe = frame.copy()`\n",
      "  amostras['Amostra_' + str(i)] = _\n",
      "C:\\Users\\Tiago\\AppData\\Local\\Temp\\ipykernel_18996\\3166345054.py:4: PerformanceWarning: DataFrame is highly fragmented.  This is usually the result of calling `frame.insert` many times, which has poor performance.  Consider joining all columns at once using pd.concat(axis=1) instead. To get a de-fragmented frame, use `newframe = frame.copy()`\n",
      "  amostras['Amostra_' + str(i)] = _\n",
      "C:\\Users\\Tiago\\AppData\\Local\\Temp\\ipykernel_18996\\3166345054.py:4: PerformanceWarning: DataFrame is highly fragmented.  This is usually the result of calling `frame.insert` many times, which has poor performance.  Consider joining all columns at once using pd.concat(axis=1) instead. To get a de-fragmented frame, use `newframe = frame.copy()`\n",
      "  amostras['Amostra_' + str(i)] = _\n",
      "C:\\Users\\Tiago\\AppData\\Local\\Temp\\ipykernel_18996\\3166345054.py:4: PerformanceWarning: DataFrame is highly fragmented.  This is usually the result of calling `frame.insert` many times, which has poor performance.  Consider joining all columns at once using pd.concat(axis=1) instead. To get a de-fragmented frame, use `newframe = frame.copy()`\n",
      "  amostras['Amostra_' + str(i)] = _\n",
      "C:\\Users\\Tiago\\AppData\\Local\\Temp\\ipykernel_18996\\3166345054.py:4: PerformanceWarning: DataFrame is highly fragmented.  This is usually the result of calling `frame.insert` many times, which has poor performance.  Consider joining all columns at once using pd.concat(axis=1) instead. To get a de-fragmented frame, use `newframe = frame.copy()`\n",
      "  amostras['Amostra_' + str(i)] = _\n",
      "C:\\Users\\Tiago\\AppData\\Local\\Temp\\ipykernel_18996\\3166345054.py:4: PerformanceWarning: DataFrame is highly fragmented.  This is usually the result of calling `frame.insert` many times, which has poor performance.  Consider joining all columns at once using pd.concat(axis=1) instead. To get a de-fragmented frame, use `newframe = frame.copy()`\n",
      "  amostras['Amostra_' + str(i)] = _\n",
      "C:\\Users\\Tiago\\AppData\\Local\\Temp\\ipykernel_18996\\3166345054.py:4: PerformanceWarning: DataFrame is highly fragmented.  This is usually the result of calling `frame.insert` many times, which has poor performance.  Consider joining all columns at once using pd.concat(axis=1) instead. To get a de-fragmented frame, use `newframe = frame.copy()`\n",
      "  amostras['Amostra_' + str(i)] = _\n",
      "C:\\Users\\Tiago\\AppData\\Local\\Temp\\ipykernel_18996\\3166345054.py:4: PerformanceWarning: DataFrame is highly fragmented.  This is usually the result of calling `frame.insert` many times, which has poor performance.  Consider joining all columns at once using pd.concat(axis=1) instead. To get a de-fragmented frame, use `newframe = frame.copy()`\n",
      "  amostras['Amostra_' + str(i)] = _\n",
      "C:\\Users\\Tiago\\AppData\\Local\\Temp\\ipykernel_18996\\3166345054.py:4: PerformanceWarning: DataFrame is highly fragmented.  This is usually the result of calling `frame.insert` many times, which has poor performance.  Consider joining all columns at once using pd.concat(axis=1) instead. To get a de-fragmented frame, use `newframe = frame.copy()`\n",
      "  amostras['Amostra_' + str(i)] = _\n",
      "C:\\Users\\Tiago\\AppData\\Local\\Temp\\ipykernel_18996\\3166345054.py:4: PerformanceWarning: DataFrame is highly fragmented.  This is usually the result of calling `frame.insert` many times, which has poor performance.  Consider joining all columns at once using pd.concat(axis=1) instead. To get a de-fragmented frame, use `newframe = frame.copy()`\n",
      "  amostras['Amostra_' + str(i)] = _\n",
      "C:\\Users\\Tiago\\AppData\\Local\\Temp\\ipykernel_18996\\3166345054.py:4: PerformanceWarning: DataFrame is highly fragmented.  This is usually the result of calling `frame.insert` many times, which has poor performance.  Consider joining all columns at once using pd.concat(axis=1) instead. To get a de-fragmented frame, use `newframe = frame.copy()`\n",
      "  amostras['Amostra_' + str(i)] = _\n",
      "C:\\Users\\Tiago\\AppData\\Local\\Temp\\ipykernel_18996\\3166345054.py:4: PerformanceWarning: DataFrame is highly fragmented.  This is usually the result of calling `frame.insert` many times, which has poor performance.  Consider joining all columns at once using pd.concat(axis=1) instead. To get a de-fragmented frame, use `newframe = frame.copy()`\n",
      "  amostras['Amostra_' + str(i)] = _\n",
      "C:\\Users\\Tiago\\AppData\\Local\\Temp\\ipykernel_18996\\3166345054.py:4: PerformanceWarning: DataFrame is highly fragmented.  This is usually the result of calling `frame.insert` many times, which has poor performance.  Consider joining all columns at once using pd.concat(axis=1) instead. To get a de-fragmented frame, use `newframe = frame.copy()`\n",
      "  amostras['Amostra_' + str(i)] = _\n",
      "C:\\Users\\Tiago\\AppData\\Local\\Temp\\ipykernel_18996\\3166345054.py:4: PerformanceWarning: DataFrame is highly fragmented.  This is usually the result of calling `frame.insert` many times, which has poor performance.  Consider joining all columns at once using pd.concat(axis=1) instead. To get a de-fragmented frame, use `newframe = frame.copy()`\n",
      "  amostras['Amostra_' + str(i)] = _\n",
      "C:\\Users\\Tiago\\AppData\\Local\\Temp\\ipykernel_18996\\3166345054.py:4: PerformanceWarning: DataFrame is highly fragmented.  This is usually the result of calling `frame.insert` many times, which has poor performance.  Consider joining all columns at once using pd.concat(axis=1) instead. To get a de-fragmented frame, use `newframe = frame.copy()`\n",
      "  amostras['Amostra_' + str(i)] = _\n",
      "C:\\Users\\Tiago\\AppData\\Local\\Temp\\ipykernel_18996\\3166345054.py:4: PerformanceWarning: DataFrame is highly fragmented.  This is usually the result of calling `frame.insert` many times, which has poor performance.  Consider joining all columns at once using pd.concat(axis=1) instead. To get a de-fragmented frame, use `newframe = frame.copy()`\n",
      "  amostras['Amostra_' + str(i)] = _\n",
      "C:\\Users\\Tiago\\AppData\\Local\\Temp\\ipykernel_18996\\3166345054.py:4: PerformanceWarning: DataFrame is highly fragmented.  This is usually the result of calling `frame.insert` many times, which has poor performance.  Consider joining all columns at once using pd.concat(axis=1) instead. To get a de-fragmented frame, use `newframe = frame.copy()`\n",
      "  amostras['Amostra_' + str(i)] = _\n",
      "C:\\Users\\Tiago\\AppData\\Local\\Temp\\ipykernel_18996\\3166345054.py:4: PerformanceWarning: DataFrame is highly fragmented.  This is usually the result of calling `frame.insert` many times, which has poor performance.  Consider joining all columns at once using pd.concat(axis=1) instead. To get a de-fragmented frame, use `newframe = frame.copy()`\n",
      "  amostras['Amostra_' + str(i)] = _\n",
      "C:\\Users\\Tiago\\AppData\\Local\\Temp\\ipykernel_18996\\3166345054.py:4: PerformanceWarning: DataFrame is highly fragmented.  This is usually the result of calling `frame.insert` many times, which has poor performance.  Consider joining all columns at once using pd.concat(axis=1) instead. To get a de-fragmented frame, use `newframe = frame.copy()`\n",
      "  amostras['Amostra_' + str(i)] = _\n",
      "C:\\Users\\Tiago\\AppData\\Local\\Temp\\ipykernel_18996\\3166345054.py:4: PerformanceWarning: DataFrame is highly fragmented.  This is usually the result of calling `frame.insert` many times, which has poor performance.  Consider joining all columns at once using pd.concat(axis=1) instead. To get a de-fragmented frame, use `newframe = frame.copy()`\n",
      "  amostras['Amostra_' + str(i)] = _\n",
      "C:\\Users\\Tiago\\AppData\\Local\\Temp\\ipykernel_18996\\3166345054.py:4: PerformanceWarning: DataFrame is highly fragmented.  This is usually the result of calling `frame.insert` many times, which has poor performance.  Consider joining all columns at once using pd.concat(axis=1) instead. To get a de-fragmented frame, use `newframe = frame.copy()`\n",
      "  amostras['Amostra_' + str(i)] = _\n",
      "C:\\Users\\Tiago\\AppData\\Local\\Temp\\ipykernel_18996\\3166345054.py:4: PerformanceWarning: DataFrame is highly fragmented.  This is usually the result of calling `frame.insert` many times, which has poor performance.  Consider joining all columns at once using pd.concat(axis=1) instead. To get a de-fragmented frame, use `newframe = frame.copy()`\n",
      "  amostras['Amostra_' + str(i)] = _\n",
      "C:\\Users\\Tiago\\AppData\\Local\\Temp\\ipykernel_18996\\3166345054.py:4: PerformanceWarning: DataFrame is highly fragmented.  This is usually the result of calling `frame.insert` many times, which has poor performance.  Consider joining all columns at once using pd.concat(axis=1) instead. To get a de-fragmented frame, use `newframe = frame.copy()`\n",
      "  amostras['Amostra_' + str(i)] = _\n",
      "C:\\Users\\Tiago\\AppData\\Local\\Temp\\ipykernel_18996\\3166345054.py:4: PerformanceWarning: DataFrame is highly fragmented.  This is usually the result of calling `frame.insert` many times, which has poor performance.  Consider joining all columns at once using pd.concat(axis=1) instead. To get a de-fragmented frame, use `newframe = frame.copy()`\n",
      "  amostras['Amostra_' + str(i)] = _\n",
      "C:\\Users\\Tiago\\AppData\\Local\\Temp\\ipykernel_18996\\3166345054.py:4: PerformanceWarning: DataFrame is highly fragmented.  This is usually the result of calling `frame.insert` many times, which has poor performance.  Consider joining all columns at once using pd.concat(axis=1) instead. To get a de-fragmented frame, use `newframe = frame.copy()`\n",
      "  amostras['Amostra_' + str(i)] = _\n",
      "C:\\Users\\Tiago\\AppData\\Local\\Temp\\ipykernel_18996\\3166345054.py:4: PerformanceWarning: DataFrame is highly fragmented.  This is usually the result of calling `frame.insert` many times, which has poor performance.  Consider joining all columns at once using pd.concat(axis=1) instead. To get a de-fragmented frame, use `newframe = frame.copy()`\n",
      "  amostras['Amostra_' + str(i)] = _\n",
      "C:\\Users\\Tiago\\AppData\\Local\\Temp\\ipykernel_18996\\3166345054.py:4: PerformanceWarning: DataFrame is highly fragmented.  This is usually the result of calling `frame.insert` many times, which has poor performance.  Consider joining all columns at once using pd.concat(axis=1) instead. To get a de-fragmented frame, use `newframe = frame.copy()`\n",
      "  amostras['Amostra_' + str(i)] = _\n",
      "C:\\Users\\Tiago\\AppData\\Local\\Temp\\ipykernel_18996\\3166345054.py:4: PerformanceWarning: DataFrame is highly fragmented.  This is usually the result of calling `frame.insert` many times, which has poor performance.  Consider joining all columns at once using pd.concat(axis=1) instead. To get a de-fragmented frame, use `newframe = frame.copy()`\n",
      "  amostras['Amostra_' + str(i)] = _\n",
      "C:\\Users\\Tiago\\AppData\\Local\\Temp\\ipykernel_18996\\3166345054.py:4: PerformanceWarning: DataFrame is highly fragmented.  This is usually the result of calling `frame.insert` many times, which has poor performance.  Consider joining all columns at once using pd.concat(axis=1) instead. To get a de-fragmented frame, use `newframe = frame.copy()`\n",
      "  amostras['Amostra_' + str(i)] = _\n",
      "C:\\Users\\Tiago\\AppData\\Local\\Temp\\ipykernel_18996\\3166345054.py:4: PerformanceWarning: DataFrame is highly fragmented.  This is usually the result of calling `frame.insert` many times, which has poor performance.  Consider joining all columns at once using pd.concat(axis=1) instead. To get a de-fragmented frame, use `newframe = frame.copy()`\n",
      "  amostras['Amostra_' + str(i)] = _\n",
      "C:\\Users\\Tiago\\AppData\\Local\\Temp\\ipykernel_18996\\3166345054.py:4: PerformanceWarning: DataFrame is highly fragmented.  This is usually the result of calling `frame.insert` many times, which has poor performance.  Consider joining all columns at once using pd.concat(axis=1) instead. To get a de-fragmented frame, use `newframe = frame.copy()`\n",
      "  amostras['Amostra_' + str(i)] = _\n",
      "C:\\Users\\Tiago\\AppData\\Local\\Temp\\ipykernel_18996\\3166345054.py:4: PerformanceWarning: DataFrame is highly fragmented.  This is usually the result of calling `frame.insert` many times, which has poor performance.  Consider joining all columns at once using pd.concat(axis=1) instead. To get a de-fragmented frame, use `newframe = frame.copy()`\n",
      "  amostras['Amostra_' + str(i)] = _\n",
      "C:\\Users\\Tiago\\AppData\\Local\\Temp\\ipykernel_18996\\3166345054.py:4: PerformanceWarning: DataFrame is highly fragmented.  This is usually the result of calling `frame.insert` many times, which has poor performance.  Consider joining all columns at once using pd.concat(axis=1) instead. To get a de-fragmented frame, use `newframe = frame.copy()`\n",
      "  amostras['Amostra_' + str(i)] = _\n",
      "C:\\Users\\Tiago\\AppData\\Local\\Temp\\ipykernel_18996\\3166345054.py:4: PerformanceWarning: DataFrame is highly fragmented.  This is usually the result of calling `frame.insert` many times, which has poor performance.  Consider joining all columns at once using pd.concat(axis=1) instead. To get a de-fragmented frame, use `newframe = frame.copy()`\n",
      "  amostras['Amostra_' + str(i)] = _\n",
      "C:\\Users\\Tiago\\AppData\\Local\\Temp\\ipykernel_18996\\3166345054.py:4: PerformanceWarning: DataFrame is highly fragmented.  This is usually the result of calling `frame.insert` many times, which has poor performance.  Consider joining all columns at once using pd.concat(axis=1) instead. To get a de-fragmented frame, use `newframe = frame.copy()`\n",
      "  amostras['Amostra_' + str(i)] = _\n",
      "C:\\Users\\Tiago\\AppData\\Local\\Temp\\ipykernel_18996\\3166345054.py:4: PerformanceWarning: DataFrame is highly fragmented.  This is usually the result of calling `frame.insert` many times, which has poor performance.  Consider joining all columns at once using pd.concat(axis=1) instead. To get a de-fragmented frame, use `newframe = frame.copy()`\n",
      "  amostras['Amostra_' + str(i)] = _\n",
      "C:\\Users\\Tiago\\AppData\\Local\\Temp\\ipykernel_18996\\3166345054.py:4: PerformanceWarning: DataFrame is highly fragmented.  This is usually the result of calling `frame.insert` many times, which has poor performance.  Consider joining all columns at once using pd.concat(axis=1) instead. To get a de-fragmented frame, use `newframe = frame.copy()`\n",
      "  amostras['Amostra_' + str(i)] = _\n",
      "C:\\Users\\Tiago\\AppData\\Local\\Temp\\ipykernel_18996\\3166345054.py:4: PerformanceWarning: DataFrame is highly fragmented.  This is usually the result of calling `frame.insert` many times, which has poor performance.  Consider joining all columns at once using pd.concat(axis=1) instead. To get a de-fragmented frame, use `newframe = frame.copy()`\n",
      "  amostras['Amostra_' + str(i)] = _\n",
      "C:\\Users\\Tiago\\AppData\\Local\\Temp\\ipykernel_18996\\3166345054.py:4: PerformanceWarning: DataFrame is highly fragmented.  This is usually the result of calling `frame.insert` many times, which has poor performance.  Consider joining all columns at once using pd.concat(axis=1) instead. To get a de-fragmented frame, use `newframe = frame.copy()`\n",
      "  amostras['Amostra_' + str(i)] = _\n",
      "C:\\Users\\Tiago\\AppData\\Local\\Temp\\ipykernel_18996\\3166345054.py:4: PerformanceWarning: DataFrame is highly fragmented.  This is usually the result of calling `frame.insert` many times, which has poor performance.  Consider joining all columns at once using pd.concat(axis=1) instead. To get a de-fragmented frame, use `newframe = frame.copy()`\n",
      "  amostras['Amostra_' + str(i)] = _\n",
      "C:\\Users\\Tiago\\AppData\\Local\\Temp\\ipykernel_18996\\3166345054.py:4: PerformanceWarning: DataFrame is highly fragmented.  This is usually the result of calling `frame.insert` many times, which has poor performance.  Consider joining all columns at once using pd.concat(axis=1) instead. To get a de-fragmented frame, use `newframe = frame.copy()`\n",
      "  amostras['Amostra_' + str(i)] = _\n",
      "C:\\Users\\Tiago\\AppData\\Local\\Temp\\ipykernel_18996\\3166345054.py:4: PerformanceWarning: DataFrame is highly fragmented.  This is usually the result of calling `frame.insert` many times, which has poor performance.  Consider joining all columns at once using pd.concat(axis=1) instead. To get a de-fragmented frame, use `newframe = frame.copy()`\n",
      "  amostras['Amostra_' + str(i)] = _\n",
      "C:\\Users\\Tiago\\AppData\\Local\\Temp\\ipykernel_18996\\3166345054.py:4: PerformanceWarning: DataFrame is highly fragmented.  This is usually the result of calling `frame.insert` many times, which has poor performance.  Consider joining all columns at once using pd.concat(axis=1) instead. To get a de-fragmented frame, use `newframe = frame.copy()`\n",
      "  amostras['Amostra_' + str(i)] = _\n",
      "C:\\Users\\Tiago\\AppData\\Local\\Temp\\ipykernel_18996\\3166345054.py:4: PerformanceWarning: DataFrame is highly fragmented.  This is usually the result of calling `frame.insert` many times, which has poor performance.  Consider joining all columns at once using pd.concat(axis=1) instead. To get a de-fragmented frame, use `newframe = frame.copy()`\n",
      "  amostras['Amostra_' + str(i)] = _\n",
      "C:\\Users\\Tiago\\AppData\\Local\\Temp\\ipykernel_18996\\3166345054.py:4: PerformanceWarning: DataFrame is highly fragmented.  This is usually the result of calling `frame.insert` many times, which has poor performance.  Consider joining all columns at once using pd.concat(axis=1) instead. To get a de-fragmented frame, use `newframe = frame.copy()`\n",
      "  amostras['Amostra_' + str(i)] = _\n",
      "C:\\Users\\Tiago\\AppData\\Local\\Temp\\ipykernel_18996\\3166345054.py:4: PerformanceWarning: DataFrame is highly fragmented.  This is usually the result of calling `frame.insert` many times, which has poor performance.  Consider joining all columns at once using pd.concat(axis=1) instead. To get a de-fragmented frame, use `newframe = frame.copy()`\n",
      "  amostras['Amostra_' + str(i)] = _\n",
      "C:\\Users\\Tiago\\AppData\\Local\\Temp\\ipykernel_18996\\3166345054.py:4: PerformanceWarning: DataFrame is highly fragmented.  This is usually the result of calling `frame.insert` many times, which has poor performance.  Consider joining all columns at once using pd.concat(axis=1) instead. To get a de-fragmented frame, use `newframe = frame.copy()`\n",
      "  amostras['Amostra_' + str(i)] = _\n",
      "C:\\Users\\Tiago\\AppData\\Local\\Temp\\ipykernel_18996\\3166345054.py:4: PerformanceWarning: DataFrame is highly fragmented.  This is usually the result of calling `frame.insert` many times, which has poor performance.  Consider joining all columns at once using pd.concat(axis=1) instead. To get a de-fragmented frame, use `newframe = frame.copy()`\n",
      "  amostras['Amostra_' + str(i)] = _\n",
      "C:\\Users\\Tiago\\AppData\\Local\\Temp\\ipykernel_18996\\3166345054.py:4: PerformanceWarning: DataFrame is highly fragmented.  This is usually the result of calling `frame.insert` many times, which has poor performance.  Consider joining all columns at once using pd.concat(axis=1) instead. To get a de-fragmented frame, use `newframe = frame.copy()`\n",
      "  amostras['Amostra_' + str(i)] = _\n",
      "C:\\Users\\Tiago\\AppData\\Local\\Temp\\ipykernel_18996\\3166345054.py:4: PerformanceWarning: DataFrame is highly fragmented.  This is usually the result of calling `frame.insert` many times, which has poor performance.  Consider joining all columns at once using pd.concat(axis=1) instead. To get a de-fragmented frame, use `newframe = frame.copy()`\n",
      "  amostras['Amostra_' + str(i)] = _\n",
      "C:\\Users\\Tiago\\AppData\\Local\\Temp\\ipykernel_18996\\3166345054.py:4: PerformanceWarning: DataFrame is highly fragmented.  This is usually the result of calling `frame.insert` many times, which has poor performance.  Consider joining all columns at once using pd.concat(axis=1) instead. To get a de-fragmented frame, use `newframe = frame.copy()`\n",
      "  amostras['Amostra_' + str(i)] = _\n",
      "C:\\Users\\Tiago\\AppData\\Local\\Temp\\ipykernel_18996\\3166345054.py:4: PerformanceWarning: DataFrame is highly fragmented.  This is usually the result of calling `frame.insert` many times, which has poor performance.  Consider joining all columns at once using pd.concat(axis=1) instead. To get a de-fragmented frame, use `newframe = frame.copy()`\n",
      "  amostras['Amostra_' + str(i)] = _\n",
      "C:\\Users\\Tiago\\AppData\\Local\\Temp\\ipykernel_18996\\3166345054.py:4: PerformanceWarning: DataFrame is highly fragmented.  This is usually the result of calling `frame.insert` many times, which has poor performance.  Consider joining all columns at once using pd.concat(axis=1) instead. To get a de-fragmented frame, use `newframe = frame.copy()`\n",
      "  amostras['Amostra_' + str(i)] = _\n",
      "C:\\Users\\Tiago\\AppData\\Local\\Temp\\ipykernel_18996\\3166345054.py:4: PerformanceWarning: DataFrame is highly fragmented.  This is usually the result of calling `frame.insert` many times, which has poor performance.  Consider joining all columns at once using pd.concat(axis=1) instead. To get a de-fragmented frame, use `newframe = frame.copy()`\n",
      "  amostras['Amostra_' + str(i)] = _\n",
      "C:\\Users\\Tiago\\AppData\\Local\\Temp\\ipykernel_18996\\3166345054.py:4: PerformanceWarning: DataFrame is highly fragmented.  This is usually the result of calling `frame.insert` many times, which has poor performance.  Consider joining all columns at once using pd.concat(axis=1) instead. To get a de-fragmented frame, use `newframe = frame.copy()`\n",
      "  amostras['Amostra_' + str(i)] = _\n",
      "C:\\Users\\Tiago\\AppData\\Local\\Temp\\ipykernel_18996\\3166345054.py:4: PerformanceWarning: DataFrame is highly fragmented.  This is usually the result of calling `frame.insert` many times, which has poor performance.  Consider joining all columns at once using pd.concat(axis=1) instead. To get a de-fragmented frame, use `newframe = frame.copy()`\n",
      "  amostras['Amostra_' + str(i)] = _\n",
      "C:\\Users\\Tiago\\AppData\\Local\\Temp\\ipykernel_18996\\3166345054.py:4: PerformanceWarning: DataFrame is highly fragmented.  This is usually the result of calling `frame.insert` many times, which has poor performance.  Consider joining all columns at once using pd.concat(axis=1) instead. To get a de-fragmented frame, use `newframe = frame.copy()`\n",
      "  amostras['Amostra_' + str(i)] = _\n",
      "C:\\Users\\Tiago\\AppData\\Local\\Temp\\ipykernel_18996\\3166345054.py:4: PerformanceWarning: DataFrame is highly fragmented.  This is usually the result of calling `frame.insert` many times, which has poor performance.  Consider joining all columns at once using pd.concat(axis=1) instead. To get a de-fragmented frame, use `newframe = frame.copy()`\n",
      "  amostras['Amostra_' + str(i)] = _\n",
      "C:\\Users\\Tiago\\AppData\\Local\\Temp\\ipykernel_18996\\3166345054.py:4: PerformanceWarning: DataFrame is highly fragmented.  This is usually the result of calling `frame.insert` many times, which has poor performance.  Consider joining all columns at once using pd.concat(axis=1) instead. To get a de-fragmented frame, use `newframe = frame.copy()`\n",
      "  amostras['Amostra_' + str(i)] = _\n",
      "C:\\Users\\Tiago\\AppData\\Local\\Temp\\ipykernel_18996\\3166345054.py:4: PerformanceWarning: DataFrame is highly fragmented.  This is usually the result of calling `frame.insert` many times, which has poor performance.  Consider joining all columns at once using pd.concat(axis=1) instead. To get a de-fragmented frame, use `newframe = frame.copy()`\n",
      "  amostras['Amostra_' + str(i)] = _\n",
      "C:\\Users\\Tiago\\AppData\\Local\\Temp\\ipykernel_18996\\3166345054.py:4: PerformanceWarning: DataFrame is highly fragmented.  This is usually the result of calling `frame.insert` many times, which has poor performance.  Consider joining all columns at once using pd.concat(axis=1) instead. To get a de-fragmented frame, use `newframe = frame.copy()`\n",
      "  amostras['Amostra_' + str(i)] = _\n",
      "C:\\Users\\Tiago\\AppData\\Local\\Temp\\ipykernel_18996\\3166345054.py:4: PerformanceWarning: DataFrame is highly fragmented.  This is usually the result of calling `frame.insert` many times, which has poor performance.  Consider joining all columns at once using pd.concat(axis=1) instead. To get a de-fragmented frame, use `newframe = frame.copy()`\n",
      "  amostras['Amostra_' + str(i)] = _\n",
      "C:\\Users\\Tiago\\AppData\\Local\\Temp\\ipykernel_18996\\3166345054.py:4: PerformanceWarning: DataFrame is highly fragmented.  This is usually the result of calling `frame.insert` many times, which has poor performance.  Consider joining all columns at once using pd.concat(axis=1) instead. To get a de-fragmented frame, use `newframe = frame.copy()`\n",
      "  amostras['Amostra_' + str(i)] = _\n",
      "C:\\Users\\Tiago\\AppData\\Local\\Temp\\ipykernel_18996\\3166345054.py:4: PerformanceWarning: DataFrame is highly fragmented.  This is usually the result of calling `frame.insert` many times, which has poor performance.  Consider joining all columns at once using pd.concat(axis=1) instead. To get a de-fragmented frame, use `newframe = frame.copy()`\n",
      "  amostras['Amostra_' + str(i)] = _\n",
      "C:\\Users\\Tiago\\AppData\\Local\\Temp\\ipykernel_18996\\3166345054.py:4: PerformanceWarning: DataFrame is highly fragmented.  This is usually the result of calling `frame.insert` many times, which has poor performance.  Consider joining all columns at once using pd.concat(axis=1) instead. To get a de-fragmented frame, use `newframe = frame.copy()`\n",
      "  amostras['Amostra_' + str(i)] = _\n",
      "C:\\Users\\Tiago\\AppData\\Local\\Temp\\ipykernel_18996\\3166345054.py:4: PerformanceWarning: DataFrame is highly fragmented.  This is usually the result of calling `frame.insert` many times, which has poor performance.  Consider joining all columns at once using pd.concat(axis=1) instead. To get a de-fragmented frame, use `newframe = frame.copy()`\n",
      "  amostras['Amostra_' + str(i)] = _\n",
      "C:\\Users\\Tiago\\AppData\\Local\\Temp\\ipykernel_18996\\3166345054.py:4: PerformanceWarning: DataFrame is highly fragmented.  This is usually the result of calling `frame.insert` many times, which has poor performance.  Consider joining all columns at once using pd.concat(axis=1) instead. To get a de-fragmented frame, use `newframe = frame.copy()`\n",
      "  amostras['Amostra_' + str(i)] = _\n",
      "C:\\Users\\Tiago\\AppData\\Local\\Temp\\ipykernel_18996\\3166345054.py:4: PerformanceWarning: DataFrame is highly fragmented.  This is usually the result of calling `frame.insert` many times, which has poor performance.  Consider joining all columns at once using pd.concat(axis=1) instead. To get a de-fragmented frame, use `newframe = frame.copy()`\n",
      "  amostras['Amostra_' + str(i)] = _\n",
      "C:\\Users\\Tiago\\AppData\\Local\\Temp\\ipykernel_18996\\3166345054.py:4: PerformanceWarning: DataFrame is highly fragmented.  This is usually the result of calling `frame.insert` many times, which has poor performance.  Consider joining all columns at once using pd.concat(axis=1) instead. To get a de-fragmented frame, use `newframe = frame.copy()`\n",
      "  amostras['Amostra_' + str(i)] = _\n",
      "C:\\Users\\Tiago\\AppData\\Local\\Temp\\ipykernel_18996\\3166345054.py:4: PerformanceWarning: DataFrame is highly fragmented.  This is usually the result of calling `frame.insert` many times, which has poor performance.  Consider joining all columns at once using pd.concat(axis=1) instead. To get a de-fragmented frame, use `newframe = frame.copy()`\n",
      "  amostras['Amostra_' + str(i)] = _\n",
      "C:\\Users\\Tiago\\AppData\\Local\\Temp\\ipykernel_18996\\3166345054.py:4: PerformanceWarning: DataFrame is highly fragmented.  This is usually the result of calling `frame.insert` many times, which has poor performance.  Consider joining all columns at once using pd.concat(axis=1) instead. To get a de-fragmented frame, use `newframe = frame.copy()`\n",
      "  amostras['Amostra_' + str(i)] = _\n",
      "C:\\Users\\Tiago\\AppData\\Local\\Temp\\ipykernel_18996\\3166345054.py:4: PerformanceWarning: DataFrame is highly fragmented.  This is usually the result of calling `frame.insert` many times, which has poor performance.  Consider joining all columns at once using pd.concat(axis=1) instead. To get a de-fragmented frame, use `newframe = frame.copy()`\n",
      "  amostras['Amostra_' + str(i)] = _\n",
      "C:\\Users\\Tiago\\AppData\\Local\\Temp\\ipykernel_18996\\3166345054.py:4: PerformanceWarning: DataFrame is highly fragmented.  This is usually the result of calling `frame.insert` many times, which has poor performance.  Consider joining all columns at once using pd.concat(axis=1) instead. To get a de-fragmented frame, use `newframe = frame.copy()`\n",
      "  amostras['Amostra_' + str(i)] = _\n",
      "C:\\Users\\Tiago\\AppData\\Local\\Temp\\ipykernel_18996\\3166345054.py:4: PerformanceWarning: DataFrame is highly fragmented.  This is usually the result of calling `frame.insert` many times, which has poor performance.  Consider joining all columns at once using pd.concat(axis=1) instead. To get a de-fragmented frame, use `newframe = frame.copy()`\n",
      "  amostras['Amostra_' + str(i)] = _\n",
      "C:\\Users\\Tiago\\AppData\\Local\\Temp\\ipykernel_18996\\3166345054.py:4: PerformanceWarning: DataFrame is highly fragmented.  This is usually the result of calling `frame.insert` many times, which has poor performance.  Consider joining all columns at once using pd.concat(axis=1) instead. To get a de-fragmented frame, use `newframe = frame.copy()`\n",
      "  amostras['Amostra_' + str(i)] = _\n",
      "C:\\Users\\Tiago\\AppData\\Local\\Temp\\ipykernel_18996\\3166345054.py:4: PerformanceWarning: DataFrame is highly fragmented.  This is usually the result of calling `frame.insert` many times, which has poor performance.  Consider joining all columns at once using pd.concat(axis=1) instead. To get a de-fragmented frame, use `newframe = frame.copy()`\n",
      "  amostras['Amostra_' + str(i)] = _\n",
      "C:\\Users\\Tiago\\AppData\\Local\\Temp\\ipykernel_18996\\3166345054.py:4: PerformanceWarning: DataFrame is highly fragmented.  This is usually the result of calling `frame.insert` many times, which has poor performance.  Consider joining all columns at once using pd.concat(axis=1) instead. To get a de-fragmented frame, use `newframe = frame.copy()`\n",
      "  amostras['Amostra_' + str(i)] = _\n",
      "C:\\Users\\Tiago\\AppData\\Local\\Temp\\ipykernel_18996\\3166345054.py:4: PerformanceWarning: DataFrame is highly fragmented.  This is usually the result of calling `frame.insert` many times, which has poor performance.  Consider joining all columns at once using pd.concat(axis=1) instead. To get a de-fragmented frame, use `newframe = frame.copy()`\n",
      "  amostras['Amostra_' + str(i)] = _\n",
      "C:\\Users\\Tiago\\AppData\\Local\\Temp\\ipykernel_18996\\3166345054.py:4: PerformanceWarning: DataFrame is highly fragmented.  This is usually the result of calling `frame.insert` many times, which has poor performance.  Consider joining all columns at once using pd.concat(axis=1) instead. To get a de-fragmented frame, use `newframe = frame.copy()`\n",
      "  amostras['Amostra_' + str(i)] = _\n",
      "C:\\Users\\Tiago\\AppData\\Local\\Temp\\ipykernel_18996\\3166345054.py:4: PerformanceWarning: DataFrame is highly fragmented.  This is usually the result of calling `frame.insert` many times, which has poor performance.  Consider joining all columns at once using pd.concat(axis=1) instead. To get a de-fragmented frame, use `newframe = frame.copy()`\n",
      "  amostras['Amostra_' + str(i)] = _\n",
      "C:\\Users\\Tiago\\AppData\\Local\\Temp\\ipykernel_18996\\3166345054.py:4: PerformanceWarning: DataFrame is highly fragmented.  This is usually the result of calling `frame.insert` many times, which has poor performance.  Consider joining all columns at once using pd.concat(axis=1) instead. To get a de-fragmented frame, use `newframe = frame.copy()`\n",
      "  amostras['Amostra_' + str(i)] = _\n",
      "C:\\Users\\Tiago\\AppData\\Local\\Temp\\ipykernel_18996\\3166345054.py:4: PerformanceWarning: DataFrame is highly fragmented.  This is usually the result of calling `frame.insert` many times, which has poor performance.  Consider joining all columns at once using pd.concat(axis=1) instead. To get a de-fragmented frame, use `newframe = frame.copy()`\n",
      "  amostras['Amostra_' + str(i)] = _\n",
      "C:\\Users\\Tiago\\AppData\\Local\\Temp\\ipykernel_18996\\3166345054.py:4: PerformanceWarning: DataFrame is highly fragmented.  This is usually the result of calling `frame.insert` many times, which has poor performance.  Consider joining all columns at once using pd.concat(axis=1) instead. To get a de-fragmented frame, use `newframe = frame.copy()`\n",
      "  amostras['Amostra_' + str(i)] = _\n",
      "C:\\Users\\Tiago\\AppData\\Local\\Temp\\ipykernel_18996\\3166345054.py:4: PerformanceWarning: DataFrame is highly fragmented.  This is usually the result of calling `frame.insert` many times, which has poor performance.  Consider joining all columns at once using pd.concat(axis=1) instead. To get a de-fragmented frame, use `newframe = frame.copy()`\n",
      "  amostras['Amostra_' + str(i)] = _\n",
      "C:\\Users\\Tiago\\AppData\\Local\\Temp\\ipykernel_18996\\3166345054.py:4: PerformanceWarning: DataFrame is highly fragmented.  This is usually the result of calling `frame.insert` many times, which has poor performance.  Consider joining all columns at once using pd.concat(axis=1) instead. To get a de-fragmented frame, use `newframe = frame.copy()`\n",
      "  amostras['Amostra_' + str(i)] = _\n",
      "C:\\Users\\Tiago\\AppData\\Local\\Temp\\ipykernel_18996\\3166345054.py:4: PerformanceWarning: DataFrame is highly fragmented.  This is usually the result of calling `frame.insert` many times, which has poor performance.  Consider joining all columns at once using pd.concat(axis=1) instead. To get a de-fragmented frame, use `newframe = frame.copy()`\n",
      "  amostras['Amostra_' + str(i)] = _\n",
      "C:\\Users\\Tiago\\AppData\\Local\\Temp\\ipykernel_18996\\3166345054.py:4: PerformanceWarning: DataFrame is highly fragmented.  This is usually the result of calling `frame.insert` many times, which has poor performance.  Consider joining all columns at once using pd.concat(axis=1) instead. To get a de-fragmented frame, use `newframe = frame.copy()`\n",
      "  amostras['Amostra_' + str(i)] = _\n",
      "C:\\Users\\Tiago\\AppData\\Local\\Temp\\ipykernel_18996\\3166345054.py:4: PerformanceWarning: DataFrame is highly fragmented.  This is usually the result of calling `frame.insert` many times, which has poor performance.  Consider joining all columns at once using pd.concat(axis=1) instead. To get a de-fragmented frame, use `newframe = frame.copy()`\n",
      "  amostras['Amostra_' + str(i)] = _\n",
      "C:\\Users\\Tiago\\AppData\\Local\\Temp\\ipykernel_18996\\3166345054.py:4: PerformanceWarning: DataFrame is highly fragmented.  This is usually the result of calling `frame.insert` many times, which has poor performance.  Consider joining all columns at once using pd.concat(axis=1) instead. To get a de-fragmented frame, use `newframe = frame.copy()`\n",
      "  amostras['Amostra_' + str(i)] = _\n",
      "C:\\Users\\Tiago\\AppData\\Local\\Temp\\ipykernel_18996\\3166345054.py:4: PerformanceWarning: DataFrame is highly fragmented.  This is usually the result of calling `frame.insert` many times, which has poor performance.  Consider joining all columns at once using pd.concat(axis=1) instead. To get a de-fragmented frame, use `newframe = frame.copy()`\n",
      "  amostras['Amostra_' + str(i)] = _\n",
      "C:\\Users\\Tiago\\AppData\\Local\\Temp\\ipykernel_18996\\3166345054.py:4: PerformanceWarning: DataFrame is highly fragmented.  This is usually the result of calling `frame.insert` many times, which has poor performance.  Consider joining all columns at once using pd.concat(axis=1) instead. To get a de-fragmented frame, use `newframe = frame.copy()`\n",
      "  amostras['Amostra_' + str(i)] = _\n",
      "C:\\Users\\Tiago\\AppData\\Local\\Temp\\ipykernel_18996\\3166345054.py:4: PerformanceWarning: DataFrame is highly fragmented.  This is usually the result of calling `frame.insert` many times, which has poor performance.  Consider joining all columns at once using pd.concat(axis=1) instead. To get a de-fragmented frame, use `newframe = frame.copy()`\n",
      "  amostras['Amostra_' + str(i)] = _\n",
      "C:\\Users\\Tiago\\AppData\\Local\\Temp\\ipykernel_18996\\3166345054.py:4: PerformanceWarning: DataFrame is highly fragmented.  This is usually the result of calling `frame.insert` many times, which has poor performance.  Consider joining all columns at once using pd.concat(axis=1) instead. To get a de-fragmented frame, use `newframe = frame.copy()`\n",
      "  amostras['Amostra_' + str(i)] = _\n",
      "C:\\Users\\Tiago\\AppData\\Local\\Temp\\ipykernel_18996\\3166345054.py:4: PerformanceWarning: DataFrame is highly fragmented.  This is usually the result of calling `frame.insert` many times, which has poor performance.  Consider joining all columns at once using pd.concat(axis=1) instead. To get a de-fragmented frame, use `newframe = frame.copy()`\n",
      "  amostras['Amostra_' + str(i)] = _\n",
      "C:\\Users\\Tiago\\AppData\\Local\\Temp\\ipykernel_18996\\3166345054.py:4: PerformanceWarning: DataFrame is highly fragmented.  This is usually the result of calling `frame.insert` many times, which has poor performance.  Consider joining all columns at once using pd.concat(axis=1) instead. To get a de-fragmented frame, use `newframe = frame.copy()`\n",
      "  amostras['Amostra_' + str(i)] = _\n",
      "C:\\Users\\Tiago\\AppData\\Local\\Temp\\ipykernel_18996\\3166345054.py:4: PerformanceWarning: DataFrame is highly fragmented.  This is usually the result of calling `frame.insert` many times, which has poor performance.  Consider joining all columns at once using pd.concat(axis=1) instead. To get a de-fragmented frame, use `newframe = frame.copy()`\n",
      "  amostras['Amostra_' + str(i)] = _\n",
      "C:\\Users\\Tiago\\AppData\\Local\\Temp\\ipykernel_18996\\3166345054.py:4: PerformanceWarning: DataFrame is highly fragmented.  This is usually the result of calling `frame.insert` many times, which has poor performance.  Consider joining all columns at once using pd.concat(axis=1) instead. To get a de-fragmented frame, use `newframe = frame.copy()`\n",
      "  amostras['Amostra_' + str(i)] = _\n",
      "C:\\Users\\Tiago\\AppData\\Local\\Temp\\ipykernel_18996\\3166345054.py:4: PerformanceWarning: DataFrame is highly fragmented.  This is usually the result of calling `frame.insert` many times, which has poor performance.  Consider joining all columns at once using pd.concat(axis=1) instead. To get a de-fragmented frame, use `newframe = frame.copy()`\n",
      "  amostras['Amostra_' + str(i)] = _\n",
      "C:\\Users\\Tiago\\AppData\\Local\\Temp\\ipykernel_18996\\3166345054.py:4: PerformanceWarning: DataFrame is highly fragmented.  This is usually the result of calling `frame.insert` many times, which has poor performance.  Consider joining all columns at once using pd.concat(axis=1) instead. To get a de-fragmented frame, use `newframe = frame.copy()`\n",
      "  amostras['Amostra_' + str(i)] = _\n",
      "C:\\Users\\Tiago\\AppData\\Local\\Temp\\ipykernel_18996\\3166345054.py:4: PerformanceWarning: DataFrame is highly fragmented.  This is usually the result of calling `frame.insert` many times, which has poor performance.  Consider joining all columns at once using pd.concat(axis=1) instead. To get a de-fragmented frame, use `newframe = frame.copy()`\n",
      "  amostras['Amostra_' + str(i)] = _\n",
      "C:\\Users\\Tiago\\AppData\\Local\\Temp\\ipykernel_18996\\3166345054.py:4: PerformanceWarning: DataFrame is highly fragmented.  This is usually the result of calling `frame.insert` many times, which has poor performance.  Consider joining all columns at once using pd.concat(axis=1) instead. To get a de-fragmented frame, use `newframe = frame.copy()`\n",
      "  amostras['Amostra_' + str(i)] = _\n",
      "C:\\Users\\Tiago\\AppData\\Local\\Temp\\ipykernel_18996\\3166345054.py:4: PerformanceWarning: DataFrame is highly fragmented.  This is usually the result of calling `frame.insert` many times, which has poor performance.  Consider joining all columns at once using pd.concat(axis=1) instead. To get a de-fragmented frame, use `newframe = frame.copy()`\n",
      "  amostras['Amostra_' + str(i)] = _\n",
      "C:\\Users\\Tiago\\AppData\\Local\\Temp\\ipykernel_18996\\3166345054.py:4: PerformanceWarning: DataFrame is highly fragmented.  This is usually the result of calling `frame.insert` many times, which has poor performance.  Consider joining all columns at once using pd.concat(axis=1) instead. To get a de-fragmented frame, use `newframe = frame.copy()`\n",
      "  amostras['Amostra_' + str(i)] = _\n",
      "C:\\Users\\Tiago\\AppData\\Local\\Temp\\ipykernel_18996\\3166345054.py:4: PerformanceWarning: DataFrame is highly fragmented.  This is usually the result of calling `frame.insert` many times, which has poor performance.  Consider joining all columns at once using pd.concat(axis=1) instead. To get a de-fragmented frame, use `newframe = frame.copy()`\n",
      "  amostras['Amostra_' + str(i)] = _\n",
      "C:\\Users\\Tiago\\AppData\\Local\\Temp\\ipykernel_18996\\3166345054.py:4: PerformanceWarning: DataFrame is highly fragmented.  This is usually the result of calling `frame.insert` many times, which has poor performance.  Consider joining all columns at once using pd.concat(axis=1) instead. To get a de-fragmented frame, use `newframe = frame.copy()`\n",
      "  amostras['Amostra_' + str(i)] = _\n",
      "C:\\Users\\Tiago\\AppData\\Local\\Temp\\ipykernel_18996\\3166345054.py:4: PerformanceWarning: DataFrame is highly fragmented.  This is usually the result of calling `frame.insert` many times, which has poor performance.  Consider joining all columns at once using pd.concat(axis=1) instead. To get a de-fragmented frame, use `newframe = frame.copy()`\n",
      "  amostras['Amostra_' + str(i)] = _\n",
      "C:\\Users\\Tiago\\AppData\\Local\\Temp\\ipykernel_18996\\3166345054.py:4: PerformanceWarning: DataFrame is highly fragmented.  This is usually the result of calling `frame.insert` many times, which has poor performance.  Consider joining all columns at once using pd.concat(axis=1) instead. To get a de-fragmented frame, use `newframe = frame.copy()`\n",
      "  amostras['Amostra_' + str(i)] = _\n",
      "C:\\Users\\Tiago\\AppData\\Local\\Temp\\ipykernel_18996\\3166345054.py:4: PerformanceWarning: DataFrame is highly fragmented.  This is usually the result of calling `frame.insert` many times, which has poor performance.  Consider joining all columns at once using pd.concat(axis=1) instead. To get a de-fragmented frame, use `newframe = frame.copy()`\n",
      "  amostras['Amostra_' + str(i)] = _\n",
      "C:\\Users\\Tiago\\AppData\\Local\\Temp\\ipykernel_18996\\3166345054.py:4: PerformanceWarning: DataFrame is highly fragmented.  This is usually the result of calling `frame.insert` many times, which has poor performance.  Consider joining all columns at once using pd.concat(axis=1) instead. To get a de-fragmented frame, use `newframe = frame.copy()`\n",
      "  amostras['Amostra_' + str(i)] = _\n",
      "C:\\Users\\Tiago\\AppData\\Local\\Temp\\ipykernel_18996\\3166345054.py:4: PerformanceWarning: DataFrame is highly fragmented.  This is usually the result of calling `frame.insert` many times, which has poor performance.  Consider joining all columns at once using pd.concat(axis=1) instead. To get a de-fragmented frame, use `newframe = frame.copy()`\n",
      "  amostras['Amostra_' + str(i)] = _\n",
      "C:\\Users\\Tiago\\AppData\\Local\\Temp\\ipykernel_18996\\3166345054.py:4: PerformanceWarning: DataFrame is highly fragmented.  This is usually the result of calling `frame.insert` many times, which has poor performance.  Consider joining all columns at once using pd.concat(axis=1) instead. To get a de-fragmented frame, use `newframe = frame.copy()`\n",
      "  amostras['Amostra_' + str(i)] = _\n",
      "C:\\Users\\Tiago\\AppData\\Local\\Temp\\ipykernel_18996\\3166345054.py:4: PerformanceWarning: DataFrame is highly fragmented.  This is usually the result of calling `frame.insert` many times, which has poor performance.  Consider joining all columns at once using pd.concat(axis=1) instead. To get a de-fragmented frame, use `newframe = frame.copy()`\n",
      "  amostras['Amostra_' + str(i)] = _\n",
      "C:\\Users\\Tiago\\AppData\\Local\\Temp\\ipykernel_18996\\3166345054.py:4: PerformanceWarning: DataFrame is highly fragmented.  This is usually the result of calling `frame.insert` many times, which has poor performance.  Consider joining all columns at once using pd.concat(axis=1) instead. To get a de-fragmented frame, use `newframe = frame.copy()`\n",
      "  amostras['Amostra_' + str(i)] = _\n",
      "C:\\Users\\Tiago\\AppData\\Local\\Temp\\ipykernel_18996\\3166345054.py:4: PerformanceWarning: DataFrame is highly fragmented.  This is usually the result of calling `frame.insert` many times, which has poor performance.  Consider joining all columns at once using pd.concat(axis=1) instead. To get a de-fragmented frame, use `newframe = frame.copy()`\n",
      "  amostras['Amostra_' + str(i)] = _\n",
      "C:\\Users\\Tiago\\AppData\\Local\\Temp\\ipykernel_18996\\3166345054.py:4: PerformanceWarning: DataFrame is highly fragmented.  This is usually the result of calling `frame.insert` many times, which has poor performance.  Consider joining all columns at once using pd.concat(axis=1) instead. To get a de-fragmented frame, use `newframe = frame.copy()`\n",
      "  amostras['Amostra_' + str(i)] = _\n",
      "C:\\Users\\Tiago\\AppData\\Local\\Temp\\ipykernel_18996\\3166345054.py:4: PerformanceWarning: DataFrame is highly fragmented.  This is usually the result of calling `frame.insert` many times, which has poor performance.  Consider joining all columns at once using pd.concat(axis=1) instead. To get a de-fragmented frame, use `newframe = frame.copy()`\n",
      "  amostras['Amostra_' + str(i)] = _\n",
      "C:\\Users\\Tiago\\AppData\\Local\\Temp\\ipykernel_18996\\3166345054.py:4: PerformanceWarning: DataFrame is highly fragmented.  This is usually the result of calling `frame.insert` many times, which has poor performance.  Consider joining all columns at once using pd.concat(axis=1) instead. To get a de-fragmented frame, use `newframe = frame.copy()`\n",
      "  amostras['Amostra_' + str(i)] = _\n",
      "C:\\Users\\Tiago\\AppData\\Local\\Temp\\ipykernel_18996\\3166345054.py:4: PerformanceWarning: DataFrame is highly fragmented.  This is usually the result of calling `frame.insert` many times, which has poor performance.  Consider joining all columns at once using pd.concat(axis=1) instead. To get a de-fragmented frame, use `newframe = frame.copy()`\n",
      "  amostras['Amostra_' + str(i)] = _\n",
      "C:\\Users\\Tiago\\AppData\\Local\\Temp\\ipykernel_18996\\3166345054.py:4: PerformanceWarning: DataFrame is highly fragmented.  This is usually the result of calling `frame.insert` many times, which has poor performance.  Consider joining all columns at once using pd.concat(axis=1) instead. To get a de-fragmented frame, use `newframe = frame.copy()`\n",
      "  amostras['Amostra_' + str(i)] = _\n",
      "C:\\Users\\Tiago\\AppData\\Local\\Temp\\ipykernel_18996\\3166345054.py:4: PerformanceWarning: DataFrame is highly fragmented.  This is usually the result of calling `frame.insert` many times, which has poor performance.  Consider joining all columns at once using pd.concat(axis=1) instead. To get a de-fragmented frame, use `newframe = frame.copy()`\n",
      "  amostras['Amostra_' + str(i)] = _\n",
      "C:\\Users\\Tiago\\AppData\\Local\\Temp\\ipykernel_18996\\3166345054.py:4: PerformanceWarning: DataFrame is highly fragmented.  This is usually the result of calling `frame.insert` many times, which has poor performance.  Consider joining all columns at once using pd.concat(axis=1) instead. To get a de-fragmented frame, use `newframe = frame.copy()`\n",
      "  amostras['Amostra_' + str(i)] = _\n",
      "C:\\Users\\Tiago\\AppData\\Local\\Temp\\ipykernel_18996\\3166345054.py:4: PerformanceWarning: DataFrame is highly fragmented.  This is usually the result of calling `frame.insert` many times, which has poor performance.  Consider joining all columns at once using pd.concat(axis=1) instead. To get a de-fragmented frame, use `newframe = frame.copy()`\n",
      "  amostras['Amostra_' + str(i)] = _\n",
      "C:\\Users\\Tiago\\AppData\\Local\\Temp\\ipykernel_18996\\3166345054.py:4: PerformanceWarning: DataFrame is highly fragmented.  This is usually the result of calling `frame.insert` many times, which has poor performance.  Consider joining all columns at once using pd.concat(axis=1) instead. To get a de-fragmented frame, use `newframe = frame.copy()`\n",
      "  amostras['Amostra_' + str(i)] = _\n",
      "C:\\Users\\Tiago\\AppData\\Local\\Temp\\ipykernel_18996\\3166345054.py:4: PerformanceWarning: DataFrame is highly fragmented.  This is usually the result of calling `frame.insert` many times, which has poor performance.  Consider joining all columns at once using pd.concat(axis=1) instead. To get a de-fragmented frame, use `newframe = frame.copy()`\n",
      "  amostras['Amostra_' + str(i)] = _\n",
      "C:\\Users\\Tiago\\AppData\\Local\\Temp\\ipykernel_18996\\3166345054.py:4: PerformanceWarning: DataFrame is highly fragmented.  This is usually the result of calling `frame.insert` many times, which has poor performance.  Consider joining all columns at once using pd.concat(axis=1) instead. To get a de-fragmented frame, use `newframe = frame.copy()`\n",
      "  amostras['Amostra_' + str(i)] = _\n",
      "C:\\Users\\Tiago\\AppData\\Local\\Temp\\ipykernel_18996\\3166345054.py:4: PerformanceWarning: DataFrame is highly fragmented.  This is usually the result of calling `frame.insert` many times, which has poor performance.  Consider joining all columns at once using pd.concat(axis=1) instead. To get a de-fragmented frame, use `newframe = frame.copy()`\n",
      "  amostras['Amostra_' + str(i)] = _\n",
      "C:\\Users\\Tiago\\AppData\\Local\\Temp\\ipykernel_18996\\3166345054.py:4: PerformanceWarning: DataFrame is highly fragmented.  This is usually the result of calling `frame.insert` many times, which has poor performance.  Consider joining all columns at once using pd.concat(axis=1) instead. To get a de-fragmented frame, use `newframe = frame.copy()`\n",
      "  amostras['Amostra_' + str(i)] = _\n",
      "C:\\Users\\Tiago\\AppData\\Local\\Temp\\ipykernel_18996\\3166345054.py:4: PerformanceWarning: DataFrame is highly fragmented.  This is usually the result of calling `frame.insert` many times, which has poor performance.  Consider joining all columns at once using pd.concat(axis=1) instead. To get a de-fragmented frame, use `newframe = frame.copy()`\n",
      "  amostras['Amostra_' + str(i)] = _\n",
      "C:\\Users\\Tiago\\AppData\\Local\\Temp\\ipykernel_18996\\3166345054.py:4: PerformanceWarning: DataFrame is highly fragmented.  This is usually the result of calling `frame.insert` many times, which has poor performance.  Consider joining all columns at once using pd.concat(axis=1) instead. To get a de-fragmented frame, use `newframe = frame.copy()`\n",
      "  amostras['Amostra_' + str(i)] = _\n",
      "C:\\Users\\Tiago\\AppData\\Local\\Temp\\ipykernel_18996\\3166345054.py:4: PerformanceWarning: DataFrame is highly fragmented.  This is usually the result of calling `frame.insert` many times, which has poor performance.  Consider joining all columns at once using pd.concat(axis=1) instead. To get a de-fragmented frame, use `newframe = frame.copy()`\n",
      "  amostras['Amostra_' + str(i)] = _\n",
      "C:\\Users\\Tiago\\AppData\\Local\\Temp\\ipykernel_18996\\3166345054.py:4: PerformanceWarning: DataFrame is highly fragmented.  This is usually the result of calling `frame.insert` many times, which has poor performance.  Consider joining all columns at once using pd.concat(axis=1) instead. To get a de-fragmented frame, use `newframe = frame.copy()`\n",
      "  amostras['Amostra_' + str(i)] = _\n",
      "C:\\Users\\Tiago\\AppData\\Local\\Temp\\ipykernel_18996\\3166345054.py:4: PerformanceWarning: DataFrame is highly fragmented.  This is usually the result of calling `frame.insert` many times, which has poor performance.  Consider joining all columns at once using pd.concat(axis=1) instead. To get a de-fragmented frame, use `newframe = frame.copy()`\n",
      "  amostras['Amostra_' + str(i)] = _\n",
      "C:\\Users\\Tiago\\AppData\\Local\\Temp\\ipykernel_18996\\3166345054.py:4: PerformanceWarning: DataFrame is highly fragmented.  This is usually the result of calling `frame.insert` many times, which has poor performance.  Consider joining all columns at once using pd.concat(axis=1) instead. To get a de-fragmented frame, use `newframe = frame.copy()`\n",
      "  amostras['Amostra_' + str(i)] = _\n",
      "C:\\Users\\Tiago\\AppData\\Local\\Temp\\ipykernel_18996\\3166345054.py:4: PerformanceWarning: DataFrame is highly fragmented.  This is usually the result of calling `frame.insert` many times, which has poor performance.  Consider joining all columns at once using pd.concat(axis=1) instead. To get a de-fragmented frame, use `newframe = frame.copy()`\n",
      "  amostras['Amostra_' + str(i)] = _\n",
      "C:\\Users\\Tiago\\AppData\\Local\\Temp\\ipykernel_18996\\3166345054.py:4: PerformanceWarning: DataFrame is highly fragmented.  This is usually the result of calling `frame.insert` many times, which has poor performance.  Consider joining all columns at once using pd.concat(axis=1) instead. To get a de-fragmented frame, use `newframe = frame.copy()`\n",
      "  amostras['Amostra_' + str(i)] = _\n",
      "C:\\Users\\Tiago\\AppData\\Local\\Temp\\ipykernel_18996\\3166345054.py:4: PerformanceWarning: DataFrame is highly fragmented.  This is usually the result of calling `frame.insert` many times, which has poor performance.  Consider joining all columns at once using pd.concat(axis=1) instead. To get a de-fragmented frame, use `newframe = frame.copy()`\n",
      "  amostras['Amostra_' + str(i)] = _\n",
      "C:\\Users\\Tiago\\AppData\\Local\\Temp\\ipykernel_18996\\3166345054.py:4: PerformanceWarning: DataFrame is highly fragmented.  This is usually the result of calling `frame.insert` many times, which has poor performance.  Consider joining all columns at once using pd.concat(axis=1) instead. To get a de-fragmented frame, use `newframe = frame.copy()`\n",
      "  amostras['Amostra_' + str(i)] = _\n",
      "C:\\Users\\Tiago\\AppData\\Local\\Temp\\ipykernel_18996\\3166345054.py:4: PerformanceWarning: DataFrame is highly fragmented.  This is usually the result of calling `frame.insert` many times, which has poor performance.  Consider joining all columns at once using pd.concat(axis=1) instead. To get a de-fragmented frame, use `newframe = frame.copy()`\n",
      "  amostras['Amostra_' + str(i)] = _\n",
      "C:\\Users\\Tiago\\AppData\\Local\\Temp\\ipykernel_18996\\3166345054.py:4: PerformanceWarning: DataFrame is highly fragmented.  This is usually the result of calling `frame.insert` many times, which has poor performance.  Consider joining all columns at once using pd.concat(axis=1) instead. To get a de-fragmented frame, use `newframe = frame.copy()`\n",
      "  amostras['Amostra_' + str(i)] = _\n",
      "C:\\Users\\Tiago\\AppData\\Local\\Temp\\ipykernel_18996\\3166345054.py:4: PerformanceWarning: DataFrame is highly fragmented.  This is usually the result of calling `frame.insert` many times, which has poor performance.  Consider joining all columns at once using pd.concat(axis=1) instead. To get a de-fragmented frame, use `newframe = frame.copy()`\n",
      "  amostras['Amostra_' + str(i)] = _\n",
      "C:\\Users\\Tiago\\AppData\\Local\\Temp\\ipykernel_18996\\3166345054.py:4: PerformanceWarning: DataFrame is highly fragmented.  This is usually the result of calling `frame.insert` many times, which has poor performance.  Consider joining all columns at once using pd.concat(axis=1) instead. To get a de-fragmented frame, use `newframe = frame.copy()`\n",
      "  amostras['Amostra_' + str(i)] = _\n",
      "C:\\Users\\Tiago\\AppData\\Local\\Temp\\ipykernel_18996\\3166345054.py:4: PerformanceWarning: DataFrame is highly fragmented.  This is usually the result of calling `frame.insert` many times, which has poor performance.  Consider joining all columns at once using pd.concat(axis=1) instead. To get a de-fragmented frame, use `newframe = frame.copy()`\n",
      "  amostras['Amostra_' + str(i)] = _\n",
      "C:\\Users\\Tiago\\AppData\\Local\\Temp\\ipykernel_18996\\3166345054.py:4: PerformanceWarning: DataFrame is highly fragmented.  This is usually the result of calling `frame.insert` many times, which has poor performance.  Consider joining all columns at once using pd.concat(axis=1) instead. To get a de-fragmented frame, use `newframe = frame.copy()`\n",
      "  amostras['Amostra_' + str(i)] = _\n",
      "C:\\Users\\Tiago\\AppData\\Local\\Temp\\ipykernel_18996\\3166345054.py:4: PerformanceWarning: DataFrame is highly fragmented.  This is usually the result of calling `frame.insert` many times, which has poor performance.  Consider joining all columns at once using pd.concat(axis=1) instead. To get a de-fragmented frame, use `newframe = frame.copy()`\n",
      "  amostras['Amostra_' + str(i)] = _\n",
      "C:\\Users\\Tiago\\AppData\\Local\\Temp\\ipykernel_18996\\3166345054.py:4: PerformanceWarning: DataFrame is highly fragmented.  This is usually the result of calling `frame.insert` many times, which has poor performance.  Consider joining all columns at once using pd.concat(axis=1) instead. To get a de-fragmented frame, use `newframe = frame.copy()`\n",
      "  amostras['Amostra_' + str(i)] = _\n",
      "C:\\Users\\Tiago\\AppData\\Local\\Temp\\ipykernel_18996\\3166345054.py:4: PerformanceWarning: DataFrame is highly fragmented.  This is usually the result of calling `frame.insert` many times, which has poor performance.  Consider joining all columns at once using pd.concat(axis=1) instead. To get a de-fragmented frame, use `newframe = frame.copy()`\n",
      "  amostras['Amostra_' + str(i)] = _\n",
      "C:\\Users\\Tiago\\AppData\\Local\\Temp\\ipykernel_18996\\3166345054.py:4: PerformanceWarning: DataFrame is highly fragmented.  This is usually the result of calling `frame.insert` many times, which has poor performance.  Consider joining all columns at once using pd.concat(axis=1) instead. To get a de-fragmented frame, use `newframe = frame.copy()`\n",
      "  amostras['Amostra_' + str(i)] = _\n",
      "C:\\Users\\Tiago\\AppData\\Local\\Temp\\ipykernel_18996\\3166345054.py:4: PerformanceWarning: DataFrame is highly fragmented.  This is usually the result of calling `frame.insert` many times, which has poor performance.  Consider joining all columns at once using pd.concat(axis=1) instead. To get a de-fragmented frame, use `newframe = frame.copy()`\n",
      "  amostras['Amostra_' + str(i)] = _\n",
      "C:\\Users\\Tiago\\AppData\\Local\\Temp\\ipykernel_18996\\3166345054.py:4: PerformanceWarning: DataFrame is highly fragmented.  This is usually the result of calling `frame.insert` many times, which has poor performance.  Consider joining all columns at once using pd.concat(axis=1) instead. To get a de-fragmented frame, use `newframe = frame.copy()`\n",
      "  amostras['Amostra_' + str(i)] = _\n",
      "C:\\Users\\Tiago\\AppData\\Local\\Temp\\ipykernel_18996\\3166345054.py:4: PerformanceWarning: DataFrame is highly fragmented.  This is usually the result of calling `frame.insert` many times, which has poor performance.  Consider joining all columns at once using pd.concat(axis=1) instead. To get a de-fragmented frame, use `newframe = frame.copy()`\n",
      "  amostras['Amostra_' + str(i)] = _\n",
      "C:\\Users\\Tiago\\AppData\\Local\\Temp\\ipykernel_18996\\3166345054.py:4: PerformanceWarning: DataFrame is highly fragmented.  This is usually the result of calling `frame.insert` many times, which has poor performance.  Consider joining all columns at once using pd.concat(axis=1) instead. To get a de-fragmented frame, use `newframe = frame.copy()`\n",
      "  amostras['Amostra_' + str(i)] = _\n",
      "C:\\Users\\Tiago\\AppData\\Local\\Temp\\ipykernel_18996\\3166345054.py:4: PerformanceWarning: DataFrame is highly fragmented.  This is usually the result of calling `frame.insert` many times, which has poor performance.  Consider joining all columns at once using pd.concat(axis=1) instead. To get a de-fragmented frame, use `newframe = frame.copy()`\n",
      "  amostras['Amostra_' + str(i)] = _\n",
      "C:\\Users\\Tiago\\AppData\\Local\\Temp\\ipykernel_18996\\3166345054.py:4: PerformanceWarning: DataFrame is highly fragmented.  This is usually the result of calling `frame.insert` many times, which has poor performance.  Consider joining all columns at once using pd.concat(axis=1) instead. To get a de-fragmented frame, use `newframe = frame.copy()`\n",
      "  amostras['Amostra_' + str(i)] = _\n",
      "C:\\Users\\Tiago\\AppData\\Local\\Temp\\ipykernel_18996\\3166345054.py:4: PerformanceWarning: DataFrame is highly fragmented.  This is usually the result of calling `frame.insert` many times, which has poor performance.  Consider joining all columns at once using pd.concat(axis=1) instead. To get a de-fragmented frame, use `newframe = frame.copy()`\n",
      "  amostras['Amostra_' + str(i)] = _\n",
      "C:\\Users\\Tiago\\AppData\\Local\\Temp\\ipykernel_18996\\3166345054.py:4: PerformanceWarning: DataFrame is highly fragmented.  This is usually the result of calling `frame.insert` many times, which has poor performance.  Consider joining all columns at once using pd.concat(axis=1) instead. To get a de-fragmented frame, use `newframe = frame.copy()`\n",
      "  amostras['Amostra_' + str(i)] = _\n",
      "C:\\Users\\Tiago\\AppData\\Local\\Temp\\ipykernel_18996\\3166345054.py:4: PerformanceWarning: DataFrame is highly fragmented.  This is usually the result of calling `frame.insert` many times, which has poor performance.  Consider joining all columns at once using pd.concat(axis=1) instead. To get a de-fragmented frame, use `newframe = frame.copy()`\n",
      "  amostras['Amostra_' + str(i)] = _\n",
      "C:\\Users\\Tiago\\AppData\\Local\\Temp\\ipykernel_18996\\3166345054.py:4: PerformanceWarning: DataFrame is highly fragmented.  This is usually the result of calling `frame.insert` many times, which has poor performance.  Consider joining all columns at once using pd.concat(axis=1) instead. To get a de-fragmented frame, use `newframe = frame.copy()`\n",
      "  amostras['Amostra_' + str(i)] = _\n",
      "C:\\Users\\Tiago\\AppData\\Local\\Temp\\ipykernel_18996\\3166345054.py:4: PerformanceWarning: DataFrame is highly fragmented.  This is usually the result of calling `frame.insert` many times, which has poor performance.  Consider joining all columns at once using pd.concat(axis=1) instead. To get a de-fragmented frame, use `newframe = frame.copy()`\n",
      "  amostras['Amostra_' + str(i)] = _\n",
      "C:\\Users\\Tiago\\AppData\\Local\\Temp\\ipykernel_18996\\3166345054.py:4: PerformanceWarning: DataFrame is highly fragmented.  This is usually the result of calling `frame.insert` many times, which has poor performance.  Consider joining all columns at once using pd.concat(axis=1) instead. To get a de-fragmented frame, use `newframe = frame.copy()`\n",
      "  amostras['Amostra_' + str(i)] = _\n",
      "C:\\Users\\Tiago\\AppData\\Local\\Temp\\ipykernel_18996\\3166345054.py:4: PerformanceWarning: DataFrame is highly fragmented.  This is usually the result of calling `frame.insert` many times, which has poor performance.  Consider joining all columns at once using pd.concat(axis=1) instead. To get a de-fragmented frame, use `newframe = frame.copy()`\n",
      "  amostras['Amostra_' + str(i)] = _\n",
      "C:\\Users\\Tiago\\AppData\\Local\\Temp\\ipykernel_18996\\3166345054.py:4: PerformanceWarning: DataFrame is highly fragmented.  This is usually the result of calling `frame.insert` many times, which has poor performance.  Consider joining all columns at once using pd.concat(axis=1) instead. To get a de-fragmented frame, use `newframe = frame.copy()`\n",
      "  amostras['Amostra_' + str(i)] = _\n",
      "C:\\Users\\Tiago\\AppData\\Local\\Temp\\ipykernel_18996\\3166345054.py:4: PerformanceWarning: DataFrame is highly fragmented.  This is usually the result of calling `frame.insert` many times, which has poor performance.  Consider joining all columns at once using pd.concat(axis=1) instead. To get a de-fragmented frame, use `newframe = frame.copy()`\n",
      "  amostras['Amostra_' + str(i)] = _\n",
      "C:\\Users\\Tiago\\AppData\\Local\\Temp\\ipykernel_18996\\3166345054.py:4: PerformanceWarning: DataFrame is highly fragmented.  This is usually the result of calling `frame.insert` many times, which has poor performance.  Consider joining all columns at once using pd.concat(axis=1) instead. To get a de-fragmented frame, use `newframe = frame.copy()`\n",
      "  amostras['Amostra_' + str(i)] = _\n",
      "C:\\Users\\Tiago\\AppData\\Local\\Temp\\ipykernel_18996\\3166345054.py:4: PerformanceWarning: DataFrame is highly fragmented.  This is usually the result of calling `frame.insert` many times, which has poor performance.  Consider joining all columns at once using pd.concat(axis=1) instead. To get a de-fragmented frame, use `newframe = frame.copy()`\n",
      "  amostras['Amostra_' + str(i)] = _\n",
      "C:\\Users\\Tiago\\AppData\\Local\\Temp\\ipykernel_18996\\3166345054.py:4: PerformanceWarning: DataFrame is highly fragmented.  This is usually the result of calling `frame.insert` many times, which has poor performance.  Consider joining all columns at once using pd.concat(axis=1) instead. To get a de-fragmented frame, use `newframe = frame.copy()`\n",
      "  amostras['Amostra_' + str(i)] = _\n",
      "C:\\Users\\Tiago\\AppData\\Local\\Temp\\ipykernel_18996\\3166345054.py:4: PerformanceWarning: DataFrame is highly fragmented.  This is usually the result of calling `frame.insert` many times, which has poor performance.  Consider joining all columns at once using pd.concat(axis=1) instead. To get a de-fragmented frame, use `newframe = frame.copy()`\n",
      "  amostras['Amostra_' + str(i)] = _\n",
      "C:\\Users\\Tiago\\AppData\\Local\\Temp\\ipykernel_18996\\3166345054.py:4: PerformanceWarning: DataFrame is highly fragmented.  This is usually the result of calling `frame.insert` many times, which has poor performance.  Consider joining all columns at once using pd.concat(axis=1) instead. To get a de-fragmented frame, use `newframe = frame.copy()`\n",
      "  amostras['Amostra_' + str(i)] = _\n",
      "C:\\Users\\Tiago\\AppData\\Local\\Temp\\ipykernel_18996\\3166345054.py:4: PerformanceWarning: DataFrame is highly fragmented.  This is usually the result of calling `frame.insert` many times, which has poor performance.  Consider joining all columns at once using pd.concat(axis=1) instead. To get a de-fragmented frame, use `newframe = frame.copy()`\n",
      "  amostras['Amostra_' + str(i)] = _\n",
      "C:\\Users\\Tiago\\AppData\\Local\\Temp\\ipykernel_18996\\3166345054.py:4: PerformanceWarning: DataFrame is highly fragmented.  This is usually the result of calling `frame.insert` many times, which has poor performance.  Consider joining all columns at once using pd.concat(axis=1) instead. To get a de-fragmented frame, use `newframe = frame.copy()`\n",
      "  amostras['Amostra_' + str(i)] = _\n",
      "C:\\Users\\Tiago\\AppData\\Local\\Temp\\ipykernel_18996\\3166345054.py:4: PerformanceWarning: DataFrame is highly fragmented.  This is usually the result of calling `frame.insert` many times, which has poor performance.  Consider joining all columns at once using pd.concat(axis=1) instead. To get a de-fragmented frame, use `newframe = frame.copy()`\n",
      "  amostras['Amostra_' + str(i)] = _\n",
      "C:\\Users\\Tiago\\AppData\\Local\\Temp\\ipykernel_18996\\3166345054.py:4: PerformanceWarning: DataFrame is highly fragmented.  This is usually the result of calling `frame.insert` many times, which has poor performance.  Consider joining all columns at once using pd.concat(axis=1) instead. To get a de-fragmented frame, use `newframe = frame.copy()`\n",
      "  amostras['Amostra_' + str(i)] = _\n",
      "C:\\Users\\Tiago\\AppData\\Local\\Temp\\ipykernel_18996\\3166345054.py:4: PerformanceWarning: DataFrame is highly fragmented.  This is usually the result of calling `frame.insert` many times, which has poor performance.  Consider joining all columns at once using pd.concat(axis=1) instead. To get a de-fragmented frame, use `newframe = frame.copy()`\n",
      "  amostras['Amostra_' + str(i)] = _\n",
      "C:\\Users\\Tiago\\AppData\\Local\\Temp\\ipykernel_18996\\3166345054.py:4: PerformanceWarning: DataFrame is highly fragmented.  This is usually the result of calling `frame.insert` many times, which has poor performance.  Consider joining all columns at once using pd.concat(axis=1) instead. To get a de-fragmented frame, use `newframe = frame.copy()`\n",
      "  amostras['Amostra_' + str(i)] = _\n",
      "C:\\Users\\Tiago\\AppData\\Local\\Temp\\ipykernel_18996\\3166345054.py:4: PerformanceWarning: DataFrame is highly fragmented.  This is usually the result of calling `frame.insert` many times, which has poor performance.  Consider joining all columns at once using pd.concat(axis=1) instead. To get a de-fragmented frame, use `newframe = frame.copy()`\n",
      "  amostras['Amostra_' + str(i)] = _\n",
      "C:\\Users\\Tiago\\AppData\\Local\\Temp\\ipykernel_18996\\3166345054.py:4: PerformanceWarning: DataFrame is highly fragmented.  This is usually the result of calling `frame.insert` many times, which has poor performance.  Consider joining all columns at once using pd.concat(axis=1) instead. To get a de-fragmented frame, use `newframe = frame.copy()`\n",
      "  amostras['Amostra_' + str(i)] = _\n",
      "C:\\Users\\Tiago\\AppData\\Local\\Temp\\ipykernel_18996\\3166345054.py:4: PerformanceWarning: DataFrame is highly fragmented.  This is usually the result of calling `frame.insert` many times, which has poor performance.  Consider joining all columns at once using pd.concat(axis=1) instead. To get a de-fragmented frame, use `newframe = frame.copy()`\n",
      "  amostras['Amostra_' + str(i)] = _\n",
      "C:\\Users\\Tiago\\AppData\\Local\\Temp\\ipykernel_18996\\3166345054.py:4: PerformanceWarning: DataFrame is highly fragmented.  This is usually the result of calling `frame.insert` many times, which has poor performance.  Consider joining all columns at once using pd.concat(axis=1) instead. To get a de-fragmented frame, use `newframe = frame.copy()`\n",
      "  amostras['Amostra_' + str(i)] = _\n",
      "C:\\Users\\Tiago\\AppData\\Local\\Temp\\ipykernel_18996\\3166345054.py:4: PerformanceWarning: DataFrame is highly fragmented.  This is usually the result of calling `frame.insert` many times, which has poor performance.  Consider joining all columns at once using pd.concat(axis=1) instead. To get a de-fragmented frame, use `newframe = frame.copy()`\n",
      "  amostras['Amostra_' + str(i)] = _\n",
      "C:\\Users\\Tiago\\AppData\\Local\\Temp\\ipykernel_18996\\3166345054.py:4: PerformanceWarning: DataFrame is highly fragmented.  This is usually the result of calling `frame.insert` many times, which has poor performance.  Consider joining all columns at once using pd.concat(axis=1) instead. To get a de-fragmented frame, use `newframe = frame.copy()`\n",
      "  amostras['Amostra_' + str(i)] = _\n",
      "C:\\Users\\Tiago\\AppData\\Local\\Temp\\ipykernel_18996\\3166345054.py:4: PerformanceWarning: DataFrame is highly fragmented.  This is usually the result of calling `frame.insert` many times, which has poor performance.  Consider joining all columns at once using pd.concat(axis=1) instead. To get a de-fragmented frame, use `newframe = frame.copy()`\n",
      "  amostras['Amostra_' + str(i)] = _\n",
      "C:\\Users\\Tiago\\AppData\\Local\\Temp\\ipykernel_18996\\3166345054.py:4: PerformanceWarning: DataFrame is highly fragmented.  This is usually the result of calling `frame.insert` many times, which has poor performance.  Consider joining all columns at once using pd.concat(axis=1) instead. To get a de-fragmented frame, use `newframe = frame.copy()`\n",
      "  amostras['Amostra_' + str(i)] = _\n",
      "C:\\Users\\Tiago\\AppData\\Local\\Temp\\ipykernel_18996\\3166345054.py:4: PerformanceWarning: DataFrame is highly fragmented.  This is usually the result of calling `frame.insert` many times, which has poor performance.  Consider joining all columns at once using pd.concat(axis=1) instead. To get a de-fragmented frame, use `newframe = frame.copy()`\n",
      "  amostras['Amostra_' + str(i)] = _\n",
      "C:\\Users\\Tiago\\AppData\\Local\\Temp\\ipykernel_18996\\3166345054.py:4: PerformanceWarning: DataFrame is highly fragmented.  This is usually the result of calling `frame.insert` many times, which has poor performance.  Consider joining all columns at once using pd.concat(axis=1) instead. To get a de-fragmented frame, use `newframe = frame.copy()`\n",
      "  amostras['Amostra_' + str(i)] = _\n",
      "C:\\Users\\Tiago\\AppData\\Local\\Temp\\ipykernel_18996\\3166345054.py:4: PerformanceWarning: DataFrame is highly fragmented.  This is usually the result of calling `frame.insert` many times, which has poor performance.  Consider joining all columns at once using pd.concat(axis=1) instead. To get a de-fragmented frame, use `newframe = frame.copy()`\n",
      "  amostras['Amostra_' + str(i)] = _\n",
      "C:\\Users\\Tiago\\AppData\\Local\\Temp\\ipykernel_18996\\3166345054.py:4: PerformanceWarning: DataFrame is highly fragmented.  This is usually the result of calling `frame.insert` many times, which has poor performance.  Consider joining all columns at once using pd.concat(axis=1) instead. To get a de-fragmented frame, use `newframe = frame.copy()`\n",
      "  amostras['Amostra_' + str(i)] = _\n",
      "C:\\Users\\Tiago\\AppData\\Local\\Temp\\ipykernel_18996\\3166345054.py:4: PerformanceWarning: DataFrame is highly fragmented.  This is usually the result of calling `frame.insert` many times, which has poor performance.  Consider joining all columns at once using pd.concat(axis=1) instead. To get a de-fragmented frame, use `newframe = frame.copy()`\n",
      "  amostras['Amostra_' + str(i)] = _\n",
      "C:\\Users\\Tiago\\AppData\\Local\\Temp\\ipykernel_18996\\3166345054.py:4: PerformanceWarning: DataFrame is highly fragmented.  This is usually the result of calling `frame.insert` many times, which has poor performance.  Consider joining all columns at once using pd.concat(axis=1) instead. To get a de-fragmented frame, use `newframe = frame.copy()`\n",
      "  amostras['Amostra_' + str(i)] = _\n",
      "C:\\Users\\Tiago\\AppData\\Local\\Temp\\ipykernel_18996\\3166345054.py:4: PerformanceWarning: DataFrame is highly fragmented.  This is usually the result of calling `frame.insert` many times, which has poor performance.  Consider joining all columns at once using pd.concat(axis=1) instead. To get a de-fragmented frame, use `newframe = frame.copy()`\n",
      "  amostras['Amostra_' + str(i)] = _\n",
      "C:\\Users\\Tiago\\AppData\\Local\\Temp\\ipykernel_18996\\3166345054.py:4: PerformanceWarning: DataFrame is highly fragmented.  This is usually the result of calling `frame.insert` many times, which has poor performance.  Consider joining all columns at once using pd.concat(axis=1) instead. To get a de-fragmented frame, use `newframe = frame.copy()`\n",
      "  amostras['Amostra_' + str(i)] = _\n",
      "C:\\Users\\Tiago\\AppData\\Local\\Temp\\ipykernel_18996\\3166345054.py:4: PerformanceWarning: DataFrame is highly fragmented.  This is usually the result of calling `frame.insert` many times, which has poor performance.  Consider joining all columns at once using pd.concat(axis=1) instead. To get a de-fragmented frame, use `newframe = frame.copy()`\n",
      "  amostras['Amostra_' + str(i)] = _\n",
      "C:\\Users\\Tiago\\AppData\\Local\\Temp\\ipykernel_18996\\3166345054.py:4: PerformanceWarning: DataFrame is highly fragmented.  This is usually the result of calling `frame.insert` many times, which has poor performance.  Consider joining all columns at once using pd.concat(axis=1) instead. To get a de-fragmented frame, use `newframe = frame.copy()`\n",
      "  amostras['Amostra_' + str(i)] = _\n",
      "C:\\Users\\Tiago\\AppData\\Local\\Temp\\ipykernel_18996\\3166345054.py:4: PerformanceWarning: DataFrame is highly fragmented.  This is usually the result of calling `frame.insert` many times, which has poor performance.  Consider joining all columns at once using pd.concat(axis=1) instead. To get a de-fragmented frame, use `newframe = frame.copy()`\n",
      "  amostras['Amostra_' + str(i)] = _\n",
      "C:\\Users\\Tiago\\AppData\\Local\\Temp\\ipykernel_18996\\3166345054.py:4: PerformanceWarning: DataFrame is highly fragmented.  This is usually the result of calling `frame.insert` many times, which has poor performance.  Consider joining all columns at once using pd.concat(axis=1) instead. To get a de-fragmented frame, use `newframe = frame.copy()`\n",
      "  amostras['Amostra_' + str(i)] = _\n",
      "C:\\Users\\Tiago\\AppData\\Local\\Temp\\ipykernel_18996\\3166345054.py:4: PerformanceWarning: DataFrame is highly fragmented.  This is usually the result of calling `frame.insert` many times, which has poor performance.  Consider joining all columns at once using pd.concat(axis=1) instead. To get a de-fragmented frame, use `newframe = frame.copy()`\n",
      "  amostras['Amostra_' + str(i)] = _\n",
      "C:\\Users\\Tiago\\AppData\\Local\\Temp\\ipykernel_18996\\3166345054.py:4: PerformanceWarning: DataFrame is highly fragmented.  This is usually the result of calling `frame.insert` many times, which has poor performance.  Consider joining all columns at once using pd.concat(axis=1) instead. To get a de-fragmented frame, use `newframe = frame.copy()`\n",
      "  amostras['Amostra_' + str(i)] = _\n",
      "C:\\Users\\Tiago\\AppData\\Local\\Temp\\ipykernel_18996\\3166345054.py:4: PerformanceWarning: DataFrame is highly fragmented.  This is usually the result of calling `frame.insert` many times, which has poor performance.  Consider joining all columns at once using pd.concat(axis=1) instead. To get a de-fragmented frame, use `newframe = frame.copy()`\n",
      "  amostras['Amostra_' + str(i)] = _\n",
      "C:\\Users\\Tiago\\AppData\\Local\\Temp\\ipykernel_18996\\3166345054.py:4: PerformanceWarning: DataFrame is highly fragmented.  This is usually the result of calling `frame.insert` many times, which has poor performance.  Consider joining all columns at once using pd.concat(axis=1) instead. To get a de-fragmented frame, use `newframe = frame.copy()`\n",
      "  amostras['Amostra_' + str(i)] = _\n",
      "C:\\Users\\Tiago\\AppData\\Local\\Temp\\ipykernel_18996\\3166345054.py:4: PerformanceWarning: DataFrame is highly fragmented.  This is usually the result of calling `frame.insert` many times, which has poor performance.  Consider joining all columns at once using pd.concat(axis=1) instead. To get a de-fragmented frame, use `newframe = frame.copy()`\n",
      "  amostras['Amostra_' + str(i)] = _\n",
      "C:\\Users\\Tiago\\AppData\\Local\\Temp\\ipykernel_18996\\3166345054.py:4: PerformanceWarning: DataFrame is highly fragmented.  This is usually the result of calling `frame.insert` many times, which has poor performance.  Consider joining all columns at once using pd.concat(axis=1) instead. To get a de-fragmented frame, use `newframe = frame.copy()`\n",
      "  amostras['Amostra_' + str(i)] = _\n",
      "C:\\Users\\Tiago\\AppData\\Local\\Temp\\ipykernel_18996\\3166345054.py:4: PerformanceWarning: DataFrame is highly fragmented.  This is usually the result of calling `frame.insert` many times, which has poor performance.  Consider joining all columns at once using pd.concat(axis=1) instead. To get a de-fragmented frame, use `newframe = frame.copy()`\n",
      "  amostras['Amostra_' + str(i)] = _\n",
      "C:\\Users\\Tiago\\AppData\\Local\\Temp\\ipykernel_18996\\3166345054.py:4: PerformanceWarning: DataFrame is highly fragmented.  This is usually the result of calling `frame.insert` many times, which has poor performance.  Consider joining all columns at once using pd.concat(axis=1) instead. To get a de-fragmented frame, use `newframe = frame.copy()`\n",
      "  amostras['Amostra_' + str(i)] = _\n",
      "C:\\Users\\Tiago\\AppData\\Local\\Temp\\ipykernel_18996\\3166345054.py:4: PerformanceWarning: DataFrame is highly fragmented.  This is usually the result of calling `frame.insert` many times, which has poor performance.  Consider joining all columns at once using pd.concat(axis=1) instead. To get a de-fragmented frame, use `newframe = frame.copy()`\n",
      "  amostras['Amostra_' + str(i)] = _\n",
      "C:\\Users\\Tiago\\AppData\\Local\\Temp\\ipykernel_18996\\3166345054.py:4: PerformanceWarning: DataFrame is highly fragmented.  This is usually the result of calling `frame.insert` many times, which has poor performance.  Consider joining all columns at once using pd.concat(axis=1) instead. To get a de-fragmented frame, use `newframe = frame.copy()`\n",
      "  amostras['Amostra_' + str(i)] = _\n",
      "C:\\Users\\Tiago\\AppData\\Local\\Temp\\ipykernel_18996\\3166345054.py:4: PerformanceWarning: DataFrame is highly fragmented.  This is usually the result of calling `frame.insert` many times, which has poor performance.  Consider joining all columns at once using pd.concat(axis=1) instead. To get a de-fragmented frame, use `newframe = frame.copy()`\n",
      "  amostras['Amostra_' + str(i)] = _\n",
      "C:\\Users\\Tiago\\AppData\\Local\\Temp\\ipykernel_18996\\3166345054.py:4: PerformanceWarning: DataFrame is highly fragmented.  This is usually the result of calling `frame.insert` many times, which has poor performance.  Consider joining all columns at once using pd.concat(axis=1) instead. To get a de-fragmented frame, use `newframe = frame.copy()`\n",
      "  amostras['Amostra_' + str(i)] = _\n",
      "C:\\Users\\Tiago\\AppData\\Local\\Temp\\ipykernel_18996\\3166345054.py:4: PerformanceWarning: DataFrame is highly fragmented.  This is usually the result of calling `frame.insert` many times, which has poor performance.  Consider joining all columns at once using pd.concat(axis=1) instead. To get a de-fragmented frame, use `newframe = frame.copy()`\n",
      "  amostras['Amostra_' + str(i)] = _\n",
      "C:\\Users\\Tiago\\AppData\\Local\\Temp\\ipykernel_18996\\3166345054.py:4: PerformanceWarning: DataFrame is highly fragmented.  This is usually the result of calling `frame.insert` many times, which has poor performance.  Consider joining all columns at once using pd.concat(axis=1) instead. To get a de-fragmented frame, use `newframe = frame.copy()`\n",
      "  amostras['Amostra_' + str(i)] = _\n",
      "C:\\Users\\Tiago\\AppData\\Local\\Temp\\ipykernel_18996\\3166345054.py:4: PerformanceWarning: DataFrame is highly fragmented.  This is usually the result of calling `frame.insert` many times, which has poor performance.  Consider joining all columns at once using pd.concat(axis=1) instead. To get a de-fragmented frame, use `newframe = frame.copy()`\n",
      "  amostras['Amostra_' + str(i)] = _\n",
      "C:\\Users\\Tiago\\AppData\\Local\\Temp\\ipykernel_18996\\3166345054.py:4: PerformanceWarning: DataFrame is highly fragmented.  This is usually the result of calling `frame.insert` many times, which has poor performance.  Consider joining all columns at once using pd.concat(axis=1) instead. To get a de-fragmented frame, use `newframe = frame.copy()`\n",
      "  amostras['Amostra_' + str(i)] = _\n",
      "C:\\Users\\Tiago\\AppData\\Local\\Temp\\ipykernel_18996\\3166345054.py:4: PerformanceWarning: DataFrame is highly fragmented.  This is usually the result of calling `frame.insert` many times, which has poor performance.  Consider joining all columns at once using pd.concat(axis=1) instead. To get a de-fragmented frame, use `newframe = frame.copy()`\n",
      "  amostras['Amostra_' + str(i)] = _\n",
      "C:\\Users\\Tiago\\AppData\\Local\\Temp\\ipykernel_18996\\3166345054.py:4: PerformanceWarning: DataFrame is highly fragmented.  This is usually the result of calling `frame.insert` many times, which has poor performance.  Consider joining all columns at once using pd.concat(axis=1) instead. To get a de-fragmented frame, use `newframe = frame.copy()`\n",
      "  amostras['Amostra_' + str(i)] = _\n",
      "C:\\Users\\Tiago\\AppData\\Local\\Temp\\ipykernel_18996\\3166345054.py:4: PerformanceWarning: DataFrame is highly fragmented.  This is usually the result of calling `frame.insert` many times, which has poor performance.  Consider joining all columns at once using pd.concat(axis=1) instead. To get a de-fragmented frame, use `newframe = frame.copy()`\n",
      "  amostras['Amostra_' + str(i)] = _\n",
      "C:\\Users\\Tiago\\AppData\\Local\\Temp\\ipykernel_18996\\3166345054.py:4: PerformanceWarning: DataFrame is highly fragmented.  This is usually the result of calling `frame.insert` many times, which has poor performance.  Consider joining all columns at once using pd.concat(axis=1) instead. To get a de-fragmented frame, use `newframe = frame.copy()`\n",
      "  amostras['Amostra_' + str(i)] = _\n",
      "C:\\Users\\Tiago\\AppData\\Local\\Temp\\ipykernel_18996\\3166345054.py:4: PerformanceWarning: DataFrame is highly fragmented.  This is usually the result of calling `frame.insert` many times, which has poor performance.  Consider joining all columns at once using pd.concat(axis=1) instead. To get a de-fragmented frame, use `newframe = frame.copy()`\n",
      "  amostras['Amostra_' + str(i)] = _\n",
      "C:\\Users\\Tiago\\AppData\\Local\\Temp\\ipykernel_18996\\3166345054.py:4: PerformanceWarning: DataFrame is highly fragmented.  This is usually the result of calling `frame.insert` many times, which has poor performance.  Consider joining all columns at once using pd.concat(axis=1) instead. To get a de-fragmented frame, use `newframe = frame.copy()`\n",
      "  amostras['Amostra_' + str(i)] = _\n",
      "C:\\Users\\Tiago\\AppData\\Local\\Temp\\ipykernel_18996\\3166345054.py:4: PerformanceWarning: DataFrame is highly fragmented.  This is usually the result of calling `frame.insert` many times, which has poor performance.  Consider joining all columns at once using pd.concat(axis=1) instead. To get a de-fragmented frame, use `newframe = frame.copy()`\n",
      "  amostras['Amostra_' + str(i)] = _\n",
      "C:\\Users\\Tiago\\AppData\\Local\\Temp\\ipykernel_18996\\3166345054.py:4: PerformanceWarning: DataFrame is highly fragmented.  This is usually the result of calling `frame.insert` many times, which has poor performance.  Consider joining all columns at once using pd.concat(axis=1) instead. To get a de-fragmented frame, use `newframe = frame.copy()`\n",
      "  amostras['Amostra_' + str(i)] = _\n",
      "C:\\Users\\Tiago\\AppData\\Local\\Temp\\ipykernel_18996\\3166345054.py:4: PerformanceWarning: DataFrame is highly fragmented.  This is usually the result of calling `frame.insert` many times, which has poor performance.  Consider joining all columns at once using pd.concat(axis=1) instead. To get a de-fragmented frame, use `newframe = frame.copy()`\n",
      "  amostras['Amostra_' + str(i)] = _\n",
      "C:\\Users\\Tiago\\AppData\\Local\\Temp\\ipykernel_18996\\3166345054.py:4: PerformanceWarning: DataFrame is highly fragmented.  This is usually the result of calling `frame.insert` many times, which has poor performance.  Consider joining all columns at once using pd.concat(axis=1) instead. To get a de-fragmented frame, use `newframe = frame.copy()`\n",
      "  amostras['Amostra_' + str(i)] = _\n",
      "C:\\Users\\Tiago\\AppData\\Local\\Temp\\ipykernel_18996\\3166345054.py:4: PerformanceWarning: DataFrame is highly fragmented.  This is usually the result of calling `frame.insert` many times, which has poor performance.  Consider joining all columns at once using pd.concat(axis=1) instead. To get a de-fragmented frame, use `newframe = frame.copy()`\n",
      "  amostras['Amostra_' + str(i)] = _\n",
      "C:\\Users\\Tiago\\AppData\\Local\\Temp\\ipykernel_18996\\3166345054.py:4: PerformanceWarning: DataFrame is highly fragmented.  This is usually the result of calling `frame.insert` many times, which has poor performance.  Consider joining all columns at once using pd.concat(axis=1) instead. To get a de-fragmented frame, use `newframe = frame.copy()`\n",
      "  amostras['Amostra_' + str(i)] = _\n",
      "C:\\Users\\Tiago\\AppData\\Local\\Temp\\ipykernel_18996\\3166345054.py:4: PerformanceWarning: DataFrame is highly fragmented.  This is usually the result of calling `frame.insert` many times, which has poor performance.  Consider joining all columns at once using pd.concat(axis=1) instead. To get a de-fragmented frame, use `newframe = frame.copy()`\n",
      "  amostras['Amostra_' + str(i)] = _\n",
      "C:\\Users\\Tiago\\AppData\\Local\\Temp\\ipykernel_18996\\3166345054.py:4: PerformanceWarning: DataFrame is highly fragmented.  This is usually the result of calling `frame.insert` many times, which has poor performance.  Consider joining all columns at once using pd.concat(axis=1) instead. To get a de-fragmented frame, use `newframe = frame.copy()`\n",
      "  amostras['Amostra_' + str(i)] = _\n",
      "C:\\Users\\Tiago\\AppData\\Local\\Temp\\ipykernel_18996\\3166345054.py:4: PerformanceWarning: DataFrame is highly fragmented.  This is usually the result of calling `frame.insert` many times, which has poor performance.  Consider joining all columns at once using pd.concat(axis=1) instead. To get a de-fragmented frame, use `newframe = frame.copy()`\n",
      "  amostras['Amostra_' + str(i)] = _\n",
      "C:\\Users\\Tiago\\AppData\\Local\\Temp\\ipykernel_18996\\3166345054.py:4: PerformanceWarning: DataFrame is highly fragmented.  This is usually the result of calling `frame.insert` many times, which has poor performance.  Consider joining all columns at once using pd.concat(axis=1) instead. To get a de-fragmented frame, use `newframe = frame.copy()`\n",
      "  amostras['Amostra_' + str(i)] = _\n",
      "C:\\Users\\Tiago\\AppData\\Local\\Temp\\ipykernel_18996\\3166345054.py:4: PerformanceWarning: DataFrame is highly fragmented.  This is usually the result of calling `frame.insert` many times, which has poor performance.  Consider joining all columns at once using pd.concat(axis=1) instead. To get a de-fragmented frame, use `newframe = frame.copy()`\n",
      "  amostras['Amostra_' + str(i)] = _\n",
      "C:\\Users\\Tiago\\AppData\\Local\\Temp\\ipykernel_18996\\3166345054.py:4: PerformanceWarning: DataFrame is highly fragmented.  This is usually the result of calling `frame.insert` many times, which has poor performance.  Consider joining all columns at once using pd.concat(axis=1) instead. To get a de-fragmented frame, use `newframe = frame.copy()`\n",
      "  amostras['Amostra_' + str(i)] = _\n",
      "C:\\Users\\Tiago\\AppData\\Local\\Temp\\ipykernel_18996\\3166345054.py:4: PerformanceWarning: DataFrame is highly fragmented.  This is usually the result of calling `frame.insert` many times, which has poor performance.  Consider joining all columns at once using pd.concat(axis=1) instead. To get a de-fragmented frame, use `newframe = frame.copy()`\n",
      "  amostras['Amostra_' + str(i)] = _\n",
      "C:\\Users\\Tiago\\AppData\\Local\\Temp\\ipykernel_18996\\3166345054.py:4: PerformanceWarning: DataFrame is highly fragmented.  This is usually the result of calling `frame.insert` many times, which has poor performance.  Consider joining all columns at once using pd.concat(axis=1) instead. To get a de-fragmented frame, use `newframe = frame.copy()`\n",
      "  amostras['Amostra_' + str(i)] = _\n",
      "C:\\Users\\Tiago\\AppData\\Local\\Temp\\ipykernel_18996\\3166345054.py:4: PerformanceWarning: DataFrame is highly fragmented.  This is usually the result of calling `frame.insert` many times, which has poor performance.  Consider joining all columns at once using pd.concat(axis=1) instead. To get a de-fragmented frame, use `newframe = frame.copy()`\n",
      "  amostras['Amostra_' + str(i)] = _\n",
      "C:\\Users\\Tiago\\AppData\\Local\\Temp\\ipykernel_18996\\3166345054.py:4: PerformanceWarning: DataFrame is highly fragmented.  This is usually the result of calling `frame.insert` many times, which has poor performance.  Consider joining all columns at once using pd.concat(axis=1) instead. To get a de-fragmented frame, use `newframe = frame.copy()`\n",
      "  amostras['Amostra_' + str(i)] = _\n",
      "C:\\Users\\Tiago\\AppData\\Local\\Temp\\ipykernel_18996\\3166345054.py:4: PerformanceWarning: DataFrame is highly fragmented.  This is usually the result of calling `frame.insert` many times, which has poor performance.  Consider joining all columns at once using pd.concat(axis=1) instead. To get a de-fragmented frame, use `newframe = frame.copy()`\n",
      "  amostras['Amostra_' + str(i)] = _\n",
      "C:\\Users\\Tiago\\AppData\\Local\\Temp\\ipykernel_18996\\3166345054.py:4: PerformanceWarning: DataFrame is highly fragmented.  This is usually the result of calling `frame.insert` many times, which has poor performance.  Consider joining all columns at once using pd.concat(axis=1) instead. To get a de-fragmented frame, use `newframe = frame.copy()`\n",
      "  amostras['Amostra_' + str(i)] = _\n",
      "C:\\Users\\Tiago\\AppData\\Local\\Temp\\ipykernel_18996\\3166345054.py:4: PerformanceWarning: DataFrame is highly fragmented.  This is usually the result of calling `frame.insert` many times, which has poor performance.  Consider joining all columns at once using pd.concat(axis=1) instead. To get a de-fragmented frame, use `newframe = frame.copy()`\n",
      "  amostras['Amostra_' + str(i)] = _\n",
      "C:\\Users\\Tiago\\AppData\\Local\\Temp\\ipykernel_18996\\3166345054.py:4: PerformanceWarning: DataFrame is highly fragmented.  This is usually the result of calling `frame.insert` many times, which has poor performance.  Consider joining all columns at once using pd.concat(axis=1) instead. To get a de-fragmented frame, use `newframe = frame.copy()`\n",
      "  amostras['Amostra_' + str(i)] = _\n",
      "C:\\Users\\Tiago\\AppData\\Local\\Temp\\ipykernel_18996\\3166345054.py:4: PerformanceWarning: DataFrame is highly fragmented.  This is usually the result of calling `frame.insert` many times, which has poor performance.  Consider joining all columns at once using pd.concat(axis=1) instead. To get a de-fragmented frame, use `newframe = frame.copy()`\n",
      "  amostras['Amostra_' + str(i)] = _\n",
      "C:\\Users\\Tiago\\AppData\\Local\\Temp\\ipykernel_18996\\3166345054.py:4: PerformanceWarning: DataFrame is highly fragmented.  This is usually the result of calling `frame.insert` many times, which has poor performance.  Consider joining all columns at once using pd.concat(axis=1) instead. To get a de-fragmented frame, use `newframe = frame.copy()`\n",
      "  amostras['Amostra_' + str(i)] = _\n",
      "C:\\Users\\Tiago\\AppData\\Local\\Temp\\ipykernel_18996\\3166345054.py:4: PerformanceWarning: DataFrame is highly fragmented.  This is usually the result of calling `frame.insert` many times, which has poor performance.  Consider joining all columns at once using pd.concat(axis=1) instead. To get a de-fragmented frame, use `newframe = frame.copy()`\n",
      "  amostras['Amostra_' + str(i)] = _\n",
      "C:\\Users\\Tiago\\AppData\\Local\\Temp\\ipykernel_18996\\3166345054.py:4: PerformanceWarning: DataFrame is highly fragmented.  This is usually the result of calling `frame.insert` many times, which has poor performance.  Consider joining all columns at once using pd.concat(axis=1) instead. To get a de-fragmented frame, use `newframe = frame.copy()`\n",
      "  amostras['Amostra_' + str(i)] = _\n",
      "C:\\Users\\Tiago\\AppData\\Local\\Temp\\ipykernel_18996\\3166345054.py:4: PerformanceWarning: DataFrame is highly fragmented.  This is usually the result of calling `frame.insert` many times, which has poor performance.  Consider joining all columns at once using pd.concat(axis=1) instead. To get a de-fragmented frame, use `newframe = frame.copy()`\n",
      "  amostras['Amostra_' + str(i)] = _\n",
      "C:\\Users\\Tiago\\AppData\\Local\\Temp\\ipykernel_18996\\3166345054.py:4: PerformanceWarning: DataFrame is highly fragmented.  This is usually the result of calling `frame.insert` many times, which has poor performance.  Consider joining all columns at once using pd.concat(axis=1) instead. To get a de-fragmented frame, use `newframe = frame.copy()`\n",
      "  amostras['Amostra_' + str(i)] = _\n",
      "C:\\Users\\Tiago\\AppData\\Local\\Temp\\ipykernel_18996\\3166345054.py:4: PerformanceWarning: DataFrame is highly fragmented.  This is usually the result of calling `frame.insert` many times, which has poor performance.  Consider joining all columns at once using pd.concat(axis=1) instead. To get a de-fragmented frame, use `newframe = frame.copy()`\n",
      "  amostras['Amostra_' + str(i)] = _\n",
      "C:\\Users\\Tiago\\AppData\\Local\\Temp\\ipykernel_18996\\3166345054.py:4: PerformanceWarning: DataFrame is highly fragmented.  This is usually the result of calling `frame.insert` many times, which has poor performance.  Consider joining all columns at once using pd.concat(axis=1) instead. To get a de-fragmented frame, use `newframe = frame.copy()`\n",
      "  amostras['Amostra_' + str(i)] = _\n",
      "C:\\Users\\Tiago\\AppData\\Local\\Temp\\ipykernel_18996\\3166345054.py:4: PerformanceWarning: DataFrame is highly fragmented.  This is usually the result of calling `frame.insert` many times, which has poor performance.  Consider joining all columns at once using pd.concat(axis=1) instead. To get a de-fragmented frame, use `newframe = frame.copy()`\n",
      "  amostras['Amostra_' + str(i)] = _\n",
      "C:\\Users\\Tiago\\AppData\\Local\\Temp\\ipykernel_18996\\3166345054.py:4: PerformanceWarning: DataFrame is highly fragmented.  This is usually the result of calling `frame.insert` many times, which has poor performance.  Consider joining all columns at once using pd.concat(axis=1) instead. To get a de-fragmented frame, use `newframe = frame.copy()`\n",
      "  amostras['Amostra_' + str(i)] = _\n",
      "C:\\Users\\Tiago\\AppData\\Local\\Temp\\ipykernel_18996\\3166345054.py:4: PerformanceWarning: DataFrame is highly fragmented.  This is usually the result of calling `frame.insert` many times, which has poor performance.  Consider joining all columns at once using pd.concat(axis=1) instead. To get a de-fragmented frame, use `newframe = frame.copy()`\n",
      "  amostras['Amostra_' + str(i)] = _\n",
      "C:\\Users\\Tiago\\AppData\\Local\\Temp\\ipykernel_18996\\3166345054.py:4: PerformanceWarning: DataFrame is highly fragmented.  This is usually the result of calling `frame.insert` many times, which has poor performance.  Consider joining all columns at once using pd.concat(axis=1) instead. To get a de-fragmented frame, use `newframe = frame.copy()`\n",
      "  amostras['Amostra_' + str(i)] = _\n",
      "C:\\Users\\Tiago\\AppData\\Local\\Temp\\ipykernel_18996\\3166345054.py:4: PerformanceWarning: DataFrame is highly fragmented.  This is usually the result of calling `frame.insert` many times, which has poor performance.  Consider joining all columns at once using pd.concat(axis=1) instead. To get a de-fragmented frame, use `newframe = frame.copy()`\n",
      "  amostras['Amostra_' + str(i)] = _\n",
      "C:\\Users\\Tiago\\AppData\\Local\\Temp\\ipykernel_18996\\3166345054.py:4: PerformanceWarning: DataFrame is highly fragmented.  This is usually the result of calling `frame.insert` many times, which has poor performance.  Consider joining all columns at once using pd.concat(axis=1) instead. To get a de-fragmented frame, use `newframe = frame.copy()`\n",
      "  amostras['Amostra_' + str(i)] = _\n",
      "C:\\Users\\Tiago\\AppData\\Local\\Temp\\ipykernel_18996\\3166345054.py:4: PerformanceWarning: DataFrame is highly fragmented.  This is usually the result of calling `frame.insert` many times, which has poor performance.  Consider joining all columns at once using pd.concat(axis=1) instead. To get a de-fragmented frame, use `newframe = frame.copy()`\n",
      "  amostras['Amostra_' + str(i)] = _\n",
      "C:\\Users\\Tiago\\AppData\\Local\\Temp\\ipykernel_18996\\3166345054.py:4: PerformanceWarning: DataFrame is highly fragmented.  This is usually the result of calling `frame.insert` many times, which has poor performance.  Consider joining all columns at once using pd.concat(axis=1) instead. To get a de-fragmented frame, use `newframe = frame.copy()`\n",
      "  amostras['Amostra_' + str(i)] = _\n",
      "C:\\Users\\Tiago\\AppData\\Local\\Temp\\ipykernel_18996\\3166345054.py:4: PerformanceWarning: DataFrame is highly fragmented.  This is usually the result of calling `frame.insert` many times, which has poor performance.  Consider joining all columns at once using pd.concat(axis=1) instead. To get a de-fragmented frame, use `newframe = frame.copy()`\n",
      "  amostras['Amostra_' + str(i)] = _\n",
      "C:\\Users\\Tiago\\AppData\\Local\\Temp\\ipykernel_18996\\3166345054.py:4: PerformanceWarning: DataFrame is highly fragmented.  This is usually the result of calling `frame.insert` many times, which has poor performance.  Consider joining all columns at once using pd.concat(axis=1) instead. To get a de-fragmented frame, use `newframe = frame.copy()`\n",
      "  amostras['Amostra_' + str(i)] = _\n",
      "C:\\Users\\Tiago\\AppData\\Local\\Temp\\ipykernel_18996\\3166345054.py:4: PerformanceWarning: DataFrame is highly fragmented.  This is usually the result of calling `frame.insert` many times, which has poor performance.  Consider joining all columns at once using pd.concat(axis=1) instead. To get a de-fragmented frame, use `newframe = frame.copy()`\n",
      "  amostras['Amostra_' + str(i)] = _\n",
      "C:\\Users\\Tiago\\AppData\\Local\\Temp\\ipykernel_18996\\3166345054.py:4: PerformanceWarning: DataFrame is highly fragmented.  This is usually the result of calling `frame.insert` many times, which has poor performance.  Consider joining all columns at once using pd.concat(axis=1) instead. To get a de-fragmented frame, use `newframe = frame.copy()`\n",
      "  amostras['Amostra_' + str(i)] = _\n",
      "C:\\Users\\Tiago\\AppData\\Local\\Temp\\ipykernel_18996\\3166345054.py:4: PerformanceWarning: DataFrame is highly fragmented.  This is usually the result of calling `frame.insert` many times, which has poor performance.  Consider joining all columns at once using pd.concat(axis=1) instead. To get a de-fragmented frame, use `newframe = frame.copy()`\n",
      "  amostras['Amostra_' + str(i)] = _\n",
      "C:\\Users\\Tiago\\AppData\\Local\\Temp\\ipykernel_18996\\3166345054.py:4: PerformanceWarning: DataFrame is highly fragmented.  This is usually the result of calling `frame.insert` many times, which has poor performance.  Consider joining all columns at once using pd.concat(axis=1) instead. To get a de-fragmented frame, use `newframe = frame.copy()`\n",
      "  amostras['Amostra_' + str(i)] = _\n",
      "C:\\Users\\Tiago\\AppData\\Local\\Temp\\ipykernel_18996\\3166345054.py:4: PerformanceWarning: DataFrame is highly fragmented.  This is usually the result of calling `frame.insert` many times, which has poor performance.  Consider joining all columns at once using pd.concat(axis=1) instead. To get a de-fragmented frame, use `newframe = frame.copy()`\n",
      "  amostras['Amostra_' + str(i)] = _\n",
      "C:\\Users\\Tiago\\AppData\\Local\\Temp\\ipykernel_18996\\3166345054.py:4: PerformanceWarning: DataFrame is highly fragmented.  This is usually the result of calling `frame.insert` many times, which has poor performance.  Consider joining all columns at once using pd.concat(axis=1) instead. To get a de-fragmented frame, use `newframe = frame.copy()`\n",
      "  amostras['Amostra_' + str(i)] = _\n",
      "C:\\Users\\Tiago\\AppData\\Local\\Temp\\ipykernel_18996\\3166345054.py:4: PerformanceWarning: DataFrame is highly fragmented.  This is usually the result of calling `frame.insert` many times, which has poor performance.  Consider joining all columns at once using pd.concat(axis=1) instead. To get a de-fragmented frame, use `newframe = frame.copy()`\n",
      "  amostras['Amostra_' + str(i)] = _\n",
      "C:\\Users\\Tiago\\AppData\\Local\\Temp\\ipykernel_18996\\3166345054.py:4: PerformanceWarning: DataFrame is highly fragmented.  This is usually the result of calling `frame.insert` many times, which has poor performance.  Consider joining all columns at once using pd.concat(axis=1) instead. To get a de-fragmented frame, use `newframe = frame.copy()`\n",
      "  amostras['Amostra_' + str(i)] = _\n",
      "C:\\Users\\Tiago\\AppData\\Local\\Temp\\ipykernel_18996\\3166345054.py:4: PerformanceWarning: DataFrame is highly fragmented.  This is usually the result of calling `frame.insert` many times, which has poor performance.  Consider joining all columns at once using pd.concat(axis=1) instead. To get a de-fragmented frame, use `newframe = frame.copy()`\n",
      "  amostras['Amostra_' + str(i)] = _\n",
      "C:\\Users\\Tiago\\AppData\\Local\\Temp\\ipykernel_18996\\3166345054.py:4: PerformanceWarning: DataFrame is highly fragmented.  This is usually the result of calling `frame.insert` many times, which has poor performance.  Consider joining all columns at once using pd.concat(axis=1) instead. To get a de-fragmented frame, use `newframe = frame.copy()`\n",
      "  amostras['Amostra_' + str(i)] = _\n",
      "C:\\Users\\Tiago\\AppData\\Local\\Temp\\ipykernel_18996\\3166345054.py:4: PerformanceWarning: DataFrame is highly fragmented.  This is usually the result of calling `frame.insert` many times, which has poor performance.  Consider joining all columns at once using pd.concat(axis=1) instead. To get a de-fragmented frame, use `newframe = frame.copy()`\n",
      "  amostras['Amostra_' + str(i)] = _\n",
      "C:\\Users\\Tiago\\AppData\\Local\\Temp\\ipykernel_18996\\3166345054.py:4: PerformanceWarning: DataFrame is highly fragmented.  This is usually the result of calling `frame.insert` many times, which has poor performance.  Consider joining all columns at once using pd.concat(axis=1) instead. To get a de-fragmented frame, use `newframe = frame.copy()`\n",
      "  amostras['Amostra_' + str(i)] = _\n",
      "C:\\Users\\Tiago\\AppData\\Local\\Temp\\ipykernel_18996\\3166345054.py:4: PerformanceWarning: DataFrame is highly fragmented.  This is usually the result of calling `frame.insert` many times, which has poor performance.  Consider joining all columns at once using pd.concat(axis=1) instead. To get a de-fragmented frame, use `newframe = frame.copy()`\n",
      "  amostras['Amostra_' + str(i)] = _\n",
      "C:\\Users\\Tiago\\AppData\\Local\\Temp\\ipykernel_18996\\3166345054.py:4: PerformanceWarning: DataFrame is highly fragmented.  This is usually the result of calling `frame.insert` many times, which has poor performance.  Consider joining all columns at once using pd.concat(axis=1) instead. To get a de-fragmented frame, use `newframe = frame.copy()`\n",
      "  amostras['Amostra_' + str(i)] = _\n",
      "C:\\Users\\Tiago\\AppData\\Local\\Temp\\ipykernel_18996\\3166345054.py:4: PerformanceWarning: DataFrame is highly fragmented.  This is usually the result of calling `frame.insert` many times, which has poor performance.  Consider joining all columns at once using pd.concat(axis=1) instead. To get a de-fragmented frame, use `newframe = frame.copy()`\n",
      "  amostras['Amostra_' + str(i)] = _\n",
      "C:\\Users\\Tiago\\AppData\\Local\\Temp\\ipykernel_18996\\3166345054.py:4: PerformanceWarning: DataFrame is highly fragmented.  This is usually the result of calling `frame.insert` many times, which has poor performance.  Consider joining all columns at once using pd.concat(axis=1) instead. To get a de-fragmented frame, use `newframe = frame.copy()`\n",
      "  amostras['Amostra_' + str(i)] = _\n",
      "C:\\Users\\Tiago\\AppData\\Local\\Temp\\ipykernel_18996\\3166345054.py:4: PerformanceWarning: DataFrame is highly fragmented.  This is usually the result of calling `frame.insert` many times, which has poor performance.  Consider joining all columns at once using pd.concat(axis=1) instead. To get a de-fragmented frame, use `newframe = frame.copy()`\n",
      "  amostras['Amostra_' + str(i)] = _\n",
      "C:\\Users\\Tiago\\AppData\\Local\\Temp\\ipykernel_18996\\3166345054.py:4: PerformanceWarning: DataFrame is highly fragmented.  This is usually the result of calling `frame.insert` many times, which has poor performance.  Consider joining all columns at once using pd.concat(axis=1) instead. To get a de-fragmented frame, use `newframe = frame.copy()`\n",
      "  amostras['Amostra_' + str(i)] = _\n",
      "C:\\Users\\Tiago\\AppData\\Local\\Temp\\ipykernel_18996\\3166345054.py:4: PerformanceWarning: DataFrame is highly fragmented.  This is usually the result of calling `frame.insert` many times, which has poor performance.  Consider joining all columns at once using pd.concat(axis=1) instead. To get a de-fragmented frame, use `newframe = frame.copy()`\n",
      "  amostras['Amostra_' + str(i)] = _\n",
      "C:\\Users\\Tiago\\AppData\\Local\\Temp\\ipykernel_18996\\3166345054.py:4: PerformanceWarning: DataFrame is highly fragmented.  This is usually the result of calling `frame.insert` many times, which has poor performance.  Consider joining all columns at once using pd.concat(axis=1) instead. To get a de-fragmented frame, use `newframe = frame.copy()`\n",
      "  amostras['Amostra_' + str(i)] = _\n",
      "C:\\Users\\Tiago\\AppData\\Local\\Temp\\ipykernel_18996\\3166345054.py:4: PerformanceWarning: DataFrame is highly fragmented.  This is usually the result of calling `frame.insert` many times, which has poor performance.  Consider joining all columns at once using pd.concat(axis=1) instead. To get a de-fragmented frame, use `newframe = frame.copy()`\n",
      "  amostras['Amostra_' + str(i)] = _\n",
      "C:\\Users\\Tiago\\AppData\\Local\\Temp\\ipykernel_18996\\3166345054.py:4: PerformanceWarning: DataFrame is highly fragmented.  This is usually the result of calling `frame.insert` many times, which has poor performance.  Consider joining all columns at once using pd.concat(axis=1) instead. To get a de-fragmented frame, use `newframe = frame.copy()`\n",
      "  amostras['Amostra_' + str(i)] = _\n",
      "C:\\Users\\Tiago\\AppData\\Local\\Temp\\ipykernel_18996\\3166345054.py:4: PerformanceWarning: DataFrame is highly fragmented.  This is usually the result of calling `frame.insert` many times, which has poor performance.  Consider joining all columns at once using pd.concat(axis=1) instead. To get a de-fragmented frame, use `newframe = frame.copy()`\n",
      "  amostras['Amostra_' + str(i)] = _\n",
      "C:\\Users\\Tiago\\AppData\\Local\\Temp\\ipykernel_18996\\3166345054.py:4: PerformanceWarning: DataFrame is highly fragmented.  This is usually the result of calling `frame.insert` many times, which has poor performance.  Consider joining all columns at once using pd.concat(axis=1) instead. To get a de-fragmented frame, use `newframe = frame.copy()`\n",
      "  amostras['Amostra_' + str(i)] = _\n",
      "C:\\Users\\Tiago\\AppData\\Local\\Temp\\ipykernel_18996\\3166345054.py:4: PerformanceWarning: DataFrame is highly fragmented.  This is usually the result of calling `frame.insert` many times, which has poor performance.  Consider joining all columns at once using pd.concat(axis=1) instead. To get a de-fragmented frame, use `newframe = frame.copy()`\n",
      "  amostras['Amostra_' + str(i)] = _\n",
      "C:\\Users\\Tiago\\AppData\\Local\\Temp\\ipykernel_18996\\3166345054.py:4: PerformanceWarning: DataFrame is highly fragmented.  This is usually the result of calling `frame.insert` many times, which has poor performance.  Consider joining all columns at once using pd.concat(axis=1) instead. To get a de-fragmented frame, use `newframe = frame.copy()`\n",
      "  amostras['Amostra_' + str(i)] = _\n",
      "C:\\Users\\Tiago\\AppData\\Local\\Temp\\ipykernel_18996\\3166345054.py:4: PerformanceWarning: DataFrame is highly fragmented.  This is usually the result of calling `frame.insert` many times, which has poor performance.  Consider joining all columns at once using pd.concat(axis=1) instead. To get a de-fragmented frame, use `newframe = frame.copy()`\n",
      "  amostras['Amostra_' + str(i)] = _\n",
      "C:\\Users\\Tiago\\AppData\\Local\\Temp\\ipykernel_18996\\3166345054.py:4: PerformanceWarning: DataFrame is highly fragmented.  This is usually the result of calling `frame.insert` many times, which has poor performance.  Consider joining all columns at once using pd.concat(axis=1) instead. To get a de-fragmented frame, use `newframe = frame.copy()`\n",
      "  amostras['Amostra_' + str(i)] = _\n",
      "C:\\Users\\Tiago\\AppData\\Local\\Temp\\ipykernel_18996\\3166345054.py:4: PerformanceWarning: DataFrame is highly fragmented.  This is usually the result of calling `frame.insert` many times, which has poor performance.  Consider joining all columns at once using pd.concat(axis=1) instead. To get a de-fragmented frame, use `newframe = frame.copy()`\n",
      "  amostras['Amostra_' + str(i)] = _\n",
      "C:\\Users\\Tiago\\AppData\\Local\\Temp\\ipykernel_18996\\3166345054.py:4: PerformanceWarning: DataFrame is highly fragmented.  This is usually the result of calling `frame.insert` many times, which has poor performance.  Consider joining all columns at once using pd.concat(axis=1) instead. To get a de-fragmented frame, use `newframe = frame.copy()`\n",
      "  amostras['Amostra_' + str(i)] = _\n",
      "C:\\Users\\Tiago\\AppData\\Local\\Temp\\ipykernel_18996\\3166345054.py:4: PerformanceWarning: DataFrame is highly fragmented.  This is usually the result of calling `frame.insert` many times, which has poor performance.  Consider joining all columns at once using pd.concat(axis=1) instead. To get a de-fragmented frame, use `newframe = frame.copy()`\n",
      "  amostras['Amostra_' + str(i)] = _\n",
      "C:\\Users\\Tiago\\AppData\\Local\\Temp\\ipykernel_18996\\3166345054.py:4: PerformanceWarning: DataFrame is highly fragmented.  This is usually the result of calling `frame.insert` many times, which has poor performance.  Consider joining all columns at once using pd.concat(axis=1) instead. To get a de-fragmented frame, use `newframe = frame.copy()`\n",
      "  amostras['Amostra_' + str(i)] = _\n",
      "C:\\Users\\Tiago\\AppData\\Local\\Temp\\ipykernel_18996\\3166345054.py:4: PerformanceWarning: DataFrame is highly fragmented.  This is usually the result of calling `frame.insert` many times, which has poor performance.  Consider joining all columns at once using pd.concat(axis=1) instead. To get a de-fragmented frame, use `newframe = frame.copy()`\n",
      "  amostras['Amostra_' + str(i)] = _\n",
      "C:\\Users\\Tiago\\AppData\\Local\\Temp\\ipykernel_18996\\3166345054.py:4: PerformanceWarning: DataFrame is highly fragmented.  This is usually the result of calling `frame.insert` many times, which has poor performance.  Consider joining all columns at once using pd.concat(axis=1) instead. To get a de-fragmented frame, use `newframe = frame.copy()`\n",
      "  amostras['Amostra_' + str(i)] = _\n",
      "C:\\Users\\Tiago\\AppData\\Local\\Temp\\ipykernel_18996\\3166345054.py:4: PerformanceWarning: DataFrame is highly fragmented.  This is usually the result of calling `frame.insert` many times, which has poor performance.  Consider joining all columns at once using pd.concat(axis=1) instead. To get a de-fragmented frame, use `newframe = frame.copy()`\n",
      "  amostras['Amostra_' + str(i)] = _\n",
      "C:\\Users\\Tiago\\AppData\\Local\\Temp\\ipykernel_18996\\3166345054.py:4: PerformanceWarning: DataFrame is highly fragmented.  This is usually the result of calling `frame.insert` many times, which has poor performance.  Consider joining all columns at once using pd.concat(axis=1) instead. To get a de-fragmented frame, use `newframe = frame.copy()`\n",
      "  amostras['Amostra_' + str(i)] = _\n",
      "C:\\Users\\Tiago\\AppData\\Local\\Temp\\ipykernel_18996\\3166345054.py:4: PerformanceWarning: DataFrame is highly fragmented.  This is usually the result of calling `frame.insert` many times, which has poor performance.  Consider joining all columns at once using pd.concat(axis=1) instead. To get a de-fragmented frame, use `newframe = frame.copy()`\n",
      "  amostras['Amostra_' + str(i)] = _\n",
      "C:\\Users\\Tiago\\AppData\\Local\\Temp\\ipykernel_18996\\3166345054.py:4: PerformanceWarning: DataFrame is highly fragmented.  This is usually the result of calling `frame.insert` many times, which has poor performance.  Consider joining all columns at once using pd.concat(axis=1) instead. To get a de-fragmented frame, use `newframe = frame.copy()`\n",
      "  amostras['Amostra_' + str(i)] = _\n",
      "C:\\Users\\Tiago\\AppData\\Local\\Temp\\ipykernel_18996\\3166345054.py:4: PerformanceWarning: DataFrame is highly fragmented.  This is usually the result of calling `frame.insert` many times, which has poor performance.  Consider joining all columns at once using pd.concat(axis=1) instead. To get a de-fragmented frame, use `newframe = frame.copy()`\n",
      "  amostras['Amostra_' + str(i)] = _\n",
      "C:\\Users\\Tiago\\AppData\\Local\\Temp\\ipykernel_18996\\3166345054.py:4: PerformanceWarning: DataFrame is highly fragmented.  This is usually the result of calling `frame.insert` many times, which has poor performance.  Consider joining all columns at once using pd.concat(axis=1) instead. To get a de-fragmented frame, use `newframe = frame.copy()`\n",
      "  amostras['Amostra_' + str(i)] = _\n",
      "C:\\Users\\Tiago\\AppData\\Local\\Temp\\ipykernel_18996\\3166345054.py:4: PerformanceWarning: DataFrame is highly fragmented.  This is usually the result of calling `frame.insert` many times, which has poor performance.  Consider joining all columns at once using pd.concat(axis=1) instead. To get a de-fragmented frame, use `newframe = frame.copy()`\n",
      "  amostras['Amostra_' + str(i)] = _\n",
      "C:\\Users\\Tiago\\AppData\\Local\\Temp\\ipykernel_18996\\3166345054.py:4: PerformanceWarning: DataFrame is highly fragmented.  This is usually the result of calling `frame.insert` many times, which has poor performance.  Consider joining all columns at once using pd.concat(axis=1) instead. To get a de-fragmented frame, use `newframe = frame.copy()`\n",
      "  amostras['Amostra_' + str(i)] = _\n",
      "C:\\Users\\Tiago\\AppData\\Local\\Temp\\ipykernel_18996\\3166345054.py:4: PerformanceWarning: DataFrame is highly fragmented.  This is usually the result of calling `frame.insert` many times, which has poor performance.  Consider joining all columns at once using pd.concat(axis=1) instead. To get a de-fragmented frame, use `newframe = frame.copy()`\n",
      "  amostras['Amostra_' + str(i)] = _\n",
      "C:\\Users\\Tiago\\AppData\\Local\\Temp\\ipykernel_18996\\3166345054.py:4: PerformanceWarning: DataFrame is highly fragmented.  This is usually the result of calling `frame.insert` many times, which has poor performance.  Consider joining all columns at once using pd.concat(axis=1) instead. To get a de-fragmented frame, use `newframe = frame.copy()`\n",
      "  amostras['Amostra_' + str(i)] = _\n",
      "C:\\Users\\Tiago\\AppData\\Local\\Temp\\ipykernel_18996\\3166345054.py:4: PerformanceWarning: DataFrame is highly fragmented.  This is usually the result of calling `frame.insert` many times, which has poor performance.  Consider joining all columns at once using pd.concat(axis=1) instead. To get a de-fragmented frame, use `newframe = frame.copy()`\n",
      "  amostras['Amostra_' + str(i)] = _\n",
      "C:\\Users\\Tiago\\AppData\\Local\\Temp\\ipykernel_18996\\3166345054.py:4: PerformanceWarning: DataFrame is highly fragmented.  This is usually the result of calling `frame.insert` many times, which has poor performance.  Consider joining all columns at once using pd.concat(axis=1) instead. To get a de-fragmented frame, use `newframe = frame.copy()`\n",
      "  amostras['Amostra_' + str(i)] = _\n",
      "C:\\Users\\Tiago\\AppData\\Local\\Temp\\ipykernel_18996\\3166345054.py:4: PerformanceWarning: DataFrame is highly fragmented.  This is usually the result of calling `frame.insert` many times, which has poor performance.  Consider joining all columns at once using pd.concat(axis=1) instead. To get a de-fragmented frame, use `newframe = frame.copy()`\n",
      "  amostras['Amostra_' + str(i)] = _\n",
      "C:\\Users\\Tiago\\AppData\\Local\\Temp\\ipykernel_18996\\3166345054.py:4: PerformanceWarning: DataFrame is highly fragmented.  This is usually the result of calling `frame.insert` many times, which has poor performance.  Consider joining all columns at once using pd.concat(axis=1) instead. To get a de-fragmented frame, use `newframe = frame.copy()`\n",
      "  amostras['Amostra_' + str(i)] = _\n",
      "C:\\Users\\Tiago\\AppData\\Local\\Temp\\ipykernel_18996\\3166345054.py:4: PerformanceWarning: DataFrame is highly fragmented.  This is usually the result of calling `frame.insert` many times, which has poor performance.  Consider joining all columns at once using pd.concat(axis=1) instead. To get a de-fragmented frame, use `newframe = frame.copy()`\n",
      "  amostras['Amostra_' + str(i)] = _\n",
      "C:\\Users\\Tiago\\AppData\\Local\\Temp\\ipykernel_18996\\3166345054.py:4: PerformanceWarning: DataFrame is highly fragmented.  This is usually the result of calling `frame.insert` many times, which has poor performance.  Consider joining all columns at once using pd.concat(axis=1) instead. To get a de-fragmented frame, use `newframe = frame.copy()`\n",
      "  amostras['Amostra_' + str(i)] = _\n",
      "C:\\Users\\Tiago\\AppData\\Local\\Temp\\ipykernel_18996\\3166345054.py:4: PerformanceWarning: DataFrame is highly fragmented.  This is usually the result of calling `frame.insert` many times, which has poor performance.  Consider joining all columns at once using pd.concat(axis=1) instead. To get a de-fragmented frame, use `newframe = frame.copy()`\n",
      "  amostras['Amostra_' + str(i)] = _\n",
      "C:\\Users\\Tiago\\AppData\\Local\\Temp\\ipykernel_18996\\3166345054.py:4: PerformanceWarning: DataFrame is highly fragmented.  This is usually the result of calling `frame.insert` many times, which has poor performance.  Consider joining all columns at once using pd.concat(axis=1) instead. To get a de-fragmented frame, use `newframe = frame.copy()`\n",
      "  amostras['Amostra_' + str(i)] = _\n",
      "C:\\Users\\Tiago\\AppData\\Local\\Temp\\ipykernel_18996\\3166345054.py:4: PerformanceWarning: DataFrame is highly fragmented.  This is usually the result of calling `frame.insert` many times, which has poor performance.  Consider joining all columns at once using pd.concat(axis=1) instead. To get a de-fragmented frame, use `newframe = frame.copy()`\n",
      "  amostras['Amostra_' + str(i)] = _\n",
      "C:\\Users\\Tiago\\AppData\\Local\\Temp\\ipykernel_18996\\3166345054.py:4: PerformanceWarning: DataFrame is highly fragmented.  This is usually the result of calling `frame.insert` many times, which has poor performance.  Consider joining all columns at once using pd.concat(axis=1) instead. To get a de-fragmented frame, use `newframe = frame.copy()`\n",
      "  amostras['Amostra_' + str(i)] = _\n",
      "C:\\Users\\Tiago\\AppData\\Local\\Temp\\ipykernel_18996\\3166345054.py:4: PerformanceWarning: DataFrame is highly fragmented.  This is usually the result of calling `frame.insert` many times, which has poor performance.  Consider joining all columns at once using pd.concat(axis=1) instead. To get a de-fragmented frame, use `newframe = frame.copy()`\n",
      "  amostras['Amostra_' + str(i)] = _\n",
      "C:\\Users\\Tiago\\AppData\\Local\\Temp\\ipykernel_18996\\3166345054.py:4: PerformanceWarning: DataFrame is highly fragmented.  This is usually the result of calling `frame.insert` many times, which has poor performance.  Consider joining all columns at once using pd.concat(axis=1) instead. To get a de-fragmented frame, use `newframe = frame.copy()`\n",
      "  amostras['Amostra_' + str(i)] = _\n",
      "C:\\Users\\Tiago\\AppData\\Local\\Temp\\ipykernel_18996\\3166345054.py:4: PerformanceWarning: DataFrame is highly fragmented.  This is usually the result of calling `frame.insert` many times, which has poor performance.  Consider joining all columns at once using pd.concat(axis=1) instead. To get a de-fragmented frame, use `newframe = frame.copy()`\n",
      "  amostras['Amostra_' + str(i)] = _\n",
      "C:\\Users\\Tiago\\AppData\\Local\\Temp\\ipykernel_18996\\3166345054.py:4: PerformanceWarning: DataFrame is highly fragmented.  This is usually the result of calling `frame.insert` many times, which has poor performance.  Consider joining all columns at once using pd.concat(axis=1) instead. To get a de-fragmented frame, use `newframe = frame.copy()`\n",
      "  amostras['Amostra_' + str(i)] = _\n",
      "C:\\Users\\Tiago\\AppData\\Local\\Temp\\ipykernel_18996\\3166345054.py:4: PerformanceWarning: DataFrame is highly fragmented.  This is usually the result of calling `frame.insert` many times, which has poor performance.  Consider joining all columns at once using pd.concat(axis=1) instead. To get a de-fragmented frame, use `newframe = frame.copy()`\n",
      "  amostras['Amostra_' + str(i)] = _\n",
      "C:\\Users\\Tiago\\AppData\\Local\\Temp\\ipykernel_18996\\3166345054.py:4: PerformanceWarning: DataFrame is highly fragmented.  This is usually the result of calling `frame.insert` many times, which has poor performance.  Consider joining all columns at once using pd.concat(axis=1) instead. To get a de-fragmented frame, use `newframe = frame.copy()`\n",
      "  amostras['Amostra_' + str(i)] = _\n",
      "C:\\Users\\Tiago\\AppData\\Local\\Temp\\ipykernel_18996\\3166345054.py:4: PerformanceWarning: DataFrame is highly fragmented.  This is usually the result of calling `frame.insert` many times, which has poor performance.  Consider joining all columns at once using pd.concat(axis=1) instead. To get a de-fragmented frame, use `newframe = frame.copy()`\n",
      "  amostras['Amostra_' + str(i)] = _\n",
      "C:\\Users\\Tiago\\AppData\\Local\\Temp\\ipykernel_18996\\3166345054.py:4: PerformanceWarning: DataFrame is highly fragmented.  This is usually the result of calling `frame.insert` many times, which has poor performance.  Consider joining all columns at once using pd.concat(axis=1) instead. To get a de-fragmented frame, use `newframe = frame.copy()`\n",
      "  amostras['Amostra_' + str(i)] = _\n",
      "C:\\Users\\Tiago\\AppData\\Local\\Temp\\ipykernel_18996\\3166345054.py:4: PerformanceWarning: DataFrame is highly fragmented.  This is usually the result of calling `frame.insert` many times, which has poor performance.  Consider joining all columns at once using pd.concat(axis=1) instead. To get a de-fragmented frame, use `newframe = frame.copy()`\n",
      "  amostras['Amostra_' + str(i)] = _\n",
      "C:\\Users\\Tiago\\AppData\\Local\\Temp\\ipykernel_18996\\3166345054.py:4: PerformanceWarning: DataFrame is highly fragmented.  This is usually the result of calling `frame.insert` many times, which has poor performance.  Consider joining all columns at once using pd.concat(axis=1) instead. To get a de-fragmented frame, use `newframe = frame.copy()`\n",
      "  amostras['Amostra_' + str(i)] = _\n",
      "C:\\Users\\Tiago\\AppData\\Local\\Temp\\ipykernel_18996\\3166345054.py:4: PerformanceWarning: DataFrame is highly fragmented.  This is usually the result of calling `frame.insert` many times, which has poor performance.  Consider joining all columns at once using pd.concat(axis=1) instead. To get a de-fragmented frame, use `newframe = frame.copy()`\n",
      "  amostras['Amostra_' + str(i)] = _\n",
      "C:\\Users\\Tiago\\AppData\\Local\\Temp\\ipykernel_18996\\3166345054.py:4: PerformanceWarning: DataFrame is highly fragmented.  This is usually the result of calling `frame.insert` many times, which has poor performance.  Consider joining all columns at once using pd.concat(axis=1) instead. To get a de-fragmented frame, use `newframe = frame.copy()`\n",
      "  amostras['Amostra_' + str(i)] = _\n",
      "C:\\Users\\Tiago\\AppData\\Local\\Temp\\ipykernel_18996\\3166345054.py:4: PerformanceWarning: DataFrame is highly fragmented.  This is usually the result of calling `frame.insert` many times, which has poor performance.  Consider joining all columns at once using pd.concat(axis=1) instead. To get a de-fragmented frame, use `newframe = frame.copy()`\n",
      "  amostras['Amostra_' + str(i)] = _\n",
      "C:\\Users\\Tiago\\AppData\\Local\\Temp\\ipykernel_18996\\3166345054.py:4: PerformanceWarning: DataFrame is highly fragmented.  This is usually the result of calling `frame.insert` many times, which has poor performance.  Consider joining all columns at once using pd.concat(axis=1) instead. To get a de-fragmented frame, use `newframe = frame.copy()`\n",
      "  amostras['Amostra_' + str(i)] = _\n",
      "C:\\Users\\Tiago\\AppData\\Local\\Temp\\ipykernel_18996\\3166345054.py:4: PerformanceWarning: DataFrame is highly fragmented.  This is usually the result of calling `frame.insert` many times, which has poor performance.  Consider joining all columns at once using pd.concat(axis=1) instead. To get a de-fragmented frame, use `newframe = frame.copy()`\n",
      "  amostras['Amostra_' + str(i)] = _\n",
      "C:\\Users\\Tiago\\AppData\\Local\\Temp\\ipykernel_18996\\3166345054.py:4: PerformanceWarning: DataFrame is highly fragmented.  This is usually the result of calling `frame.insert` many times, which has poor performance.  Consider joining all columns at once using pd.concat(axis=1) instead. To get a de-fragmented frame, use `newframe = frame.copy()`\n",
      "  amostras['Amostra_' + str(i)] = _\n",
      "C:\\Users\\Tiago\\AppData\\Local\\Temp\\ipykernel_18996\\3166345054.py:4: PerformanceWarning: DataFrame is highly fragmented.  This is usually the result of calling `frame.insert` many times, which has poor performance.  Consider joining all columns at once using pd.concat(axis=1) instead. To get a de-fragmented frame, use `newframe = frame.copy()`\n",
      "  amostras['Amostra_' + str(i)] = _\n",
      "C:\\Users\\Tiago\\AppData\\Local\\Temp\\ipykernel_18996\\3166345054.py:4: PerformanceWarning: DataFrame is highly fragmented.  This is usually the result of calling `frame.insert` many times, which has poor performance.  Consider joining all columns at once using pd.concat(axis=1) instead. To get a de-fragmented frame, use `newframe = frame.copy()`\n",
      "  amostras['Amostra_' + str(i)] = _\n",
      "C:\\Users\\Tiago\\AppData\\Local\\Temp\\ipykernel_18996\\3166345054.py:4: PerformanceWarning: DataFrame is highly fragmented.  This is usually the result of calling `frame.insert` many times, which has poor performance.  Consider joining all columns at once using pd.concat(axis=1) instead. To get a de-fragmented frame, use `newframe = frame.copy()`\n",
      "  amostras['Amostra_' + str(i)] = _\n",
      "C:\\Users\\Tiago\\AppData\\Local\\Temp\\ipykernel_18996\\3166345054.py:4: PerformanceWarning: DataFrame is highly fragmented.  This is usually the result of calling `frame.insert` many times, which has poor performance.  Consider joining all columns at once using pd.concat(axis=1) instead. To get a de-fragmented frame, use `newframe = frame.copy()`\n",
      "  amostras['Amostra_' + str(i)] = _\n",
      "C:\\Users\\Tiago\\AppData\\Local\\Temp\\ipykernel_18996\\3166345054.py:4: PerformanceWarning: DataFrame is highly fragmented.  This is usually the result of calling `frame.insert` many times, which has poor performance.  Consider joining all columns at once using pd.concat(axis=1) instead. To get a de-fragmented frame, use `newframe = frame.copy()`\n",
      "  amostras['Amostra_' + str(i)] = _\n",
      "C:\\Users\\Tiago\\AppData\\Local\\Temp\\ipykernel_18996\\3166345054.py:4: PerformanceWarning: DataFrame is highly fragmented.  This is usually the result of calling `frame.insert` many times, which has poor performance.  Consider joining all columns at once using pd.concat(axis=1) instead. To get a de-fragmented frame, use `newframe = frame.copy()`\n",
      "  amostras['Amostra_' + str(i)] = _\n",
      "C:\\Users\\Tiago\\AppData\\Local\\Temp\\ipykernel_18996\\3166345054.py:4: PerformanceWarning: DataFrame is highly fragmented.  This is usually the result of calling `frame.insert` many times, which has poor performance.  Consider joining all columns at once using pd.concat(axis=1) instead. To get a de-fragmented frame, use `newframe = frame.copy()`\n",
      "  amostras['Amostra_' + str(i)] = _\n",
      "C:\\Users\\Tiago\\AppData\\Local\\Temp\\ipykernel_18996\\3166345054.py:4: PerformanceWarning: DataFrame is highly fragmented.  This is usually the result of calling `frame.insert` many times, which has poor performance.  Consider joining all columns at once using pd.concat(axis=1) instead. To get a de-fragmented frame, use `newframe = frame.copy()`\n",
      "  amostras['Amostra_' + str(i)] = _\n",
      "C:\\Users\\Tiago\\AppData\\Local\\Temp\\ipykernel_18996\\3166345054.py:4: PerformanceWarning: DataFrame is highly fragmented.  This is usually the result of calling `frame.insert` many times, which has poor performance.  Consider joining all columns at once using pd.concat(axis=1) instead. To get a de-fragmented frame, use `newframe = frame.copy()`\n",
      "  amostras['Amostra_' + str(i)] = _\n",
      "C:\\Users\\Tiago\\AppData\\Local\\Temp\\ipykernel_18996\\3166345054.py:4: PerformanceWarning: DataFrame is highly fragmented.  This is usually the result of calling `frame.insert` many times, which has poor performance.  Consider joining all columns at once using pd.concat(axis=1) instead. To get a de-fragmented frame, use `newframe = frame.copy()`\n",
      "  amostras['Amostra_' + str(i)] = _\n",
      "C:\\Users\\Tiago\\AppData\\Local\\Temp\\ipykernel_18996\\3166345054.py:4: PerformanceWarning: DataFrame is highly fragmented.  This is usually the result of calling `frame.insert` many times, which has poor performance.  Consider joining all columns at once using pd.concat(axis=1) instead. To get a de-fragmented frame, use `newframe = frame.copy()`\n",
      "  amostras['Amostra_' + str(i)] = _\n",
      "C:\\Users\\Tiago\\AppData\\Local\\Temp\\ipykernel_18996\\3166345054.py:4: PerformanceWarning: DataFrame is highly fragmented.  This is usually the result of calling `frame.insert` many times, which has poor performance.  Consider joining all columns at once using pd.concat(axis=1) instead. To get a de-fragmented frame, use `newframe = frame.copy()`\n",
      "  amostras['Amostra_' + str(i)] = _\n",
      "C:\\Users\\Tiago\\AppData\\Local\\Temp\\ipykernel_18996\\3166345054.py:4: PerformanceWarning: DataFrame is highly fragmented.  This is usually the result of calling `frame.insert` many times, which has poor performance.  Consider joining all columns at once using pd.concat(axis=1) instead. To get a de-fragmented frame, use `newframe = frame.copy()`\n",
      "  amostras['Amostra_' + str(i)] = _\n",
      "C:\\Users\\Tiago\\AppData\\Local\\Temp\\ipykernel_18996\\3166345054.py:4: PerformanceWarning: DataFrame is highly fragmented.  This is usually the result of calling `frame.insert` many times, which has poor performance.  Consider joining all columns at once using pd.concat(axis=1) instead. To get a de-fragmented frame, use `newframe = frame.copy()`\n",
      "  amostras['Amostra_' + str(i)] = _\n",
      "C:\\Users\\Tiago\\AppData\\Local\\Temp\\ipykernel_18996\\3166345054.py:4: PerformanceWarning: DataFrame is highly fragmented.  This is usually the result of calling `frame.insert` many times, which has poor performance.  Consider joining all columns at once using pd.concat(axis=1) instead. To get a de-fragmented frame, use `newframe = frame.copy()`\n",
      "  amostras['Amostra_' + str(i)] = _\n",
      "C:\\Users\\Tiago\\AppData\\Local\\Temp\\ipykernel_18996\\3166345054.py:4: PerformanceWarning: DataFrame is highly fragmented.  This is usually the result of calling `frame.insert` many times, which has poor performance.  Consider joining all columns at once using pd.concat(axis=1) instead. To get a de-fragmented frame, use `newframe = frame.copy()`\n",
      "  amostras['Amostra_' + str(i)] = _\n",
      "C:\\Users\\Tiago\\AppData\\Local\\Temp\\ipykernel_18996\\3166345054.py:4: PerformanceWarning: DataFrame is highly fragmented.  This is usually the result of calling `frame.insert` many times, which has poor performance.  Consider joining all columns at once using pd.concat(axis=1) instead. To get a de-fragmented frame, use `newframe = frame.copy()`\n",
      "  amostras['Amostra_' + str(i)] = _\n",
      "C:\\Users\\Tiago\\AppData\\Local\\Temp\\ipykernel_18996\\3166345054.py:4: PerformanceWarning: DataFrame is highly fragmented.  This is usually the result of calling `frame.insert` many times, which has poor performance.  Consider joining all columns at once using pd.concat(axis=1) instead. To get a de-fragmented frame, use `newframe = frame.copy()`\n",
      "  amostras['Amostra_' + str(i)] = _\n",
      "C:\\Users\\Tiago\\AppData\\Local\\Temp\\ipykernel_18996\\3166345054.py:4: PerformanceWarning: DataFrame is highly fragmented.  This is usually the result of calling `frame.insert` many times, which has poor performance.  Consider joining all columns at once using pd.concat(axis=1) instead. To get a de-fragmented frame, use `newframe = frame.copy()`\n",
      "  amostras['Amostra_' + str(i)] = _\n",
      "C:\\Users\\Tiago\\AppData\\Local\\Temp\\ipykernel_18996\\3166345054.py:4: PerformanceWarning: DataFrame is highly fragmented.  This is usually the result of calling `frame.insert` many times, which has poor performance.  Consider joining all columns at once using pd.concat(axis=1) instead. To get a de-fragmented frame, use `newframe = frame.copy()`\n",
      "  amostras['Amostra_' + str(i)] = _\n",
      "C:\\Users\\Tiago\\AppData\\Local\\Temp\\ipykernel_18996\\3166345054.py:4: PerformanceWarning: DataFrame is highly fragmented.  This is usually the result of calling `frame.insert` many times, which has poor performance.  Consider joining all columns at once using pd.concat(axis=1) instead. To get a de-fragmented frame, use `newframe = frame.copy()`\n",
      "  amostras['Amostra_' + str(i)] = _\n",
      "C:\\Users\\Tiago\\AppData\\Local\\Temp\\ipykernel_18996\\3166345054.py:4: PerformanceWarning: DataFrame is highly fragmented.  This is usually the result of calling `frame.insert` many times, which has poor performance.  Consider joining all columns at once using pd.concat(axis=1) instead. To get a de-fragmented frame, use `newframe = frame.copy()`\n",
      "  amostras['Amostra_' + str(i)] = _\n",
      "C:\\Users\\Tiago\\AppData\\Local\\Temp\\ipykernel_18996\\3166345054.py:4: PerformanceWarning: DataFrame is highly fragmented.  This is usually the result of calling `frame.insert` many times, which has poor performance.  Consider joining all columns at once using pd.concat(axis=1) instead. To get a de-fragmented frame, use `newframe = frame.copy()`\n",
      "  amostras['Amostra_' + str(i)] = _\n",
      "C:\\Users\\Tiago\\AppData\\Local\\Temp\\ipykernel_18996\\3166345054.py:4: PerformanceWarning: DataFrame is highly fragmented.  This is usually the result of calling `frame.insert` many times, which has poor performance.  Consider joining all columns at once using pd.concat(axis=1) instead. To get a de-fragmented frame, use `newframe = frame.copy()`\n",
      "  amostras['Amostra_' + str(i)] = _\n",
      "C:\\Users\\Tiago\\AppData\\Local\\Temp\\ipykernel_18996\\3166345054.py:4: PerformanceWarning: DataFrame is highly fragmented.  This is usually the result of calling `frame.insert` many times, which has poor performance.  Consider joining all columns at once using pd.concat(axis=1) instead. To get a de-fragmented frame, use `newframe = frame.copy()`\n",
      "  amostras['Amostra_' + str(i)] = _\n",
      "C:\\Users\\Tiago\\AppData\\Local\\Temp\\ipykernel_18996\\3166345054.py:4: PerformanceWarning: DataFrame is highly fragmented.  This is usually the result of calling `frame.insert` many times, which has poor performance.  Consider joining all columns at once using pd.concat(axis=1) instead. To get a de-fragmented frame, use `newframe = frame.copy()`\n",
      "  amostras['Amostra_' + str(i)] = _\n",
      "C:\\Users\\Tiago\\AppData\\Local\\Temp\\ipykernel_18996\\3166345054.py:4: PerformanceWarning: DataFrame is highly fragmented.  This is usually the result of calling `frame.insert` many times, which has poor performance.  Consider joining all columns at once using pd.concat(axis=1) instead. To get a de-fragmented frame, use `newframe = frame.copy()`\n",
      "  amostras['Amostra_' + str(i)] = _\n",
      "C:\\Users\\Tiago\\AppData\\Local\\Temp\\ipykernel_18996\\3166345054.py:4: PerformanceWarning: DataFrame is highly fragmented.  This is usually the result of calling `frame.insert` many times, which has poor performance.  Consider joining all columns at once using pd.concat(axis=1) instead. To get a de-fragmented frame, use `newframe = frame.copy()`\n",
      "  amostras['Amostra_' + str(i)] = _\n",
      "C:\\Users\\Tiago\\AppData\\Local\\Temp\\ipykernel_18996\\3166345054.py:4: PerformanceWarning: DataFrame is highly fragmented.  This is usually the result of calling `frame.insert` many times, which has poor performance.  Consider joining all columns at once using pd.concat(axis=1) instead. To get a de-fragmented frame, use `newframe = frame.copy()`\n",
      "  amostras['Amostra_' + str(i)] = _\n",
      "C:\\Users\\Tiago\\AppData\\Local\\Temp\\ipykernel_18996\\3166345054.py:4: PerformanceWarning: DataFrame is highly fragmented.  This is usually the result of calling `frame.insert` many times, which has poor performance.  Consider joining all columns at once using pd.concat(axis=1) instead. To get a de-fragmented frame, use `newframe = frame.copy()`\n",
      "  amostras['Amostra_' + str(i)] = _\n",
      "C:\\Users\\Tiago\\AppData\\Local\\Temp\\ipykernel_18996\\3166345054.py:4: PerformanceWarning: DataFrame is highly fragmented.  This is usually the result of calling `frame.insert` many times, which has poor performance.  Consider joining all columns at once using pd.concat(axis=1) instead. To get a de-fragmented frame, use `newframe = frame.copy()`\n",
      "  amostras['Amostra_' + str(i)] = _\n",
      "C:\\Users\\Tiago\\AppData\\Local\\Temp\\ipykernel_18996\\3166345054.py:4: PerformanceWarning: DataFrame is highly fragmented.  This is usually the result of calling `frame.insert` many times, which has poor performance.  Consider joining all columns at once using pd.concat(axis=1) instead. To get a de-fragmented frame, use `newframe = frame.copy()`\n",
      "  amostras['Amostra_' + str(i)] = _\n",
      "C:\\Users\\Tiago\\AppData\\Local\\Temp\\ipykernel_18996\\3166345054.py:4: PerformanceWarning: DataFrame is highly fragmented.  This is usually the result of calling `frame.insert` many times, which has poor performance.  Consider joining all columns at once using pd.concat(axis=1) instead. To get a de-fragmented frame, use `newframe = frame.copy()`\n",
      "  amostras['Amostra_' + str(i)] = _\n",
      "C:\\Users\\Tiago\\AppData\\Local\\Temp\\ipykernel_18996\\3166345054.py:4: PerformanceWarning: DataFrame is highly fragmented.  This is usually the result of calling `frame.insert` many times, which has poor performance.  Consider joining all columns at once using pd.concat(axis=1) instead. To get a de-fragmented frame, use `newframe = frame.copy()`\n",
      "  amostras['Amostra_' + str(i)] = _\n",
      "C:\\Users\\Tiago\\AppData\\Local\\Temp\\ipykernel_18996\\3166345054.py:4: PerformanceWarning: DataFrame is highly fragmented.  This is usually the result of calling `frame.insert` many times, which has poor performance.  Consider joining all columns at once using pd.concat(axis=1) instead. To get a de-fragmented frame, use `newframe = frame.copy()`\n",
      "  amostras['Amostra_' + str(i)] = _\n",
      "C:\\Users\\Tiago\\AppData\\Local\\Temp\\ipykernel_18996\\3166345054.py:4: PerformanceWarning: DataFrame is highly fragmented.  This is usually the result of calling `frame.insert` many times, which has poor performance.  Consider joining all columns at once using pd.concat(axis=1) instead. To get a de-fragmented frame, use `newframe = frame.copy()`\n",
      "  amostras['Amostra_' + str(i)] = _\n",
      "C:\\Users\\Tiago\\AppData\\Local\\Temp\\ipykernel_18996\\3166345054.py:4: PerformanceWarning: DataFrame is highly fragmented.  This is usually the result of calling `frame.insert` many times, which has poor performance.  Consider joining all columns at once using pd.concat(axis=1) instead. To get a de-fragmented frame, use `newframe = frame.copy()`\n",
      "  amostras['Amostra_' + str(i)] = _\n",
      "C:\\Users\\Tiago\\AppData\\Local\\Temp\\ipykernel_18996\\3166345054.py:4: PerformanceWarning: DataFrame is highly fragmented.  This is usually the result of calling `frame.insert` many times, which has poor performance.  Consider joining all columns at once using pd.concat(axis=1) instead. To get a de-fragmented frame, use `newframe = frame.copy()`\n",
      "  amostras['Amostra_' + str(i)] = _\n",
      "C:\\Users\\Tiago\\AppData\\Local\\Temp\\ipykernel_18996\\3166345054.py:4: PerformanceWarning: DataFrame is highly fragmented.  This is usually the result of calling `frame.insert` many times, which has poor performance.  Consider joining all columns at once using pd.concat(axis=1) instead. To get a de-fragmented frame, use `newframe = frame.copy()`\n",
      "  amostras['Amostra_' + str(i)] = _\n",
      "C:\\Users\\Tiago\\AppData\\Local\\Temp\\ipykernel_18996\\3166345054.py:4: PerformanceWarning: DataFrame is highly fragmented.  This is usually the result of calling `frame.insert` many times, which has poor performance.  Consider joining all columns at once using pd.concat(axis=1) instead. To get a de-fragmented frame, use `newframe = frame.copy()`\n",
      "  amostras['Amostra_' + str(i)] = _\n",
      "C:\\Users\\Tiago\\AppData\\Local\\Temp\\ipykernel_18996\\3166345054.py:4: PerformanceWarning: DataFrame is highly fragmented.  This is usually the result of calling `frame.insert` many times, which has poor performance.  Consider joining all columns at once using pd.concat(axis=1) instead. To get a de-fragmented frame, use `newframe = frame.copy()`\n",
      "  amostras['Amostra_' + str(i)] = _\n",
      "C:\\Users\\Tiago\\AppData\\Local\\Temp\\ipykernel_18996\\3166345054.py:4: PerformanceWarning: DataFrame is highly fragmented.  This is usually the result of calling `frame.insert` many times, which has poor performance.  Consider joining all columns at once using pd.concat(axis=1) instead. To get a de-fragmented frame, use `newframe = frame.copy()`\n",
      "  amostras['Amostra_' + str(i)] = _\n",
      "C:\\Users\\Tiago\\AppData\\Local\\Temp\\ipykernel_18996\\3166345054.py:4: PerformanceWarning: DataFrame is highly fragmented.  This is usually the result of calling `frame.insert` many times, which has poor performance.  Consider joining all columns at once using pd.concat(axis=1) instead. To get a de-fragmented frame, use `newframe = frame.copy()`\n",
      "  amostras['Amostra_' + str(i)] = _\n",
      "C:\\Users\\Tiago\\AppData\\Local\\Temp\\ipykernel_18996\\3166345054.py:4: PerformanceWarning: DataFrame is highly fragmented.  This is usually the result of calling `frame.insert` many times, which has poor performance.  Consider joining all columns at once using pd.concat(axis=1) instead. To get a de-fragmented frame, use `newframe = frame.copy()`\n",
      "  amostras['Amostra_' + str(i)] = _\n",
      "C:\\Users\\Tiago\\AppData\\Local\\Temp\\ipykernel_18996\\3166345054.py:4: PerformanceWarning: DataFrame is highly fragmented.  This is usually the result of calling `frame.insert` many times, which has poor performance.  Consider joining all columns at once using pd.concat(axis=1) instead. To get a de-fragmented frame, use `newframe = frame.copy()`\n",
      "  amostras['Amostra_' + str(i)] = _\n",
      "C:\\Users\\Tiago\\AppData\\Local\\Temp\\ipykernel_18996\\3166345054.py:4: PerformanceWarning: DataFrame is highly fragmented.  This is usually the result of calling `frame.insert` many times, which has poor performance.  Consider joining all columns at once using pd.concat(axis=1) instead. To get a de-fragmented frame, use `newframe = frame.copy()`\n",
      "  amostras['Amostra_' + str(i)] = _\n",
      "C:\\Users\\Tiago\\AppData\\Local\\Temp\\ipykernel_18996\\3166345054.py:4: PerformanceWarning: DataFrame is highly fragmented.  This is usually the result of calling `frame.insert` many times, which has poor performance.  Consider joining all columns at once using pd.concat(axis=1) instead. To get a de-fragmented frame, use `newframe = frame.copy()`\n",
      "  amostras['Amostra_' + str(i)] = _\n",
      "C:\\Users\\Tiago\\AppData\\Local\\Temp\\ipykernel_18996\\3166345054.py:4: PerformanceWarning: DataFrame is highly fragmented.  This is usually the result of calling `frame.insert` many times, which has poor performance.  Consider joining all columns at once using pd.concat(axis=1) instead. To get a de-fragmented frame, use `newframe = frame.copy()`\n",
      "  amostras['Amostra_' + str(i)] = _\n",
      "C:\\Users\\Tiago\\AppData\\Local\\Temp\\ipykernel_18996\\3166345054.py:4: PerformanceWarning: DataFrame is highly fragmented.  This is usually the result of calling `frame.insert` many times, which has poor performance.  Consider joining all columns at once using pd.concat(axis=1) instead. To get a de-fragmented frame, use `newframe = frame.copy()`\n",
      "  amostras['Amostra_' + str(i)] = _\n",
      "C:\\Users\\Tiago\\AppData\\Local\\Temp\\ipykernel_18996\\3166345054.py:4: PerformanceWarning: DataFrame is highly fragmented.  This is usually the result of calling `frame.insert` many times, which has poor performance.  Consider joining all columns at once using pd.concat(axis=1) instead. To get a de-fragmented frame, use `newframe = frame.copy()`\n",
      "  amostras['Amostra_' + str(i)] = _\n",
      "C:\\Users\\Tiago\\AppData\\Local\\Temp\\ipykernel_18996\\3166345054.py:4: PerformanceWarning: DataFrame is highly fragmented.  This is usually the result of calling `frame.insert` many times, which has poor performance.  Consider joining all columns at once using pd.concat(axis=1) instead. To get a de-fragmented frame, use `newframe = frame.copy()`\n",
      "  amostras['Amostra_' + str(i)] = _\n",
      "C:\\Users\\Tiago\\AppData\\Local\\Temp\\ipykernel_18996\\3166345054.py:4: PerformanceWarning: DataFrame is highly fragmented.  This is usually the result of calling `frame.insert` many times, which has poor performance.  Consider joining all columns at once using pd.concat(axis=1) instead. To get a de-fragmented frame, use `newframe = frame.copy()`\n",
      "  amostras['Amostra_' + str(i)] = _\n",
      "C:\\Users\\Tiago\\AppData\\Local\\Temp\\ipykernel_18996\\3166345054.py:4: PerformanceWarning: DataFrame is highly fragmented.  This is usually the result of calling `frame.insert` many times, which has poor performance.  Consider joining all columns at once using pd.concat(axis=1) instead. To get a de-fragmented frame, use `newframe = frame.copy()`\n",
      "  amostras['Amostra_' + str(i)] = _\n",
      "C:\\Users\\Tiago\\AppData\\Local\\Temp\\ipykernel_18996\\3166345054.py:4: PerformanceWarning: DataFrame is highly fragmented.  This is usually the result of calling `frame.insert` many times, which has poor performance.  Consider joining all columns at once using pd.concat(axis=1) instead. To get a de-fragmented frame, use `newframe = frame.copy()`\n",
      "  amostras['Amostra_' + str(i)] = _\n",
      "C:\\Users\\Tiago\\AppData\\Local\\Temp\\ipykernel_18996\\3166345054.py:4: PerformanceWarning: DataFrame is highly fragmented.  This is usually the result of calling `frame.insert` many times, which has poor performance.  Consider joining all columns at once using pd.concat(axis=1) instead. To get a de-fragmented frame, use `newframe = frame.copy()`\n",
      "  amostras['Amostra_' + str(i)] = _\n",
      "C:\\Users\\Tiago\\AppData\\Local\\Temp\\ipykernel_18996\\3166345054.py:4: PerformanceWarning: DataFrame is highly fragmented.  This is usually the result of calling `frame.insert` many times, which has poor performance.  Consider joining all columns at once using pd.concat(axis=1) instead. To get a de-fragmented frame, use `newframe = frame.copy()`\n",
      "  amostras['Amostra_' + str(i)] = _\n",
      "C:\\Users\\Tiago\\AppData\\Local\\Temp\\ipykernel_18996\\3166345054.py:4: PerformanceWarning: DataFrame is highly fragmented.  This is usually the result of calling `frame.insert` many times, which has poor performance.  Consider joining all columns at once using pd.concat(axis=1) instead. To get a de-fragmented frame, use `newframe = frame.copy()`\n",
      "  amostras['Amostra_' + str(i)] = _\n",
      "C:\\Users\\Tiago\\AppData\\Local\\Temp\\ipykernel_18996\\3166345054.py:4: PerformanceWarning: DataFrame is highly fragmented.  This is usually the result of calling `frame.insert` many times, which has poor performance.  Consider joining all columns at once using pd.concat(axis=1) instead. To get a de-fragmented frame, use `newframe = frame.copy()`\n",
      "  amostras['Amostra_' + str(i)] = _\n",
      "C:\\Users\\Tiago\\AppData\\Local\\Temp\\ipykernel_18996\\3166345054.py:4: PerformanceWarning: DataFrame is highly fragmented.  This is usually the result of calling `frame.insert` many times, which has poor performance.  Consider joining all columns at once using pd.concat(axis=1) instead. To get a de-fragmented frame, use `newframe = frame.copy()`\n",
      "  amostras['Amostra_' + str(i)] = _\n",
      "C:\\Users\\Tiago\\AppData\\Local\\Temp\\ipykernel_18996\\3166345054.py:4: PerformanceWarning: DataFrame is highly fragmented.  This is usually the result of calling `frame.insert` many times, which has poor performance.  Consider joining all columns at once using pd.concat(axis=1) instead. To get a de-fragmented frame, use `newframe = frame.copy()`\n",
      "  amostras['Amostra_' + str(i)] = _\n",
      "C:\\Users\\Tiago\\AppData\\Local\\Temp\\ipykernel_18996\\3166345054.py:4: PerformanceWarning: DataFrame is highly fragmented.  This is usually the result of calling `frame.insert` many times, which has poor performance.  Consider joining all columns at once using pd.concat(axis=1) instead. To get a de-fragmented frame, use `newframe = frame.copy()`\n",
      "  amostras['Amostra_' + str(i)] = _\n",
      "C:\\Users\\Tiago\\AppData\\Local\\Temp\\ipykernel_18996\\3166345054.py:4: PerformanceWarning: DataFrame is highly fragmented.  This is usually the result of calling `frame.insert` many times, which has poor performance.  Consider joining all columns at once using pd.concat(axis=1) instead. To get a de-fragmented frame, use `newframe = frame.copy()`\n",
      "  amostras['Amostra_' + str(i)] = _\n",
      "C:\\Users\\Tiago\\AppData\\Local\\Temp\\ipykernel_18996\\3166345054.py:4: PerformanceWarning: DataFrame is highly fragmented.  This is usually the result of calling `frame.insert` many times, which has poor performance.  Consider joining all columns at once using pd.concat(axis=1) instead. To get a de-fragmented frame, use `newframe = frame.copy()`\n",
      "  amostras['Amostra_' + str(i)] = _\n",
      "C:\\Users\\Tiago\\AppData\\Local\\Temp\\ipykernel_18996\\3166345054.py:4: PerformanceWarning: DataFrame is highly fragmented.  This is usually the result of calling `frame.insert` many times, which has poor performance.  Consider joining all columns at once using pd.concat(axis=1) instead. To get a de-fragmented frame, use `newframe = frame.copy()`\n",
      "  amostras['Amostra_' + str(i)] = _\n",
      "C:\\Users\\Tiago\\AppData\\Local\\Temp\\ipykernel_18996\\3166345054.py:4: PerformanceWarning: DataFrame is highly fragmented.  This is usually the result of calling `frame.insert` many times, which has poor performance.  Consider joining all columns at once using pd.concat(axis=1) instead. To get a de-fragmented frame, use `newframe = frame.copy()`\n",
      "  amostras['Amostra_' + str(i)] = _\n",
      "C:\\Users\\Tiago\\AppData\\Local\\Temp\\ipykernel_18996\\3166345054.py:4: PerformanceWarning: DataFrame is highly fragmented.  This is usually the result of calling `frame.insert` many times, which has poor performance.  Consider joining all columns at once using pd.concat(axis=1) instead. To get a de-fragmented frame, use `newframe = frame.copy()`\n",
      "  amostras['Amostra_' + str(i)] = _\n",
      "C:\\Users\\Tiago\\AppData\\Local\\Temp\\ipykernel_18996\\3166345054.py:4: PerformanceWarning: DataFrame is highly fragmented.  This is usually the result of calling `frame.insert` many times, which has poor performance.  Consider joining all columns at once using pd.concat(axis=1) instead. To get a de-fragmented frame, use `newframe = frame.copy()`\n",
      "  amostras['Amostra_' + str(i)] = _\n",
      "C:\\Users\\Tiago\\AppData\\Local\\Temp\\ipykernel_18996\\3166345054.py:4: PerformanceWarning: DataFrame is highly fragmented.  This is usually the result of calling `frame.insert` many times, which has poor performance.  Consider joining all columns at once using pd.concat(axis=1) instead. To get a de-fragmented frame, use `newframe = frame.copy()`\n",
      "  amostras['Amostra_' + str(i)] = _\n",
      "C:\\Users\\Tiago\\AppData\\Local\\Temp\\ipykernel_18996\\3166345054.py:4: PerformanceWarning: DataFrame is highly fragmented.  This is usually the result of calling `frame.insert` many times, which has poor performance.  Consider joining all columns at once using pd.concat(axis=1) instead. To get a de-fragmented frame, use `newframe = frame.copy()`\n",
      "  amostras['Amostra_' + str(i)] = _\n",
      "C:\\Users\\Tiago\\AppData\\Local\\Temp\\ipykernel_18996\\3166345054.py:4: PerformanceWarning: DataFrame is highly fragmented.  This is usually the result of calling `frame.insert` many times, which has poor performance.  Consider joining all columns at once using pd.concat(axis=1) instead. To get a de-fragmented frame, use `newframe = frame.copy()`\n",
      "  amostras['Amostra_' + str(i)] = _\n",
      "C:\\Users\\Tiago\\AppData\\Local\\Temp\\ipykernel_18996\\3166345054.py:4: PerformanceWarning: DataFrame is highly fragmented.  This is usually the result of calling `frame.insert` many times, which has poor performance.  Consider joining all columns at once using pd.concat(axis=1) instead. To get a de-fragmented frame, use `newframe = frame.copy()`\n",
      "  amostras['Amostra_' + str(i)] = _\n",
      "C:\\Users\\Tiago\\AppData\\Local\\Temp\\ipykernel_18996\\3166345054.py:4: PerformanceWarning: DataFrame is highly fragmented.  This is usually the result of calling `frame.insert` many times, which has poor performance.  Consider joining all columns at once using pd.concat(axis=1) instead. To get a de-fragmented frame, use `newframe = frame.copy()`\n",
      "  amostras['Amostra_' + str(i)] = _\n",
      "C:\\Users\\Tiago\\AppData\\Local\\Temp\\ipykernel_18996\\3166345054.py:4: PerformanceWarning: DataFrame is highly fragmented.  This is usually the result of calling `frame.insert` many times, which has poor performance.  Consider joining all columns at once using pd.concat(axis=1) instead. To get a de-fragmented frame, use `newframe = frame.copy()`\n",
      "  amostras['Amostra_' + str(i)] = _\n"
     ]
    },
    {
     "data": {
      "text/html": [
       "<div>\n",
       "<style scoped>\n",
       "    .dataframe tbody tr th:only-of-type {\n",
       "        vertical-align: middle;\n",
       "    }\n",
       "\n",
       "    .dataframe tbody tr th {\n",
       "        vertical-align: top;\n",
       "    }\n",
       "\n",
       "    .dataframe thead th {\n",
       "        text-align: right;\n",
       "    }\n",
       "</style>\n",
       "<table border=\"1\" class=\"dataframe\">\n",
       "  <thead>\n",
       "    <tr style=\"text-align: right;\">\n",
       "      <th></th>\n",
       "      <th>Amostra_0</th>\n",
       "      <th>Amostra_1</th>\n",
       "      <th>Amostra_2</th>\n",
       "      <th>Amostra_3</th>\n",
       "      <th>Amostra_4</th>\n",
       "      <th>Amostra_5</th>\n",
       "      <th>Amostra_6</th>\n",
       "      <th>Amostra_7</th>\n",
       "      <th>Amostra_8</th>\n",
       "      <th>Amostra_9</th>\n",
       "      <th>...</th>\n",
       "      <th>Amostra_1490</th>\n",
       "      <th>Amostra_1491</th>\n",
       "      <th>Amostra_1492</th>\n",
       "      <th>Amostra_1493</th>\n",
       "      <th>Amostra_1494</th>\n",
       "      <th>Amostra_1495</th>\n",
       "      <th>Amostra_1496</th>\n",
       "      <th>Amostra_1497</th>\n",
       "      <th>Amostra_1498</th>\n",
       "      <th>Amostra_1499</th>\n",
       "    </tr>\n",
       "  </thead>\n",
       "  <tbody>\n",
       "    <tr>\n",
       "      <th>0</th>\n",
       "      <td>43</td>\n",
       "      <td>44</td>\n",
       "      <td>29</td>\n",
       "      <td>67</td>\n",
       "      <td>52</td>\n",
       "      <td>53</td>\n",
       "      <td>26</td>\n",
       "      <td>32</td>\n",
       "      <td>45</td>\n",
       "      <td>33</td>\n",
       "      <td>...</td>\n",
       "      <td>51</td>\n",
       "      <td>36</td>\n",
       "      <td>45</td>\n",
       "      <td>60</td>\n",
       "      <td>34</td>\n",
       "      <td>66</td>\n",
       "      <td>44</td>\n",
       "      <td>50</td>\n",
       "      <td>32</td>\n",
       "      <td>44</td>\n",
       "    </tr>\n",
       "    <tr>\n",
       "      <th>1</th>\n",
       "      <td>54</td>\n",
       "      <td>81</td>\n",
       "      <td>57</td>\n",
       "      <td>36</td>\n",
       "      <td>35</td>\n",
       "      <td>45</td>\n",
       "      <td>63</td>\n",
       "      <td>74</td>\n",
       "      <td>22</td>\n",
       "      <td>47</td>\n",
       "      <td>...</td>\n",
       "      <td>52</td>\n",
       "      <td>56</td>\n",
       "      <td>50</td>\n",
       "      <td>32</td>\n",
       "      <td>25</td>\n",
       "      <td>30</td>\n",
       "      <td>39</td>\n",
       "      <td>37</td>\n",
       "      <td>38</td>\n",
       "      <td>51</td>\n",
       "    </tr>\n",
       "    <tr>\n",
       "      <th>2</th>\n",
       "      <td>30</td>\n",
       "      <td>42</td>\n",
       "      <td>51</td>\n",
       "      <td>59</td>\n",
       "      <td>58</td>\n",
       "      <td>53</td>\n",
       "      <td>46</td>\n",
       "      <td>44</td>\n",
       "      <td>39</td>\n",
       "      <td>46</td>\n",
       "      <td>...</td>\n",
       "      <td>68</td>\n",
       "      <td>54</td>\n",
       "      <td>34</td>\n",
       "      <td>50</td>\n",
       "      <td>29</td>\n",
       "      <td>36</td>\n",
       "      <td>46</td>\n",
       "      <td>32</td>\n",
       "      <td>34</td>\n",
       "      <td>41</td>\n",
       "    </tr>\n",
       "    <tr>\n",
       "      <th>3</th>\n",
       "      <td>43</td>\n",
       "      <td>24</td>\n",
       "      <td>52</td>\n",
       "      <td>24</td>\n",
       "      <td>51</td>\n",
       "      <td>54</td>\n",
       "      <td>25</td>\n",
       "      <td>33</td>\n",
       "      <td>45</td>\n",
       "      <td>28</td>\n",
       "      <td>...</td>\n",
       "      <td>51</td>\n",
       "      <td>43</td>\n",
       "      <td>59</td>\n",
       "      <td>35</td>\n",
       "      <td>44</td>\n",
       "      <td>53</td>\n",
       "      <td>60</td>\n",
       "      <td>50</td>\n",
       "      <td>65</td>\n",
       "      <td>75</td>\n",
       "    </tr>\n",
       "    <tr>\n",
       "      <th>4</th>\n",
       "      <td>55</td>\n",
       "      <td>32</td>\n",
       "      <td>53</td>\n",
       "      <td>25</td>\n",
       "      <td>70</td>\n",
       "      <td>47</td>\n",
       "      <td>47</td>\n",
       "      <td>35</td>\n",
       "      <td>49</td>\n",
       "      <td>26</td>\n",
       "      <td>...</td>\n",
       "      <td>47</td>\n",
       "      <td>58</td>\n",
       "      <td>60</td>\n",
       "      <td>25</td>\n",
       "      <td>61</td>\n",
       "      <td>55</td>\n",
       "      <td>37</td>\n",
       "      <td>30</td>\n",
       "      <td>46</td>\n",
       "      <td>55</td>\n",
       "    </tr>\n",
       "    <tr>\n",
       "      <th>...</th>\n",
       "      <td>...</td>\n",
       "      <td>...</td>\n",
       "      <td>...</td>\n",
       "      <td>...</td>\n",
       "      <td>...</td>\n",
       "      <td>...</td>\n",
       "      <td>...</td>\n",
       "      <td>...</td>\n",
       "      <td>...</td>\n",
       "      <td>...</td>\n",
       "      <td>...</td>\n",
       "      <td>...</td>\n",
       "      <td>...</td>\n",
       "      <td>...</td>\n",
       "      <td>...</td>\n",
       "      <td>...</td>\n",
       "      <td>...</td>\n",
       "      <td>...</td>\n",
       "      <td>...</td>\n",
       "      <td>...</td>\n",
       "      <td>...</td>\n",
       "    </tr>\n",
       "    <tr>\n",
       "      <th>1995</th>\n",
       "      <td>28</td>\n",
       "      <td>20</td>\n",
       "      <td>36</td>\n",
       "      <td>53</td>\n",
       "      <td>32</td>\n",
       "      <td>46</td>\n",
       "      <td>31</td>\n",
       "      <td>59</td>\n",
       "      <td>32</td>\n",
       "      <td>70</td>\n",
       "      <td>...</td>\n",
       "      <td>48</td>\n",
       "      <td>58</td>\n",
       "      <td>46</td>\n",
       "      <td>46</td>\n",
       "      <td>66</td>\n",
       "      <td>69</td>\n",
       "      <td>42</td>\n",
       "      <td>60</td>\n",
       "      <td>38</td>\n",
       "      <td>46</td>\n",
       "    </tr>\n",
       "    <tr>\n",
       "      <th>1996</th>\n",
       "      <td>50</td>\n",
       "      <td>40</td>\n",
       "      <td>42</td>\n",
       "      <td>62</td>\n",
       "      <td>40</td>\n",
       "      <td>32</td>\n",
       "      <td>50</td>\n",
       "      <td>46</td>\n",
       "      <td>32</td>\n",
       "      <td>57</td>\n",
       "      <td>...</td>\n",
       "      <td>45</td>\n",
       "      <td>43</td>\n",
       "      <td>35</td>\n",
       "      <td>54</td>\n",
       "      <td>32</td>\n",
       "      <td>30</td>\n",
       "      <td>49</td>\n",
       "      <td>40</td>\n",
       "      <td>49</td>\n",
       "      <td>18</td>\n",
       "    </tr>\n",
       "    <tr>\n",
       "      <th>1997</th>\n",
       "      <td>23</td>\n",
       "      <td>65</td>\n",
       "      <td>43</td>\n",
       "      <td>42</td>\n",
       "      <td>65</td>\n",
       "      <td>81</td>\n",
       "      <td>54</td>\n",
       "      <td>33</td>\n",
       "      <td>35</td>\n",
       "      <td>41</td>\n",
       "      <td>...</td>\n",
       "      <td>55</td>\n",
       "      <td>53</td>\n",
       "      <td>75</td>\n",
       "      <td>29</td>\n",
       "      <td>32</td>\n",
       "      <td>52</td>\n",
       "      <td>78</td>\n",
       "      <td>51</td>\n",
       "      <td>34</td>\n",
       "      <td>79</td>\n",
       "    </tr>\n",
       "    <tr>\n",
       "      <th>1998</th>\n",
       "      <td>39</td>\n",
       "      <td>48</td>\n",
       "      <td>46</td>\n",
       "      <td>47</td>\n",
       "      <td>68</td>\n",
       "      <td>36</td>\n",
       "      <td>33</td>\n",
       "      <td>36</td>\n",
       "      <td>51</td>\n",
       "      <td>39</td>\n",
       "      <td>...</td>\n",
       "      <td>51</td>\n",
       "      <td>54</td>\n",
       "      <td>65</td>\n",
       "      <td>43</td>\n",
       "      <td>34</td>\n",
       "      <td>87</td>\n",
       "      <td>71</td>\n",
       "      <td>51</td>\n",
       "      <td>41</td>\n",
       "      <td>44</td>\n",
       "    </tr>\n",
       "    <tr>\n",
       "      <th>1999</th>\n",
       "      <td>31</td>\n",
       "      <td>54</td>\n",
       "      <td>37</td>\n",
       "      <td>29</td>\n",
       "      <td>24</td>\n",
       "      <td>39</td>\n",
       "      <td>32</td>\n",
       "      <td>59</td>\n",
       "      <td>42</td>\n",
       "      <td>48</td>\n",
       "      <td>...</td>\n",
       "      <td>28</td>\n",
       "      <td>55</td>\n",
       "      <td>69</td>\n",
       "      <td>60</td>\n",
       "      <td>42</td>\n",
       "      <td>55</td>\n",
       "      <td>46</td>\n",
       "      <td>65</td>\n",
       "      <td>43</td>\n",
       "      <td>62</td>\n",
       "    </tr>\n",
       "  </tbody>\n",
       "</table>\n",
       "<p>2000 rows × 1500 columns</p>\n",
       "</div>"
      ],
      "text/plain": [
       "      Amostra_0  Amostra_1  Amostra_2  Amostra_3  Amostra_4  Amostra_5  \\\n",
       "0            43         44         29         67         52         53   \n",
       "1            54         81         57         36         35         45   \n",
       "2            30         42         51         59         58         53   \n",
       "3            43         24         52         24         51         54   \n",
       "4            55         32         53         25         70         47   \n",
       "...         ...        ...        ...        ...        ...        ...   \n",
       "1995         28         20         36         53         32         46   \n",
       "1996         50         40         42         62         40         32   \n",
       "1997         23         65         43         42         65         81   \n",
       "1998         39         48         46         47         68         36   \n",
       "1999         31         54         37         29         24         39   \n",
       "\n",
       "      Amostra_6  Amostra_7  Amostra_8  Amostra_9  ...  Amostra_1490  \\\n",
       "0            26         32         45         33  ...            51   \n",
       "1            63         74         22         47  ...            52   \n",
       "2            46         44         39         46  ...            68   \n",
       "3            25         33         45         28  ...            51   \n",
       "4            47         35         49         26  ...            47   \n",
       "...         ...        ...        ...        ...  ...           ...   \n",
       "1995         31         59         32         70  ...            48   \n",
       "1996         50         46         32         57  ...            45   \n",
       "1997         54         33         35         41  ...            55   \n",
       "1998         33         36         51         39  ...            51   \n",
       "1999         32         59         42         48  ...            28   \n",
       "\n",
       "      Amostra_1491  Amostra_1492  Amostra_1493  Amostra_1494  Amostra_1495  \\\n",
       "0               36            45            60            34            66   \n",
       "1               56            50            32            25            30   \n",
       "2               54            34            50            29            36   \n",
       "3               43            59            35            44            53   \n",
       "4               58            60            25            61            55   \n",
       "...            ...           ...           ...           ...           ...   \n",
       "1995            58            46            46            66            69   \n",
       "1996            43            35            54            32            30   \n",
       "1997            53            75            29            32            52   \n",
       "1998            54            65            43            34            87   \n",
       "1999            55            69            60            42            55   \n",
       "\n",
       "      Amostra_1496  Amostra_1497  Amostra_1498  Amostra_1499  \n",
       "0               44            50            32            44  \n",
       "1               39            37            38            51  \n",
       "2               46            32            34            41  \n",
       "3               60            50            65            75  \n",
       "4               37            30            46            55  \n",
       "...            ...           ...           ...           ...  \n",
       "1995            42            60            38            46  \n",
       "1996            49            40            49            18  \n",
       "1997            78            51            34            79  \n",
       "1998            71            51            41            44  \n",
       "1999            46            65            43            62  \n",
       "\n",
       "[2000 rows x 1500 columns]"
      ]
     },
     "execution_count": 62,
     "metadata": {},
     "output_type": "execute_result"
    }
   ],
   "source": [
    "for i in range(total_de_amostras):\n",
    "  _ = dados.Idade.sample(n)\n",
    "  _.index = range(0, len(_))\n",
    "  amostras['Amostra_' + str(i)] = _\n",
    "\n",
    "amostras"
   ]
  },
  {
   "cell_type": "code",
   "execution_count": null,
   "metadata": {
    "colab": {
     "base_uri": "https://localhost:8080/",
     "height": 1071
    },
    "colab_type": "code",
    "id": "v5Q-rnS_izNd",
    "outputId": "5097951e-8900-42f8-894a-539ad7d51f76",
    "scrolled": true
   },
   "outputs": [],
   "source": []
  },
  {
   "cell_type": "markdown",
   "metadata": {
    "colab_type": "text",
    "id": "JfgEBDx0jDzf"
   },
   "source": [
    "> O Teorema do Limite Central afirma que, **com o aumento do tamanho da amostra, a distribuição das médias amostrais se aproxima de uma distribuição normal** com média igual à média da população e desvio padrão igual ao desvio padrão da variável original dividido pela raiz quadrada do tamanho da amostra. Este fato é assegurado para n maior ou igual a 30."
   ]
  },
  {
   "cell_type": "code",
   "execution_count": 63,
   "metadata": {
    "colab": {
     "base_uri": "https://localhost:8080/",
     "height": 286
    },
    "colab_type": "code",
    "id": "giJKqa_9izKF",
    "outputId": "a90fdc6d-9970-42dd-85c3-0da9e0977ef0"
   },
   "outputs": [
    {
     "data": {
      "text/plain": [
       "Amostra_0       44.0695\n",
       "Amostra_1       43.7970\n",
       "Amostra_2       44.0265\n",
       "Amostra_3       44.5170\n",
       "Amostra_4       44.1235\n",
       "                 ...   \n",
       "Amostra_1495    43.8710\n",
       "Amostra_1496    44.0945\n",
       "Amostra_1497    44.4065\n",
       "Amostra_1498    44.0770\n",
       "Amostra_1499    44.2280\n",
       "Length: 1500, dtype: float64"
      ]
     },
     "execution_count": 63,
     "metadata": {},
     "output_type": "execute_result"
    }
   ],
   "source": [
    "amostras.mean()"
   ]
  },
  {
   "cell_type": "markdown",
   "metadata": {
    "colab_type": "text",
    "id": "_A4RKStwjkLI"
   },
   "source": [
    "> O Teorema do Limite Central afirma que, com o aumento do tamanho da amostra, a distribuição das médias amostrais se aproxima de uma distribuição normal **com média igual à média da população** e desvio padrão igual ao desvio padrão da variável original dividido pela raiz quadrada do tamanho da amostra. Este fato é assegurado para n maior ou igual a 30."
   ]
  },
  {
   "cell_type": "code",
   "execution_count": 64,
   "metadata": {
    "colab": {
     "base_uri": "https://localhost:8080/",
     "height": 34
    },
    "colab_type": "code",
    "id": "vXE-UOj_izGZ",
    "outputId": "6eecc478-100a-4b55-eec3-896dbfc2079d"
   },
   "outputs": [
    {
     "data": {
      "text/plain": [
       "<Axes: >"
      ]
     },
     "execution_count": 64,
     "metadata": {},
     "output_type": "execute_result"
    },
    {
     "data": {
      "image/png": "[encoded data removed]",
      "text/plain": [
       "<Figure size 640x480 with 1 Axes>"
      ]
     },
     "metadata": {},
     "output_type": "display_data"
    }
   ],
   "source": [
    "amostras.mean().hist()"
   ]
  },
  {
   "cell_type": "code",
   "execution_count": null,
   "metadata": {
    "colab": {
     "base_uri": "https://localhost:8080/",
     "height": 34
    },
    "colab_type": "code",
    "id": "bahA7_WYizC6",
    "outputId": "c95ef032-57b3-479d-b78e-b05efbaa9510"
   },
   "outputs": [],
   "source": []
  },
  {
   "cell_type": "markdown",
   "metadata": {
    "colab_type": "text",
    "id": "7lIWJCAKlPmA"
   },
   "source": [
    "> O Teorema do Limite Central afirma que, com o aumento do tamanho da amostra, a distribuição das médias amostrais se aproxima de uma distribuição normal com média igual à média da população e **desvio padrão igual ao desvio padrão da variável original dividido pela raiz quadrada do tamanho da amostra**. Este fato é assegurado para n maior ou igual a 30.\n",
    "\n",
    "# $$\\sigma_\\bar{x} = \\frac{\\sigma}{\\sqrt{n}}$$"
   ]
  },
  {
   "cell_type": "code",
   "execution_count": 71,
   "metadata": {
    "colab": {
     "base_uri": "https://localhost:8080/",
     "height": 34
    },
    "colab_type": "code",
    "id": "qKrG0zqhVNzn",
    "outputId": "90ab25da-d1bd-4f27-ebe7-af4bb0563d54"
   },
   "outputs": [
    {
     "data": {
      "text/plain": [
       "44.07142113482561"
      ]
     },
     "execution_count": 71,
     "metadata": {},
     "output_type": "execute_result"
    }
   ],
   "source": [
    "dados.Idade.mean()"
   ]
  },
  {
   "cell_type": "code",
   "execution_count": 70,
   "metadata": {
    "colab": {
     "base_uri": "https://localhost:8080/",
     "height": 34
    },
    "colab_type": "code",
    "id": "83ILp8Quiy_W",
    "outputId": "9f16b942-f1dd-47c3-f1bc-adfb0e4be636"
   },
   "outputs": [
    {
     "data": {
      "text/plain": [
       "44.068610666666665"
      ]
     },
     "execution_count": 70,
     "metadata": {},
     "output_type": "execute_result"
    }
   ],
   "source": [
    "amostras.mean().mean()"
   ]
  },
  {
   "cell_type": "code",
   "execution_count": 67,
   "metadata": {
    "colab": {
     "base_uri": "https://localhost:8080/",
     "height": 34
    },
    "colab_type": "code",
    "id": "IQ7wC-Nkiy75",
    "outputId": "c70c88bd-52f6-41fd-a29d-a88f1641072e"
   },
   "outputs": [
    {
     "data": {
      "text/plain": [
       "0.28191638059890906"
      ]
     },
     "execution_count": 67,
     "metadata": {},
     "output_type": "execute_result"
    }
   ],
   "source": [
    "amostras.mean().std()"
   ]
  },
  {
   "cell_type": "code",
   "execution_count": 72,
   "metadata": {},
   "outputs": [
    {
     "data": {
      "text/plain": [
       "12.480583465360187"
      ]
     },
     "execution_count": 72,
     "metadata": {},
     "output_type": "execute_result"
    }
   ],
   "source": [
    "dados.Idade.std()"
   ]
  },
  {
   "cell_type": "code",
   "execution_count": 73,
   "metadata": {},
   "outputs": [
    {
     "data": {
      "text/plain": [
       "0.2790743302740527"
      ]
     },
     "execution_count": 73,
     "metadata": {},
     "output_type": "execute_result"
    }
   ],
   "source": [
    "dados.Idade.std() / np.sqrt(n)"
   ]
  },
  {
   "cell_type": "markdown",
   "metadata": {
    "colab_type": "text",
    "id": "ku8CE67iG3Ge"
   },
   "source": [
    "## <font color=green>4.2 Níveis de confiança e significância</font>\n",
    "***"
   ]
  },
  {
   "cell_type": "markdown",
   "metadata": {
    "colab_type": "text",
    "id": "mk6ZsvgyG3Gf"
   },
   "source": [
    "O **nível de confiança** ($1 - \\alpha$) representa a probabilidade de acerto da estimativa. De forma complementar o **nível de significância** ($\\alpha$) expressa a probabilidade de erro da estimativa.\n",
    "\n",
    "O **nível de confiança** representa o grau de confiabilidade do resultado da estimativa estar dentro de determinado intervalo. Quando fixamos em uma pesquisa um **nível de confiança** de 95%, por exemplo, estamos assumindo que existe uma probabilidade de 95% dos resultados da pesquisa representarem bem a realidade, ou seja, estarem corretos.\n",
    "\n",
    "O **nível de confiança** de uma estimativa pode ser obtido a partir da área sob a curva normal como ilustrado na figura abaixo."
   ]
  },
  {
   "cell_type": "markdown",
   "metadata": {
    "colab_type": "text",
    "id": "WeGyDfvaG3Gg"
   },
   "source": [
    "![alt text](https://caelum-online-public.s3.amazonaws.com/1178-estatistica-parte2/01/img007.png)"
   ]
  },
  {
   "cell_type": "markdown",
   "metadata": {
    "colab_type": "text",
    "id": "AN8WDZ-HG3Gi"
   },
   "source": [
    "## <font color=green>4.3 Erro inferencial</font>\n",
    "***"
   ]
  },
  {
   "cell_type": "markdown",
   "metadata": {
    "colab_type": "text",
    "id": "tk-TwhhfG3Gi"
   },
   "source": [
    "O **erro inferencial** é definido pelo **desvio padrão das médias amostrais** $\\sigma_\\bar{x}$ e pelo **nível de confiança** determinado para o processo."
   ]
  },
  {
   "cell_type": "markdown",
   "metadata": {
    "colab_type": "text",
    "id": "FKOQUPYHG3Gk"
   },
   "source": [
    "# $$e = z \\frac{\\sigma}{\\sqrt{n}}$$"
   ]
  },
  {
   "cell_type": "markdown",
   "metadata": {
    "colab_type": "text",
    "id": "ELbWQW4sG3HS"
   },
   "source": [
    "## <font color=green>4.4 Intervalos de confiança</font>\n",
    "***"
   ]
  },
  {
   "cell_type": "markdown",
   "metadata": {
    "colab_type": "text",
    "id": "-r6EMnH-G3HT"
   },
   "source": [
    "### Intevalo de confiança para a média da população"
   ]
  },
  {
   "cell_type": "markdown",
   "metadata": {
    "colab_type": "text",
    "id": "QWgBFeRnG3HT"
   },
   "source": [
    "#### Com desvio padrão populacional conhecido\n",
    "\n",
    "## $$\\mu = \\bar{x} \\pm z\\frac{\\sigma}{\\sqrt{n}}$$\n",
    "\n",
    "#### Com desvio padrão populacional desconhecido\n",
    "\n",
    "## $$\\mu = \\bar{x} \\pm z\\frac{s}{\\sqrt{n}}$$"
   ]
  },
  {
   "cell_type": "markdown",
   "metadata": {
    "colab_type": "text",
    "id": "R2qqLneeG3HT"
   },
   "source": [
    "## <font color='blue'>Exemplo: </font>"
   ]
  },
  {
   "cell_type": "markdown",
   "metadata": {
    "colab_type": "text",
    "id": "AgnrFjdMG3HT"
   },
   "source": [
    "Suponha que os pesos dos sacos de arroz de uma indústria alimentícia se distribuem aproximadamente como uma normal de **desvio padrão populacional igual a 150 g**. Selecionada uma **amostra aleatório de 20 sacos** de um lote específico, obteve-se um **peso médio de 5.050 g**. Construa um intervalo de confiança para a **média populacional** assumindo um **nível de significância de 5%**."
   ]
  },
  {
   "cell_type": "markdown",
   "metadata": {
    "colab_type": "text",
    "id": "LpGQGksTG3HU"
   },
   "source": [
    "### Média amostral"
   ]
  },
  {
   "cell_type": "code",
   "execution_count": 74,
   "metadata": {
    "colab": {
     "base_uri": "https://localhost:8080/",
     "height": 34
    },
    "colab_type": "code",
    "id": "aF2QQ0z3G3HU",
    "outputId": "31b20b10-a4f7-49fe-b113-f0fff1e2f30f"
   },
   "outputs": [
    {
     "data": {
      "text/plain": [
       "5050"
      ]
     },
     "execution_count": 74,
     "metadata": {},
     "output_type": "execute_result"
    }
   ],
   "source": [
    "media_amostra = 5050\n",
    "media_amostra"
   ]
  },
  {
   "cell_type": "markdown",
   "metadata": {
    "colab_type": "text",
    "id": "Jly1bVP9G3HY"
   },
   "source": [
    "### Nível de significância ($\\alpha$)"
   ]
  },
  {
   "cell_type": "code",
   "execution_count": 75,
   "metadata": {
    "colab": {
     "base_uri": "https://localhost:8080/",
     "height": 34
    },
    "colab_type": "code",
    "id": "BzIgN3C7G3HY",
    "outputId": "53b76a9a-fce9-41dc-829e-4c7b318b7d75"
   },
   "outputs": [
    {
     "data": {
      "text/plain": [
       "0.05"
      ]
     },
     "execution_count": 75,
     "metadata": {},
     "output_type": "execute_result"
    }
   ],
   "source": [
    "significancia = 0.05\n",
    "significancia"
   ]
  },
  {
   "cell_type": "markdown",
   "metadata": {
    "colab_type": "text",
    "id": "SrZAbQRKG3Ha"
   },
   "source": [
    "### Nível de confiança ($1 - \\alpha$)"
   ]
  },
  {
   "cell_type": "code",
   "execution_count": 76,
   "metadata": {
    "colab": {
     "base_uri": "https://localhost:8080/",
     "height": 34
    },
    "colab_type": "code",
    "id": "1JeWXwA6G3Ha",
    "outputId": "8ac9e63f-f2e5-46a5-b693-e221203ada3f"
   },
   "outputs": [
    {
     "data": {
      "text/plain": [
       "0.95"
      ]
     },
     "execution_count": 76,
     "metadata": {},
     "output_type": "execute_result"
    }
   ],
   "source": [
    "confianca = 1 - significancia\n",
    "confianca"
   ]
  },
  {
   "cell_type": "markdown",
   "metadata": {
    "colab_type": "text",
    "id": "mZoUFr1nG3Hf"
   },
   "source": [
    "### Obtendo $z$"
   ]
  },
  {
   "cell_type": "code",
   "execution_count": 77,
   "metadata": {
    "colab": {
     "base_uri": "https://localhost:8080/",
     "height": 359
    },
    "colab_type": "code",
    "id": "f9IMOwY2Xeva",
    "outputId": "e8efe36b-5dfd-4272-de0c-fdab162d3582"
   },
   "outputs": [
    {
     "data": {
      "text/html": [
       "<div>\n",
       "<style scoped>\n",
       "    .dataframe tbody tr th:only-of-type {\n",
       "        vertical-align: middle;\n",
       "    }\n",
       "\n",
       "    .dataframe tbody tr th {\n",
       "        vertical-align: top;\n",
       "    }\n",
       "\n",
       "    .dataframe thead th {\n",
       "        text-align: right;\n",
       "    }\n",
       "</style>\n",
       "<table border=\"1\" class=\"dataframe\">\n",
       "  <thead>\n",
       "    <tr style=\"text-align: right;\">\n",
       "      <th>Z</th>\n",
       "      <th>0.00</th>\n",
       "      <th>0.01</th>\n",
       "      <th>0.02</th>\n",
       "      <th>0.03</th>\n",
       "      <th>0.04</th>\n",
       "      <th>0.05</th>\n",
       "      <th>0.06</th>\n",
       "      <th>0.07</th>\n",
       "      <th>0.08</th>\n",
       "      <th>0.09</th>\n",
       "    </tr>\n",
       "  </thead>\n",
       "  <tbody>\n",
       "    <tr>\n",
       "      <th>1.60</th>\n",
       "      <td>0.9452</td>\n",
       "      <td>0.9463</td>\n",
       "      <td>0.9474</td>\n",
       "      <td>0.9484</td>\n",
       "      <td>0.9495</td>\n",
       "      <td>0.9505</td>\n",
       "      <td>0.9515</td>\n",
       "      <td>0.9525</td>\n",
       "      <td>0.9535</td>\n",
       "      <td>0.9545</td>\n",
       "    </tr>\n",
       "    <tr>\n",
       "      <th>1.70</th>\n",
       "      <td>0.9554</td>\n",
       "      <td>0.9564</td>\n",
       "      <td>0.9573</td>\n",
       "      <td>0.9582</td>\n",
       "      <td>0.9591</td>\n",
       "      <td>0.9599</td>\n",
       "      <td>0.9608</td>\n",
       "      <td>0.9616</td>\n",
       "      <td>0.9625</td>\n",
       "      <td>0.9633</td>\n",
       "    </tr>\n",
       "    <tr>\n",
       "      <th>1.80</th>\n",
       "      <td>0.9641</td>\n",
       "      <td>0.9649</td>\n",
       "      <td>0.9656</td>\n",
       "      <td>0.9664</td>\n",
       "      <td>0.9671</td>\n",
       "      <td>0.9678</td>\n",
       "      <td>0.9686</td>\n",
       "      <td>0.9693</td>\n",
       "      <td>0.9699</td>\n",
       "      <td>0.9706</td>\n",
       "    </tr>\n",
       "    <tr>\n",
       "      <th>1.90</th>\n",
       "      <td>0.9713</td>\n",
       "      <td>0.9719</td>\n",
       "      <td>0.9726</td>\n",
       "      <td>0.9732</td>\n",
       "      <td>0.9738</td>\n",
       "      <td>0.9744</td>\n",
       "      <td>0.9750</td>\n",
       "      <td>0.9756</td>\n",
       "      <td>0.9761</td>\n",
       "      <td>0.9767</td>\n",
       "    </tr>\n",
       "    <tr>\n",
       "      <th>2.00</th>\n",
       "      <td>0.9772</td>\n",
       "      <td>0.9778</td>\n",
       "      <td>0.9783</td>\n",
       "      <td>0.9788</td>\n",
       "      <td>0.9793</td>\n",
       "      <td>0.9798</td>\n",
       "      <td>0.9803</td>\n",
       "      <td>0.9808</td>\n",
       "      <td>0.9812</td>\n",
       "      <td>0.9817</td>\n",
       "    </tr>\n",
       "    <tr>\n",
       "      <th>2.10</th>\n",
       "      <td>0.9821</td>\n",
       "      <td>0.9826</td>\n",
       "      <td>0.9830</td>\n",
       "      <td>0.9834</td>\n",
       "      <td>0.9838</td>\n",
       "      <td>0.9842</td>\n",
       "      <td>0.9846</td>\n",
       "      <td>0.9850</td>\n",
       "      <td>0.9854</td>\n",
       "      <td>0.9857</td>\n",
       "    </tr>\n",
       "    <tr>\n",
       "      <th>2.20</th>\n",
       "      <td>0.9861</td>\n",
       "      <td>0.9864</td>\n",
       "      <td>0.9868</td>\n",
       "      <td>0.9871</td>\n",
       "      <td>0.9875</td>\n",
       "      <td>0.9878</td>\n",
       "      <td>0.9881</td>\n",
       "      <td>0.9884</td>\n",
       "      <td>0.9887</td>\n",
       "      <td>0.9890</td>\n",
       "    </tr>\n",
       "    <tr>\n",
       "      <th>2.30</th>\n",
       "      <td>0.9893</td>\n",
       "      <td>0.9896</td>\n",
       "      <td>0.9898</td>\n",
       "      <td>0.9901</td>\n",
       "      <td>0.9904</td>\n",
       "      <td>0.9906</td>\n",
       "      <td>0.9909</td>\n",
       "      <td>0.9911</td>\n",
       "      <td>0.9913</td>\n",
       "      <td>0.9916</td>\n",
       "    </tr>\n",
       "    <tr>\n",
       "      <th>2.40</th>\n",
       "      <td>0.9918</td>\n",
       "      <td>0.9920</td>\n",
       "      <td>0.9922</td>\n",
       "      <td>0.9925</td>\n",
       "      <td>0.9927</td>\n",
       "      <td>0.9929</td>\n",
       "      <td>0.9931</td>\n",
       "      <td>0.9932</td>\n",
       "      <td>0.9934</td>\n",
       "      <td>0.9936</td>\n",
       "    </tr>\n",
       "    <tr>\n",
       "      <th>2.50</th>\n",
       "      <td>0.9938</td>\n",
       "      <td>0.9940</td>\n",
       "      <td>0.9941</td>\n",
       "      <td>0.9943</td>\n",
       "      <td>0.9945</td>\n",
       "      <td>0.9946</td>\n",
       "      <td>0.9948</td>\n",
       "      <td>0.9949</td>\n",
       "      <td>0.9951</td>\n",
       "      <td>0.9952</td>\n",
       "    </tr>\n",
       "  </tbody>\n",
       "</table>\n",
       "</div>"
      ],
      "text/plain": [
       "Z       0.00    0.01    0.02    0.03    0.04    0.05    0.06    0.07    0.08  \\\n",
       "1.60  0.9452  0.9463  0.9474  0.9484  0.9495  0.9505  0.9515  0.9525  0.9535   \n",
       "1.70  0.9554  0.9564  0.9573  0.9582  0.9591  0.9599  0.9608  0.9616  0.9625   \n",
       "1.80  0.9641  0.9649  0.9656  0.9664  0.9671  0.9678  0.9686  0.9693  0.9699   \n",
       "1.90  0.9713  0.9719  0.9726  0.9732  0.9738  0.9744  0.9750  0.9756  0.9761   \n",
       "2.00  0.9772  0.9778  0.9783  0.9788  0.9793  0.9798  0.9803  0.9808  0.9812   \n",
       "2.10  0.9821  0.9826  0.9830  0.9834  0.9838  0.9842  0.9846  0.9850  0.9854   \n",
       "2.20  0.9861  0.9864  0.9868  0.9871  0.9875  0.9878  0.9881  0.9884  0.9887   \n",
       "2.30  0.9893  0.9896  0.9898  0.9901  0.9904  0.9906  0.9909  0.9911  0.9913   \n",
       "2.40  0.9918  0.9920  0.9922  0.9925  0.9927  0.9929  0.9931  0.9932  0.9934   \n",
       "2.50  0.9938  0.9940  0.9941  0.9943  0.9945  0.9946  0.9948  0.9949  0.9951   \n",
       "\n",
       "Z       0.09  \n",
       "1.60  0.9545  \n",
       "1.70  0.9633  \n",
       "1.80  0.9706  \n",
       "1.90  0.9767  \n",
       "2.00  0.9817  \n",
       "2.10  0.9857  \n",
       "2.20  0.9890  \n",
       "2.30  0.9916  \n",
       "2.40  0.9936  \n",
       "2.50  0.9952  "
      ]
     },
     "execution_count": 77,
     "metadata": {},
     "output_type": "execute_result"
    }
   ],
   "source": [
    "tabela_normal_padronizada[16:26]"
   ]
  },
  {
   "cell_type": "markdown",
   "metadata": {
    "colab_type": "text",
    "id": "rMRmnaNPG3Go"
   },
   "source": [
    "### Obtendo $z$"
   ]
  },
  {
   "cell_type": "markdown",
   "metadata": {
    "colab_type": "text",
    "id": "T-3mV1qlUj1t"
   },
   "source": [
    "![alt text](https://caelum-online-public.s3.amazonaws.com/1178-estatistica-parte2/01/img008.png)"
   ]
  },
  {
   "cell_type": "code",
   "execution_count": 78,
   "metadata": {
    "colab": {
     "base_uri": "https://localhost:8080/",
     "height": 34
    },
    "colab_type": "code",
    "id": "nT5ZTwjOG3Go",
    "outputId": "9c20d5b5-fb36-40f1-b901-3969a2fa8ea0"
   },
   "outputs": [
    {
     "data": {
      "text/plain": [
       "0.975"
      ]
     },
     "execution_count": 78,
     "metadata": {},
     "output_type": "execute_result"
    }
   ],
   "source": [
    "0.5 + (0.95 / 2)"
   ]
  },
  {
   "cell_type": "code",
   "execution_count": 79,
   "metadata": {
    "colab": {
     "base_uri": "https://localhost:8080/",
     "height": 34
    },
    "colab_type": "code",
    "id": "vMjck-3ZU_sz",
    "outputId": "56a3f3ba-e5d4-40c7-dc4c-b31ed5d07262"
   },
   "outputs": [
    {
     "data": {
      "text/plain": [
       "1.959963984540054"
      ]
     },
     "execution_count": 79,
     "metadata": {},
     "output_type": "execute_result"
    }
   ],
   "source": [
    "z = norm.ppf(0.975)\n",
    "z"
   ]
  },
  {
   "cell_type": "code",
   "execution_count": 80,
   "metadata": {
    "colab": {
     "base_uri": "https://localhost:8080/",
     "height": 34
    },
    "colab_type": "code",
    "id": "L4CMGZ3oVHLX",
    "outputId": "60470140-1dfa-4d5c-9627-097378b2fc8e"
   },
   "outputs": [
    {
     "data": {
      "text/plain": [
       "150"
      ]
     },
     "execution_count": 80,
     "metadata": {},
     "output_type": "execute_result"
    }
   ],
   "source": [
    "desvio_padrao = 150\n",
    "desvio_padrao"
   ]
  },
  {
   "cell_type": "code",
   "execution_count": 81,
   "metadata": {
    "colab": {
     "base_uri": "https://localhost:8080/",
     "height": 34
    },
    "colab_type": "code",
    "id": "JJS6Z-85G3Hf",
    "outputId": "4cc8e179-05a4-4237-f099-06550ac200bf"
   },
   "outputs": [
    {
     "data": {
      "text/plain": [
       "20"
      ]
     },
     "execution_count": 81,
     "metadata": {},
     "output_type": "execute_result"
    }
   ],
   "source": [
    "n = 20\n",
    "n"
   ]
  },
  {
   "cell_type": "markdown",
   "metadata": {
    "colab_type": "text",
    "id": "ggXXP8QqTyNA"
   },
   "source": [
    "### Valores de $z$ para os níveis de confiança mais utilizados\n",
    "\n",
    "|Nível de<br>confiança|Valor da área sob<br>a curva normal| $z$ |\n",
    "|:----------------:|:---------------------------------:|:---:|\n",
    "|90%               |0,95                               |1,645|\n",
    "|95%               |0,975                              |1,96 |\n",
    "|99%               |0,995                              |2,575|"
   ]
  },
  {
   "cell_type": "markdown",
   "metadata": {
    "colab_type": "text",
    "id": "MfE1ru0AG3Hg"
   },
   "source": [
    "### Obtendo $\\sigma_\\bar{x}$"
   ]
  },
  {
   "cell_type": "code",
   "execution_count": 82,
   "metadata": {
    "colab": {
     "base_uri": "https://localhost:8080/",
     "height": 34
    },
    "colab_type": "code",
    "id": "LyQ6UUYtG3Hh",
    "outputId": "4c066583-4272-4e26-daf5-575ea4815371"
   },
   "outputs": [
    {
     "data": {
      "text/plain": [
       "4.47213595499958"
      ]
     },
     "execution_count": 82,
     "metadata": {},
     "output_type": "execute_result"
    }
   ],
   "source": [
    "raiz_de_n = np.sqrt(n)\n",
    "raiz_de_n"
   ]
  },
  {
   "cell_type": "code",
   "execution_count": 83,
   "metadata": {
    "colab": {
     "base_uri": "https://localhost:8080/",
     "height": 34
    },
    "colab_type": "code",
    "id": "ebvikT95G3Hi",
    "outputId": "bfbc2f5c-e706-46a6-aa6c-e94632aed4fc"
   },
   "outputs": [
    {
     "data": {
      "text/plain": [
       "33.54101966249684"
      ]
     },
     "execution_count": 83,
     "metadata": {},
     "output_type": "execute_result"
    }
   ],
   "source": [
    "sigma = desvio_padrao / raiz_de_n\n",
    "sigma"
   ]
  },
  {
   "cell_type": "code",
   "execution_count": 84,
   "metadata": {
    "colab": {
     "base_uri": "https://localhost:8080/",
     "height": 34
    },
    "colab_type": "code",
    "id": "TxM3yTpjG3Hk",
    "outputId": "a38a0bfc-2c3b-48f4-cea7-ee5f5147a251"
   },
   "outputs": [
    {
     "data": {
      "text/plain": [
       "65.73919054324361"
      ]
     },
     "execution_count": 84,
     "metadata": {},
     "output_type": "execute_result"
    }
   ],
   "source": [
    "e = z * sigma\n",
    "e"
   ]
  },
  {
   "cell_type": "code",
   "execution_count": 85,
   "metadata": {
    "colab": {
     "base_uri": "https://localhost:8080/",
     "height": 34
    },
    "colab_type": "code",
    "id": "HNAcOpl0G3Hl",
    "outputId": "3b37c2d5-b02d-40af-897d-6c588e2696aa"
   },
   "outputs": [
    {
     "data": {
      "text/plain": [
       "(4984.260809456757, 5115.739190543243)"
      ]
     },
     "execution_count": 85,
     "metadata": {},
     "output_type": "execute_result"
    }
   ],
   "source": [
    "intervalo = (\n",
    "    media_amostra - e,\n",
    "    media_amostra + e\n",
    ")\n",
    "intervalo"
   ]
  },
  {
   "cell_type": "markdown",
   "metadata": {
    "colab_type": "text",
    "id": "NHbXlLk-G3Hn"
   },
   "source": [
    "### Obtendo $e$"
   ]
  },
  {
   "cell_type": "code",
   "execution_count": null,
   "metadata": {
    "colab": {
     "base_uri": "https://localhost:8080/",
     "height": 34
    },
    "colab_type": "code",
    "id": "gAfakih5G3Ho",
    "outputId": "48958fa3-2cf8-4bc5-dfc3-0fb925798b38"
   },
   "outputs": [],
   "source": []
  },
  {
   "cell_type": "markdown",
   "metadata": {
    "colab_type": "text",
    "id": "DkFJL7fcG3Ht"
   },
   "source": [
    "### Solução 1 - Calculando o intervalo de confiança para a média"
   ]
  },
  {
   "cell_type": "code",
   "execution_count": 87,
   "metadata": {
    "colab": {
     "base_uri": "https://localhost:8080/",
     "height": 34
    },
    "colab_type": "code",
    "id": "U92vSYMkG3Hu",
    "outputId": "45923471-3d21-42ad-a922-5067ff21067b"
   },
   "outputs": [
    {
     "data": {
      "text/plain": [
       "(4984.260809456757, 5115.739190543243)"
      ]
     },
     "execution_count": 87,
     "metadata": {},
     "output_type": "execute_result"
    }
   ],
   "source": [
    "norm.interval(confidence = 0.95, loc = media_amostra, scale = sigma)"
   ]
  },
  {
   "cell_type": "markdown",
   "metadata": {
    "colab_type": "text",
    "id": "sx1QTfNrG3Hq"
   },
   "source": [
    "### Solução 2 - Calculando o intervalo de confiança para a média"
   ]
  },
  {
   "cell_type": "code",
   "execution_count": 88,
   "metadata": {
    "colab": {
     "base_uri": "https://localhost:8080/",
     "height": 34
    },
    "colab_type": "code",
    "id": "NlJCcPZnG3Hq",
    "outputId": "09cee323-103e-4832-c23f-97daf4b9929f"
   },
   "outputs": [
    {
     "name": "stdout",
     "output_type": "stream",
     "text": [
      "R$ 1.66\n"
     ]
    }
   ],
   "source": [
    "#Exemplo\n",
    "# Para estimar o valor médio gasto por cada cliente de uma grande rede de fast-food, \n",
    "# foi selecionada uma amostra de 50 clientes.\n",
    "\n",
    "# Assumindo que o valor do desvio padrão da população seja de R$ 6,00 e que esta população \n",
    "# se distribui normalmente, obtenha a margem de erro desta estimativa para um nível de confiança de 95%.\n",
    "\n",
    "# from scipy.stats import norm\n",
    "# import numpy as np\n",
    "\n",
    "z = norm.ppf(0.975)\n",
    "desvio_padrao = 6\n",
    "n = 50\n",
    "\n",
    "e = z * (desvio_padrao / np.sqrt(n))\n",
    "print(\"R$ {0:0.2f}\".format(e))"
   ]
  },
  {
   "cell_type": "code",
   "execution_count": 90,
   "metadata": {},
   "outputs": [
    {
     "data": {
      "text/plain": [
       "(27.592969951356466, 28.407030048643534)"
      ]
     },
     "execution_count": 90,
     "metadata": {},
     "output_type": "execute_result"
    }
   ],
   "source": [
    "# Uma amostra aleatória simples de 1976 itens de uma população normalmente distribuída, \n",
    "# com desvio padrão populacional igual a 11, resultou em uma média amostral de 28.\n",
    "\n",
    "# Qual o intervalo de confiança de 90% para a média populacional?\n",
    "\n",
    "# from scipy.stats import norm\n",
    "# import numpy as np\n",
    "\n",
    "media_amostral = 28\n",
    "desvio_padrao = 11\n",
    "n = 1976\n",
    "\n",
    "norm.interval(confidence = 0.90, \n",
    "                loc = media_amostral, \n",
    "                scale = desvio_padrao / np.sqrt(n))\n"
   ]
  },
  {
   "cell_type": "markdown",
   "metadata": {
    "colab_type": "text",
    "id": "aF9jAC6yG3Gl"
   },
   "source": [
    "# <font color=green>5 CÁLCULO DO TAMANHO DA AMOSTRA</font>\n",
    "***"
   ]
  },
  {
   "cell_type": "markdown",
   "metadata": {
    "colab_type": "text",
    "id": "BwiygaNqnjrr"
   },
   "source": [
    "## <font color='red'>Problema </font>"
   ]
  },
  {
   "cell_type": "markdown",
   "metadata": {
    "colab_type": "text",
    "id": "a7RjjVVUnlI3"
   },
   "source": [
    "Estamos estudando o rendimento mensal dos chefes de domicílios com renda até R$\\$$ 5.000,00 no Brasil. Nosso supervisor determinou que o **erro máximo em relação a média seja de R$\\$$ 10,00**. Sabemos que o **desvio padrão populacional** deste grupo de trabalhadores é de **R$\\$$ 1.082,79**. Para um **nível de confiança de 95%**, qual deve ser o tamanho da amostra de nosso estudo?"
   ]
  },
  {
   "cell_type": "markdown",
   "metadata": {
    "colab_type": "text",
    "id": "za2sGJt6G3Gm"
   },
   "source": [
    "## <font color=green>5.1 Variáveis quantitativas e população infinita</font>\n",
    "***"
   ]
  },
  {
   "cell_type": "markdown",
   "metadata": {
    "colab_type": "text",
    "id": "3wqMjJWR5sVq"
   },
   "source": [
    "# $$e = z \\frac{\\sigma}{\\sqrt{n}}$$"
   ]
  },
  {
   "cell_type": "markdown",
   "metadata": {
    "colab_type": "text",
    "id": "X1AxpKtIG3Gn"
   },
   "source": [
    "#### Com desvio padrão conhecido\n",
    "\n",
    "## $$n = \\left(z\\frac{\\sigma}{e}\\right)^2$$\n",
    "\n",
    "#### Com desvio padrão desconhecido\n",
    "\n",
    "## $$n = \\left(z\\frac{s}{e}\\right)^2$$\n",
    "\n",
    "Onde:\n",
    "\n",
    "$z$ = variável normal padronizada\n",
    "\n",
    "$\\sigma$ = desvio padrão populacional\n",
    "\n",
    "$s$ = desvio padrão amostral\n",
    "\n",
    "$e$ = erro inferencial"
   ]
  },
  {
   "cell_type": "markdown",
   "metadata": {
    "colab_type": "text",
    "id": "T0fysCyDG3Gn"
   },
   "source": [
    "### <font color='red'>Observações</font>\n",
    "\n",
    "1. O desvio padrão ($\\sigma$ ou $s$) e o erro ($e$) devem estar na mesma unidade de medida.\n",
    "\n",
    "2. Quando o erro ($e$) for representado em termos percentuais, deve ser interpretado como um percentual relacionado à média."
   ]
  },
  {
   "cell_type": "markdown",
   "metadata": {
    "colab_type": "text",
    "id": "WHYBTaupG3Gn"
   },
   "source": [
    "## <font color='blue'>Exemplo: Rendimento médio</font>"
   ]
  },
  {
   "cell_type": "markdown",
   "metadata": {
    "colab_type": "text",
    "id": "dcdzo7EgG3Go"
   },
   "source": [
    "Estamos estudando o rendimento mensal dos chefes de domicílios no Brasil. Nosso supervisor determinou que o **erro máximo em relação a média seja de R$\\$$ 100,00**. Sabemos que o **desvio padrão populacional** deste grupo de trabalhadores é de **R$\\$$ 3.323,39**. Para um **nível de confiança de 95%**, qual deve ser o tamanho da amostra de nosso estudo?"
   ]
  },
  {
   "cell_type": "code",
   "execution_count": null,
   "metadata": {
    "colab": {
     "base_uri": "https://localhost:8080/",
     "height": 34
    },
    "colab_type": "code",
    "id": "XtJ5I_kaKDN3",
    "outputId": "a519e330-ddf0-492c-f42d-5cef36fed4c9"
   },
   "outputs": [],
   "source": []
  },
  {
   "cell_type": "code",
   "execution_count": null,
   "metadata": {
    "colab": {
     "base_uri": "https://localhost:8080/",
     "height": 34
    },
    "colab_type": "code",
    "id": "-4TLCgNLKC95",
    "outputId": "19f3b7af-ff33-4db4-c675-c62b5088137e"
   },
   "outputs": [],
   "source": []
  },
  {
   "cell_type": "code",
   "execution_count": 91,
   "metadata": {
    "colab": {
     "base_uri": "https://localhost:8080/",
     "height": 34
    },
    "colab_type": "code",
    "id": "7XDT12I4ViYN",
    "outputId": "a0af8729-80a8-4b33-b307-96d144c83029"
   },
   "outputs": [
    {
     "data": {
      "text/plain": [
       "1.959963984540054"
      ]
     },
     "execution_count": 91,
     "metadata": {},
     "output_type": "execute_result"
    }
   ],
   "source": [
    "z = norm.ppf(0.975)\n",
    "z"
   ]
  },
  {
   "cell_type": "markdown",
   "metadata": {
    "colab_type": "text",
    "id": "6uCkW4KlG3Gr"
   },
   "source": [
    "### Obtendo $\\sigma$"
   ]
  },
  {
   "cell_type": "code",
   "execution_count": 92,
   "metadata": {
    "colab": {
     "base_uri": "https://localhost:8080/",
     "height": 34
    },
    "colab_type": "code",
    "id": "1RmtZfj-G3Gr",
    "outputId": "d3e77bf1-b933-4ade-846f-95e25f4e1d6e"
   },
   "outputs": [
    {
     "data": {
      "text/plain": [
       "3323.39"
      ]
     },
     "execution_count": 92,
     "metadata": {},
     "output_type": "execute_result"
    }
   ],
   "source": [
    "sigma = 3323.39\n",
    "sigma"
   ]
  },
  {
   "cell_type": "markdown",
   "metadata": {
    "colab_type": "text",
    "id": "Cl39PIZ2G3Gt"
   },
   "source": [
    "### Obtendo $e$"
   ]
  },
  {
   "cell_type": "code",
   "execution_count": 93,
   "metadata": {
    "colab": {
     "base_uri": "https://localhost:8080/",
     "height": 34
    },
    "colab_type": "code",
    "id": "NTRMt2gWG3Gt",
    "outputId": "f7d7ae3f-7e33-41cc-a11a-5b09de70cc2c"
   },
   "outputs": [
    {
     "data": {
      "text/plain": [
       "100"
      ]
     },
     "execution_count": 93,
     "metadata": {},
     "output_type": "execute_result"
    }
   ],
   "source": [
    "e = 100\n",
    "e"
   ]
  },
  {
   "cell_type": "markdown",
   "metadata": {
    "colab_type": "text",
    "id": "OlAX3Gj6G3Gv"
   },
   "source": [
    "### Obtendo $n$"
   ]
  },
  {
   "cell_type": "code",
   "execution_count": 95,
   "metadata": {
    "colab": {
     "base_uri": "https://localhost:8080/",
     "height": 34
    },
    "colab_type": "code",
    "id": "0MjluwHPG3Gv",
    "outputId": "8f74510a-4f4b-4129-d3c3-d31be24567fa",
    "scrolled": true
   },
   "outputs": [
    {
     "data": {
      "text/plain": [
       "4243"
      ]
     },
     "execution_count": 95,
     "metadata": {},
     "output_type": "execute_result"
    }
   ],
   "source": [
    "n = (z * (sigma / e)) ** 2\n",
    "int(n.round())"
   ]
  },
  {
   "cell_type": "code",
   "execution_count": 96,
   "metadata": {},
   "outputs": [
    {
     "data": {
      "text/plain": [
       "29.0"
      ]
     },
     "execution_count": 96,
     "metadata": {},
     "output_type": "execute_result"
    }
   ],
   "source": [
    "#Exemplo\n",
    "# O valor do gasto médio dos clientes de uma loja de conveniência é de R$ 45,50. \n",
    "# Assumindo que o desvio padrão dos gastos é igual a R$ 15,00, qual deve ser o tamanho da amostra \n",
    "# para estimarmos a média populacional com um nível de significância de 10%?\n",
    "\n",
    "# Considere que o erro máximo aceitável seja de 10%.\n",
    "\n",
    "#from scipy.stats import norm\n",
    "\n",
    "media = 45.5\n",
    "sigma = 15\n",
    "significancia = 0.10\n",
    "confianca = 1 - significancia\n",
    "\n",
    "z = norm.ppf(0.5 + (confianca / 2))\n",
    "erro_percentual = 0.10\n",
    "e = media * erro_percentual\n",
    "\n",
    "n = (z * (sigma / e)) ** 2\n",
    "n.round()"
   ]
  },
  {
   "cell_type": "markdown",
   "metadata": {
    "colab_type": "text",
    "id": "MjP0xsqyTyNO"
   },
   "source": [
    "---\n",
    "---"
   ]
  },
  {
   "cell_type": "markdown",
   "metadata": {
    "colab_type": "text",
    "id": "dx2vyLC-TyNP"
   },
   "source": [
    "## <font color='red'>Problema</font>"
   ]
  },
  {
   "cell_type": "markdown",
   "metadata": {
    "colab_type": "text",
    "id": "uzK2fAOFTyNP"
   },
   "source": [
    "Em um lote de **10.000 latas** de refrigerante foi realizada uma amostra aleatória simples de **100 latas** e foi obtido o **desvio padrão amostral do conteúdo das latas igual a 12 ml**. O fabricante estipula um **erro máximo sobre a média populacional de apenas 5 ml**. Para garantir um **nível de confiança de 95%** qual o tamanho de amostra deve ser selecionado para este estudo?"
   ]
  },
  {
   "cell_type": "markdown",
   "metadata": {
    "colab_type": "text",
    "id": "FlAz5kycTyNQ"
   },
   "source": [
    "## <font color=green>5.2 Variáveis quantitativas e população finita</font>\n",
    "***"
   ]
  },
  {
   "cell_type": "markdown",
   "metadata": {
    "colab_type": "text",
    "id": "UOe02McSTyNR"
   },
   "source": [
    "#### Com desvio padrão conhecido\n",
    "\n",
    "## $$n = \\frac{z^2 \\sigma^2 N}{z^2 \\sigma^2 + e^2(N-1)}$$\n",
    "\n",
    "#### Com desvio padrão desconhecido\n",
    "\n",
    "## $$n = \\frac{z^2 s^2 N}{z^2 s^2 + e^2(N-1)}$$\n",
    "\n",
    "Onde:\n",
    "\n",
    "$N$ = tamanho da população\n",
    "\n",
    "$z$ = variável normal padronizada\n",
    "\n",
    "$\\sigma$ = desvio padrão populacional\n",
    "\n",
    "$s$ = desvio padrão amostral\n",
    "\n",
    "$e$ = erro inferencial"
   ]
  },
  {
   "cell_type": "markdown",
   "metadata": {
    "colab_type": "text",
    "id": "cUELtYTKTyNS"
   },
   "source": [
    "## <font color='blue'>Exemplo: Indústria de refrigerantes</font>"
   ]
  },
  {
   "cell_type": "markdown",
   "metadata": {
    "colab_type": "text",
    "id": "upv1mM7fTyNS"
   },
   "source": [
    "Em um lote de **10.000 latas** de refrigerante foi realizada uma amostra aleatória simples de **100 latas** e foi obtido o **desvio padrão amostral do conteúdo das latas igual a 12 ml**. O fabricante estipula um **erro máximo sobre a média populacional de apenas 5 ml**. Para garantir um **nível de confiança de 95%** qual o tamanho de amostra deve ser selecionado para este estudo?"
   ]
  },
  {
   "cell_type": "markdown",
   "metadata": {
    "colab_type": "text",
    "id": "_y3-3VIBTyNS"
   },
   "source": [
    "### Obtendo $N$"
   ]
  },
  {
   "cell_type": "code",
   "execution_count": 97,
   "metadata": {
    "colab": {
     "base_uri": "https://localhost:8080/",
     "height": 34
    },
    "colab_type": "code",
    "id": "gXWn9zTETyNS",
    "outputId": "4daa26ff-4a96-47fb-9f0e-53a4390d701e"
   },
   "outputs": [
    {
     "data": {
      "text/plain": [
       "10000"
      ]
     },
     "execution_count": 97,
     "metadata": {},
     "output_type": "execute_result"
    }
   ],
   "source": [
    "N = 10000\n",
    "N"
   ]
  },
  {
   "cell_type": "markdown",
   "metadata": {
    "colab_type": "text",
    "id": "xCgZ1JSjTyNT"
   },
   "source": [
    "### Obtendo $z$"
   ]
  },
  {
   "cell_type": "code",
   "execution_count": 98,
   "metadata": {
    "colab": {
     "base_uri": "https://localhost:8080/",
     "height": 34
    },
    "colab_type": "code",
    "id": "ZUs9aYJRTyNT",
    "outputId": "02560c9f-57ee-41c7-cdf4-5fd382365a74"
   },
   "outputs": [
    {
     "data": {
      "text/plain": [
       "1.959963984540054"
      ]
     },
     "execution_count": 98,
     "metadata": {},
     "output_type": "execute_result"
    }
   ],
   "source": [
    "z = norm.ppf((0.5 + (0.95 / 2)))\n",
    "z"
   ]
  },
  {
   "cell_type": "markdown",
   "metadata": {
    "colab_type": "text",
    "id": "KCnigJd8TyNU"
   },
   "source": [
    "### Obtendo $s$"
   ]
  },
  {
   "cell_type": "code",
   "execution_count": 99,
   "metadata": {
    "colab": {
     "base_uri": "https://localhost:8080/",
     "height": 34
    },
    "colab_type": "code",
    "id": "fKqFI_TZTyNU",
    "outputId": "68a9ee2f-428a-4d18-9148-f33704968fb7"
   },
   "outputs": [
    {
     "data": {
      "text/plain": [
       "12"
      ]
     },
     "execution_count": 99,
     "metadata": {},
     "output_type": "execute_result"
    }
   ],
   "source": [
    "s = 12\n",
    "s"
   ]
  },
  {
   "cell_type": "markdown",
   "metadata": {
    "colab_type": "text",
    "id": "K9gDEIUdTyNX"
   },
   "source": [
    "### Obtendo $e$"
   ]
  },
  {
   "cell_type": "code",
   "execution_count": 100,
   "metadata": {
    "colab": {
     "base_uri": "https://localhost:8080/",
     "height": 34
    },
    "colab_type": "code",
    "id": "hyhJ3MQKTyNX",
    "outputId": "2849bd05-6c70-4d97-980d-67e140f27850"
   },
   "outputs": [
    {
     "data": {
      "text/plain": [
       "5"
      ]
     },
     "execution_count": 100,
     "metadata": {},
     "output_type": "execute_result"
    }
   ],
   "source": [
    "e = 5\n",
    "e"
   ]
  },
  {
   "cell_type": "markdown",
   "metadata": {
    "colab_type": "text",
    "id": "Dsm3bg9gTyNX"
   },
   "source": [
    "### Obtendo $n$\n",
    "\n",
    "## $$n = \\frac{z^2 s^2 N}{z^2 s^2 + e^2(N-1)}$$"
   ]
  },
  {
   "cell_type": "code",
   "execution_count": 101,
   "metadata": {
    "colab": {
     "base_uri": "https://localhost:8080/",
     "height": 34
    },
    "colab_type": "code",
    "id": "0XxWfaPdTyNY",
    "outputId": "8494180f-9149-419f-dee9-f02ec3e81b93",
    "scrolled": true
   },
   "outputs": [
    {
     "data": {
      "text/plain": [
       "22"
      ]
     },
     "execution_count": 101,
     "metadata": {},
     "output_type": "execute_result"
    }
   ],
   "source": [
    "n = ((z**2) * (s**2) * (N)) / (((z**2) * (s**2)) + ((e**2) * (N - 1)))\n",
    "int(n.round())"
   ]
  },
  {
   "cell_type": "code",
   "execution_count": 102,
   "metadata": {},
   "outputs": [
    {
     "data": {
      "text/plain": [
       "10"
      ]
     },
     "execution_count": 102,
     "metadata": {},
     "output_type": "execute_result"
    }
   ],
   "source": [
    "#Exemplo\n",
    "\n",
    "# Um fabricante de farinha verificou que, em uma amostra aleatória \n",
    "# formada por 200 sacos de 25 kg de um lote formado por 2.000 sacos, \n",
    "# apresentou um desvio padrão amostral do peso igual a 480 g.\n",
    "\n",
    "# Considerando um erro máximo associado à média populacional igual a 0,3 kg e um nível de confiança igual a 95%, \n",
    "# qual tamanho de amostra deveria ser selecionado para obtermos uma estimativa confiável do parâmetro populacional?\n",
    "\n",
    "#from scipy.stats import norm\n",
    "\n",
    "N = 2000\n",
    "z = norm.ppf(0.5 + (0.95 / 2))\n",
    "s = 480\n",
    "e = 0.3 * 1000   # Convertendo kg para g\n",
    "\n",
    "n = ((z**2) * (s**2) * (N)) / (((z**2) * (s**2)) + ((e**2) * (N - 1)))\n",
    "int(n.round())"
   ]
  },
  {
   "cell_type": "markdown",
   "metadata": {
    "colab_type": "text",
    "id": "XNH7CMglG3Hv"
   },
   "source": [
    "# <font color=green>6 FIXANDO O CONTEÚDO</font>\n",
    "***"
   ]
  },
  {
   "cell_type": "markdown",
   "metadata": {
    "colab_type": "text",
    "id": "iRYqVAxuG3Hv"
   },
   "source": [
    "## <font color='blue'>Exemplo: Rendimento médio</font>"
   ]
  },
  {
   "cell_type": "markdown",
   "metadata": {
    "colab_type": "text",
    "id": "ggloHI5sG3Hw"
   },
   "source": [
    "Estamos estudando o **rendimento mensal dos chefes de domicílios com renda até R$\\$$ 5.000,00 no Brasil**. Nosso supervisor determinou que o **erro máximo em relação a média seja de R$\\$$ 10,00**. Sabemos que o **desvio padrão populacional** deste grupo de trabalhadores é de **R$\\$$ 1.082,79** e que a **média populacional** é de **R$\\$$ 1.426,54**. Para um **nível de confiança de 95%**, qual deve ser o tamanho da amostra de nosso estudo? Qual o intervalo de confiança para a média considerando o tamanho de amostra obtido?"
   ]
  },
  {
   "cell_type": "markdown",
   "metadata": {
    "colab_type": "text",
    "id": "JZDvLD-NG3Hw"
   },
   "source": [
    "### Construindo o dataset conforme especificado pelo problema"
   ]
  },
  {
   "cell_type": "code",
   "execution_count": 103,
   "metadata": {
    "colab": {},
    "colab_type": "code",
    "id": "qlnYQeaKG3Hw"
   },
   "outputs": [],
   "source": [
    "renda_5000 = dados.query('Renda <= 5000').Renda"
   ]
  },
  {
   "cell_type": "code",
   "execution_count": 104,
   "metadata": {
    "colab": {
     "base_uri": "https://localhost:8080/",
     "height": 34
    },
    "colab_type": "code",
    "id": "VKuxbygIG3Hy",
    "outputId": "98078826-90d1-488e-b11d-cf4e6f5bdc3c"
   },
   "outputs": [
    {
     "data": {
      "text/plain": [
       "1082.794549030635"
      ]
     },
     "execution_count": 104,
     "metadata": {},
     "output_type": "execute_result"
    }
   ],
   "source": [
    "sigma = renda_5000.std()\n",
    "sigma"
   ]
  },
  {
   "cell_type": "code",
   "execution_count": 105,
   "metadata": {
    "colab": {
     "base_uri": "https://localhost:8080/",
     "height": 34
    },
    "colab_type": "code",
    "id": "Q2Ku3mVPG3Hz",
    "outputId": "bb079fb4-3e59-4e05-920a-b369c04744eb"
   },
   "outputs": [
    {
     "data": {
      "text/plain": [
       "1426.5372144947232"
      ]
     },
     "execution_count": 105,
     "metadata": {},
     "output_type": "execute_result"
    }
   ],
   "source": [
    "media = renda_5000.mean()\n",
    "media"
   ]
  },
  {
   "cell_type": "markdown",
   "metadata": {
    "colab_type": "text",
    "id": "F33TdkXdG3H2"
   },
   "source": [
    "### Calculando o tamanho da amostra"
   ]
  },
  {
   "cell_type": "code",
   "execution_count": 106,
   "metadata": {
    "colab": {
     "base_uri": "https://localhost:8080/",
     "height": 34
    },
    "colab_type": "code",
    "id": "sWIvnmygG3H2",
    "outputId": "42b7f8db-3a43-4e5f-f61a-9000e4e5e94b"
   },
   "outputs": [
    {
     "data": {
      "text/plain": [
       "45039"
      ]
     },
     "execution_count": 106,
     "metadata": {},
     "output_type": "execute_result"
    }
   ],
   "source": [
    "z = norm.ppf(.975)\n",
    "e = 10\n",
    "n = (z * (sigma / e)) ** 2\n",
    "n = int(n.round())\n",
    "n"
   ]
  },
  {
   "cell_type": "markdown",
   "metadata": {
    "colab_type": "text",
    "id": "xRN_gmmLG3H6"
   },
   "source": [
    "### Calculando o intervalo de confiança para a média"
   ]
  },
  {
   "cell_type": "code",
   "execution_count": 112,
   "metadata": {
    "colab": {
     "base_uri": "https://localhost:8080/",
     "height": 34
    },
    "colab_type": "code",
    "id": "HoG6JKxxG3H6",
    "outputId": "3ca552e4-f7f6-4992-f65a-6a4601dfd877"
   },
   "outputs": [
    {
     "data": {
      "text/plain": [
       "(1416.5372195108241, 1436.5372094786223)"
      ]
     },
     "execution_count": 112,
     "metadata": {},
     "output_type": "execute_result"
    }
   ],
   "source": [
    "intervalo = norm.interval(confidence = 0.95, loc = media, scale = sigma / np.sqrt(n))\n",
    "intervalo"
   ]
  },
  {
   "cell_type": "markdown",
   "metadata": {
    "colab_type": "text",
    "id": "xWAG8q8oG3H8"
   },
   "source": [
    "### Realizando uma prova gráfica"
   ]
  },
  {
   "cell_type": "code",
   "execution_count": null,
   "metadata": {
    "colab": {
     "base_uri": "https://localhost:8080/",
     "height": 395
    },
    "colab_type": "code",
    "id": "pxjJyWnNG3H8",
    "outputId": "c339160b-a6e1-403d-b996-3c81fd8d0f73"
   },
   "outputs": [],
   "source": []
  },
  {
   "cell_type": "code",
   "execution_count": null,
   "metadata": {
    "colab": {},
    "colab_type": "code",
    "id": "L5BFsSI8G3IB"
   },
   "outputs": [],
   "source": []
  }
 ],
 "metadata": {
  "colab": {
   "collapsed_sections": [],
   "name": "Curso_de_Estatística_Parte_2.ipynb",
   "provenance": [],
   "toc_visible": true,
   "version": "0.3.2"
  },
  "kernelspec": {
   "display_name": "Python 3 (ipykernel)",
   "language": "python",
   "name": "python3"
  },
  "language_info": {
   "codemirror_mode": {
    "name": "ipython",
    "version": 3
   },
   "file_extension": ".py",
   "mimetype": "text/x-python",
   "name": "python",
   "nbconvert_exporter": "python",
   "pygments_lexer": "ipython3",
   "version": "3.11.5"
  }
 },
 "nbformat": 4,
 "nbformat_minor": 1
}
